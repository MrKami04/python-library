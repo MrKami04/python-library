{
 "cells": [
  {
   "cell_type": "markdown",
   "id": "6078034b",
   "metadata": {},
   "source": [
    "# Optimizers\n",
    "- Optimizers are a set of procedures defined in SciPy that either find the minimum value of a function, or the root of an equation.\n",
    "### Optimizing Functions\n",
    "- Essentially, all of the algorithms in Machine Learning are nothing more than a complex equation that needs to be minimized with the help of given data.\n",
    "### Roots of an Equation\n",
    "- NumPy is capable of finding roots for polynomials and linear equations, but it can not find roots for non linear equations, like this one:\n",
    "- `x + cos(x)`\n",
    "- For that you can use SciPy's optimize.root function.\n",
    "- This function takes two required arguments:\n",
    "- fun - a function representing an equation.\n",
    "- x0 - an initial guess for the root.\n",
    "- The function returns an object with information regarding the solution.\n",
    "- The actual solution is given under attribute x of the returned object:"
   ]
  },
  {
   "cell_type": "code",
   "execution_count": 6,
   "id": "ced1098a",
   "metadata": {},
   "outputs": [],
   "source": [
    "from scipy.optimize import root, minimize\n",
    "from math import cos\n",
    "import warnings\n",
    "warnings.filterwarnings(\"ignore\", category=DeprecationWarning)\n"
   ]
  },
  {
   "cell_type": "code",
   "execution_count": 7,
   "id": "6ea5b42f",
   "metadata": {},
   "outputs": [
    {
     "name": "stdout",
     "output_type": "stream",
     "text": [
      "[-0.73908513]\n",
      " message: The solution converged.\n",
      " success: True\n",
      "  status: 1\n",
      "     fun: [ 0.000e+00]\n",
      "       x: [-7.391e-01]\n",
      "  method: hybr\n",
      "    nfev: 11\n",
      "    fjac: [[-1.000e+00]]\n",
      "       r: [-1.674e+00]\n",
      "     qtf: [-2.668e-13]\n"
     ]
    }
   ],
   "source": [
    "def eqn(x):\n",
    "  return x + cos(x)\n",
    "\n",
    "myroot = root(eqn, 0)\n",
    "\n",
    "print(myroot.x)\n",
    "# Print all information about the solution (not just x which is the root)\n",
    "print(myroot)"
   ]
  },
  {
   "cell_type": "markdown",
   "id": "c9ffdc4e",
   "metadata": {},
   "source": [
    "### Minimizing a Function\n",
    "- A function, in this context, represents a curve, curves have high points and low points.\n",
    "- High points are called maxima.\n",
    "- Low points are called minima.\n",
    "- The highest point in the whole curve is called global maxima, whereas the rest of them are called local maxima.\n",
    "- The lowest point in whole curve is called global minima, whereas the rest of them are called local minima.\n",
    "### Finding Minima\n",
    "- We can use `scipy.optimize.minimize()` function to minimize the function.\n",
    "- The `minimize()` function takes the following arguments:\n",
    "- fun - a function representing an equation.\n",
    "- x0 - an initial guess for the root.\n",
    "- method - name of the method to use. Legal values:\n",
    "   `'CG',\n",
    "    'BFGS',\n",
    "    'Newton-CG',\n",
    "    'L-BFGS-B',\n",
    "    'TNC',\n",
    "    'COBYLA',\n",
    "    'SLSQP'`\n",
    "- callback - function called after each iteration of optimization.\n",
    "- options - a dictionary defining extra params:\n",
    "`{\n",
    "     \"disp\": boolean - print detailed description\n",
    "     \"gtol\": number - the tolerance of the error\n",
    "  }`"
   ]
  },
  {
   "cell_type": "code",
   "execution_count": 9,
   "id": "30dacbcd",
   "metadata": {},
   "outputs": [
    {
     "name": "stdout",
     "output_type": "stream",
     "text": [
      "[-0.50000001]\n",
      "  message: Optimization terminated successfully.\n",
      "  success: True\n",
      "   status: 0\n",
      "      fun: 1.75\n",
      "        x: [-5.000e-01]\n",
      "      nit: 2\n",
      "      jac: [ 0.000e+00]\n",
      " hess_inv: [[ 5.000e-01]]\n",
      "     nfev: 8\n",
      "     njev: 4\n"
     ]
    }
   ],
   "source": [
    "# Minimize the function x^2 + x + 2 with BFGS:\n",
    "\n",
    "def eqn(x):\n",
    "  return x**2 + x + 2\n",
    "mymin = minimize(eqn, 0, method='BFGS')\n",
    "print(mymin.x)\n",
    "print(mymin)"
   ]
  }
 ],
 "metadata": {
  "kernelspec": {
   "display_name": "data_analysis",
   "language": "python",
   "name": "python3"
  },
  "language_info": {
   "codemirror_mode": {
    "name": "ipython",
    "version": 3
   },
   "file_extension": ".py",
   "mimetype": "text/x-python",
   "name": "python",
   "nbconvert_exporter": "python",
   "pygments_lexer": "ipython3",
   "version": "3.13.5"
  }
 },
 "nbformat": 4,
 "nbformat_minor": 5
}
