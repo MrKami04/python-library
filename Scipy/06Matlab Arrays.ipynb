{
 "cells": [
  {
   "cell_type": "markdown",
   "id": "9fd227c0",
   "metadata": {},
   "source": [
    "# Matlab Arrays"
   ]
  },
  {
   "cell_type": "markdown",
   "id": "910d871d",
   "metadata": {},
   "source": [
    "### Matlab Arrays\n",
    "- We know that NumPy provides us with methods to persist the data in readable formats for Python. But SciPy provides us with interoperability with Matlab as well.\n",
    "- SciPy provides us with the module `scipy.io`, which has functions for working with Matlab arrays.\n",
    "##### Exporting Data in Matlab Format\n",
    "- The `savemat()` function allows us to export data in Matlab format.\n",
    "- The method takes the following parameters:\n",
    "1. filename - the file name for saving data.\n",
    "2. mdict - a dictionary containing the data.\n",
    "3. do_compression - a boolean value that specifies whether to compress the result or not. Default False."
   ]
  },
  {
   "cell_type": "code",
   "execution_count": 1,
   "id": "e41d734f",
   "metadata": {},
   "outputs": [],
   "source": [
    "from scipy import io\n",
    "import numpy as np"
   ]
  },
  {
   "cell_type": "code",
   "execution_count": 2,
   "id": "5967fade",
   "metadata": {},
   "outputs": [],
   "source": [
    "arr = np.arange(10)\n",
    "io.savemat('arr.mat', {\"vec\": arr})"
   ]
  },
  {
   "cell_type": "markdown",
   "id": "77977977",
   "metadata": {},
   "source": [
    "- Note: The example above saves a file name \"arr.mat\" on your computer.\n",
    "- To open the file, check out the \"Import Data from Matlab Format\" example below:"
   ]
  },
  {
   "cell_type": "markdown",
   "id": "5497b934",
   "metadata": {},
   "source": [
    "### Import Data from Matlab Format\n",
    "- The `loadmat()` function allows us to import data from a Matlab file.\n",
    "- The function takes one required parameter:\n",
    "- filename - the file name of the saved data.\n",
    "- It will return a structured array whose keys are the variable names, and the corresponding values are the variable values."
   ]
  },
  {
   "cell_type": "code",
   "execution_count": 6,
   "id": "88c10664",
   "metadata": {},
   "outputs": [
    {
     "name": "stdout",
     "output_type": "stream",
     "text": [
      "[[0 1 2 3 4 5 6 7 8 9]]\n"
     ]
    },
    {
     "data": {
      "text/plain": [
       "{'__header__': b'MATLAB 5.0 MAT-file Platform: nt, Created on: Tue Aug 19 15:22:06 2025',\n",
       " '__version__': '1.0',\n",
       " '__globals__': [],\n",
       " 'vec': array([[0, 1, 2, 3, 4, 5, 6, 7, 8, 9]])}"
      ]
     },
     "execution_count": 6,
     "metadata": {},
     "output_type": "execute_result"
    }
   ],
   "source": [
    "arr = np.array([0, 1, 2, 3, 4, 5, 6, 7, 8, 9,])\n",
    "# Export:\n",
    "io.savemat('arr.mat', {\"vec\": arr})\n",
    "# Import:\n",
    "mydata = io.loadmat('arr.mat')\n",
    "print(mydata['vec'])\n",
    "mydata"
   ]
  },
  {
   "cell_type": "markdown",
   "id": "407da78a",
   "metadata": {},
   "source": [
    "- Use the variable name \"vec\" to display only the array from the matlab data:\n",
    "- **Note:** We can see that the array originally was 1D, but on extraction it has increased one dimension.\n",
    "- In order to resolve this we can pass an additional argument `squeeze_me=True`:"
   ]
  },
  {
   "cell_type": "code",
   "execution_count": 7,
   "id": "ce7442f6",
   "metadata": {},
   "outputs": [
    {
     "name": "stdout",
     "output_type": "stream",
     "text": [
      "[0 1 2 3 4 5 6 7 8 9]\n"
     ]
    }
   ],
   "source": [
    "# Import:\n",
    "mydata = io.loadmat('arr.mat', squeeze_me=True)\n",
    "print(mydata['vec'])"
   ]
  }
 ],
 "metadata": {
  "kernelspec": {
   "display_name": "data_analysis",
   "language": "python",
   "name": "python3"
  },
  "language_info": {
   "codemirror_mode": {
    "name": "ipython",
    "version": 3
   },
   "file_extension": ".py",
   "mimetype": "text/x-python",
   "name": "python",
   "nbconvert_exporter": "python",
   "pygments_lexer": "ipython3",
   "version": "3.13.0"
  }
 },
 "nbformat": 4,
 "nbformat_minor": 5
}
