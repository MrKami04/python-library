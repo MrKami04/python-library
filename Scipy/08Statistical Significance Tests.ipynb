{
 "cells": [
  {
   "cell_type": "markdown",
   "id": "51542477",
   "metadata": {},
   "source": [
    "# Statistical Significance Tests"
   ]
  },
  {
   "cell_type": "markdown",
   "id": "d43b9b2a",
   "metadata": {},
   "source": [
    "### Statistical Significance Test?\n",
    "- In statistics, statistical significance means that the result that was produced has a reason behind it, it was not produced randomly, or by chance.\n",
    "- SciPy provides us with a module called `scipy.stats`, which has functions for performing statistical significance tests.\n",
    "- Here are some techniques and keywords that are important when performing such tests:\n",
    "### Hypothesis in Statistics\n",
    "- Hypothesis is an assumption about a parameter in population.\n",
    "###### Null Hypothesis\n",
    "- It assumes that the observation is not statistically significant.\n",
    "###### Alternate Hypothesis\n",
    "- It assumes that the observations are due to some reason.\n",
    "- It's alternate to Null Hypothesis.\n",
    "###### Example:\n",
    "- For an assessment of a student we would take:\n",
    "- \"student is worse than average\" - as a null hypothesis, and:\n",
    "- \"student is better than average\" - as an alternate hypothesis.\n",
    "###### One tailed test\n",
    "- When our hypothesis is testing for one side of the value only, it is called \"one tailed test\".\n",
    "###### Example:\n",
    "- For the null hypothesis:\n",
    "- \"the mean is equal to k\", we can have alternate hypothesis:\n",
    "- \"the mean is less than k\", or:\n",
    "- \"the mean is greater than k\"\n",
    "###### Two tailed test\n",
    "- When our hypothesis is testing for both side of the values.\n",
    "###### Example:\n",
    "- For the null hypothesis:\n",
    "- \"the mean is equal to k\", we can have alternate hypothesis:\n",
    "- \"the mean is not equal to k\"\n",
    "- In this case the mean is less than, or greater than k, and both sides are to be checked.\n",
    "### Alpha value\n",
    "- Alpha value is the level of significance.\n",
    "###### Example:\n",
    "- How close to extremes the data must be for null hypothesis to be rejected.\n",
    "- It is usually taken as 0.01, 0.05, or 0.1.\n",
    "### P value\n",
    "- P value tells how close to extreme the data actually is.\n",
    "- P value and alpha values are compared to establish the statistical significance.\n",
    "- If p value <= alpha we reject the null hypothesis and say that the data is statistically significant. otherwise we accept the null hypothesis.\n",
    "### T-Test\n",
    "- T-tests are used to determine if there is significant deference between means of two variables and lets us know if they belong to the same distribution.\n",
    "- It is a two tailed test.\n",
    "- The function `ttest_ind()` takes two samples of same size and produces a tuple of t-statistic and p-value."
   ]
  },
  {
   "cell_type": "code",
   "execution_count": 23,
   "id": "c0315c0b",
   "metadata": {},
   "outputs": [],
   "source": [
    "import numpy as np\n",
    "from scipy.stats import ttest_ind, kstest, describe, skew, kurtosis, normaltest"
   ]
  },
  {
   "cell_type": "code",
   "execution_count": 24,
   "id": "930c56ab",
   "metadata": {},
   "outputs": [
    {
     "name": "stdout",
     "output_type": "stream",
     "text": [
      "TtestResult(statistic=np.float64(-1.8467125550901518), pvalue=np.float64(0.06628123246200394), df=np.float64(198.0))\n"
     ]
    }
   ],
   "source": [
    "v1 = np.random.normal(size=100)\n",
    "v2 = np.random.normal(size=100)\n",
    "res = ttest_ind(v1, v2)\n",
    "print(res)"
   ]
  },
  {
   "cell_type": "markdown",
   "id": "2444d1c3",
   "metadata": {},
   "source": [
    "- If you want to return only the p-value, use the pvalue property:"
   ]
  },
  {
   "cell_type": "code",
   "execution_count": 25,
   "id": "40b4f33e",
   "metadata": {},
   "outputs": [
    {
     "name": "stdout",
     "output_type": "stream",
     "text": [
      "0.06628123246200394\n"
     ]
    }
   ],
   "source": [
    "res = ttest_ind(v1, v2).pvalue\n",
    "print(res)"
   ]
  },
  {
   "cell_type": "markdown",
   "id": "076c1af7",
   "metadata": {},
   "source": [
    "### KS-Test\n",
    "- KS test is used to check if given values follow a distribution.\n",
    "- The function takes the value to be tested, and the CDF as two parameters.\n",
    "- A CDF can be either a string or a callable function that returns the probability.\n",
    "- It can be used as a one tailed or two tailed test.\n",
    "- By default it is two tailed. We can pass parameter alternative as a string of one of two-sided, less, or greater."
   ]
  },
  {
   "cell_type": "code",
   "execution_count": 26,
   "id": "9b0a2107",
   "metadata": {},
   "outputs": [
    {
     "name": "stdout",
     "output_type": "stream",
     "text": [
      "KstestResult(statistic=np.float64(0.07369783602689439), pvalue=np.float64(0.6222393783664681), statistic_location=np.float64(-0.48539571401560233), statistic_sign=np.int8(-1))\n",
      "statistic: 0.07369783602689439\n",
      "pvalue: 0.6222393783664681\n",
      "statistic_location: -0.48539571401560233\n",
      "statistic_sign: -1\n"
     ]
    }
   ],
   "source": [
    "v = np.random.normal(size=100)\n",
    "res = kstest(v, 'norm')\n",
    "print(res)\n",
    "print(\"statistic:\", res.statistic)\n",
    "print(\"pvalue:\", res.pvalue)\n",
    "print(\"statistic_location:\", res.statistic_location)\n",
    "print(\"statistic_sign:\", res.statistic_sign)"
   ]
  },
  {
   "cell_type": "markdown",
   "id": "e2bf7a60",
   "metadata": {},
   "source": [
    "### Statistical Description of Data\n",
    "- In order to see a summary of values in an array, we can use the `describe()` function.\n",
    "- It returns the following description:\n",
    "1. number of observations (nobs)\n",
    "2. minimum and maximum values = minmax\n",
    "3. mean\n",
    "4. variance\n",
    "5. skewness\n",
    "6. kurtosis"
   ]
  },
  {
   "cell_type": "code",
   "execution_count": 27,
   "id": "142edd3c",
   "metadata": {},
   "outputs": [
    {
     "name": "stdout",
     "output_type": "stream",
     "text": [
      "DescribeResult(nobs=np.int64(100), minmax=(np.float64(-2.631021886655126), np.float64(2.5945887375647145)), mean=np.float64(-0.017328151337533147), variance=np.float64(1.0111842970386475), skewness=np.float64(0.08829636576088355), kurtosis=np.float64(-0.11118547007077018))\n",
      "nobs: 100\n",
      "minmax: (np.float64(-2.631021886655126), np.float64(2.5945887375647145))\n",
      "mean: -0.017328151337533147\n",
      "variance: 1.0111842970386475\n",
      "skewness: 0.08829636576088355\n",
      "kurtosis: -0.11118547007077018\n"
     ]
    }
   ],
   "source": [
    "v = np.random.normal(size=100)\n",
    "res = describe(v)\n",
    "print(res)\n",
    "print(\"nobs:\", res.nobs)\n",
    "print(\"minmax:\", res.minmax)\n",
    "print(\"mean:\", res.mean)\n",
    "print(\"variance:\", res.variance)\n",
    "print(\"skewness:\", res.skewness)\n",
    "print(\"kurtosis:\", res.kurtosis)"
   ]
  },
  {
   "cell_type": "markdown",
   "id": "98f3f9aa",
   "metadata": {},
   "source": [
    "### Normality Tests (Skewness and Kurtosis)\n",
    "- Normality tests are based on the skewness and kurtosis.\n",
    "- The `normaltest()` function returns p value for the null hypothesis:\n",
    "- \"x comes from a normal distribution\".\n",
    "##### Skewness:\n",
    "- A measure of symmetry in data.\n",
    "- For normal distributions it is 0.\n",
    "- If it is negative, it means the data is skewed left.\n",
    "- If it is positive it means the data is skewed right.\n",
    "##### Kurtosis:\n",
    "- A measure of whether the data is heavy or lightly tailed to a normal distribution.\n",
    "- Positive kurtosis means heavy tailed.\n",
    "- Negative kurtosis means lightly tailed."
   ]
  },
  {
   "cell_type": "code",
   "execution_count": 28,
   "id": "6d8d9793",
   "metadata": {},
   "outputs": [
    {
     "name": "stdout",
     "output_type": "stream",
     "text": [
      "0.1810427982235046\n",
      "-0.1989090448519586\n"
     ]
    }
   ],
   "source": [
    "v = np.random.normal(size=100)\n",
    "print(skew(v))\n",
    "print(kurtosis(v))"
   ]
  },
  {
   "cell_type": "code",
   "execution_count": 41,
   "id": "fbfdea26",
   "metadata": {},
   "outputs": [
    {
     "name": "stdout",
     "output_type": "stream",
     "text": [
      "NormaltestResult(statistic=np.float64(4.0011334363040465), pvalue=np.float64(0.1352586080036686))\n"
     ]
    }
   ],
   "source": [
    "v = np.random.normal(size=100)\n",
    "print(normaltest(v))"
   ]
  }
 ],
 "metadata": {
  "kernelspec": {
   "display_name": "data_analysis",
   "language": "python",
   "name": "python3"
  },
  "language_info": {
   "codemirror_mode": {
    "name": "ipython",
    "version": 3
   },
   "file_extension": ".py",
   "mimetype": "text/x-python",
   "name": "python",
   "nbconvert_exporter": "python",
   "pygments_lexer": "ipython3",
   "version": "3.13.0"
  }
 },
 "nbformat": 4,
 "nbformat_minor": 5
}
