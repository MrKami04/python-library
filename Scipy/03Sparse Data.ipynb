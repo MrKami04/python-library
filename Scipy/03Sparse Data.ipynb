{
 "cells": [
  {
   "cell_type": "markdown",
   "id": "449edc5c",
   "metadata": {},
   "source": [
    "# Sparse Data"
   ]
  },
  {
   "cell_type": "markdown",
   "id": "798181bc",
   "metadata": {},
   "source": [
    "### What is Sparse Data\n",
    "- Sparse data is data that has mostly unused elements (elements that don't carry any information ).\n",
    "- It can be an array like this one:\n",
    "`[1, 0, 2, 0, 0, 3, 0, 0, 0, 0, 0, 0]`\n",
    "- **Sparse Data:** is a data set where most of the item values are zero.\n",
    "- **Dense Array:** is the opposite of a sparse array: most of the values are not zero.\n",
    "- In scientific computing, when we are dealing with partial derivatives in linear algebra we will come across sparse data.\n",
    "- How to Work With Sparse Data\n",
    "- SciPy has a module, `scipy.sparse` that provides functions to deal with sparse data.\n",
    "- There are primarily two types of sparse matrices that we use:\n",
    "- CSC - Compressed Sparse Column. For efficient arithmetic, fast column slicing.\n",
    "- CSR - Compressed Sparse Row. For fast row slicing, faster matrix vector products\n",
    "#### CSR Matrix\n",
    "- We can create CSR matrix by passing an arrray into function `scipy.sparse.csr_matrix()`."
   ]
  },
  {
   "cell_type": "code",
   "execution_count": 1,
   "id": "92950a52",
   "metadata": {},
   "outputs": [],
   "source": [
    "import numpy as np\n",
    "from scipy.sparse import csr_matrix"
   ]
  },
  {
   "cell_type": "code",
   "execution_count": 2,
   "id": "8db59be4",
   "metadata": {},
   "outputs": [
    {
     "name": "stdout",
     "output_type": "stream",
     "text": [
      "<Compressed Sparse Row sparse matrix of dtype 'int64'\n",
      "\twith 3 stored elements and shape (1, 9)>\n",
      "  Coords\tValues\n",
      "  (0, 5)\t1\n",
      "  (0, 6)\t1\n",
      "  (0, 8)\t2\n"
     ]
    }
   ],
   "source": [
    "arr = np.array([0, 0, 0, 0, 0, 1, 1, 0, 2])\n",
    "print(csr_matrix(arr))"
   ]
  },
  {
   "cell_type": "markdown",
   "id": "f24155dd",
   "metadata": {},
   "source": [
    "- From the result we can see that there are 3 items with value.\n",
    "- The 1. item is in row `0` position `5`and has the value `1`.\n",
    "- The 2. item is in row `0` position `6` and has the value `1`.\n",
    "- The 3. item is in row `0` position `8` and has the value `2`."
   ]
  },
  {
   "cell_type": "markdown",
   "id": "9e83bd48",
   "metadata": {},
   "source": [
    "### Sparse Matrix Methods\n",
    "- Viewing stored data (not the zero items) with the data property:"
   ]
  },
  {
   "cell_type": "code",
   "execution_count": 3,
   "id": "aea69f5f",
   "metadata": {},
   "outputs": [
    {
     "name": "stdout",
     "output_type": "stream",
     "text": [
      "[1 1 2]\n"
     ]
    }
   ],
   "source": [
    "arr = np.array([[0, 0, 0], [0, 0, 1], [1, 0, 2]])\n",
    "print(csr_matrix(arr).data)"
   ]
  },
  {
   "cell_type": "markdown",
   "id": "60594d96",
   "metadata": {},
   "source": [
    "- Counting nonzeros with the count_nonzero() method:"
   ]
  },
  {
   "cell_type": "code",
   "execution_count": 4,
   "id": "ac122f82",
   "metadata": {},
   "outputs": [
    {
     "name": "stdout",
     "output_type": "stream",
     "text": [
      "3\n"
     ]
    }
   ],
   "source": [
    "arr = np.array([[0, 0, 0], [0, 0, 1], [1, 0, 2]])\n",
    "print(csr_matrix(arr).count_nonzero())"
   ]
  },
  {
   "cell_type": "markdown",
   "id": "1a87cd54",
   "metadata": {},
   "source": [
    "- Removing zero-entries from the matrix with the eliminate_zeros() method:"
   ]
  },
  {
   "cell_type": "code",
   "execution_count": 5,
   "id": "4e0ec389",
   "metadata": {},
   "outputs": [
    {
     "name": "stdout",
     "output_type": "stream",
     "text": [
      "<Compressed Sparse Row sparse matrix of dtype 'int64'\n",
      "\twith 3 stored elements and shape (3, 3)>\n",
      "  Coords\tValues\n",
      "  (1, 2)\t1\n",
      "  (2, 0)\t1\n",
      "  (2, 2)\t2\n"
     ]
    }
   ],
   "source": [
    "arr = np.array([[0, 0, 0], [0, 0, 1], [1, 0, 2]])\n",
    "matrix = csr_matrix(arr)\n",
    "matrix.eliminate_zeros()\n",
    "print(matrix)"
   ]
  },
  {
   "cell_type": "markdown",
   "id": "996a74b4",
   "metadata": {},
   "source": [
    "- Eliminating duplicate entries with the sum_duplicates() method:"
   ]
  },
  {
   "cell_type": "code",
   "execution_count": 6,
   "id": "b9c48bfc",
   "metadata": {},
   "outputs": [
    {
     "name": "stdout",
     "output_type": "stream",
     "text": [
      "<Compressed Sparse Row sparse matrix of dtype 'int64'\n",
      "\twith 3 stored elements and shape (3, 3)>\n",
      "  Coords\tValues\n",
      "  (1, 2)\t1\n",
      "  (2, 0)\t1\n",
      "  (2, 2)\t2\n"
     ]
    }
   ],
   "source": [
    "arr = np.array([[0, 0, 0], [0, 0, 1], [1, 0, 2]])\n",
    "matrix = csr_matrix(arr)\n",
    "matrix.sum_duplicates()\n",
    "print(matrix)"
   ]
  },
  {
   "cell_type": "markdown",
   "id": "c8672597",
   "metadata": {},
   "source": [
    "- Converting from csr to csc with the tocsc() method:"
   ]
  },
  {
   "cell_type": "code",
   "execution_count": 7,
   "id": "9f277223",
   "metadata": {},
   "outputs": [
    {
     "name": "stdout",
     "output_type": "stream",
     "text": [
      "<Compressed Sparse Column sparse matrix of dtype 'int64'\n",
      "\twith 3 stored elements and shape (3, 3)>\n",
      "  Coords\tValues\n",
      "  (2, 0)\t1\n",
      "  (1, 2)\t1\n",
      "  (2, 2)\t2\n"
     ]
    }
   ],
   "source": [
    "arr = np.array([[0, 0, 0], [0, 0, 1], [1, 0, 2]])\n",
    "newarr = csr_matrix(arr).tocsc()\n",
    "print(newarr)"
   ]
  },
  {
   "cell_type": "markdown",
   "id": "28c751de",
   "metadata": {},
   "source": [
    "**Note:**  Apart from the mentioned sparse specific operations, sparse matrices support all of the operations that normal matrices support e.g. reshaping, summing, arithemetic, broadcasting etc."
   ]
  }
 ],
 "metadata": {
  "kernelspec": {
   "display_name": "data_analysis",
   "language": "python",
   "name": "python3"
  },
  "language_info": {
   "codemirror_mode": {
    "name": "ipython",
    "version": 3
   },
   "file_extension": ".py",
   "mimetype": "text/x-python",
   "name": "python",
   "nbconvert_exporter": "python",
   "pygments_lexer": "ipython3",
   "version": "3.13.5"
  }
 },
 "nbformat": 4,
 "nbformat_minor": 5
}
