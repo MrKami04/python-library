{
 "cells": [
  {
   "cell_type": "markdown",
   "id": "0b6c1d71",
   "metadata": {},
   "source": [
    "# Graphs"
   ]
  },
  {
   "cell_type": "markdown",
   "id": "c38b8514",
   "metadata": {},
   "source": [
    "### Working with Graphs\n",
    "- Graphs are an essential data structure.\n",
    "- SciPy provides us with the module `scipy.sparse.csgraph` for working with such data structures.\n",
    "### Adjacency Matrix\n",
    "- Adjacency matrix is a nxn matrix where n is the number of elements in a graph.\n",
    "- And the values represents the connection between the elements."
   ]
  },
  {
   "cell_type": "markdown",
   "id": "eefc4dc0",
   "metadata": {},
   "source": [
    "![My chart](./scipy_graph.png)\n",
    "\n"
   ]
  },
  {
   "cell_type": "markdown",
   "id": "919d3615",
   "metadata": {},
   "source": [
    "- For a graph like this, with elements A, B and C, the connections are:\n",
    "- A & B are connected with weight 1.\n",
    "- A & C are connected with weight 2.\n",
    "- C & B is not connected.\n",
    "- The Adjency Matrix would look like this:\n",
    "### Connected Components\n",
    "- Find all of the connected components with the connected_components() method"
   ]
  },
  {
   "cell_type": "code",
   "execution_count": 37,
   "id": "c7eada71",
   "metadata": {},
   "outputs": [],
   "source": [
    "import numpy as np\n",
    "from scipy.sparse.csgraph import connected_components, dijkstra, floyd_warshall, bellman_ford, depth_first_order, breadth_first_order\n",
    "from scipy.sparse import csr_matrix"
   ]
  },
  {
   "cell_type": "code",
   "execution_count": 38,
   "id": "6f452baf",
   "metadata": {},
   "outputs": [
    {
     "name": "stdout",
     "output_type": "stream",
     "text": [
      "(1, array([0, 0, 0], dtype=int32))\n"
     ]
    }
   ],
   "source": [
    "arr = np.array([\n",
    "  [0, 1, 2],\n",
    "  [1, 0, 0],\n",
    "  [2, 0, 0]\n",
    "])\n",
    "\n",
    "newarr = csr_matrix(arr)\n",
    "\n",
    "print(connected_components(newarr))"
   ]
  },
  {
   "cell_type": "markdown",
   "id": "57141513",
   "metadata": {},
   "source": [
    "### Dijkstra\n",
    "- Use the `dijkstra` method to find the shortest path in a graph from one element to another.\n",
    "- It takes following arguments:\n",
    "- return_predecessors: boolean (True to return whole path of traversal otherwise False).\n",
    "- indices: index of the element to return all paths from that element only.\n",
    "- limit: max weight of path."
   ]
  },
  {
   "cell_type": "code",
   "execution_count": 39,
   "id": "1d15ee10",
   "metadata": {},
   "outputs": [
    {
     "name": "stdout",
     "output_type": "stream",
     "text": [
      "(array([0., 1., 2.]), array([-9999,     0,     0], dtype=int32))\n"
     ]
    }
   ],
   "source": [
    "arr = np.array([\n",
    "  [0, 1, 2],\n",
    "  [1, 0, 0],\n",
    "  [2, 0, 0]\n",
    "])\n",
    "newarr = csr_matrix(arr)\n",
    "print(dijkstra(newarr, return_predecessors=True, indices=0))"
   ]
  },
  {
   "cell_type": "markdown",
   "id": "82a44b3e",
   "metadata": {},
   "source": [
    "### Floyd Warshall\n",
    "- Use the `floyd_warshall()` method to find shortest path between all pairs of elements."
   ]
  },
  {
   "cell_type": "code",
   "execution_count": 40,
   "id": "7f2aeabf",
   "metadata": {},
   "outputs": [
    {
     "name": "stdout",
     "output_type": "stream",
     "text": [
      "(array([[0., 1., 2.],\n",
      "       [1., 0., 3.],\n",
      "       [2., 3., 0.]]), array([[-9999,     0,     0],\n",
      "       [    1, -9999,     0],\n",
      "       [    2,     0, -9999]], dtype=int32))\n"
     ]
    }
   ],
   "source": [
    "arr = np.array([\n",
    "  [0, 1, 2],\n",
    "  [1, 0, 0],\n",
    "  [2, 0, 0]\n",
    "])\n",
    "newarr = csr_matrix(arr)\n",
    "print(floyd_warshall(newarr, return_predecessors=True))"
   ]
  },
  {
   "cell_type": "markdown",
   "id": "4a4abdaf",
   "metadata": {},
   "source": [
    "### Bellman Ford\n",
    "- The `bellman_ford()` method can also find the shortest path between all pairs of elements, but this method can handle negative weights as well."
   ]
  },
  {
   "cell_type": "code",
   "execution_count": 41,
   "id": "0acf1e43",
   "metadata": {},
   "outputs": [
    {
     "name": "stdout",
     "output_type": "stream",
     "text": [
      "(array([ 0., -1.,  2.]), array([-9999,     0,     0], dtype=int32))\n"
     ]
    }
   ],
   "source": [
    "arr = np.array([\n",
    "  [0, -1, 2],\n",
    "  [1, 0, 0],\n",
    "  [2, 0, 0]\n",
    "])\n",
    "newarr = csr_matrix(arr)\n",
    "print(bellman_ford(newarr, return_predecessors=True, indices=0))"
   ]
  },
  {
   "cell_type": "markdown",
   "id": "c7537a3b",
   "metadata": {},
   "source": [
    "### Depth First Order\n",
    "- The `depth_first_order()` method returns a depth first traversal from a node.\n",
    "This function takes following arguments:\n",
    "1. the graph.\n",
    "2. the starting element to traverse graph from."
   ]
  },
  {
   "cell_type": "code",
   "execution_count": 42,
   "id": "a9f3c203",
   "metadata": {},
   "outputs": [
    {
     "name": "stdout",
     "output_type": "stream",
     "text": [
      "(array([1, 0, 3, 2], dtype=int32), array([    1, -9999,     1,     0], dtype=int32))\n"
     ]
    }
   ],
   "source": [
    "arr = np.array([\n",
    "  [0, 1, 0, 1],\n",
    "  [1, 1, 1, 1],\n",
    "  [2, 1, 1, 0],\n",
    "  [0, 1, 0, 1]\n",
    "])\n",
    "newarr = csr_matrix(arr)\n",
    "print(depth_first_order(newarr, 1))"
   ]
  },
  {
   "cell_type": "markdown",
   "id": "d074b3d7",
   "metadata": {},
   "source": [
    "### Breadth First Order\n",
    "- The `breadth_first_order()` method returns a breadth first traversal from a node.\n",
    "- This function takes following arguments:\n",
    "1. the graph.\n",
    "2. the starting element to traverse graph from."
   ]
  },
  {
   "cell_type": "code",
   "execution_count": 44,
   "id": "6917a17f",
   "metadata": {},
   "outputs": [
    {
     "name": "stdout",
     "output_type": "stream",
     "text": [
      "(array([1, 0, 2, 3], dtype=int32), array([    1, -9999,     1,     1], dtype=int32))\n"
     ]
    }
   ],
   "source": [
    "# Make sure cell 4 has been run so breadth_first_order is available\n",
    "print(breadth_first_order(newarr, 1))"
   ]
  },
  {
   "cell_type": "markdown",
   "id": "065ac2a8",
   "metadata": {},
   "source": []
  },
  {
   "cell_type": "code",
   "execution_count": null,
   "id": "7f321f7b",
   "metadata": {},
   "outputs": [],
   "source": []
  }
 ],
 "metadata": {
  "kernelspec": {
   "display_name": "data_analysis",
   "language": "python",
   "name": "python3"
  },
  "language_info": {
   "codemirror_mode": {
    "name": "ipython",
    "version": 3
   },
   "file_extension": ".py",
   "mimetype": "text/x-python",
   "name": "python",
   "nbconvert_exporter": "python",
   "pygments_lexer": "ipython3",
   "version": "3.13.0"
  }
 },
 "nbformat": 4,
 "nbformat_minor": 5
}
