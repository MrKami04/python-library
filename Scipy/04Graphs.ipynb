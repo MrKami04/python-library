{
 "cells": [
  {
   "cell_type": "markdown",
   "id": "0b6c1d71",
   "metadata": {},
   "source": [
    "# Graphs"
   ]
  },
  {
   "cell_type": "markdown",
   "id": "c38b8514",
   "metadata": {},
   "source": [
    "### Working with Graphs\n",
    "- Graphs are an essential data structure.\n",
    "- SciPy provides us with the module `scipy.sparse.csgraph` for working with such data structures.\n",
    "### Adjacency Matrix\n",
    "- Adjacency matrix is a nxn matrix where n is the number of elements in a graph.\n",
    "- And the values represents the connection between the elements."
   ]
  },
  {
   "cell_type": "markdown",
   "id": "eefc4dc0",
   "metadata": {},
   "source": [
    "![My chart](./scipy_graph.png)\n",
    "\n"
   ]
  },
  {
   "cell_type": "markdown",
   "id": "919d3615",
   "metadata": {},
   "source": [
    "- For a graph like this, with elements A, B and C, the connections are:\n",
    "- A & B are connected with weight 1.\n",
    "- A & C are connected with weight 2.\n",
    "- C & B is not connected.\n",
    "- The Adjency Matrix would look like this:\n",
    "### Connected Components\n",
    "- Find all of the connected components with the connected_components() method"
   ]
  },
  {
   "cell_type": "code",
   "execution_count": 1,
   "id": "c7eada71",
   "metadata": {},
   "outputs": [],
   "source": [
    "import numpy as np\n",
    "from scipy.sparse.csgraph import connected_components\n",
    "from scipy.sparse import csr_matrix"
   ]
  },
  {
   "cell_type": "code",
   "execution_count": 2,
   "id": "6f452baf",
   "metadata": {},
   "outputs": [
    {
     "name": "stdout",
     "output_type": "stream",
     "text": [
      "(1, array([0, 0, 0], dtype=int32))\n"
     ]
    }
   ],
   "source": [
    "arr = np.array([\n",
    "  [0, 1, 2],\n",
    "  [1, 0, 0],\n",
    "  [2, 0, 0]\n",
    "])\n",
    "\n",
    "newarr = csr_matrix(arr)\n",
    "\n",
    "print(connected_components(newarr))"
   ]
  }
 ],
 "metadata": {
  "kernelspec": {
   "display_name": "data_analysis",
   "language": "python",
   "name": "python3"
  },
  "language_info": {
   "codemirror_mode": {
    "name": "ipython",
    "version": 3
   },
   "file_extension": ".py",
   "mimetype": "text/x-python",
   "name": "python",
   "nbconvert_exporter": "python",
   "pygments_lexer": "ipython3",
   "version": "3.13.5"
  }
 },
 "nbformat": 4,
 "nbformat_minor": 5
}
