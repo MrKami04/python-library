{
 "cells": [
  {
   "cell_type": "markdown",
   "id": "32494802",
   "metadata": {},
   "source": [
    "# Interpolation?\n",
    "- Interpolation is a method for generating points between given points.\n",
    "- For example: for points 1 and 2, we may interpolate and find points 1.33 and 1.66.\n",
    "- Interpolation has many usage, in Machine Learning we often deal with missing data in a dataset, interpolation is often used to substitute those values.\n",
    "- This method of filling values is called imputation.\n",
    "- Apart from imputation, interpolation is often used where we need to smooth the discrete points in a dataset.\n",
    "#### How to Implement it in SciPy?\n",
    "- SciPy provides us with a module called `scipy.interpolate` which has many functions to deal with interpolation:\n",
    "\n",
    "##### 1D Interpolation\n",
    "- The function `interp1d()` is used to interpolate a distribution with 1 variable.\n",
    "- It takes `x` and `y` points and returns a callable function that can be called with new `x` and returns corresponding `y`."
   ]
  },
  {
   "cell_type": "code",
   "execution_count": 9,
   "id": "e2904ff5",
   "metadata": {},
   "outputs": [],
   "source": [
    "from scipy.interpolate import interp1d, UnivariateSpline, Rbf\n",
    "import numpy as np"
   ]
  },
  {
   "cell_type": "code",
   "execution_count": 10,
   "id": "24cef514",
   "metadata": {},
   "outputs": [
    {
     "name": "stdout",
     "output_type": "stream",
     "text": [
      "[5.2 5.4 5.6 5.8 6.  6.2 6.4 6.6 6.8]\n"
     ]
    }
   ],
   "source": [
    "xs = np.arange(10)\n",
    "ys = 2*xs + 1\n",
    "interp_func = interp1d(xs, ys)\n",
    "newarr = interp_func(np.arange(2.1, 3, 0.1))\n",
    "print(newarr)"
   ]
  },
  {
   "cell_type": "markdown",
   "id": "4d7bd929",
   "metadata": {},
   "source": [
    "- **Note:** that new xs should be in same range as of the old xs, meaning that we can't call `interp_func()` with values higher than 10, or less than 0."
   ]
  },
  {
   "cell_type": "markdown",
   "id": "c8618345",
   "metadata": {},
   "source": [
    "### Spline Interpolation\n",
    "- In 1D interpolation the points are fitted for a single curve whereas in Spline interpolation the points are fitted against a piecewise function defined with polynomials called splines.\n",
    "- The `UnivariateSpline()` function takes `xs` and `ys` and produce a callable funciton that can be called with new xs.\n",
    "- **Piecewise function:** A function that has different definition for different ranges."
   ]
  },
  {
   "cell_type": "code",
   "execution_count": 11,
   "id": "4ee821ca",
   "metadata": {},
   "outputs": [
    {
     "name": "stdout",
     "output_type": "stream",
     "text": [
      "[5.62826474 6.03987348 6.47131994 6.92265019 7.3939103  7.88514634\n",
      " 8.39640439 8.92773053 9.47917082]\n"
     ]
    }
   ],
   "source": [
    "xs = np.arange(10)\n",
    "ys = xs**2 + np.sin(xs) + 1\n",
    "interp_func = UnivariateSpline(xs, ys)\n",
    "newarr = interp_func(np.arange(2.1, 3, 0.1))\n",
    "print(newarr)"
   ]
  },
  {
   "cell_type": "markdown",
   "id": "4603431a",
   "metadata": {},
   "source": [
    "### Interpolation with Radial Basis Function\n",
    "- Radial basis function is a function that is defined corresponding to a fixed reference point.\n",
    "- The `Rbf()` function also takes `xs` and `ys` as arguments and produces a callable function that can be called with new `xs`."
   ]
  },
  {
   "cell_type": "code",
   "execution_count": 12,
   "id": "0e17a71b",
   "metadata": {},
   "outputs": [
    {
     "name": "stdout",
     "output_type": "stream",
     "text": [
      "[6.25748981 6.62190817 7.00310702 7.40121814 7.8161443  8.24773402\n",
      " 8.69590519 9.16070828 9.64233874]\n"
     ]
    }
   ],
   "source": [
    "xs = np.arange(10)\n",
    "ys = xs**2 + np.sin(xs) + 1\n",
    "interp_func = Rbf(xs, ys)\n",
    "newarr = interp_func(np.arange(2.1, 3, 0.1))\n",
    "print(newarr)"
   ]
  }
 ],
 "metadata": {
  "kernelspec": {
   "display_name": "data_analysis",
   "language": "python",
   "name": "python3"
  },
  "language_info": {
   "codemirror_mode": {
    "name": "ipython",
    "version": 3
   },
   "file_extension": ".py",
   "mimetype": "text/x-python",
   "name": "python",
   "nbconvert_exporter": "python",
   "pygments_lexer": "ipython3",
   "version": "3.13.0"
  }
 },
 "nbformat": 4,
 "nbformat_minor": 5
}
