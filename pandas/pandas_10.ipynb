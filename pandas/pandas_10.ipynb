{
 "cells": [
  {
   "cell_type": "markdown",
   "id": "55185453",
   "metadata": {},
   "source": [
    "# pandas in  10 minutes\n",
    "- this is short introduction of pandas and for more complex study [Cookbook](https://pandas.pydata.org/docs/user_guide/cookbook.html#cookbook)\n"
   ]
  },
  {
   "cell_type": "code",
   "execution_count": 1,
   "id": "e1b910db",
   "metadata": {},
   "outputs": [],
   "source": [
    "# import library as \n",
    "import numpy as np\n",
    "import pandas as pd"
   ]
  },
  {
   "cell_type": "markdown",
   "id": "9626ba18",
   "metadata": {},
   "source": [
    "## Basic data sturcture in pandas\n",
    "- pandas provides two type of classes for handling data:\n",
    "1. Series: a one-dimensional labeled array holding data of any type\n",
    "such as integers, strings, Python objects etc\n",
    "2. DataFrame: a two-dimensional data structure that holds data like a two-dimension array or a table with rows and columns."
   ]
  },
  {
   "cell_type": "code",
   "execution_count": 2,
   "id": "1907ae7f",
   "metadata": {},
   "outputs": [
    {
     "data": {
      "text/plain": [
       "DatetimeIndex(['2014-01-01', '2014-01-02', '2014-01-03', '2014-01-04',\n",
       "               '2014-01-05', '2014-01-06', '2014-01-07', '2014-01-08',\n",
       "               '2014-01-09', '2014-01-10'],\n",
       "              dtype='datetime64[ns]', freq='D')"
      ]
     },
     "execution_count": 2,
     "metadata": {},
     "output_type": "execute_result"
    }
   ],
   "source": [
    "dates = pd.date_range('20140101',periods=10)\n",
    "# Creates a DatetimeIndex of 10 sequential dates starting from '2014-01-01', used to label the rows (index) in a DataFrame.\n",
    "dates"
   ]
  },
  {
   "cell_type": "code",
   "execution_count": 7,
   "id": "cb8edb53",
   "metadata": {},
   "outputs": [
    {
     "data": {
      "text/html": [
       "<div>\n",
       "<style scoped>\n",
       "    .dataframe tbody tr th:only-of-type {\n",
       "        vertical-align: middle;\n",
       "    }\n",
       "\n",
       "    .dataframe tbody tr th {\n",
       "        vertical-align: top;\n",
       "    }\n",
       "\n",
       "    .dataframe thead th {\n",
       "        text-align: right;\n",
       "    }\n",
       "</style>\n",
       "<table border=\"1\" class=\"dataframe\">\n",
       "  <thead>\n",
       "    <tr style=\"text-align: right;\">\n",
       "      <th></th>\n",
       "      <th>A</th>\n",
       "      <th>B</th>\n",
       "      <th>C</th>\n",
       "      <th>D</th>\n",
       "    </tr>\n",
       "  </thead>\n",
       "  <tbody>\n",
       "    <tr>\n",
       "      <th>2014-01-01</th>\n",
       "      <td>0.506059</td>\n",
       "      <td>0.289087</td>\n",
       "      <td>-1.845540</td>\n",
       "      <td>-0.805689</td>\n",
       "    </tr>\n",
       "    <tr>\n",
       "      <th>2014-01-02</th>\n",
       "      <td>-2.036319</td>\n",
       "      <td>-0.772767</td>\n",
       "      <td>-1.993456</td>\n",
       "      <td>-0.925015</td>\n",
       "    </tr>\n",
       "    <tr>\n",
       "      <th>2014-01-03</th>\n",
       "      <td>-1.855434</td>\n",
       "      <td>-2.203944</td>\n",
       "      <td>-0.423123</td>\n",
       "      <td>1.145439</td>\n",
       "    </tr>\n",
       "    <tr>\n",
       "      <th>2014-01-04</th>\n",
       "      <td>-0.024592</td>\n",
       "      <td>-0.482478</td>\n",
       "      <td>-0.654107</td>\n",
       "      <td>0.061867</td>\n",
       "    </tr>\n",
       "    <tr>\n",
       "      <th>2014-01-05</th>\n",
       "      <td>1.706519</td>\n",
       "      <td>0.012014</td>\n",
       "      <td>0.103616</td>\n",
       "      <td>-1.291534</td>\n",
       "    </tr>\n",
       "    <tr>\n",
       "      <th>2014-01-06</th>\n",
       "      <td>-0.019864</td>\n",
       "      <td>-1.394176</td>\n",
       "      <td>0.199732</td>\n",
       "      <td>-2.435615</td>\n",
       "    </tr>\n",
       "    <tr>\n",
       "      <th>2014-01-07</th>\n",
       "      <td>-2.358551</td>\n",
       "      <td>0.475242</td>\n",
       "      <td>-0.594963</td>\n",
       "      <td>1.400826</td>\n",
       "    </tr>\n",
       "    <tr>\n",
       "      <th>2014-01-08</th>\n",
       "      <td>-1.668834</td>\n",
       "      <td>-0.637318</td>\n",
       "      <td>-0.768826</td>\n",
       "      <td>0.995356</td>\n",
       "    </tr>\n",
       "    <tr>\n",
       "      <th>2014-01-09</th>\n",
       "      <td>-1.220843</td>\n",
       "      <td>-0.611766</td>\n",
       "      <td>2.275665</td>\n",
       "      <td>0.570381</td>\n",
       "    </tr>\n",
       "    <tr>\n",
       "      <th>2014-01-10</th>\n",
       "      <td>-0.330113</td>\n",
       "      <td>-0.671540</td>\n",
       "      <td>1.363282</td>\n",
       "      <td>-1.055902</td>\n",
       "    </tr>\n",
       "  </tbody>\n",
       "</table>\n",
       "</div>"
      ],
      "text/plain": [
       "                   A         B         C         D\n",
       "2014-01-01  0.506059  0.289087 -1.845540 -0.805689\n",
       "2014-01-02 -2.036319 -0.772767 -1.993456 -0.925015\n",
       "2014-01-03 -1.855434 -2.203944 -0.423123  1.145439\n",
       "2014-01-04 -0.024592 -0.482478 -0.654107  0.061867\n",
       "2014-01-05  1.706519  0.012014  0.103616 -1.291534\n",
       "2014-01-06 -0.019864 -1.394176  0.199732 -2.435615\n",
       "2014-01-07 -2.358551  0.475242 -0.594963  1.400826\n",
       "2014-01-08 -1.668834 -0.637318 -0.768826  0.995356\n",
       "2014-01-09 -1.220843 -0.611766  2.275665  0.570381\n",
       "2014-01-10 -0.330113 -0.671540  1.363282 -1.055902"
      ]
     },
     "execution_count": 7,
     "metadata": {},
     "output_type": "execute_result"
    }
   ],
   "source": [
    "df = pd.DataFrame(np.random.randn(10,4), index=dates, columns=list('ABCD'))\n",
    "# A DataFrame with 10 rows (indexed by dates), 4 columns labeled 'A', 'B', 'C', 'D', filled with random values.\n",
    "df"
   ]
  },
  {
   "cell_type": "markdown",
   "id": "0119c3eb",
   "metadata": {},
   "source": [
    "#### Creating a DataFrame by passing a dictionary of objects where the keys are the column labels and the values are the column values."
   ]
  },
  {
   "cell_type": "code",
   "execution_count": 8,
   "id": "55d1a920",
   "metadata": {},
   "outputs": [
    {
     "data": {
      "text/html": [
       "<div>\n",
       "<style scoped>\n",
       "    .dataframe tbody tr th:only-of-type {\n",
       "        vertical-align: middle;\n",
       "    }\n",
       "\n",
       "    .dataframe tbody tr th {\n",
       "        vertical-align: top;\n",
       "    }\n",
       "\n",
       "    .dataframe thead th {\n",
       "        text-align: right;\n",
       "    }\n",
       "</style>\n",
       "<table border=\"1\" class=\"dataframe\">\n",
       "  <thead>\n",
       "    <tr style=\"text-align: right;\">\n",
       "      <th></th>\n",
       "      <th>A</th>\n",
       "      <th>B</th>\n",
       "      <th>C</th>\n",
       "      <th>D</th>\n",
       "      <th>E</th>\n",
       "      <th>F</th>\n",
       "    </tr>\n",
       "  </thead>\n",
       "  <tbody>\n",
       "    <tr>\n",
       "      <th>0</th>\n",
       "      <td>1.0</td>\n",
       "      <td>2013-02-02</td>\n",
       "      <td>1.0</td>\n",
       "      <td>3</td>\n",
       "      <td>train</td>\n",
       "      <td>foo</td>\n",
       "    </tr>\n",
       "    <tr>\n",
       "      <th>1</th>\n",
       "      <td>1.0</td>\n",
       "      <td>2013-02-02</td>\n",
       "      <td>1.0</td>\n",
       "      <td>3</td>\n",
       "      <td>test</td>\n",
       "      <td>foo</td>\n",
       "    </tr>\n",
       "    <tr>\n",
       "      <th>2</th>\n",
       "      <td>1.0</td>\n",
       "      <td>2013-02-02</td>\n",
       "      <td>1.0</td>\n",
       "      <td>3</td>\n",
       "      <td>train</td>\n",
       "      <td>foo</td>\n",
       "    </tr>\n",
       "    <tr>\n",
       "      <th>3</th>\n",
       "      <td>1.0</td>\n",
       "      <td>2013-02-02</td>\n",
       "      <td>1.0</td>\n",
       "      <td>3</td>\n",
       "      <td>test</td>\n",
       "      <td>foo</td>\n",
       "    </tr>\n",
       "  </tbody>\n",
       "</table>\n",
       "</div>"
      ],
      "text/plain": [
       "     A          B    C  D      E    F\n",
       "0  1.0 2013-02-02  1.0  3  train  foo\n",
       "1  1.0 2013-02-02  1.0  3   test  foo\n",
       "2  1.0 2013-02-02  1.0  3  train  foo\n",
       "3  1.0 2013-02-02  1.0  3   test  foo"
      ]
     },
     "execution_count": 8,
     "metadata": {},
     "output_type": "execute_result"
    }
   ],
   "source": [
    "df2 = pd.DataFrame({\n",
    "    'A': 1.0,\n",
    "    'B':pd.Timestamp('20130202'),\n",
    "    'C': pd.Series(1, index=list(range(4)), dtype='float32'),\n",
    "    'D': np.array([3]*4, dtype='int32'),\n",
    "    'E': pd.Categorical(['train','test','train','test']),\n",
    "    'F': 'foo' \n",
    "}\n",
    ")\n",
    "df2"
   ]
  },
  {
   "cell_type": "markdown",
   "id": "d9e2ee28",
   "metadata": {},
   "source": [
    "- columns of dataframe has different dtype "
   ]
  },
  {
   "cell_type": "code",
   "execution_count": 5,
   "id": "95d8f724",
   "metadata": {},
   "outputs": [
    {
     "data": {
      "text/plain": [
       "A          float64\n",
       "B    datetime64[s]\n",
       "C          float32\n",
       "D            int32\n",
       "E         category\n",
       "F           object\n",
       "dtype: object"
      ]
     },
     "execution_count": 5,
     "metadata": {},
     "output_type": "execute_result"
    }
   ],
   "source": [
    "df2.dtypes"
   ]
  },
  {
   "cell_type": "markdown",
   "id": "a8aa2fa4",
   "metadata": {},
   "source": [
    "## Viewing data\n",
    "- use dataframe.head() and dataframe.tail() , we can see first and last five rows of data."
   ]
  },
  {
   "cell_type": "code",
   "execution_count": 6,
   "id": "10010c62",
   "metadata": {},
   "outputs": [
    {
     "data": {
      "text/html": [
       "<div>\n",
       "<style scoped>\n",
       "    .dataframe tbody tr th:only-of-type {\n",
       "        vertical-align: middle;\n",
       "    }\n",
       "\n",
       "    .dataframe tbody tr th {\n",
       "        vertical-align: top;\n",
       "    }\n",
       "\n",
       "    .dataframe thead th {\n",
       "        text-align: right;\n",
       "    }\n",
       "</style>\n",
       "<table border=\"1\" class=\"dataframe\">\n",
       "  <thead>\n",
       "    <tr style=\"text-align: right;\">\n",
       "      <th></th>\n",
       "      <th>A</th>\n",
       "      <th>B</th>\n",
       "      <th>C</th>\n",
       "      <th>D</th>\n",
       "    </tr>\n",
       "  </thead>\n",
       "  <tbody>\n",
       "    <tr>\n",
       "      <th>2014-01-01</th>\n",
       "      <td>1.569233</td>\n",
       "      <td>-0.678559</td>\n",
       "      <td>0.067050</td>\n",
       "      <td>0.819036</td>\n",
       "    </tr>\n",
       "    <tr>\n",
       "      <th>2014-01-02</th>\n",
       "      <td>-0.481405</td>\n",
       "      <td>-0.192512</td>\n",
       "      <td>0.947463</td>\n",
       "      <td>0.806320</td>\n",
       "    </tr>\n",
       "    <tr>\n",
       "      <th>2014-01-03</th>\n",
       "      <td>-0.864873</td>\n",
       "      <td>-1.100285</td>\n",
       "      <td>-0.093128</td>\n",
       "      <td>0.494835</td>\n",
       "    </tr>\n",
       "    <tr>\n",
       "      <th>2014-01-04</th>\n",
       "      <td>-0.198615</td>\n",
       "      <td>0.344250</td>\n",
       "      <td>-1.704664</td>\n",
       "      <td>1.265533</td>\n",
       "    </tr>\n",
       "    <tr>\n",
       "      <th>2014-01-05</th>\n",
       "      <td>0.138431</td>\n",
       "      <td>0.729905</td>\n",
       "      <td>-2.103799</td>\n",
       "      <td>-0.380120</td>\n",
       "    </tr>\n",
       "  </tbody>\n",
       "</table>\n",
       "</div>"
      ],
      "text/plain": [
       "                   A         B         C         D\n",
       "2014-01-01  1.569233 -0.678559  0.067050  0.819036\n",
       "2014-01-02 -0.481405 -0.192512  0.947463  0.806320\n",
       "2014-01-03 -0.864873 -1.100285 -0.093128  0.494835\n",
       "2014-01-04 -0.198615  0.344250 -1.704664  1.265533\n",
       "2014-01-05  0.138431  0.729905 -2.103799 -0.380120"
      ]
     },
     "execution_count": 6,
     "metadata": {},
     "output_type": "execute_result"
    }
   ],
   "source": [
    "df.head()  # first or top five rows of data show in output"
   ]
  },
  {
   "cell_type": "code",
   "execution_count": 7,
   "id": "b962bc48",
   "metadata": {},
   "outputs": [
    {
     "data": {
      "text/html": [
       "<div>\n",
       "<style scoped>\n",
       "    .dataframe tbody tr th:only-of-type {\n",
       "        vertical-align: middle;\n",
       "    }\n",
       "\n",
       "    .dataframe tbody tr th {\n",
       "        vertical-align: top;\n",
       "    }\n",
       "\n",
       "    .dataframe thead th {\n",
       "        text-align: right;\n",
       "    }\n",
       "</style>\n",
       "<table border=\"1\" class=\"dataframe\">\n",
       "  <thead>\n",
       "    <tr style=\"text-align: right;\">\n",
       "      <th></th>\n",
       "      <th>A</th>\n",
       "      <th>B</th>\n",
       "      <th>C</th>\n",
       "      <th>D</th>\n",
       "    </tr>\n",
       "  </thead>\n",
       "  <tbody>\n",
       "    <tr>\n",
       "      <th>2014-01-06</th>\n",
       "      <td>0.024959</td>\n",
       "      <td>0.416609</td>\n",
       "      <td>1.561498</td>\n",
       "      <td>-0.088178</td>\n",
       "    </tr>\n",
       "    <tr>\n",
       "      <th>2014-01-07</th>\n",
       "      <td>-0.324380</td>\n",
       "      <td>-0.401447</td>\n",
       "      <td>-0.039363</td>\n",
       "      <td>-1.063489</td>\n",
       "    </tr>\n",
       "    <tr>\n",
       "      <th>2014-01-08</th>\n",
       "      <td>-1.844305</td>\n",
       "      <td>0.490536</td>\n",
       "      <td>1.218289</td>\n",
       "      <td>-0.304004</td>\n",
       "    </tr>\n",
       "    <tr>\n",
       "      <th>2014-01-09</th>\n",
       "      <td>-0.092354</td>\n",
       "      <td>-0.800876</td>\n",
       "      <td>0.492006</td>\n",
       "      <td>-1.140210</td>\n",
       "    </tr>\n",
       "    <tr>\n",
       "      <th>2014-01-10</th>\n",
       "      <td>0.623552</td>\n",
       "      <td>0.286183</td>\n",
       "      <td>1.184754</td>\n",
       "      <td>0.574648</td>\n",
       "    </tr>\n",
       "  </tbody>\n",
       "</table>\n",
       "</div>"
      ],
      "text/plain": [
       "                   A         B         C         D\n",
       "2014-01-06  0.024959  0.416609  1.561498 -0.088178\n",
       "2014-01-07 -0.324380 -0.401447 -0.039363 -1.063489\n",
       "2014-01-08 -1.844305  0.490536  1.218289 -0.304004\n",
       "2014-01-09 -0.092354 -0.800876  0.492006 -1.140210\n",
       "2014-01-10  0.623552  0.286183  1.184754  0.574648"
      ]
     },
     "execution_count": 7,
     "metadata": {},
     "output_type": "execute_result"
    }
   ],
   "source": [
    "df.tail()  # last or bottom five rows of data show in output."
   ]
  },
  {
   "cell_type": "markdown",
   "id": "889c9c70",
   "metadata": {},
   "source": [
    "- displaying dataframe.index or dataframe. columns means that show all columns name in dataset."
   ]
  },
  {
   "cell_type": "code",
   "execution_count": 9,
   "id": "af5c1ec7",
   "metadata": {},
   "outputs": [
    {
     "data": {
      "text/plain": [
       "Index(['A', 'B', 'C', 'D'], dtype='object')"
      ]
     },
     "execution_count": 9,
     "metadata": {},
     "output_type": "execute_result"
    }
   ],
   "source": [
    "# df.index\n",
    "df.columns"
   ]
  },
  {
   "cell_type": "markdown",
   "id": "69bec992",
   "metadata": {},
   "source": [
    "- Return a NumPy representation of the underlying data with DataFrame.to_numpy() without the index or column labels:"
   ]
  },
  {
   "cell_type": "code",
   "execution_count": 10,
   "id": "b1c930a2",
   "metadata": {},
   "outputs": [
    {
     "data": {
      "text/plain": [
       "array([[ 0.50605879,  0.28908725, -1.84553968, -0.80568936],\n",
       "       [-2.03631901, -0.7727667 , -1.99345599, -0.92501506],\n",
       "       [-1.85543409, -2.20394379, -0.42312347,  1.14543946],\n",
       "       [-0.02459234, -0.4824776 , -0.65410694,  0.06186713],\n",
       "       [ 1.7065195 ,  0.01201425,  0.10361555, -1.2915342 ],\n",
       "       [-0.01986443, -1.39417564,  0.19973191, -2.43561488],\n",
       "       [-2.35855076,  0.47524248, -0.59496267,  1.40082596],\n",
       "       [-1.66883414, -0.63731758, -0.76882595,  0.99535608],\n",
       "       [-1.2208426 , -0.61176588,  2.27566466,  0.57038111],\n",
       "       [-0.33011283, -0.67153957,  1.36328165, -1.05590215]])"
      ]
     },
     "execution_count": 10,
     "metadata": {},
     "output_type": "execute_result"
    }
   ],
   "source": [
    "df.to_numpy()"
   ]
  },
  {
   "cell_type": "markdown",
   "id": "63f46db1",
   "metadata": {},
   "source": [
    "### Note:\n",
    "- NumPy arrays have one dtype for the entire array while pandas DataFrames have one dtype per column. When you call DataFrame.to_numpy(), pandas will find the NumPy dtype that can hold all of the dtypes in the DataFrame. If the common data type is object, DataFrame.to_numpy() will require copying data."
   ]
  },
  {
   "cell_type": "code",
   "execution_count": 11,
   "id": "9daf2e75",
   "metadata": {},
   "outputs": [
    {
     "name": "stdout",
     "output_type": "stream",
     "text": [
      "A          float64\n",
      "B    datetime64[s]\n",
      "C          float32\n",
      "D            int32\n",
      "E         category\n",
      "F           object\n",
      "dtype: object\n",
      "-------------------------\n",
      "[[1.0 Timestamp('2013-02-02 00:00:00') 1.0 3 'train' 'foo']\n",
      " [1.0 Timestamp('2013-02-02 00:00:00') 1.0 3 'test' 'foo']\n",
      " [1.0 Timestamp('2013-02-02 00:00:00') 1.0 3 'train' 'foo']\n",
      " [1.0 Timestamp('2013-02-02 00:00:00') 1.0 3 'test' 'foo']]\n"
     ]
    }
   ],
   "source": [
    "print(df2.dtypes)\n",
    "print(\"-------------------------\")\n",
    "print(df2.to_numpy())"
   ]
  },
  {
   "cell_type": "markdown",
   "id": "51cd575f",
   "metadata": {},
   "source": [
    "- use ``` describe() ``` for short statistics summary. but give only numeric columns output."
   ]
  },
  {
   "cell_type": "code",
   "execution_count": 13,
   "id": "cfe73e64",
   "metadata": {},
   "outputs": [
    {
     "data": {
      "text/html": [
       "<div>\n",
       "<style scoped>\n",
       "    .dataframe tbody tr th:only-of-type {\n",
       "        vertical-align: middle;\n",
       "    }\n",
       "\n",
       "    .dataframe tbody tr th {\n",
       "        vertical-align: top;\n",
       "    }\n",
       "\n",
       "    .dataframe thead th {\n",
       "        text-align: right;\n",
       "    }\n",
       "</style>\n",
       "<table border=\"1\" class=\"dataframe\">\n",
       "  <thead>\n",
       "    <tr style=\"text-align: right;\">\n",
       "      <th></th>\n",
       "      <th>A</th>\n",
       "      <th>B</th>\n",
       "      <th>C</th>\n",
       "      <th>D</th>\n",
       "    </tr>\n",
       "  </thead>\n",
       "  <tbody>\n",
       "    <tr>\n",
       "      <th>2014-01-01</th>\n",
       "      <td>0.506059</td>\n",
       "      <td>0.289087</td>\n",
       "      <td>-1.845540</td>\n",
       "      <td>-0.805689</td>\n",
       "    </tr>\n",
       "    <tr>\n",
       "      <th>2014-01-02</th>\n",
       "      <td>-2.036319</td>\n",
       "      <td>-0.772767</td>\n",
       "      <td>-1.993456</td>\n",
       "      <td>-0.925015</td>\n",
       "    </tr>\n",
       "    <tr>\n",
       "      <th>2014-01-03</th>\n",
       "      <td>-1.855434</td>\n",
       "      <td>-2.203944</td>\n",
       "      <td>-0.423123</td>\n",
       "      <td>1.145439</td>\n",
       "    </tr>\n",
       "    <tr>\n",
       "      <th>2014-01-04</th>\n",
       "      <td>-0.024592</td>\n",
       "      <td>-0.482478</td>\n",
       "      <td>-0.654107</td>\n",
       "      <td>0.061867</td>\n",
       "    </tr>\n",
       "    <tr>\n",
       "      <th>2014-01-05</th>\n",
       "      <td>1.706519</td>\n",
       "      <td>0.012014</td>\n",
       "      <td>0.103616</td>\n",
       "      <td>-1.291534</td>\n",
       "    </tr>\n",
       "  </tbody>\n",
       "</table>\n",
       "</div>"
      ],
      "text/plain": [
       "                   A         B         C         D\n",
       "2014-01-01  0.506059  0.289087 -1.845540 -0.805689\n",
       "2014-01-02 -2.036319 -0.772767 -1.993456 -0.925015\n",
       "2014-01-03 -1.855434 -2.203944 -0.423123  1.145439\n",
       "2014-01-04 -0.024592 -0.482478 -0.654107  0.061867\n",
       "2014-01-05  1.706519  0.012014  0.103616 -1.291534"
      ]
     },
     "execution_count": 13,
     "metadata": {},
     "output_type": "execute_result"
    }
   ],
   "source": [
    "df.head()"
   ]
  },
  {
   "cell_type": "code",
   "execution_count": 14,
   "id": "825385bb",
   "metadata": {},
   "outputs": [
    {
     "data": {
      "text/html": [
       "<div>\n",
       "<style scoped>\n",
       "    .dataframe tbody tr th:only-of-type {\n",
       "        vertical-align: middle;\n",
       "    }\n",
       "\n",
       "    .dataframe tbody tr th {\n",
       "        vertical-align: top;\n",
       "    }\n",
       "\n",
       "    .dataframe thead th {\n",
       "        text-align: right;\n",
       "    }\n",
       "</style>\n",
       "<table border=\"1\" class=\"dataframe\">\n",
       "  <thead>\n",
       "    <tr style=\"text-align: right;\">\n",
       "      <th></th>\n",
       "      <th>A</th>\n",
       "      <th>B</th>\n",
       "      <th>C</th>\n",
       "      <th>D</th>\n",
       "    </tr>\n",
       "  </thead>\n",
       "  <tbody>\n",
       "    <tr>\n",
       "      <th>count</th>\n",
       "      <td>10.000000</td>\n",
       "      <td>10.000000</td>\n",
       "      <td>10.000000</td>\n",
       "      <td>10.000000</td>\n",
       "    </tr>\n",
       "    <tr>\n",
       "      <th>mean</th>\n",
       "      <td>-0.730197</td>\n",
       "      <td>-0.599764</td>\n",
       "      <td>-0.233772</td>\n",
       "      <td>-0.233989</td>\n",
       "    </tr>\n",
       "    <tr>\n",
       "      <th>std</th>\n",
       "      <td>1.306984</td>\n",
       "      <td>0.787037</td>\n",
       "      <td>1.311198</td>\n",
       "      <td>1.259044</td>\n",
       "    </tr>\n",
       "    <tr>\n",
       "      <th>min</th>\n",
       "      <td>-2.358551</td>\n",
       "      <td>-2.203944</td>\n",
       "      <td>-1.993456</td>\n",
       "      <td>-2.435615</td>\n",
       "    </tr>\n",
       "    <tr>\n",
       "      <th>25%</th>\n",
       "      <td>-1.808784</td>\n",
       "      <td>-0.747460</td>\n",
       "      <td>-0.740146</td>\n",
       "      <td>-1.023180</td>\n",
       "    </tr>\n",
       "    <tr>\n",
       "      <th>50%</th>\n",
       "      <td>-0.775478</td>\n",
       "      <td>-0.624542</td>\n",
       "      <td>-0.509043</td>\n",
       "      <td>-0.371911</td>\n",
       "    </tr>\n",
       "    <tr>\n",
       "      <th>75%</th>\n",
       "      <td>-0.021046</td>\n",
       "      <td>-0.111609</td>\n",
       "      <td>0.175703</td>\n",
       "      <td>0.889112</td>\n",
       "    </tr>\n",
       "    <tr>\n",
       "      <th>max</th>\n",
       "      <td>1.706519</td>\n",
       "      <td>0.475242</td>\n",
       "      <td>2.275665</td>\n",
       "      <td>1.400826</td>\n",
       "    </tr>\n",
       "  </tbody>\n",
       "</table>\n",
       "</div>"
      ],
      "text/plain": [
       "               A          B          C          D\n",
       "count  10.000000  10.000000  10.000000  10.000000\n",
       "mean   -0.730197  -0.599764  -0.233772  -0.233989\n",
       "std     1.306984   0.787037   1.311198   1.259044\n",
       "min    -2.358551  -2.203944  -1.993456  -2.435615\n",
       "25%    -1.808784  -0.747460  -0.740146  -1.023180\n",
       "50%    -0.775478  -0.624542  -0.509043  -0.371911\n",
       "75%    -0.021046  -0.111609   0.175703   0.889112\n",
       "max     1.706519   0.475242   2.275665   1.400826"
      ]
     },
     "execution_count": 14,
     "metadata": {},
     "output_type": "execute_result"
    }
   ],
   "source": [
    "df.describe()"
   ]
  },
  {
   "cell_type": "markdown",
   "id": "646f74bc",
   "metadata": {},
   "source": [
    "- we can take trnasform of the data as mean row change in columns."
   ]
  },
  {
   "cell_type": "code",
   "execution_count": 16,
   "id": "a4c4ff98",
   "metadata": {},
   "outputs": [],
   "source": [
    "# df.T"
   ]
  },
  {
   "cell_type": "markdown",
   "id": "48cf113c",
   "metadata": {},
   "source": [
    "- use ``` sort_index()``` for sort data as ascending or decending order."
   ]
  },
  {
   "cell_type": "code",
   "execution_count": 17,
   "id": "f115eea6",
   "metadata": {},
   "outputs": [
    {
     "data": {
      "text/html": [
       "<div>\n",
       "<style scoped>\n",
       "    .dataframe tbody tr th:only-of-type {\n",
       "        vertical-align: middle;\n",
       "    }\n",
       "\n",
       "    .dataframe tbody tr th {\n",
       "        vertical-align: top;\n",
       "    }\n",
       "\n",
       "    .dataframe thead th {\n",
       "        text-align: right;\n",
       "    }\n",
       "</style>\n",
       "<table border=\"1\" class=\"dataframe\">\n",
       "  <thead>\n",
       "    <tr style=\"text-align: right;\">\n",
       "      <th></th>\n",
       "      <th>D</th>\n",
       "      <th>C</th>\n",
       "      <th>B</th>\n",
       "      <th>A</th>\n",
       "    </tr>\n",
       "  </thead>\n",
       "  <tbody>\n",
       "    <tr>\n",
       "      <th>2014-01-01</th>\n",
       "      <td>-0.805689</td>\n",
       "      <td>-1.845540</td>\n",
       "      <td>0.289087</td>\n",
       "      <td>0.506059</td>\n",
       "    </tr>\n",
       "    <tr>\n",
       "      <th>2014-01-02</th>\n",
       "      <td>-0.925015</td>\n",
       "      <td>-1.993456</td>\n",
       "      <td>-0.772767</td>\n",
       "      <td>-2.036319</td>\n",
       "    </tr>\n",
       "    <tr>\n",
       "      <th>2014-01-03</th>\n",
       "      <td>1.145439</td>\n",
       "      <td>-0.423123</td>\n",
       "      <td>-2.203944</td>\n",
       "      <td>-1.855434</td>\n",
       "    </tr>\n",
       "    <tr>\n",
       "      <th>2014-01-04</th>\n",
       "      <td>0.061867</td>\n",
       "      <td>-0.654107</td>\n",
       "      <td>-0.482478</td>\n",
       "      <td>-0.024592</td>\n",
       "    </tr>\n",
       "    <tr>\n",
       "      <th>2014-01-05</th>\n",
       "      <td>-1.291534</td>\n",
       "      <td>0.103616</td>\n",
       "      <td>0.012014</td>\n",
       "      <td>1.706519</td>\n",
       "    </tr>\n",
       "    <tr>\n",
       "      <th>2014-01-06</th>\n",
       "      <td>-2.435615</td>\n",
       "      <td>0.199732</td>\n",
       "      <td>-1.394176</td>\n",
       "      <td>-0.019864</td>\n",
       "    </tr>\n",
       "    <tr>\n",
       "      <th>2014-01-07</th>\n",
       "      <td>1.400826</td>\n",
       "      <td>-0.594963</td>\n",
       "      <td>0.475242</td>\n",
       "      <td>-2.358551</td>\n",
       "    </tr>\n",
       "    <tr>\n",
       "      <th>2014-01-08</th>\n",
       "      <td>0.995356</td>\n",
       "      <td>-0.768826</td>\n",
       "      <td>-0.637318</td>\n",
       "      <td>-1.668834</td>\n",
       "    </tr>\n",
       "    <tr>\n",
       "      <th>2014-01-09</th>\n",
       "      <td>0.570381</td>\n",
       "      <td>2.275665</td>\n",
       "      <td>-0.611766</td>\n",
       "      <td>-1.220843</td>\n",
       "    </tr>\n",
       "    <tr>\n",
       "      <th>2014-01-10</th>\n",
       "      <td>-1.055902</td>\n",
       "      <td>1.363282</td>\n",
       "      <td>-0.671540</td>\n",
       "      <td>-0.330113</td>\n",
       "    </tr>\n",
       "  </tbody>\n",
       "</table>\n",
       "</div>"
      ],
      "text/plain": [
       "                   D         C         B         A\n",
       "2014-01-01 -0.805689 -1.845540  0.289087  0.506059\n",
       "2014-01-02 -0.925015 -1.993456 -0.772767 -2.036319\n",
       "2014-01-03  1.145439 -0.423123 -2.203944 -1.855434\n",
       "2014-01-04  0.061867 -0.654107 -0.482478 -0.024592\n",
       "2014-01-05 -1.291534  0.103616  0.012014  1.706519\n",
       "2014-01-06 -2.435615  0.199732 -1.394176 -0.019864\n",
       "2014-01-07  1.400826 -0.594963  0.475242 -2.358551\n",
       "2014-01-08  0.995356 -0.768826 -0.637318 -1.668834\n",
       "2014-01-09  0.570381  2.275665 -0.611766 -1.220843\n",
       "2014-01-10 -1.055902  1.363282 -0.671540 -0.330113"
      ]
     },
     "execution_count": 17,
     "metadata": {},
     "output_type": "execute_result"
    }
   ],
   "source": [
    "df.sort_index(axis=1, ascending=False) # Sorts the column names in descending order (C, B, A) and rearranges the DataFrame accordingly.\n",
    "# Sorts the index (row labels if axis=0, column labels if axis=1) of the DataFrame.\n",
    "# ascending=False= Sorts in descending order (Z to A, or highest to lowest)., Use True for ascending (A to Z)."
   ]
  },
  {
   "cell_type": "markdown",
   "id": "fbbcdf61",
   "metadata": {},
   "source": [
    "- use ```sort_value()``` sort by values"
   ]
  },
  {
   "cell_type": "code",
   "execution_count": 18,
   "id": "a4e367a8",
   "metadata": {},
   "outputs": [
    {
     "data": {
      "text/html": [
       "<div>\n",
       "<style scoped>\n",
       "    .dataframe tbody tr th:only-of-type {\n",
       "        vertical-align: middle;\n",
       "    }\n",
       "\n",
       "    .dataframe tbody tr th {\n",
       "        vertical-align: top;\n",
       "    }\n",
       "\n",
       "    .dataframe thead th {\n",
       "        text-align: right;\n",
       "    }\n",
       "</style>\n",
       "<table border=\"1\" class=\"dataframe\">\n",
       "  <thead>\n",
       "    <tr style=\"text-align: right;\">\n",
       "      <th></th>\n",
       "      <th>A</th>\n",
       "      <th>B</th>\n",
       "      <th>C</th>\n",
       "      <th>D</th>\n",
       "    </tr>\n",
       "  </thead>\n",
       "  <tbody>\n",
       "    <tr>\n",
       "      <th>2014-01-03</th>\n",
       "      <td>-1.855434</td>\n",
       "      <td>-2.203944</td>\n",
       "      <td>-0.423123</td>\n",
       "      <td>1.145439</td>\n",
       "    </tr>\n",
       "    <tr>\n",
       "      <th>2014-01-06</th>\n",
       "      <td>-0.019864</td>\n",
       "      <td>-1.394176</td>\n",
       "      <td>0.199732</td>\n",
       "      <td>-2.435615</td>\n",
       "    </tr>\n",
       "    <tr>\n",
       "      <th>2014-01-02</th>\n",
       "      <td>-2.036319</td>\n",
       "      <td>-0.772767</td>\n",
       "      <td>-1.993456</td>\n",
       "      <td>-0.925015</td>\n",
       "    </tr>\n",
       "    <tr>\n",
       "      <th>2014-01-10</th>\n",
       "      <td>-0.330113</td>\n",
       "      <td>-0.671540</td>\n",
       "      <td>1.363282</td>\n",
       "      <td>-1.055902</td>\n",
       "    </tr>\n",
       "    <tr>\n",
       "      <th>2014-01-08</th>\n",
       "      <td>-1.668834</td>\n",
       "      <td>-0.637318</td>\n",
       "      <td>-0.768826</td>\n",
       "      <td>0.995356</td>\n",
       "    </tr>\n",
       "    <tr>\n",
       "      <th>2014-01-09</th>\n",
       "      <td>-1.220843</td>\n",
       "      <td>-0.611766</td>\n",
       "      <td>2.275665</td>\n",
       "      <td>0.570381</td>\n",
       "    </tr>\n",
       "    <tr>\n",
       "      <th>2014-01-04</th>\n",
       "      <td>-0.024592</td>\n",
       "      <td>-0.482478</td>\n",
       "      <td>-0.654107</td>\n",
       "      <td>0.061867</td>\n",
       "    </tr>\n",
       "    <tr>\n",
       "      <th>2014-01-05</th>\n",
       "      <td>1.706519</td>\n",
       "      <td>0.012014</td>\n",
       "      <td>0.103616</td>\n",
       "      <td>-1.291534</td>\n",
       "    </tr>\n",
       "    <tr>\n",
       "      <th>2014-01-01</th>\n",
       "      <td>0.506059</td>\n",
       "      <td>0.289087</td>\n",
       "      <td>-1.845540</td>\n",
       "      <td>-0.805689</td>\n",
       "    </tr>\n",
       "    <tr>\n",
       "      <th>2014-01-07</th>\n",
       "      <td>-2.358551</td>\n",
       "      <td>0.475242</td>\n",
       "      <td>-0.594963</td>\n",
       "      <td>1.400826</td>\n",
       "    </tr>\n",
       "  </tbody>\n",
       "</table>\n",
       "</div>"
      ],
      "text/plain": [
       "                   A         B         C         D\n",
       "2014-01-03 -1.855434 -2.203944 -0.423123  1.145439\n",
       "2014-01-06 -0.019864 -1.394176  0.199732 -2.435615\n",
       "2014-01-02 -2.036319 -0.772767 -1.993456 -0.925015\n",
       "2014-01-10 -0.330113 -0.671540  1.363282 -1.055902\n",
       "2014-01-08 -1.668834 -0.637318 -0.768826  0.995356\n",
       "2014-01-09 -1.220843 -0.611766  2.275665  0.570381\n",
       "2014-01-04 -0.024592 -0.482478 -0.654107  0.061867\n",
       "2014-01-05  1.706519  0.012014  0.103616 -1.291534\n",
       "2014-01-01  0.506059  0.289087 -1.845540 -0.805689\n",
       "2014-01-07 -2.358551  0.475242 -0.594963  1.400826"
      ]
     },
     "execution_count": 18,
     "metadata": {},
     "output_type": "execute_result"
    }
   ],
   "source": [
    "df.sort_values(by='B')"
   ]
  },
  {
   "cell_type": "markdown",
   "id": "e806ccb1",
   "metadata": {},
   "source": [
    "# Selection\n",
    "### Note\n",
    "- While standard Python / NumPy expressions for selecting and setting are intuitive and come in handy for interactive work, for production code, we recommend the optimized pandas data access methods, DataFrame.at(), DataFrame.iat(), DataFrame.loc() and DataFrame.iloc().\n",
    "#### Getitem([])\n",
    "- For a DataFrame, passing a single label selects a columns and yields a Series equivalent to df.A:"
   ]
  },
  {
   "cell_type": "code",
   "execution_count": 27,
   "id": "dc3b04a9",
   "metadata": {},
   "outputs": [
    {
     "data": {
      "text/plain": [
       "2014-01-01    0.506059\n",
       "2014-01-02   -2.036319\n",
       "2014-01-03   -1.855434\n",
       "2014-01-04   -0.024592\n",
       "2014-01-05    1.706519\n",
       "2014-01-06   -0.019864\n",
       "2014-01-07   -2.358551\n",
       "2014-01-08   -1.668834\n",
       "2014-01-09   -1.220843\n",
       "2014-01-10   -0.330113\n",
       "Freq: D, Name: A, dtype: float64"
      ]
     },
     "execution_count": 27,
     "metadata": {},
     "output_type": "execute_result"
    }
   ],
   "source": [
    "df['A']"
   ]
  },
  {
   "cell_type": "markdown",
   "id": "9d4b1369",
   "metadata": {},
   "source": [
    "- For a DataFrame, passing a slice : selects matching rows:"
   ]
  },
  {
   "cell_type": "code",
   "execution_count": 28,
   "id": "df3fdb5a",
   "metadata": {},
   "outputs": [
    {
     "data": {
      "text/html": [
       "<div>\n",
       "<style scoped>\n",
       "    .dataframe tbody tr th:only-of-type {\n",
       "        vertical-align: middle;\n",
       "    }\n",
       "\n",
       "    .dataframe tbody tr th {\n",
       "        vertical-align: top;\n",
       "    }\n",
       "\n",
       "    .dataframe thead th {\n",
       "        text-align: right;\n",
       "    }\n",
       "</style>\n",
       "<table border=\"1\" class=\"dataframe\">\n",
       "  <thead>\n",
       "    <tr style=\"text-align: right;\">\n",
       "      <th></th>\n",
       "      <th>A</th>\n",
       "      <th>B</th>\n",
       "      <th>C</th>\n",
       "      <th>D</th>\n",
       "    </tr>\n",
       "  </thead>\n",
       "  <tbody>\n",
       "    <tr>\n",
       "      <th>2014-01-01</th>\n",
       "      <td>0.506059</td>\n",
       "      <td>0.289087</td>\n",
       "      <td>-1.845540</td>\n",
       "      <td>-0.805689</td>\n",
       "    </tr>\n",
       "    <tr>\n",
       "      <th>2014-01-02</th>\n",
       "      <td>-2.036319</td>\n",
       "      <td>-0.772767</td>\n",
       "      <td>-1.993456</td>\n",
       "      <td>-0.925015</td>\n",
       "    </tr>\n",
       "    <tr>\n",
       "      <th>2014-01-03</th>\n",
       "      <td>-1.855434</td>\n",
       "      <td>-2.203944</td>\n",
       "      <td>-0.423123</td>\n",
       "      <td>1.145439</td>\n",
       "    </tr>\n",
       "  </tbody>\n",
       "</table>\n",
       "</div>"
      ],
      "text/plain": [
       "                   A         B         C         D\n",
       "2014-01-01  0.506059  0.289087 -1.845540 -0.805689\n",
       "2014-01-02 -2.036319 -0.772767 -1.993456 -0.925015\n",
       "2014-01-03 -1.855434 -2.203944 -0.423123  1.145439"
      ]
     },
     "execution_count": 28,
     "metadata": {},
     "output_type": "execute_result"
    }
   ],
   "source": [
    "df[0:3] # Just like my_list[0:3] gives the first 3 items(rows)."
   ]
  },
  {
   "cell_type": "markdown",
   "id": "8ece5e9c",
   "metadata": {},
   "source": [
    "#### Selection by label\n",
    "- Selecting a row matching a label:"
   ]
  },
  {
   "cell_type": "code",
   "execution_count": 29,
   "id": "07693e04",
   "metadata": {},
   "outputs": [
    {
     "data": {
      "text/plain": [
       "A    0.506059\n",
       "B    0.289087\n",
       "C   -1.845540\n",
       "D   -0.805689\n",
       "Name: 2014-01-01 00:00:00, dtype: float64"
      ]
     },
     "execution_count": 29,
     "metadata": {},
     "output_type": "execute_result"
    }
   ],
   "source": [
    "df.loc[dates[0]]  # Selects the row in DataFrame df that has the index equal to dates[0].\n",
    "# .loc[]:Accesses data by label (not position)., dates[0] is the first date in your datetime index."
   ]
  },
  {
   "cell_type": "markdown",
   "id": "15784ecc",
   "metadata": {},
   "source": [
    "- Selecting all rows (:) with a select column labels:"
   ]
  },
  {
   "cell_type": "code",
   "execution_count": 30,
   "id": "46b84e1d",
   "metadata": {},
   "outputs": [
    {
     "data": {
      "text/html": [
       "<div>\n",
       "<style scoped>\n",
       "    .dataframe tbody tr th:only-of-type {\n",
       "        vertical-align: middle;\n",
       "    }\n",
       "\n",
       "    .dataframe tbody tr th {\n",
       "        vertical-align: top;\n",
       "    }\n",
       "\n",
       "    .dataframe thead th {\n",
       "        text-align: right;\n",
       "    }\n",
       "</style>\n",
       "<table border=\"1\" class=\"dataframe\">\n",
       "  <thead>\n",
       "    <tr style=\"text-align: right;\">\n",
       "      <th></th>\n",
       "      <th>A</th>\n",
       "      <th>B</th>\n",
       "    </tr>\n",
       "  </thead>\n",
       "  <tbody>\n",
       "    <tr>\n",
       "      <th>2014-01-01</th>\n",
       "      <td>0.506059</td>\n",
       "      <td>0.289087</td>\n",
       "    </tr>\n",
       "    <tr>\n",
       "      <th>2014-01-02</th>\n",
       "      <td>-2.036319</td>\n",
       "      <td>-0.772767</td>\n",
       "    </tr>\n",
       "    <tr>\n",
       "      <th>2014-01-03</th>\n",
       "      <td>-1.855434</td>\n",
       "      <td>-2.203944</td>\n",
       "    </tr>\n",
       "    <tr>\n",
       "      <th>2014-01-04</th>\n",
       "      <td>-0.024592</td>\n",
       "      <td>-0.482478</td>\n",
       "    </tr>\n",
       "    <tr>\n",
       "      <th>2014-01-05</th>\n",
       "      <td>1.706519</td>\n",
       "      <td>0.012014</td>\n",
       "    </tr>\n",
       "    <tr>\n",
       "      <th>2014-01-06</th>\n",
       "      <td>-0.019864</td>\n",
       "      <td>-1.394176</td>\n",
       "    </tr>\n",
       "    <tr>\n",
       "      <th>2014-01-07</th>\n",
       "      <td>-2.358551</td>\n",
       "      <td>0.475242</td>\n",
       "    </tr>\n",
       "    <tr>\n",
       "      <th>2014-01-08</th>\n",
       "      <td>-1.668834</td>\n",
       "      <td>-0.637318</td>\n",
       "    </tr>\n",
       "    <tr>\n",
       "      <th>2014-01-09</th>\n",
       "      <td>-1.220843</td>\n",
       "      <td>-0.611766</td>\n",
       "    </tr>\n",
       "    <tr>\n",
       "      <th>2014-01-10</th>\n",
       "      <td>-0.330113</td>\n",
       "      <td>-0.671540</td>\n",
       "    </tr>\n",
       "  </tbody>\n",
       "</table>\n",
       "</div>"
      ],
      "text/plain": [
       "                   A         B\n",
       "2014-01-01  0.506059  0.289087\n",
       "2014-01-02 -2.036319 -0.772767\n",
       "2014-01-03 -1.855434 -2.203944\n",
       "2014-01-04 -0.024592 -0.482478\n",
       "2014-01-05  1.706519  0.012014\n",
       "2014-01-06 -0.019864 -1.394176\n",
       "2014-01-07 -2.358551  0.475242\n",
       "2014-01-08 -1.668834 -0.637318\n",
       "2014-01-09 -1.220843 -0.611766\n",
       "2014-01-10 -0.330113 -0.671540"
      ]
     },
     "execution_count": 30,
     "metadata": {},
     "output_type": "execute_result"
    }
   ],
   "source": [
    "df.loc[:,['A','B']]"
   ]
  },
  {
   "cell_type": "markdown",
   "id": "c96088b7",
   "metadata": {},
   "source": [
    "- For label slicing, both endpoints are included:"
   ]
  },
  {
   "cell_type": "code",
   "execution_count": 31,
   "id": "ce441c1a",
   "metadata": {},
   "outputs": [
    {
     "data": {
      "text/html": [
       "<div>\n",
       "<style scoped>\n",
       "    .dataframe tbody tr th:only-of-type {\n",
       "        vertical-align: middle;\n",
       "    }\n",
       "\n",
       "    .dataframe tbody tr th {\n",
       "        vertical-align: top;\n",
       "    }\n",
       "\n",
       "    .dataframe thead th {\n",
       "        text-align: right;\n",
       "    }\n",
       "</style>\n",
       "<table border=\"1\" class=\"dataframe\">\n",
       "  <thead>\n",
       "    <tr style=\"text-align: right;\">\n",
       "      <th></th>\n",
       "      <th>A</th>\n",
       "      <th>B</th>\n",
       "    </tr>\n",
       "  </thead>\n",
       "  <tbody>\n",
       "    <tr>\n",
       "      <th>2014-01-01</th>\n",
       "      <td>0.506059</td>\n",
       "      <td>0.289087</td>\n",
       "    </tr>\n",
       "    <tr>\n",
       "      <th>2014-01-02</th>\n",
       "      <td>-2.036319</td>\n",
       "      <td>-0.772767</td>\n",
       "    </tr>\n",
       "    <tr>\n",
       "      <th>2014-01-03</th>\n",
       "      <td>-1.855434</td>\n",
       "      <td>-2.203944</td>\n",
       "    </tr>\n",
       "    <tr>\n",
       "      <th>2014-01-04</th>\n",
       "      <td>-0.024592</td>\n",
       "      <td>-0.482478</td>\n",
       "    </tr>\n",
       "  </tbody>\n",
       "</table>\n",
       "</div>"
      ],
      "text/plain": [
       "                   A         B\n",
       "2014-01-01  0.506059  0.289087\n",
       "2014-01-02 -2.036319 -0.772767\n",
       "2014-01-03 -1.855434 -2.203944\n",
       "2014-01-04 -0.024592 -0.482478"
      ]
     },
     "execution_count": 31,
     "metadata": {},
     "output_type": "execute_result"
    }
   ],
   "source": [
    "df.loc['20140101':'20140104',['A','B']]"
   ]
  },
  {
   "cell_type": "markdown",
   "id": "78800e02",
   "metadata": {},
   "source": [
    "- Selecting a single row and column label returns a scalar:"
   ]
  },
  {
   "cell_type": "code",
   "execution_count": 32,
   "id": "80ef4131",
   "metadata": {},
   "outputs": [
    {
     "data": {
      "text/plain": [
       "np.float64(0.5060587872817447)"
      ]
     },
     "execution_count": 32,
     "metadata": {},
     "output_type": "execute_result"
    }
   ],
   "source": [
    "# print(df.loc[dates[0],'A'])\n",
    "df.loc[dates[0],'A']"
   ]
  },
  {
   "cell_type": "markdown",
   "id": "58a9778f",
   "metadata": {},
   "source": [
    "- For getting fast access to a scalar (equivalent to the prior method):"
   ]
  },
  {
   "cell_type": "code",
   "execution_count": 33,
   "id": "eddc4be5",
   "metadata": {},
   "outputs": [
    {
     "data": {
      "text/plain": [
       "np.float64(0.5060587872817447)"
      ]
     },
     "execution_count": 33,
     "metadata": {},
     "output_type": "execute_result"
    }
   ],
   "source": [
    "df.at[dates[0], 'A']"
   ]
  },
  {
   "cell_type": "markdown",
   "id": "87be9f0f",
   "metadata": {},
   "source": [
    "#### Selection by position\n",
    "- Select via the position of the passed integers:"
   ]
  },
  {
   "cell_type": "code",
   "execution_count": 34,
   "id": "43fd4c86",
   "metadata": {},
   "outputs": [
    {
     "data": {
      "text/plain": [
       "A   -0.024592\n",
       "B   -0.482478\n",
       "C   -0.654107\n",
       "D    0.061867\n",
       "Name: 2014-01-04 00:00:00, dtype: float64"
      ]
     },
     "execution_count": 34,
     "metadata": {},
     "output_type": "execute_result"
    }
   ],
   "source": [
    "df.iloc[3]  # Selects the 4th row (index position 3) from the DataFrame df using integer-based indexing.\n",
    "#  Returns the row at position 3 (i.e., the 4th row).\n",
    "# .iloc[]:= Stands for integer-location., Used to access rows/columns by position, not by label.\n",
    "# "
   ]
  },
  {
   "cell_type": "markdown",
   "id": "bd3c240b",
   "metadata": {},
   "source": [
    "- Integer slices acts similar to NumPy/Python:"
   ]
  },
  {
   "cell_type": "code",
   "execution_count": 35,
   "id": "60af12e0",
   "metadata": {},
   "outputs": [
    {
     "data": {
      "text/html": [
       "<div>\n",
       "<style scoped>\n",
       "    .dataframe tbody tr th:only-of-type {\n",
       "        vertical-align: middle;\n",
       "    }\n",
       "\n",
       "    .dataframe tbody tr th {\n",
       "        vertical-align: top;\n",
       "    }\n",
       "\n",
       "    .dataframe thead th {\n",
       "        text-align: right;\n",
       "    }\n",
       "</style>\n",
       "<table border=\"1\" class=\"dataframe\">\n",
       "  <thead>\n",
       "    <tr style=\"text-align: right;\">\n",
       "      <th></th>\n",
       "      <th>A</th>\n",
       "      <th>B</th>\n",
       "    </tr>\n",
       "  </thead>\n",
       "  <tbody>\n",
       "    <tr>\n",
       "      <th>2014-01-04</th>\n",
       "      <td>-0.024592</td>\n",
       "      <td>-0.482478</td>\n",
       "    </tr>\n",
       "    <tr>\n",
       "      <th>2014-01-05</th>\n",
       "      <td>1.706519</td>\n",
       "      <td>0.012014</td>\n",
       "    </tr>\n",
       "  </tbody>\n",
       "</table>\n",
       "</div>"
      ],
      "text/plain": [
       "                   A         B\n",
       "2014-01-04 -0.024592 -0.482478\n",
       "2014-01-05  1.706519  0.012014"
      ]
     },
     "execution_count": 35,
     "metadata": {},
     "output_type": "execute_result"
    }
   ],
   "source": [
    "df.iloc[3:5, 0:2]  # Selects rows 3 and 4 (index positions 3 to 4) and columns 0 and 1 from DataFrame df, using integer-based indexing.\n",
    "# 3:5 → rows at positions 3 and 4 (excludes 5)., 0:2 → columns at positions 0 and 1 (excludes 2)."
   ]
  },
  {
   "cell_type": "markdown",
   "id": "7609a571",
   "metadata": {},
   "source": [
    "- Lists of integer position locations:"
   ]
  },
  {
   "cell_type": "code",
   "execution_count": 36,
   "id": "1b6d6c04",
   "metadata": {},
   "outputs": [
    {
     "data": {
      "text/html": [
       "<div>\n",
       "<style scoped>\n",
       "    .dataframe tbody tr th:only-of-type {\n",
       "        vertical-align: middle;\n",
       "    }\n",
       "\n",
       "    .dataframe tbody tr th {\n",
       "        vertical-align: top;\n",
       "    }\n",
       "\n",
       "    .dataframe thead th {\n",
       "        text-align: right;\n",
       "    }\n",
       "</style>\n",
       "<table border=\"1\" class=\"dataframe\">\n",
       "  <thead>\n",
       "    <tr style=\"text-align: right;\">\n",
       "      <th></th>\n",
       "      <th>A</th>\n",
       "      <th>C</th>\n",
       "    </tr>\n",
       "  </thead>\n",
       "  <tbody>\n",
       "    <tr>\n",
       "      <th>2014-01-02</th>\n",
       "      <td>-2.036319</td>\n",
       "      <td>-1.993456</td>\n",
       "    </tr>\n",
       "    <tr>\n",
       "      <th>2014-01-03</th>\n",
       "      <td>-1.855434</td>\n",
       "      <td>-0.423123</td>\n",
       "    </tr>\n",
       "    <tr>\n",
       "      <th>2014-01-04</th>\n",
       "      <td>-0.024592</td>\n",
       "      <td>-0.654107</td>\n",
       "    </tr>\n",
       "  </tbody>\n",
       "</table>\n",
       "</div>"
      ],
      "text/plain": [
       "                   A         C\n",
       "2014-01-02 -2.036319 -1.993456\n",
       "2014-01-03 -1.855434 -0.423123\n",
       "2014-01-04 -0.024592 -0.654107"
      ]
     },
     "execution_count": 36,
     "metadata": {},
     "output_type": "execute_result"
    }
   ],
   "source": [
    "df.iloc[[1,2,3], [0,2]]  # Selects rows at positions 1, 2, 3 and columns at positions 0 and 2 from the DataFrame df using integer-based indexing.\n",
    "# rows → [1, 2, 3] (2nd, 3rd, and 4th rows), columns → [0, 2] (1st and 3rd columns)"
   ]
  },
  {
   "cell_type": "markdown",
   "id": "c310d279",
   "metadata": {},
   "source": [
    "- For slicing rows explicitly:"
   ]
  },
  {
   "cell_type": "code",
   "execution_count": 37,
   "id": "8ac0ef87",
   "metadata": {},
   "outputs": [
    {
     "data": {
      "text/html": [
       "<div>\n",
       "<style scoped>\n",
       "    .dataframe tbody tr th:only-of-type {\n",
       "        vertical-align: middle;\n",
       "    }\n",
       "\n",
       "    .dataframe tbody tr th {\n",
       "        vertical-align: top;\n",
       "    }\n",
       "\n",
       "    .dataframe thead th {\n",
       "        text-align: right;\n",
       "    }\n",
       "</style>\n",
       "<table border=\"1\" class=\"dataframe\">\n",
       "  <thead>\n",
       "    <tr style=\"text-align: right;\">\n",
       "      <th></th>\n",
       "      <th>A</th>\n",
       "      <th>B</th>\n",
       "      <th>C</th>\n",
       "      <th>D</th>\n",
       "    </tr>\n",
       "  </thead>\n",
       "  <tbody>\n",
       "    <tr>\n",
       "      <th>2014-01-02</th>\n",
       "      <td>-2.036319</td>\n",
       "      <td>-0.772767</td>\n",
       "      <td>-1.993456</td>\n",
       "      <td>-0.925015</td>\n",
       "    </tr>\n",
       "    <tr>\n",
       "      <th>2014-01-03</th>\n",
       "      <td>-1.855434</td>\n",
       "      <td>-2.203944</td>\n",
       "      <td>-0.423123</td>\n",
       "      <td>1.145439</td>\n",
       "    </tr>\n",
       "  </tbody>\n",
       "</table>\n",
       "</div>"
      ],
      "text/plain": [
       "                   A         B         C         D\n",
       "2014-01-02 -2.036319 -0.772767 -1.993456 -0.925015\n",
       "2014-01-03 -1.855434 -2.203944 -0.423123  1.145439"
      ]
     },
     "execution_count": 37,
     "metadata": {},
     "output_type": "execute_result"
    }
   ],
   "source": [
    "df.iloc[1:3, :]"
   ]
  },
  {
   "cell_type": "markdown",
   "id": "2c1499a7",
   "metadata": {},
   "source": [
    "- For slicing columns explicitly:"
   ]
  },
  {
   "cell_type": "code",
   "execution_count": 38,
   "id": "50443534",
   "metadata": {},
   "outputs": [
    {
     "data": {
      "text/html": [
       "<div>\n",
       "<style scoped>\n",
       "    .dataframe tbody tr th:only-of-type {\n",
       "        vertical-align: middle;\n",
       "    }\n",
       "\n",
       "    .dataframe tbody tr th {\n",
       "        vertical-align: top;\n",
       "    }\n",
       "\n",
       "    .dataframe thead th {\n",
       "        text-align: right;\n",
       "    }\n",
       "</style>\n",
       "<table border=\"1\" class=\"dataframe\">\n",
       "  <thead>\n",
       "    <tr style=\"text-align: right;\">\n",
       "      <th></th>\n",
       "      <th>B</th>\n",
       "      <th>C</th>\n",
       "    </tr>\n",
       "  </thead>\n",
       "  <tbody>\n",
       "    <tr>\n",
       "      <th>2014-01-01</th>\n",
       "      <td>0.289087</td>\n",
       "      <td>-1.845540</td>\n",
       "    </tr>\n",
       "    <tr>\n",
       "      <th>2014-01-02</th>\n",
       "      <td>-0.772767</td>\n",
       "      <td>-1.993456</td>\n",
       "    </tr>\n",
       "    <tr>\n",
       "      <th>2014-01-03</th>\n",
       "      <td>-2.203944</td>\n",
       "      <td>-0.423123</td>\n",
       "    </tr>\n",
       "    <tr>\n",
       "      <th>2014-01-04</th>\n",
       "      <td>-0.482478</td>\n",
       "      <td>-0.654107</td>\n",
       "    </tr>\n",
       "    <tr>\n",
       "      <th>2014-01-05</th>\n",
       "      <td>0.012014</td>\n",
       "      <td>0.103616</td>\n",
       "    </tr>\n",
       "    <tr>\n",
       "      <th>2014-01-06</th>\n",
       "      <td>-1.394176</td>\n",
       "      <td>0.199732</td>\n",
       "    </tr>\n",
       "    <tr>\n",
       "      <th>2014-01-07</th>\n",
       "      <td>0.475242</td>\n",
       "      <td>-0.594963</td>\n",
       "    </tr>\n",
       "    <tr>\n",
       "      <th>2014-01-08</th>\n",
       "      <td>-0.637318</td>\n",
       "      <td>-0.768826</td>\n",
       "    </tr>\n",
       "    <tr>\n",
       "      <th>2014-01-09</th>\n",
       "      <td>-0.611766</td>\n",
       "      <td>2.275665</td>\n",
       "    </tr>\n",
       "    <tr>\n",
       "      <th>2014-01-10</th>\n",
       "      <td>-0.671540</td>\n",
       "      <td>1.363282</td>\n",
       "    </tr>\n",
       "  </tbody>\n",
       "</table>\n",
       "</div>"
      ],
      "text/plain": [
       "                   B         C\n",
       "2014-01-01  0.289087 -1.845540\n",
       "2014-01-02 -0.772767 -1.993456\n",
       "2014-01-03 -2.203944 -0.423123\n",
       "2014-01-04 -0.482478 -0.654107\n",
       "2014-01-05  0.012014  0.103616\n",
       "2014-01-06 -1.394176  0.199732\n",
       "2014-01-07  0.475242 -0.594963\n",
       "2014-01-08 -0.637318 -0.768826\n",
       "2014-01-09 -0.611766  2.275665\n",
       "2014-01-10 -0.671540  1.363282"
      ]
     },
     "execution_count": 38,
     "metadata": {},
     "output_type": "execute_result"
    }
   ],
   "source": [
    "df.iloc[:, 1:3]"
   ]
  },
  {
   "cell_type": "markdown",
   "id": "61d3ed02",
   "metadata": {},
   "source": [
    "- For getting a value explicitly:"
   ]
  },
  {
   "cell_type": "code",
   "execution_count": 39,
   "id": "cd02fc65",
   "metadata": {},
   "outputs": [
    {
     "data": {
      "text/plain": [
       "np.float64(-0.7727666957268983)"
      ]
     },
     "execution_count": 39,
     "metadata": {},
     "output_type": "execute_result"
    }
   ],
   "source": [
    "df.iloc[1,1]"
   ]
  },
  {
   "cell_type": "markdown",
   "id": "6de72b95",
   "metadata": {},
   "source": [
    "- For getting fast access to a scalar (equivalent to the prior method):"
   ]
  },
  {
   "cell_type": "code",
   "execution_count": 40,
   "id": "e3c02c49",
   "metadata": {},
   "outputs": [
    {
     "data": {
      "text/plain": [
       "np.float64(-0.7727666957268983)"
      ]
     },
     "execution_count": 40,
     "metadata": {},
     "output_type": "execute_result"
    }
   ],
   "source": [
    "df.iat[1,1]"
   ]
  },
  {
   "cell_type": "markdown",
   "id": "a65228fa",
   "metadata": {},
   "source": [
    "## Boolean indexing\n",
    "- Select rows where df.A is greater than 0."
   ]
  },
  {
   "cell_type": "code",
   "execution_count": 41,
   "id": "63a3e2cf",
   "metadata": {},
   "outputs": [
    {
     "data": {
      "text/html": [
       "<div>\n",
       "<style scoped>\n",
       "    .dataframe tbody tr th:only-of-type {\n",
       "        vertical-align: middle;\n",
       "    }\n",
       "\n",
       "    .dataframe tbody tr th {\n",
       "        vertical-align: top;\n",
       "    }\n",
       "\n",
       "    .dataframe thead th {\n",
       "        text-align: right;\n",
       "    }\n",
       "</style>\n",
       "<table border=\"1\" class=\"dataframe\">\n",
       "  <thead>\n",
       "    <tr style=\"text-align: right;\">\n",
       "      <th></th>\n",
       "      <th>A</th>\n",
       "      <th>B</th>\n",
       "      <th>C</th>\n",
       "      <th>D</th>\n",
       "    </tr>\n",
       "  </thead>\n",
       "  <tbody>\n",
       "  </tbody>\n",
       "</table>\n",
       "</div>"
      ],
      "text/plain": [
       "Empty DataFrame\n",
       "Columns: [A, B, C, D]\n",
       "Index: []"
      ]
     },
     "execution_count": 41,
     "metadata": {},
     "output_type": "execute_result"
    }
   ],
   "source": [
    "df[df['A']>2] # Returns only the rows where column 'A' has values greater than 2.\n",
    "#  df['A'] > 2 → creates a boolean Series (True/False for each row)., df[...] → filters rows where condition is True."
   ]
  },
  {
   "cell_type": "markdown",
   "id": "6e6d02d9",
   "metadata": {},
   "source": [
    "- Selecting values from a DataFrame where a boolean condition is met:"
   ]
  },
  {
   "cell_type": "code",
   "execution_count": 42,
   "id": "a4097e80",
   "metadata": {},
   "outputs": [
    {
     "data": {
      "text/html": [
       "<div>\n",
       "<style scoped>\n",
       "    .dataframe tbody tr th:only-of-type {\n",
       "        vertical-align: middle;\n",
       "    }\n",
       "\n",
       "    .dataframe tbody tr th {\n",
       "        vertical-align: top;\n",
       "    }\n",
       "\n",
       "    .dataframe thead th {\n",
       "        text-align: right;\n",
       "    }\n",
       "</style>\n",
       "<table border=\"1\" class=\"dataframe\">\n",
       "  <thead>\n",
       "    <tr style=\"text-align: right;\">\n",
       "      <th></th>\n",
       "      <th>A</th>\n",
       "      <th>B</th>\n",
       "      <th>C</th>\n",
       "      <th>D</th>\n",
       "    </tr>\n",
       "  </thead>\n",
       "  <tbody>\n",
       "    <tr>\n",
       "      <th>2014-01-01</th>\n",
       "      <td>0.506059</td>\n",
       "      <td>0.289087</td>\n",
       "      <td>NaN</td>\n",
       "      <td>NaN</td>\n",
       "    </tr>\n",
       "    <tr>\n",
       "      <th>2014-01-02</th>\n",
       "      <td>NaN</td>\n",
       "      <td>NaN</td>\n",
       "      <td>NaN</td>\n",
       "      <td>NaN</td>\n",
       "    </tr>\n",
       "    <tr>\n",
       "      <th>2014-01-03</th>\n",
       "      <td>NaN</td>\n",
       "      <td>NaN</td>\n",
       "      <td>NaN</td>\n",
       "      <td>1.145439</td>\n",
       "    </tr>\n",
       "    <tr>\n",
       "      <th>2014-01-04</th>\n",
       "      <td>NaN</td>\n",
       "      <td>NaN</td>\n",
       "      <td>NaN</td>\n",
       "      <td>0.061867</td>\n",
       "    </tr>\n",
       "    <tr>\n",
       "      <th>2014-01-05</th>\n",
       "      <td>1.706519</td>\n",
       "      <td>0.012014</td>\n",
       "      <td>0.103616</td>\n",
       "      <td>NaN</td>\n",
       "    </tr>\n",
       "    <tr>\n",
       "      <th>2014-01-06</th>\n",
       "      <td>NaN</td>\n",
       "      <td>NaN</td>\n",
       "      <td>0.199732</td>\n",
       "      <td>NaN</td>\n",
       "    </tr>\n",
       "    <tr>\n",
       "      <th>2014-01-07</th>\n",
       "      <td>NaN</td>\n",
       "      <td>0.475242</td>\n",
       "      <td>NaN</td>\n",
       "      <td>1.400826</td>\n",
       "    </tr>\n",
       "    <tr>\n",
       "      <th>2014-01-08</th>\n",
       "      <td>NaN</td>\n",
       "      <td>NaN</td>\n",
       "      <td>NaN</td>\n",
       "      <td>0.995356</td>\n",
       "    </tr>\n",
       "    <tr>\n",
       "      <th>2014-01-09</th>\n",
       "      <td>NaN</td>\n",
       "      <td>NaN</td>\n",
       "      <td>2.275665</td>\n",
       "      <td>0.570381</td>\n",
       "    </tr>\n",
       "    <tr>\n",
       "      <th>2014-01-10</th>\n",
       "      <td>NaN</td>\n",
       "      <td>NaN</td>\n",
       "      <td>1.363282</td>\n",
       "      <td>NaN</td>\n",
       "    </tr>\n",
       "  </tbody>\n",
       "</table>\n",
       "</div>"
      ],
      "text/plain": [
       "                   A         B         C         D\n",
       "2014-01-01  0.506059  0.289087       NaN       NaN\n",
       "2014-01-02       NaN       NaN       NaN       NaN\n",
       "2014-01-03       NaN       NaN       NaN  1.145439\n",
       "2014-01-04       NaN       NaN       NaN  0.061867\n",
       "2014-01-05  1.706519  0.012014  0.103616       NaN\n",
       "2014-01-06       NaN       NaN  0.199732       NaN\n",
       "2014-01-07       NaN  0.475242       NaN  1.400826\n",
       "2014-01-08       NaN       NaN       NaN  0.995356\n",
       "2014-01-09       NaN       NaN  2.275665  0.570381\n",
       "2014-01-10       NaN       NaN  1.363282       NaN"
      ]
     },
     "execution_count": 42,
     "metadata": {},
     "output_type": "execute_result"
    }
   ],
   "source": [
    "df[df>0]"
   ]
  },
  {
   "cell_type": "markdown",
   "id": "71e7e7ed",
   "metadata": {},
   "source": [
    "- Using isin() method for filtering:"
   ]
  },
  {
   "cell_type": "code",
   "execution_count": 45,
   "id": "0a0eeaaf",
   "metadata": {},
   "outputs": [
    {
     "data": {
      "text/html": [
       "<div>\n",
       "<style scoped>\n",
       "    .dataframe tbody tr th:only-of-type {\n",
       "        vertical-align: middle;\n",
       "    }\n",
       "\n",
       "    .dataframe tbody tr th {\n",
       "        vertical-align: top;\n",
       "    }\n",
       "\n",
       "    .dataframe thead th {\n",
       "        text-align: right;\n",
       "    }\n",
       "</style>\n",
       "<table border=\"1\" class=\"dataframe\">\n",
       "  <thead>\n",
       "    <tr style=\"text-align: right;\">\n",
       "      <th></th>\n",
       "      <th>A</th>\n",
       "      <th>B</th>\n",
       "      <th>C</th>\n",
       "      <th>D</th>\n",
       "      <th>E</th>\n",
       "    </tr>\n",
       "  </thead>\n",
       "  <tbody>\n",
       "    <tr>\n",
       "      <th>2014-01-01</th>\n",
       "      <td>0.506059</td>\n",
       "      <td>0.289087</td>\n",
       "      <td>-1.845540</td>\n",
       "      <td>-0.805689</td>\n",
       "      <td>one</td>\n",
       "    </tr>\n",
       "    <tr>\n",
       "      <th>2014-01-02</th>\n",
       "      <td>-2.036319</td>\n",
       "      <td>-0.772767</td>\n",
       "      <td>-1.993456</td>\n",
       "      <td>-0.925015</td>\n",
       "      <td>one</td>\n",
       "    </tr>\n",
       "    <tr>\n",
       "      <th>2014-01-03</th>\n",
       "      <td>-1.855434</td>\n",
       "      <td>-2.203944</td>\n",
       "      <td>-0.423123</td>\n",
       "      <td>1.145439</td>\n",
       "      <td>two</td>\n",
       "    </tr>\n",
       "    <tr>\n",
       "      <th>2014-01-04</th>\n",
       "      <td>-0.024592</td>\n",
       "      <td>-0.482478</td>\n",
       "      <td>-0.654107</td>\n",
       "      <td>0.061867</td>\n",
       "      <td>three</td>\n",
       "    </tr>\n",
       "    <tr>\n",
       "      <th>2014-01-05</th>\n",
       "      <td>1.706519</td>\n",
       "      <td>0.012014</td>\n",
       "      <td>0.103616</td>\n",
       "      <td>-1.291534</td>\n",
       "      <td>four</td>\n",
       "    </tr>\n",
       "    <tr>\n",
       "      <th>2014-01-06</th>\n",
       "      <td>-0.019864</td>\n",
       "      <td>-1.394176</td>\n",
       "      <td>0.199732</td>\n",
       "      <td>-2.435615</td>\n",
       "      <td>five</td>\n",
       "    </tr>\n",
       "    <tr>\n",
       "      <th>2014-01-07</th>\n",
       "      <td>-2.358551</td>\n",
       "      <td>0.475242</td>\n",
       "      <td>-0.594963</td>\n",
       "      <td>1.400826</td>\n",
       "      <td>six</td>\n",
       "    </tr>\n",
       "    <tr>\n",
       "      <th>2014-01-08</th>\n",
       "      <td>-1.668834</td>\n",
       "      <td>-0.637318</td>\n",
       "      <td>-0.768826</td>\n",
       "      <td>0.995356</td>\n",
       "      <td>seven</td>\n",
       "    </tr>\n",
       "    <tr>\n",
       "      <th>2014-01-09</th>\n",
       "      <td>-1.220843</td>\n",
       "      <td>-0.611766</td>\n",
       "      <td>2.275665</td>\n",
       "      <td>0.570381</td>\n",
       "      <td>eight</td>\n",
       "    </tr>\n",
       "    <tr>\n",
       "      <th>2014-01-10</th>\n",
       "      <td>-0.330113</td>\n",
       "      <td>-0.671540</td>\n",
       "      <td>1.363282</td>\n",
       "      <td>-1.055902</td>\n",
       "      <td>nine</td>\n",
       "    </tr>\n",
       "  </tbody>\n",
       "</table>\n",
       "</div>"
      ],
      "text/plain": [
       "                   A         B         C         D      E\n",
       "2014-01-01  0.506059  0.289087 -1.845540 -0.805689    one\n",
       "2014-01-02 -2.036319 -0.772767 -1.993456 -0.925015    one\n",
       "2014-01-03 -1.855434 -2.203944 -0.423123  1.145439    two\n",
       "2014-01-04 -0.024592 -0.482478 -0.654107  0.061867  three\n",
       "2014-01-05  1.706519  0.012014  0.103616 -1.291534   four\n",
       "2014-01-06 -0.019864 -1.394176  0.199732 -2.435615   five\n",
       "2014-01-07 -2.358551  0.475242 -0.594963  1.400826    six\n",
       "2014-01-08 -1.668834 -0.637318 -0.768826  0.995356  seven\n",
       "2014-01-09 -1.220843 -0.611766  2.275665  0.570381  eight\n",
       "2014-01-10 -0.330113 -0.671540  1.363282 -1.055902   nine"
      ]
     },
     "execution_count": 45,
     "metadata": {},
     "output_type": "execute_result"
    }
   ],
   "source": [
    "df2= df.copy()\n",
    "df2['E'] = ['one', 'one', 'two','three','four','five','six','seven','eight','nine']  # add column\n",
    "df2"
   ]
  },
  {
   "cell_type": "code",
   "execution_count": 46,
   "id": "e2715699",
   "metadata": {},
   "outputs": [
    {
     "data": {
      "text/html": [
       "<div>\n",
       "<style scoped>\n",
       "    .dataframe tbody tr th:only-of-type {\n",
       "        vertical-align: middle;\n",
       "    }\n",
       "\n",
       "    .dataframe tbody tr th {\n",
       "        vertical-align: top;\n",
       "    }\n",
       "\n",
       "    .dataframe thead th {\n",
       "        text-align: right;\n",
       "    }\n",
       "</style>\n",
       "<table border=\"1\" class=\"dataframe\">\n",
       "  <thead>\n",
       "    <tr style=\"text-align: right;\">\n",
       "      <th></th>\n",
       "      <th>A</th>\n",
       "      <th>B</th>\n",
       "      <th>C</th>\n",
       "      <th>D</th>\n",
       "      <th>E</th>\n",
       "    </tr>\n",
       "  </thead>\n",
       "  <tbody>\n",
       "    <tr>\n",
       "      <th>2014-01-01</th>\n",
       "      <td>0.506059</td>\n",
       "      <td>0.289087</td>\n",
       "      <td>-1.845540</td>\n",
       "      <td>-0.805689</td>\n",
       "      <td>one</td>\n",
       "    </tr>\n",
       "    <tr>\n",
       "      <th>2014-01-02</th>\n",
       "      <td>-2.036319</td>\n",
       "      <td>-0.772767</td>\n",
       "      <td>-1.993456</td>\n",
       "      <td>-0.925015</td>\n",
       "      <td>one</td>\n",
       "    </tr>\n",
       "    <tr>\n",
       "      <th>2014-01-10</th>\n",
       "      <td>-0.330113</td>\n",
       "      <td>-0.671540</td>\n",
       "      <td>1.363282</td>\n",
       "      <td>-1.055902</td>\n",
       "      <td>nine</td>\n",
       "    </tr>\n",
       "  </tbody>\n",
       "</table>\n",
       "</div>"
      ],
      "text/plain": [
       "                   A         B         C         D     E\n",
       "2014-01-01  0.506059  0.289087 -1.845540 -0.805689   one\n",
       "2014-01-02 -2.036319 -0.772767 -1.993456 -0.925015   one\n",
       "2014-01-10 -0.330113 -0.671540  1.363282 -1.055902  nine"
      ]
     },
     "execution_count": 46,
     "metadata": {},
     "output_type": "execute_result"
    }
   ],
   "source": [
    "df2[df2['E'].isin(['one', 'nine'])]"
   ]
  },
  {
   "cell_type": "markdown",
   "id": "dd366aca",
   "metadata": {},
   "source": [
    "#### Setting\n",
    "- Setting a new column automatically aligns the data by the indexes:"
   ]
  },
  {
   "cell_type": "code",
   "execution_count": 47,
   "id": "5247f987",
   "metadata": {},
   "outputs": [
    {
     "data": {
      "text/plain": [
       "2014-01-01    1\n",
       "2014-01-02    2\n",
       "2014-01-03    3\n",
       "2014-01-04    4\n",
       "2014-01-05    5\n",
       "2014-01-06    6\n",
       "Freq: D, dtype: int64"
      ]
     },
     "execution_count": 47,
     "metadata": {},
     "output_type": "execute_result"
    }
   ],
   "source": [
    "s1 = pd.Series([1,2,3,4,5,6], index=pd.date_range('20140101', periods=6))\n",
    "s1"
   ]
  },
  {
   "cell_type": "code",
   "execution_count": 48,
   "id": "bcef73bd",
   "metadata": {},
   "outputs": [],
   "source": [
    "df['F'] = s1"
   ]
  },
  {
   "cell_type": "markdown",
   "id": "00cedb72",
   "metadata": {},
   "source": [
    "- Setting values by label:"
   ]
  },
  {
   "cell_type": "code",
   "execution_count": 49,
   "id": "28cbbdb8",
   "metadata": {},
   "outputs": [],
   "source": [
    "df.at[dates[0], 'A'] = 0"
   ]
  },
  {
   "cell_type": "markdown",
   "id": "096087c0",
   "metadata": {},
   "source": [
    "- Setting values by position:"
   ]
  },
  {
   "cell_type": "code",
   "execution_count": 50,
   "id": "95856f1e",
   "metadata": {},
   "outputs": [],
   "source": [
    "df.iat[1,2] = 0"
   ]
  },
  {
   "cell_type": "markdown",
   "id": "a0b46ff1",
   "metadata": {},
   "source": [
    "- Setting by assigning with a NumPy array:"
   ]
  },
  {
   "cell_type": "code",
   "execution_count": 51,
   "id": "9deb9a1d",
   "metadata": {},
   "outputs": [],
   "source": [
    "df.loc[:, 'D']  = np.array([5] * len(df))\n"
   ]
  },
  {
   "cell_type": "markdown",
   "id": "22ea68ab",
   "metadata": {},
   "source": [
    "- The result of the prior setting operations:"
   ]
  },
  {
   "cell_type": "code",
   "execution_count": 52,
   "id": "ca204a17",
   "metadata": {},
   "outputs": [
    {
     "data": {
      "text/html": [
       "<div>\n",
       "<style scoped>\n",
       "    .dataframe tbody tr th:only-of-type {\n",
       "        vertical-align: middle;\n",
       "    }\n",
       "\n",
       "    .dataframe tbody tr th {\n",
       "        vertical-align: top;\n",
       "    }\n",
       "\n",
       "    .dataframe thead th {\n",
       "        text-align: right;\n",
       "    }\n",
       "</style>\n",
       "<table border=\"1\" class=\"dataframe\">\n",
       "  <thead>\n",
       "    <tr style=\"text-align: right;\">\n",
       "      <th></th>\n",
       "      <th>A</th>\n",
       "      <th>B</th>\n",
       "      <th>C</th>\n",
       "      <th>D</th>\n",
       "      <th>F</th>\n",
       "    </tr>\n",
       "  </thead>\n",
       "  <tbody>\n",
       "    <tr>\n",
       "      <th>2014-01-01</th>\n",
       "      <td>0.000000</td>\n",
       "      <td>0.289087</td>\n",
       "      <td>-1.845540</td>\n",
       "      <td>5.0</td>\n",
       "      <td>1.0</td>\n",
       "    </tr>\n",
       "    <tr>\n",
       "      <th>2014-01-02</th>\n",
       "      <td>-2.036319</td>\n",
       "      <td>-0.772767</td>\n",
       "      <td>0.000000</td>\n",
       "      <td>5.0</td>\n",
       "      <td>2.0</td>\n",
       "    </tr>\n",
       "    <tr>\n",
       "      <th>2014-01-03</th>\n",
       "      <td>-1.855434</td>\n",
       "      <td>-2.203944</td>\n",
       "      <td>-0.423123</td>\n",
       "      <td>5.0</td>\n",
       "      <td>3.0</td>\n",
       "    </tr>\n",
       "    <tr>\n",
       "      <th>2014-01-04</th>\n",
       "      <td>-0.024592</td>\n",
       "      <td>-0.482478</td>\n",
       "      <td>-0.654107</td>\n",
       "      <td>5.0</td>\n",
       "      <td>4.0</td>\n",
       "    </tr>\n",
       "    <tr>\n",
       "      <th>2014-01-05</th>\n",
       "      <td>1.706519</td>\n",
       "      <td>0.012014</td>\n",
       "      <td>0.103616</td>\n",
       "      <td>5.0</td>\n",
       "      <td>5.0</td>\n",
       "    </tr>\n",
       "    <tr>\n",
       "      <th>2014-01-06</th>\n",
       "      <td>-0.019864</td>\n",
       "      <td>-1.394176</td>\n",
       "      <td>0.199732</td>\n",
       "      <td>5.0</td>\n",
       "      <td>6.0</td>\n",
       "    </tr>\n",
       "    <tr>\n",
       "      <th>2014-01-07</th>\n",
       "      <td>-2.358551</td>\n",
       "      <td>0.475242</td>\n",
       "      <td>-0.594963</td>\n",
       "      <td>5.0</td>\n",
       "      <td>NaN</td>\n",
       "    </tr>\n",
       "    <tr>\n",
       "      <th>2014-01-08</th>\n",
       "      <td>-1.668834</td>\n",
       "      <td>-0.637318</td>\n",
       "      <td>-0.768826</td>\n",
       "      <td>5.0</td>\n",
       "      <td>NaN</td>\n",
       "    </tr>\n",
       "    <tr>\n",
       "      <th>2014-01-09</th>\n",
       "      <td>-1.220843</td>\n",
       "      <td>-0.611766</td>\n",
       "      <td>2.275665</td>\n",
       "      <td>5.0</td>\n",
       "      <td>NaN</td>\n",
       "    </tr>\n",
       "    <tr>\n",
       "      <th>2014-01-10</th>\n",
       "      <td>-0.330113</td>\n",
       "      <td>-0.671540</td>\n",
       "      <td>1.363282</td>\n",
       "      <td>5.0</td>\n",
       "      <td>NaN</td>\n",
       "    </tr>\n",
       "  </tbody>\n",
       "</table>\n",
       "</div>"
      ],
      "text/plain": [
       "                   A         B         C    D    F\n",
       "2014-01-01  0.000000  0.289087 -1.845540  5.0  1.0\n",
       "2014-01-02 -2.036319 -0.772767  0.000000  5.0  2.0\n",
       "2014-01-03 -1.855434 -2.203944 -0.423123  5.0  3.0\n",
       "2014-01-04 -0.024592 -0.482478 -0.654107  5.0  4.0\n",
       "2014-01-05  1.706519  0.012014  0.103616  5.0  5.0\n",
       "2014-01-06 -0.019864 -1.394176  0.199732  5.0  6.0\n",
       "2014-01-07 -2.358551  0.475242 -0.594963  5.0  NaN\n",
       "2014-01-08 -1.668834 -0.637318 -0.768826  5.0  NaN\n",
       "2014-01-09 -1.220843 -0.611766  2.275665  5.0  NaN\n",
       "2014-01-10 -0.330113 -0.671540  1.363282  5.0  NaN"
      ]
     },
     "execution_count": 52,
     "metadata": {},
     "output_type": "execute_result"
    }
   ],
   "source": [
    "df"
   ]
  },
  {
   "cell_type": "markdown",
   "id": "eab5f14f",
   "metadata": {},
   "source": [
    "- A where operation with setting:"
   ]
  },
  {
   "cell_type": "code",
   "execution_count": 53,
   "id": "2bbf8702",
   "metadata": {},
   "outputs": [
    {
     "data": {
      "text/html": [
       "<div>\n",
       "<style scoped>\n",
       "    .dataframe tbody tr th:only-of-type {\n",
       "        vertical-align: middle;\n",
       "    }\n",
       "\n",
       "    .dataframe tbody tr th {\n",
       "        vertical-align: top;\n",
       "    }\n",
       "\n",
       "    .dataframe thead th {\n",
       "        text-align: right;\n",
       "    }\n",
       "</style>\n",
       "<table border=\"1\" class=\"dataframe\">\n",
       "  <thead>\n",
       "    <tr style=\"text-align: right;\">\n",
       "      <th></th>\n",
       "      <th>A</th>\n",
       "      <th>B</th>\n",
       "      <th>C</th>\n",
       "      <th>D</th>\n",
       "      <th>F</th>\n",
       "    </tr>\n",
       "  </thead>\n",
       "  <tbody>\n",
       "    <tr>\n",
       "      <th>2014-01-01</th>\n",
       "      <td>0.000000</td>\n",
       "      <td>-0.289087</td>\n",
       "      <td>-1.845540</td>\n",
       "      <td>-5.0</td>\n",
       "      <td>-1.0</td>\n",
       "    </tr>\n",
       "    <tr>\n",
       "      <th>2014-01-02</th>\n",
       "      <td>-2.036319</td>\n",
       "      <td>-0.772767</td>\n",
       "      <td>0.000000</td>\n",
       "      <td>-5.0</td>\n",
       "      <td>-2.0</td>\n",
       "    </tr>\n",
       "    <tr>\n",
       "      <th>2014-01-03</th>\n",
       "      <td>-1.855434</td>\n",
       "      <td>-2.203944</td>\n",
       "      <td>-0.423123</td>\n",
       "      <td>-5.0</td>\n",
       "      <td>-3.0</td>\n",
       "    </tr>\n",
       "    <tr>\n",
       "      <th>2014-01-04</th>\n",
       "      <td>-0.024592</td>\n",
       "      <td>-0.482478</td>\n",
       "      <td>-0.654107</td>\n",
       "      <td>-5.0</td>\n",
       "      <td>-4.0</td>\n",
       "    </tr>\n",
       "    <tr>\n",
       "      <th>2014-01-05</th>\n",
       "      <td>-1.706519</td>\n",
       "      <td>-0.012014</td>\n",
       "      <td>-0.103616</td>\n",
       "      <td>-5.0</td>\n",
       "      <td>-5.0</td>\n",
       "    </tr>\n",
       "    <tr>\n",
       "      <th>2014-01-06</th>\n",
       "      <td>-0.019864</td>\n",
       "      <td>-1.394176</td>\n",
       "      <td>-0.199732</td>\n",
       "      <td>-5.0</td>\n",
       "      <td>-6.0</td>\n",
       "    </tr>\n",
       "    <tr>\n",
       "      <th>2014-01-07</th>\n",
       "      <td>-2.358551</td>\n",
       "      <td>-0.475242</td>\n",
       "      <td>-0.594963</td>\n",
       "      <td>-5.0</td>\n",
       "      <td>NaN</td>\n",
       "    </tr>\n",
       "    <tr>\n",
       "      <th>2014-01-08</th>\n",
       "      <td>-1.668834</td>\n",
       "      <td>-0.637318</td>\n",
       "      <td>-0.768826</td>\n",
       "      <td>-5.0</td>\n",
       "      <td>NaN</td>\n",
       "    </tr>\n",
       "    <tr>\n",
       "      <th>2014-01-09</th>\n",
       "      <td>-1.220843</td>\n",
       "      <td>-0.611766</td>\n",
       "      <td>-2.275665</td>\n",
       "      <td>-5.0</td>\n",
       "      <td>NaN</td>\n",
       "    </tr>\n",
       "    <tr>\n",
       "      <th>2014-01-10</th>\n",
       "      <td>-0.330113</td>\n",
       "      <td>-0.671540</td>\n",
       "      <td>-1.363282</td>\n",
       "      <td>-5.0</td>\n",
       "      <td>NaN</td>\n",
       "    </tr>\n",
       "  </tbody>\n",
       "</table>\n",
       "</div>"
      ],
      "text/plain": [
       "                   A         B         C    D    F\n",
       "2014-01-01  0.000000 -0.289087 -1.845540 -5.0 -1.0\n",
       "2014-01-02 -2.036319 -0.772767  0.000000 -5.0 -2.0\n",
       "2014-01-03 -1.855434 -2.203944 -0.423123 -5.0 -3.0\n",
       "2014-01-04 -0.024592 -0.482478 -0.654107 -5.0 -4.0\n",
       "2014-01-05 -1.706519 -0.012014 -0.103616 -5.0 -5.0\n",
       "2014-01-06 -0.019864 -1.394176 -0.199732 -5.0 -6.0\n",
       "2014-01-07 -2.358551 -0.475242 -0.594963 -5.0  NaN\n",
       "2014-01-08 -1.668834 -0.637318 -0.768826 -5.0  NaN\n",
       "2014-01-09 -1.220843 -0.611766 -2.275665 -5.0  NaN\n",
       "2014-01-10 -0.330113 -0.671540 -1.363282 -5.0  NaN"
      ]
     },
     "execution_count": 53,
     "metadata": {},
     "output_type": "execute_result"
    }
   ],
   "source": [
    "df2 = df.copy()\n",
    "df2[df2>0] = -df2\n",
    "df2"
   ]
  }
 ],
 "metadata": {
  "kernelspec": {
   "display_name": "data_analysis",
   "language": "python",
   "name": "python3"
  },
  "language_info": {
   "codemirror_mode": {
    "name": "ipython",
    "version": 3
   },
   "file_extension": ".py",
   "mimetype": "text/x-python",
   "name": "python",
   "nbconvert_exporter": "python",
   "pygments_lexer": "ipython3",
   "version": "3.13.5"
  }
 },
 "nbformat": 4,
 "nbformat_minor": 5
}
