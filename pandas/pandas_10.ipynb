{
 "cells": [
  {
   "cell_type": "markdown",
   "id": "55185453",
   "metadata": {},
   "source": [
    "# pandas in  10 minutes\n",
    "- this is short introduction of pandas and for more complex study [Cookbook](https://pandas.pydata.org/docs/user_guide/cookbook.html#cookbook)\n"
   ]
  },
  {
   "cell_type": "code",
   "execution_count": 37,
   "id": "e1b910db",
   "metadata": {},
   "outputs": [],
   "source": [
    "# import library as \n",
    "import numpy as np\n",
    "import pandas as pd"
   ]
  },
  {
   "cell_type": "markdown",
   "id": "9626ba18",
   "metadata": {},
   "source": [
    "## BAsic data sturcture in pandas\n",
    "- pandasprovides two type of classes for handling data:\n",
    "1. Series: a one-dimensional labeled array holding data of any type\n",
    "such as integers, strings, Python objects etc\n",
    "2. DataFrame: a two-dimensional data structure that holds data like a two-dimension array or a table with rows and columns."
   ]
  },
  {
   "cell_type": "code",
   "execution_count": 38,
   "id": "1907ae7f",
   "metadata": {},
   "outputs": [
    {
     "data": {
      "text/plain": [
       "DatetimeIndex(['2014-01-01', '2014-01-02', '2014-01-03', '2014-01-04',\n",
       "               '2014-01-05', '2014-01-06', '2014-01-07', '2014-01-08',\n",
       "               '2014-01-09', '2014-01-10'],\n",
       "              dtype='datetime64[ns]', freq='D')"
      ]
     },
     "execution_count": 38,
     "metadata": {},
     "output_type": "execute_result"
    }
   ],
   "source": [
    "dates = pd.date_range('20140101',periods=10)\n",
    "# Creates a DatetimeIndex of 10 sequential dates starting from '2014-01-01', used to label the rows (index) in a DataFrame.\n",
    "dates"
   ]
  },
  {
   "cell_type": "code",
   "execution_count": 39,
   "id": "cb8edb53",
   "metadata": {},
   "outputs": [
    {
     "data": {
      "text/html": [
       "<div>\n",
       "<style scoped>\n",
       "    .dataframe tbody tr th:only-of-type {\n",
       "        vertical-align: middle;\n",
       "    }\n",
       "\n",
       "    .dataframe tbody tr th {\n",
       "        vertical-align: top;\n",
       "    }\n",
       "\n",
       "    .dataframe thead th {\n",
       "        text-align: right;\n",
       "    }\n",
       "</style>\n",
       "<table border=\"1\" class=\"dataframe\">\n",
       "  <thead>\n",
       "    <tr style=\"text-align: right;\">\n",
       "      <th></th>\n",
       "      <th>A</th>\n",
       "      <th>B</th>\n",
       "      <th>C</th>\n",
       "      <th>D</th>\n",
       "    </tr>\n",
       "  </thead>\n",
       "  <tbody>\n",
       "    <tr>\n",
       "      <th>2014-01-01</th>\n",
       "      <td>1.187559</td>\n",
       "      <td>0.482007</td>\n",
       "      <td>-0.122165</td>\n",
       "      <td>-0.037711</td>\n",
       "    </tr>\n",
       "    <tr>\n",
       "      <th>2014-01-02</th>\n",
       "      <td>1.002335</td>\n",
       "      <td>1.121448</td>\n",
       "      <td>-1.068504</td>\n",
       "      <td>-0.341395</td>\n",
       "    </tr>\n",
       "    <tr>\n",
       "      <th>2014-01-03</th>\n",
       "      <td>0.396296</td>\n",
       "      <td>-0.281746</td>\n",
       "      <td>0.636223</td>\n",
       "      <td>-0.473842</td>\n",
       "    </tr>\n",
       "    <tr>\n",
       "      <th>2014-01-04</th>\n",
       "      <td>0.283642</td>\n",
       "      <td>-0.029515</td>\n",
       "      <td>1.270470</td>\n",
       "      <td>-1.581270</td>\n",
       "    </tr>\n",
       "    <tr>\n",
       "      <th>2014-01-05</th>\n",
       "      <td>-0.403508</td>\n",
       "      <td>-0.396598</td>\n",
       "      <td>-1.759281</td>\n",
       "      <td>0.331228</td>\n",
       "    </tr>\n",
       "    <tr>\n",
       "      <th>2014-01-06</th>\n",
       "      <td>0.099900</td>\n",
       "      <td>0.655618</td>\n",
       "      <td>-0.559479</td>\n",
       "      <td>0.440636</td>\n",
       "    </tr>\n",
       "    <tr>\n",
       "      <th>2014-01-07</th>\n",
       "      <td>2.297743</td>\n",
       "      <td>-0.437457</td>\n",
       "      <td>-0.108546</td>\n",
       "      <td>-0.157699</td>\n",
       "    </tr>\n",
       "    <tr>\n",
       "      <th>2014-01-08</th>\n",
       "      <td>0.289907</td>\n",
       "      <td>2.018889</td>\n",
       "      <td>-1.379746</td>\n",
       "      <td>0.842604</td>\n",
       "    </tr>\n",
       "    <tr>\n",
       "      <th>2014-01-09</th>\n",
       "      <td>1.057921</td>\n",
       "      <td>0.855279</td>\n",
       "      <td>0.590098</td>\n",
       "      <td>-0.599102</td>\n",
       "    </tr>\n",
       "    <tr>\n",
       "      <th>2014-01-10</th>\n",
       "      <td>2.494401</td>\n",
       "      <td>-0.094579</td>\n",
       "      <td>0.370613</td>\n",
       "      <td>-0.200282</td>\n",
       "    </tr>\n",
       "  </tbody>\n",
       "</table>\n",
       "</div>"
      ],
      "text/plain": [
       "                   A         B         C         D\n",
       "2014-01-01  1.187559  0.482007 -0.122165 -0.037711\n",
       "2014-01-02  1.002335  1.121448 -1.068504 -0.341395\n",
       "2014-01-03  0.396296 -0.281746  0.636223 -0.473842\n",
       "2014-01-04  0.283642 -0.029515  1.270470 -1.581270\n",
       "2014-01-05 -0.403508 -0.396598 -1.759281  0.331228\n",
       "2014-01-06  0.099900  0.655618 -0.559479  0.440636\n",
       "2014-01-07  2.297743 -0.437457 -0.108546 -0.157699\n",
       "2014-01-08  0.289907  2.018889 -1.379746  0.842604\n",
       "2014-01-09  1.057921  0.855279  0.590098 -0.599102\n",
       "2014-01-10  2.494401 -0.094579  0.370613 -0.200282"
      ]
     },
     "execution_count": 39,
     "metadata": {},
     "output_type": "execute_result"
    }
   ],
   "source": [
    "df = pd.DataFrame(np.random.randn(10,4), index=dates, columns=list('ABCD'))\n",
    "# A DataFrame with 10 rows (indexed by dates), 4 columns labeled 'A', 'B', 'C', 'D', filled with random values.\n",
    "df"
   ]
  },
  {
   "cell_type": "markdown",
   "id": "0119c3eb",
   "metadata": {},
   "source": [
    "#### Creating a DataFrame by passing a dictionary of objects where the keys are the column labels and the values are the column values."
   ]
  },
  {
   "cell_type": "code",
   "execution_count": 40,
   "id": "55d1a920",
   "metadata": {},
   "outputs": [
    {
     "data": {
      "text/html": [
       "<div>\n",
       "<style scoped>\n",
       "    .dataframe tbody tr th:only-of-type {\n",
       "        vertical-align: middle;\n",
       "    }\n",
       "\n",
       "    .dataframe tbody tr th {\n",
       "        vertical-align: top;\n",
       "    }\n",
       "\n",
       "    .dataframe thead th {\n",
       "        text-align: right;\n",
       "    }\n",
       "</style>\n",
       "<table border=\"1\" class=\"dataframe\">\n",
       "  <thead>\n",
       "    <tr style=\"text-align: right;\">\n",
       "      <th></th>\n",
       "      <th>A</th>\n",
       "      <th>B</th>\n",
       "      <th>C</th>\n",
       "      <th>D</th>\n",
       "      <th>E</th>\n",
       "      <th>F</th>\n",
       "    </tr>\n",
       "  </thead>\n",
       "  <tbody>\n",
       "    <tr>\n",
       "      <th>0</th>\n",
       "      <td>1.0</td>\n",
       "      <td>2013-02-02</td>\n",
       "      <td>1.0</td>\n",
       "      <td>3</td>\n",
       "      <td>train</td>\n",
       "      <td>foo</td>\n",
       "    </tr>\n",
       "    <tr>\n",
       "      <th>1</th>\n",
       "      <td>1.0</td>\n",
       "      <td>2013-02-02</td>\n",
       "      <td>1.0</td>\n",
       "      <td>3</td>\n",
       "      <td>test</td>\n",
       "      <td>foo</td>\n",
       "    </tr>\n",
       "    <tr>\n",
       "      <th>2</th>\n",
       "      <td>1.0</td>\n",
       "      <td>2013-02-02</td>\n",
       "      <td>1.0</td>\n",
       "      <td>3</td>\n",
       "      <td>train</td>\n",
       "      <td>foo</td>\n",
       "    </tr>\n",
       "    <tr>\n",
       "      <th>3</th>\n",
       "      <td>1.0</td>\n",
       "      <td>2013-02-02</td>\n",
       "      <td>1.0</td>\n",
       "      <td>3</td>\n",
       "      <td>test</td>\n",
       "      <td>foo</td>\n",
       "    </tr>\n",
       "  </tbody>\n",
       "</table>\n",
       "</div>"
      ],
      "text/plain": [
       "     A          B    C  D      E    F\n",
       "0  1.0 2013-02-02  1.0  3  train  foo\n",
       "1  1.0 2013-02-02  1.0  3   test  foo\n",
       "2  1.0 2013-02-02  1.0  3  train  foo\n",
       "3  1.0 2013-02-02  1.0  3   test  foo"
      ]
     },
     "execution_count": 40,
     "metadata": {},
     "output_type": "execute_result"
    }
   ],
   "source": [
    "df2 = pd.DataFrame({\n",
    "    'A': 1.0,\n",
    "    'B':pd.Timestamp('20130202'),\n",
    "    'C': pd.Series(1, index=list(range(4)), dtype='float32'),\n",
    "    'D': np.array([3]*4, dtype='int32'),\n",
    "    'E': pd.Categorical(['train','test','train','test']),\n",
    "    'F': 'foo' \n",
    "}\n",
    ")\n",
    "df2"
   ]
  },
  {
   "cell_type": "markdown",
   "id": "d9e2ee28",
   "metadata": {},
   "source": [
    "- columns of dataframe has different dtype "
   ]
  },
  {
   "cell_type": "code",
   "execution_count": 41,
   "id": "95d8f724",
   "metadata": {},
   "outputs": [
    {
     "data": {
      "text/plain": [
       "A          float64\n",
       "B    datetime64[s]\n",
       "C          float32\n",
       "D            int32\n",
       "E         category\n",
       "F           object\n",
       "dtype: object"
      ]
     },
     "execution_count": 41,
     "metadata": {},
     "output_type": "execute_result"
    }
   ],
   "source": [
    "df2.dtypes"
   ]
  },
  {
   "cell_type": "markdown",
   "id": "a8aa2fa4",
   "metadata": {},
   "source": [
    "## Viewing data\n",
    "- use dataframe.head() and dataframe.tail() , we can see first and last five rows of data."
   ]
  },
  {
   "cell_type": "code",
   "execution_count": 42,
   "id": "10010c62",
   "metadata": {},
   "outputs": [
    {
     "data": {
      "text/html": [
       "<div>\n",
       "<style scoped>\n",
       "    .dataframe tbody tr th:only-of-type {\n",
       "        vertical-align: middle;\n",
       "    }\n",
       "\n",
       "    .dataframe tbody tr th {\n",
       "        vertical-align: top;\n",
       "    }\n",
       "\n",
       "    .dataframe thead th {\n",
       "        text-align: right;\n",
       "    }\n",
       "</style>\n",
       "<table border=\"1\" class=\"dataframe\">\n",
       "  <thead>\n",
       "    <tr style=\"text-align: right;\">\n",
       "      <th></th>\n",
       "      <th>A</th>\n",
       "      <th>B</th>\n",
       "      <th>C</th>\n",
       "      <th>D</th>\n",
       "    </tr>\n",
       "  </thead>\n",
       "  <tbody>\n",
       "    <tr>\n",
       "      <th>2014-01-01</th>\n",
       "      <td>1.187559</td>\n",
       "      <td>0.482007</td>\n",
       "      <td>-0.122165</td>\n",
       "      <td>-0.037711</td>\n",
       "    </tr>\n",
       "    <tr>\n",
       "      <th>2014-01-02</th>\n",
       "      <td>1.002335</td>\n",
       "      <td>1.121448</td>\n",
       "      <td>-1.068504</td>\n",
       "      <td>-0.341395</td>\n",
       "    </tr>\n",
       "    <tr>\n",
       "      <th>2014-01-03</th>\n",
       "      <td>0.396296</td>\n",
       "      <td>-0.281746</td>\n",
       "      <td>0.636223</td>\n",
       "      <td>-0.473842</td>\n",
       "    </tr>\n",
       "    <tr>\n",
       "      <th>2014-01-04</th>\n",
       "      <td>0.283642</td>\n",
       "      <td>-0.029515</td>\n",
       "      <td>1.270470</td>\n",
       "      <td>-1.581270</td>\n",
       "    </tr>\n",
       "    <tr>\n",
       "      <th>2014-01-05</th>\n",
       "      <td>-0.403508</td>\n",
       "      <td>-0.396598</td>\n",
       "      <td>-1.759281</td>\n",
       "      <td>0.331228</td>\n",
       "    </tr>\n",
       "  </tbody>\n",
       "</table>\n",
       "</div>"
      ],
      "text/plain": [
       "                   A         B         C         D\n",
       "2014-01-01  1.187559  0.482007 -0.122165 -0.037711\n",
       "2014-01-02  1.002335  1.121448 -1.068504 -0.341395\n",
       "2014-01-03  0.396296 -0.281746  0.636223 -0.473842\n",
       "2014-01-04  0.283642 -0.029515  1.270470 -1.581270\n",
       "2014-01-05 -0.403508 -0.396598 -1.759281  0.331228"
      ]
     },
     "execution_count": 42,
     "metadata": {},
     "output_type": "execute_result"
    }
   ],
   "source": [
    "df.head()  # first or top five rows of data show in output"
   ]
  },
  {
   "cell_type": "code",
   "execution_count": 43,
   "id": "b962bc48",
   "metadata": {},
   "outputs": [
    {
     "data": {
      "text/html": [
       "<div>\n",
       "<style scoped>\n",
       "    .dataframe tbody tr th:only-of-type {\n",
       "        vertical-align: middle;\n",
       "    }\n",
       "\n",
       "    .dataframe tbody tr th {\n",
       "        vertical-align: top;\n",
       "    }\n",
       "\n",
       "    .dataframe thead th {\n",
       "        text-align: right;\n",
       "    }\n",
       "</style>\n",
       "<table border=\"1\" class=\"dataframe\">\n",
       "  <thead>\n",
       "    <tr style=\"text-align: right;\">\n",
       "      <th></th>\n",
       "      <th>A</th>\n",
       "      <th>B</th>\n",
       "      <th>C</th>\n",
       "      <th>D</th>\n",
       "    </tr>\n",
       "  </thead>\n",
       "  <tbody>\n",
       "    <tr>\n",
       "      <th>2014-01-06</th>\n",
       "      <td>0.099900</td>\n",
       "      <td>0.655618</td>\n",
       "      <td>-0.559479</td>\n",
       "      <td>0.440636</td>\n",
       "    </tr>\n",
       "    <tr>\n",
       "      <th>2014-01-07</th>\n",
       "      <td>2.297743</td>\n",
       "      <td>-0.437457</td>\n",
       "      <td>-0.108546</td>\n",
       "      <td>-0.157699</td>\n",
       "    </tr>\n",
       "    <tr>\n",
       "      <th>2014-01-08</th>\n",
       "      <td>0.289907</td>\n",
       "      <td>2.018889</td>\n",
       "      <td>-1.379746</td>\n",
       "      <td>0.842604</td>\n",
       "    </tr>\n",
       "    <tr>\n",
       "      <th>2014-01-09</th>\n",
       "      <td>1.057921</td>\n",
       "      <td>0.855279</td>\n",
       "      <td>0.590098</td>\n",
       "      <td>-0.599102</td>\n",
       "    </tr>\n",
       "    <tr>\n",
       "      <th>2014-01-10</th>\n",
       "      <td>2.494401</td>\n",
       "      <td>-0.094579</td>\n",
       "      <td>0.370613</td>\n",
       "      <td>-0.200282</td>\n",
       "    </tr>\n",
       "  </tbody>\n",
       "</table>\n",
       "</div>"
      ],
      "text/plain": [
       "                   A         B         C         D\n",
       "2014-01-06  0.099900  0.655618 -0.559479  0.440636\n",
       "2014-01-07  2.297743 -0.437457 -0.108546 -0.157699\n",
       "2014-01-08  0.289907  2.018889 -1.379746  0.842604\n",
       "2014-01-09  1.057921  0.855279  0.590098 -0.599102\n",
       "2014-01-10  2.494401 -0.094579  0.370613 -0.200282"
      ]
     },
     "execution_count": 43,
     "metadata": {},
     "output_type": "execute_result"
    }
   ],
   "source": [
    "df.tail()  # last or bottom five rows of data show in output."
   ]
  },
  {
   "cell_type": "markdown",
   "id": "889c9c70",
   "metadata": {},
   "source": [
    "- displaying dataframe.index or dataframe. columns means that show all columns name in dataset."
   ]
  },
  {
   "cell_type": "code",
   "execution_count": 44,
   "id": "af5c1ec7",
   "metadata": {},
   "outputs": [
    {
     "data": {
      "text/plain": [
       "DatetimeIndex(['2014-01-01', '2014-01-02', '2014-01-03', '2014-01-04',\n",
       "               '2014-01-05', '2014-01-06', '2014-01-07', '2014-01-08',\n",
       "               '2014-01-09', '2014-01-10'],\n",
       "              dtype='datetime64[ns]', freq='D')"
      ]
     },
     "execution_count": 44,
     "metadata": {},
     "output_type": "execute_result"
    }
   ],
   "source": [
    "df.index\n",
    "# df.columns"
   ]
  },
  {
   "cell_type": "markdown",
   "id": "69bec992",
   "metadata": {},
   "source": [
    "- Return a NumPy representation of the underlying data with DataFrame.to_numpy() without the index or column labels:"
   ]
  },
  {
   "cell_type": "code",
   "execution_count": 45,
   "id": "b1c930a2",
   "metadata": {},
   "outputs": [
    {
     "data": {
      "text/plain": [
       "array([[ 1.18755862,  0.48200658, -0.12216533, -0.03771105],\n",
       "       [ 1.00233536,  1.12144785, -1.06850375, -0.34139516],\n",
       "       [ 0.39629598, -0.28174628,  0.63622259, -0.47384193],\n",
       "       [ 0.28364198, -0.02951529,  1.27046975, -1.58126977],\n",
       "       [-0.40350762, -0.39659848, -1.75928109,  0.33122811],\n",
       "       [ 0.0999002 ,  0.6556181 , -0.55947874,  0.44063567],\n",
       "       [ 2.29774314, -0.43745675, -0.10854591, -0.15769936],\n",
       "       [ 0.28990719,  2.01888932, -1.37974585,  0.84260361],\n",
       "       [ 1.05792119,  0.85527892,  0.5900983 , -0.59910163],\n",
       "       [ 2.49440088, -0.09457942,  0.37061299, -0.20028188]])"
      ]
     },
     "execution_count": 45,
     "metadata": {},
     "output_type": "execute_result"
    }
   ],
   "source": [
    "df.to_numpy()"
   ]
  },
  {
   "cell_type": "markdown",
   "id": "63f46db1",
   "metadata": {},
   "source": [
    "### Note:\n",
    "- NumPy arrays have one dtype for the entire array while pandas DataFrames have one dtype per column. When you call DataFrame.to_numpy(), pandas will find the NumPy dtype that can hold all of the dtypes in the DataFrame. If the common data type is object, DataFrame.to_numpy() will require copying data."
   ]
  },
  {
   "cell_type": "code",
   "execution_count": 46,
   "id": "9daf2e75",
   "metadata": {},
   "outputs": [
    {
     "name": "stdout",
     "output_type": "stream",
     "text": [
      "A          float64\n",
      "B    datetime64[s]\n",
      "C          float32\n",
      "D            int32\n",
      "E         category\n",
      "F           object\n",
      "dtype: object\n",
      "-------------------------\n",
      "[[1.0 Timestamp('2013-02-02 00:00:00') 1.0 3 'train' 'foo']\n",
      " [1.0 Timestamp('2013-02-02 00:00:00') 1.0 3 'test' 'foo']\n",
      " [1.0 Timestamp('2013-02-02 00:00:00') 1.0 3 'train' 'foo']\n",
      " [1.0 Timestamp('2013-02-02 00:00:00') 1.0 3 'test' 'foo']]\n"
     ]
    }
   ],
   "source": [
    "print(df2.dtypes)\n",
    "print(\"-------------------------\")\n",
    "print(df2.to_numpy())"
   ]
  },
  {
   "cell_type": "markdown",
   "id": "51cd575f",
   "metadata": {},
   "source": [
    "- use ``` describe() ``` for short statistics summary. but give only numeric columns output."
   ]
  },
  {
   "cell_type": "code",
   "execution_count": 47,
   "id": "825385bb",
   "metadata": {},
   "outputs": [
    {
     "data": {
      "text/html": [
       "<div>\n",
       "<style scoped>\n",
       "    .dataframe tbody tr th:only-of-type {\n",
       "        vertical-align: middle;\n",
       "    }\n",
       "\n",
       "    .dataframe tbody tr th {\n",
       "        vertical-align: top;\n",
       "    }\n",
       "\n",
       "    .dataframe thead th {\n",
       "        text-align: right;\n",
       "    }\n",
       "</style>\n",
       "<table border=\"1\" class=\"dataframe\">\n",
       "  <thead>\n",
       "    <tr style=\"text-align: right;\">\n",
       "      <th></th>\n",
       "      <th>A</th>\n",
       "      <th>B</th>\n",
       "      <th>C</th>\n",
       "      <th>D</th>\n",
       "    </tr>\n",
       "  </thead>\n",
       "  <tbody>\n",
       "    <tr>\n",
       "      <th>count</th>\n",
       "      <td>10.000000</td>\n",
       "      <td>10.000000</td>\n",
       "      <td>10.000000</td>\n",
       "      <td>10.000000</td>\n",
       "    </tr>\n",
       "    <tr>\n",
       "      <th>mean</th>\n",
       "      <td>0.870620</td>\n",
       "      <td>0.389334</td>\n",
       "      <td>-0.213032</td>\n",
       "      <td>-0.177683</td>\n",
       "    </tr>\n",
       "    <tr>\n",
       "      <th>std</th>\n",
       "      <td>0.939881</td>\n",
       "      <td>0.792273</td>\n",
       "      <td>0.973585</td>\n",
       "      <td>0.663740</td>\n",
       "    </tr>\n",
       "    <tr>\n",
       "      <th>min</th>\n",
       "      <td>-0.403508</td>\n",
       "      <td>-0.437457</td>\n",
       "      <td>-1.759281</td>\n",
       "      <td>-1.581270</td>\n",
       "    </tr>\n",
       "    <tr>\n",
       "      <th>25%</th>\n",
       "      <td>0.285208</td>\n",
       "      <td>-0.234955</td>\n",
       "      <td>-0.941247</td>\n",
       "      <td>-0.440730</td>\n",
       "    </tr>\n",
       "    <tr>\n",
       "      <th>50%</th>\n",
       "      <td>0.699316</td>\n",
       "      <td>0.226246</td>\n",
       "      <td>-0.115356</td>\n",
       "      <td>-0.178991</td>\n",
       "    </tr>\n",
       "    <tr>\n",
       "      <th>75%</th>\n",
       "      <td>1.155149</td>\n",
       "      <td>0.805364</td>\n",
       "      <td>0.535227</td>\n",
       "      <td>0.238993</td>\n",
       "    </tr>\n",
       "    <tr>\n",
       "      <th>max</th>\n",
       "      <td>2.494401</td>\n",
       "      <td>2.018889</td>\n",
       "      <td>1.270470</td>\n",
       "      <td>0.842604</td>\n",
       "    </tr>\n",
       "  </tbody>\n",
       "</table>\n",
       "</div>"
      ],
      "text/plain": [
       "               A          B          C          D\n",
       "count  10.000000  10.000000  10.000000  10.000000\n",
       "mean    0.870620   0.389334  -0.213032  -0.177683\n",
       "std     0.939881   0.792273   0.973585   0.663740\n",
       "min    -0.403508  -0.437457  -1.759281  -1.581270\n",
       "25%     0.285208  -0.234955  -0.941247  -0.440730\n",
       "50%     0.699316   0.226246  -0.115356  -0.178991\n",
       "75%     1.155149   0.805364   0.535227   0.238993\n",
       "max     2.494401   2.018889   1.270470   0.842604"
      ]
     },
     "execution_count": 47,
     "metadata": {},
     "output_type": "execute_result"
    }
   ],
   "source": [
    "df.describe()"
   ]
  },
  {
   "cell_type": "markdown",
   "id": "646f74bc",
   "metadata": {},
   "source": [
    "- we can take trnasform of the data as mean row change in columns."
   ]
  },
  {
   "cell_type": "code",
   "execution_count": 48,
   "id": "a4c4ff98",
   "metadata": {},
   "outputs": [],
   "source": [
    "# df.T"
   ]
  },
  {
   "cell_type": "markdown",
   "id": "48cf113c",
   "metadata": {},
   "source": [
    "- use ``` sort_index()``` for sort data as ascending or decending order."
   ]
  },
  {
   "cell_type": "code",
   "execution_count": 49,
   "id": "f115eea6",
   "metadata": {},
   "outputs": [
    {
     "data": {
      "text/html": [
       "<div>\n",
       "<style scoped>\n",
       "    .dataframe tbody tr th:only-of-type {\n",
       "        vertical-align: middle;\n",
       "    }\n",
       "\n",
       "    .dataframe tbody tr th {\n",
       "        vertical-align: top;\n",
       "    }\n",
       "\n",
       "    .dataframe thead th {\n",
       "        text-align: right;\n",
       "    }\n",
       "</style>\n",
       "<table border=\"1\" class=\"dataframe\">\n",
       "  <thead>\n",
       "    <tr style=\"text-align: right;\">\n",
       "      <th></th>\n",
       "      <th>D</th>\n",
       "      <th>C</th>\n",
       "      <th>B</th>\n",
       "      <th>A</th>\n",
       "    </tr>\n",
       "  </thead>\n",
       "  <tbody>\n",
       "    <tr>\n",
       "      <th>2014-01-01</th>\n",
       "      <td>-0.037711</td>\n",
       "      <td>-0.122165</td>\n",
       "      <td>0.482007</td>\n",
       "      <td>1.187559</td>\n",
       "    </tr>\n",
       "    <tr>\n",
       "      <th>2014-01-02</th>\n",
       "      <td>-0.341395</td>\n",
       "      <td>-1.068504</td>\n",
       "      <td>1.121448</td>\n",
       "      <td>1.002335</td>\n",
       "    </tr>\n",
       "    <tr>\n",
       "      <th>2014-01-03</th>\n",
       "      <td>-0.473842</td>\n",
       "      <td>0.636223</td>\n",
       "      <td>-0.281746</td>\n",
       "      <td>0.396296</td>\n",
       "    </tr>\n",
       "    <tr>\n",
       "      <th>2014-01-04</th>\n",
       "      <td>-1.581270</td>\n",
       "      <td>1.270470</td>\n",
       "      <td>-0.029515</td>\n",
       "      <td>0.283642</td>\n",
       "    </tr>\n",
       "    <tr>\n",
       "      <th>2014-01-05</th>\n",
       "      <td>0.331228</td>\n",
       "      <td>-1.759281</td>\n",
       "      <td>-0.396598</td>\n",
       "      <td>-0.403508</td>\n",
       "    </tr>\n",
       "    <tr>\n",
       "      <th>2014-01-06</th>\n",
       "      <td>0.440636</td>\n",
       "      <td>-0.559479</td>\n",
       "      <td>0.655618</td>\n",
       "      <td>0.099900</td>\n",
       "    </tr>\n",
       "    <tr>\n",
       "      <th>2014-01-07</th>\n",
       "      <td>-0.157699</td>\n",
       "      <td>-0.108546</td>\n",
       "      <td>-0.437457</td>\n",
       "      <td>2.297743</td>\n",
       "    </tr>\n",
       "    <tr>\n",
       "      <th>2014-01-08</th>\n",
       "      <td>0.842604</td>\n",
       "      <td>-1.379746</td>\n",
       "      <td>2.018889</td>\n",
       "      <td>0.289907</td>\n",
       "    </tr>\n",
       "    <tr>\n",
       "      <th>2014-01-09</th>\n",
       "      <td>-0.599102</td>\n",
       "      <td>0.590098</td>\n",
       "      <td>0.855279</td>\n",
       "      <td>1.057921</td>\n",
       "    </tr>\n",
       "    <tr>\n",
       "      <th>2014-01-10</th>\n",
       "      <td>-0.200282</td>\n",
       "      <td>0.370613</td>\n",
       "      <td>-0.094579</td>\n",
       "      <td>2.494401</td>\n",
       "    </tr>\n",
       "  </tbody>\n",
       "</table>\n",
       "</div>"
      ],
      "text/plain": [
       "                   D         C         B         A\n",
       "2014-01-01 -0.037711 -0.122165  0.482007  1.187559\n",
       "2014-01-02 -0.341395 -1.068504  1.121448  1.002335\n",
       "2014-01-03 -0.473842  0.636223 -0.281746  0.396296\n",
       "2014-01-04 -1.581270  1.270470 -0.029515  0.283642\n",
       "2014-01-05  0.331228 -1.759281 -0.396598 -0.403508\n",
       "2014-01-06  0.440636 -0.559479  0.655618  0.099900\n",
       "2014-01-07 -0.157699 -0.108546 -0.437457  2.297743\n",
       "2014-01-08  0.842604 -1.379746  2.018889  0.289907\n",
       "2014-01-09 -0.599102  0.590098  0.855279  1.057921\n",
       "2014-01-10 -0.200282  0.370613 -0.094579  2.494401"
      ]
     },
     "execution_count": 49,
     "metadata": {},
     "output_type": "execute_result"
    }
   ],
   "source": [
    "df.sort_index(axis=1, ascending=False) # Sorts the column names in descending order (C, B, A) and rearranges the DataFrame accordingly.\n",
    "# Sorts the index (row labels if axis=0, column labels if axis=1) of the DataFrame.\n",
    "# ascending=False= Sorts in descending order (Z to A, or highest to lowest)., Use True for ascending (A to Z)."
   ]
  },
  {
   "cell_type": "markdown",
   "id": "fbbcdf61",
   "metadata": {},
   "source": [
    "- use ```sort_value()``` sort by values"
   ]
  },
  {
   "cell_type": "code",
   "execution_count": 50,
   "id": "a4e367a8",
   "metadata": {},
   "outputs": [
    {
     "data": {
      "text/html": [
       "<div>\n",
       "<style scoped>\n",
       "    .dataframe tbody tr th:only-of-type {\n",
       "        vertical-align: middle;\n",
       "    }\n",
       "\n",
       "    .dataframe tbody tr th {\n",
       "        vertical-align: top;\n",
       "    }\n",
       "\n",
       "    .dataframe thead th {\n",
       "        text-align: right;\n",
       "    }\n",
       "</style>\n",
       "<table border=\"1\" class=\"dataframe\">\n",
       "  <thead>\n",
       "    <tr style=\"text-align: right;\">\n",
       "      <th></th>\n",
       "      <th>A</th>\n",
       "      <th>B</th>\n",
       "      <th>C</th>\n",
       "      <th>D</th>\n",
       "    </tr>\n",
       "  </thead>\n",
       "  <tbody>\n",
       "    <tr>\n",
       "      <th>2014-01-07</th>\n",
       "      <td>2.297743</td>\n",
       "      <td>-0.437457</td>\n",
       "      <td>-0.108546</td>\n",
       "      <td>-0.157699</td>\n",
       "    </tr>\n",
       "    <tr>\n",
       "      <th>2014-01-05</th>\n",
       "      <td>-0.403508</td>\n",
       "      <td>-0.396598</td>\n",
       "      <td>-1.759281</td>\n",
       "      <td>0.331228</td>\n",
       "    </tr>\n",
       "    <tr>\n",
       "      <th>2014-01-03</th>\n",
       "      <td>0.396296</td>\n",
       "      <td>-0.281746</td>\n",
       "      <td>0.636223</td>\n",
       "      <td>-0.473842</td>\n",
       "    </tr>\n",
       "    <tr>\n",
       "      <th>2014-01-10</th>\n",
       "      <td>2.494401</td>\n",
       "      <td>-0.094579</td>\n",
       "      <td>0.370613</td>\n",
       "      <td>-0.200282</td>\n",
       "    </tr>\n",
       "    <tr>\n",
       "      <th>2014-01-04</th>\n",
       "      <td>0.283642</td>\n",
       "      <td>-0.029515</td>\n",
       "      <td>1.270470</td>\n",
       "      <td>-1.581270</td>\n",
       "    </tr>\n",
       "    <tr>\n",
       "      <th>2014-01-01</th>\n",
       "      <td>1.187559</td>\n",
       "      <td>0.482007</td>\n",
       "      <td>-0.122165</td>\n",
       "      <td>-0.037711</td>\n",
       "    </tr>\n",
       "    <tr>\n",
       "      <th>2014-01-06</th>\n",
       "      <td>0.099900</td>\n",
       "      <td>0.655618</td>\n",
       "      <td>-0.559479</td>\n",
       "      <td>0.440636</td>\n",
       "    </tr>\n",
       "    <tr>\n",
       "      <th>2014-01-09</th>\n",
       "      <td>1.057921</td>\n",
       "      <td>0.855279</td>\n",
       "      <td>0.590098</td>\n",
       "      <td>-0.599102</td>\n",
       "    </tr>\n",
       "    <tr>\n",
       "      <th>2014-01-02</th>\n",
       "      <td>1.002335</td>\n",
       "      <td>1.121448</td>\n",
       "      <td>-1.068504</td>\n",
       "      <td>-0.341395</td>\n",
       "    </tr>\n",
       "    <tr>\n",
       "      <th>2014-01-08</th>\n",
       "      <td>0.289907</td>\n",
       "      <td>2.018889</td>\n",
       "      <td>-1.379746</td>\n",
       "      <td>0.842604</td>\n",
       "    </tr>\n",
       "  </tbody>\n",
       "</table>\n",
       "</div>"
      ],
      "text/plain": [
       "                   A         B         C         D\n",
       "2014-01-07  2.297743 -0.437457 -0.108546 -0.157699\n",
       "2014-01-05 -0.403508 -0.396598 -1.759281  0.331228\n",
       "2014-01-03  0.396296 -0.281746  0.636223 -0.473842\n",
       "2014-01-10  2.494401 -0.094579  0.370613 -0.200282\n",
       "2014-01-04  0.283642 -0.029515  1.270470 -1.581270\n",
       "2014-01-01  1.187559  0.482007 -0.122165 -0.037711\n",
       "2014-01-06  0.099900  0.655618 -0.559479  0.440636\n",
       "2014-01-09  1.057921  0.855279  0.590098 -0.599102\n",
       "2014-01-02  1.002335  1.121448 -1.068504 -0.341395\n",
       "2014-01-08  0.289907  2.018889 -1.379746  0.842604"
      ]
     },
     "execution_count": 50,
     "metadata": {},
     "output_type": "execute_result"
    }
   ],
   "source": [
    "df.sort_values(by='B')"
   ]
  },
  {
   "cell_type": "markdown",
   "id": "e806ccb1",
   "metadata": {},
   "source": [
    "# Selection\n",
    "### Note\n",
    "- While standard Python / NumPy expressions for selecting and setting are intuitive and come in handy for interactive work, for production code, we recommend the optimized pandas data access methods, DataFrame.at(), DataFrame.iat(), DataFrame.loc() and DataFrame.iloc().\n",
    "#### Getitem([])\n",
    "- For a DataFrame, passing a single label selects a columns and yields a Series equivalent to df.A:"
   ]
  },
  {
   "cell_type": "code",
   "execution_count": 51,
   "id": "dc3b04a9",
   "metadata": {},
   "outputs": [
    {
     "data": {
      "text/plain": [
       "2014-01-01    1.187559\n",
       "2014-01-02    1.002335\n",
       "2014-01-03    0.396296\n",
       "2014-01-04    0.283642\n",
       "2014-01-05   -0.403508\n",
       "2014-01-06    0.099900\n",
       "2014-01-07    2.297743\n",
       "2014-01-08    0.289907\n",
       "2014-01-09    1.057921\n",
       "2014-01-10    2.494401\n",
       "Freq: D, Name: A, dtype: float64"
      ]
     },
     "execution_count": 51,
     "metadata": {},
     "output_type": "execute_result"
    }
   ],
   "source": [
    "df['A']"
   ]
  },
  {
   "cell_type": "markdown",
   "id": "9d4b1369",
   "metadata": {},
   "source": [
    "- For a DataFrame, passing a slice : selects matching rows:"
   ]
  },
  {
   "cell_type": "code",
   "execution_count": 52,
   "id": "df3fdb5a",
   "metadata": {},
   "outputs": [
    {
     "data": {
      "text/html": [
       "<div>\n",
       "<style scoped>\n",
       "    .dataframe tbody tr th:only-of-type {\n",
       "        vertical-align: middle;\n",
       "    }\n",
       "\n",
       "    .dataframe tbody tr th {\n",
       "        vertical-align: top;\n",
       "    }\n",
       "\n",
       "    .dataframe thead th {\n",
       "        text-align: right;\n",
       "    }\n",
       "</style>\n",
       "<table border=\"1\" class=\"dataframe\">\n",
       "  <thead>\n",
       "    <tr style=\"text-align: right;\">\n",
       "      <th></th>\n",
       "      <th>A</th>\n",
       "      <th>B</th>\n",
       "      <th>C</th>\n",
       "      <th>D</th>\n",
       "    </tr>\n",
       "  </thead>\n",
       "  <tbody>\n",
       "    <tr>\n",
       "      <th>2014-01-01</th>\n",
       "      <td>1.187559</td>\n",
       "      <td>0.482007</td>\n",
       "      <td>-0.122165</td>\n",
       "      <td>-0.037711</td>\n",
       "    </tr>\n",
       "    <tr>\n",
       "      <th>2014-01-02</th>\n",
       "      <td>1.002335</td>\n",
       "      <td>1.121448</td>\n",
       "      <td>-1.068504</td>\n",
       "      <td>-0.341395</td>\n",
       "    </tr>\n",
       "    <tr>\n",
       "      <th>2014-01-03</th>\n",
       "      <td>0.396296</td>\n",
       "      <td>-0.281746</td>\n",
       "      <td>0.636223</td>\n",
       "      <td>-0.473842</td>\n",
       "    </tr>\n",
       "  </tbody>\n",
       "</table>\n",
       "</div>"
      ],
      "text/plain": [
       "                   A         B         C         D\n",
       "2014-01-01  1.187559  0.482007 -0.122165 -0.037711\n",
       "2014-01-02  1.002335  1.121448 -1.068504 -0.341395\n",
       "2014-01-03  0.396296 -0.281746  0.636223 -0.473842"
      ]
     },
     "execution_count": 52,
     "metadata": {},
     "output_type": "execute_result"
    }
   ],
   "source": [
    "df[0:3] # Just like my_list[0:3] gives the first 3 items(rows)."
   ]
  },
  {
   "cell_type": "markdown",
   "id": "8ece5e9c",
   "metadata": {},
   "source": [
    "#### Selection by label\n",
    "- Selecting a row matching a label:"
   ]
  },
  {
   "cell_type": "code",
   "execution_count": 60,
   "id": "07693e04",
   "metadata": {},
   "outputs": [
    {
     "data": {
      "text/plain": [
       "A    1.187559\n",
       "B    0.482007\n",
       "C   -0.122165\n",
       "D   -0.037711\n",
       "Name: 2014-01-01 00:00:00, dtype: float64"
      ]
     },
     "execution_count": 60,
     "metadata": {},
     "output_type": "execute_result"
    }
   ],
   "source": [
    "df.loc[dates[0]]  # Selects the row in DataFrame df that has the index equal to dates[0].\n",
    "# .loc[]:Accesses data by label (not position)., dates[0] is the first date in your datetime index."
   ]
  },
  {
   "cell_type": "markdown",
   "id": "15784ecc",
   "metadata": {},
   "source": [
    "- Selecting all rows (:) with a select column labels:"
   ]
  },
  {
   "cell_type": "code",
   "execution_count": 61,
   "id": "46b84e1d",
   "metadata": {},
   "outputs": [
    {
     "data": {
      "text/html": [
       "<div>\n",
       "<style scoped>\n",
       "    .dataframe tbody tr th:only-of-type {\n",
       "        vertical-align: middle;\n",
       "    }\n",
       "\n",
       "    .dataframe tbody tr th {\n",
       "        vertical-align: top;\n",
       "    }\n",
       "\n",
       "    .dataframe thead th {\n",
       "        text-align: right;\n",
       "    }\n",
       "</style>\n",
       "<table border=\"1\" class=\"dataframe\">\n",
       "  <thead>\n",
       "    <tr style=\"text-align: right;\">\n",
       "      <th></th>\n",
       "      <th>A</th>\n",
       "      <th>B</th>\n",
       "    </tr>\n",
       "  </thead>\n",
       "  <tbody>\n",
       "    <tr>\n",
       "      <th>2014-01-01</th>\n",
       "      <td>1.187559</td>\n",
       "      <td>0.482007</td>\n",
       "    </tr>\n",
       "    <tr>\n",
       "      <th>2014-01-02</th>\n",
       "      <td>1.002335</td>\n",
       "      <td>1.121448</td>\n",
       "    </tr>\n",
       "    <tr>\n",
       "      <th>2014-01-03</th>\n",
       "      <td>0.396296</td>\n",
       "      <td>-0.281746</td>\n",
       "    </tr>\n",
       "    <tr>\n",
       "      <th>2014-01-04</th>\n",
       "      <td>0.283642</td>\n",
       "      <td>-0.029515</td>\n",
       "    </tr>\n",
       "    <tr>\n",
       "      <th>2014-01-05</th>\n",
       "      <td>-0.403508</td>\n",
       "      <td>-0.396598</td>\n",
       "    </tr>\n",
       "    <tr>\n",
       "      <th>2014-01-06</th>\n",
       "      <td>0.099900</td>\n",
       "      <td>0.655618</td>\n",
       "    </tr>\n",
       "    <tr>\n",
       "      <th>2014-01-07</th>\n",
       "      <td>2.297743</td>\n",
       "      <td>-0.437457</td>\n",
       "    </tr>\n",
       "    <tr>\n",
       "      <th>2014-01-08</th>\n",
       "      <td>0.289907</td>\n",
       "      <td>2.018889</td>\n",
       "    </tr>\n",
       "    <tr>\n",
       "      <th>2014-01-09</th>\n",
       "      <td>1.057921</td>\n",
       "      <td>0.855279</td>\n",
       "    </tr>\n",
       "    <tr>\n",
       "      <th>2014-01-10</th>\n",
       "      <td>2.494401</td>\n",
       "      <td>-0.094579</td>\n",
       "    </tr>\n",
       "  </tbody>\n",
       "</table>\n",
       "</div>"
      ],
      "text/plain": [
       "                   A         B\n",
       "2014-01-01  1.187559  0.482007\n",
       "2014-01-02  1.002335  1.121448\n",
       "2014-01-03  0.396296 -0.281746\n",
       "2014-01-04  0.283642 -0.029515\n",
       "2014-01-05 -0.403508 -0.396598\n",
       "2014-01-06  0.099900  0.655618\n",
       "2014-01-07  2.297743 -0.437457\n",
       "2014-01-08  0.289907  2.018889\n",
       "2014-01-09  1.057921  0.855279\n",
       "2014-01-10  2.494401 -0.094579"
      ]
     },
     "execution_count": 61,
     "metadata": {},
     "output_type": "execute_result"
    }
   ],
   "source": [
    "df.loc[:,['A','B']]"
   ]
  },
  {
   "cell_type": "markdown",
   "id": "c96088b7",
   "metadata": {},
   "source": [
    "- For label slicing, both endpoints are included:"
   ]
  },
  {
   "cell_type": "code",
   "execution_count": 63,
   "id": "ce441c1a",
   "metadata": {},
   "outputs": [
    {
     "data": {
      "text/html": [
       "<div>\n",
       "<style scoped>\n",
       "    .dataframe tbody tr th:only-of-type {\n",
       "        vertical-align: middle;\n",
       "    }\n",
       "\n",
       "    .dataframe tbody tr th {\n",
       "        vertical-align: top;\n",
       "    }\n",
       "\n",
       "    .dataframe thead th {\n",
       "        text-align: right;\n",
       "    }\n",
       "</style>\n",
       "<table border=\"1\" class=\"dataframe\">\n",
       "  <thead>\n",
       "    <tr style=\"text-align: right;\">\n",
       "      <th></th>\n",
       "      <th>A</th>\n",
       "      <th>B</th>\n",
       "    </tr>\n",
       "  </thead>\n",
       "  <tbody>\n",
       "    <tr>\n",
       "      <th>2014-01-01</th>\n",
       "      <td>1.187559</td>\n",
       "      <td>0.482007</td>\n",
       "    </tr>\n",
       "    <tr>\n",
       "      <th>2014-01-02</th>\n",
       "      <td>1.002335</td>\n",
       "      <td>1.121448</td>\n",
       "    </tr>\n",
       "    <tr>\n",
       "      <th>2014-01-03</th>\n",
       "      <td>0.396296</td>\n",
       "      <td>-0.281746</td>\n",
       "    </tr>\n",
       "    <tr>\n",
       "      <th>2014-01-04</th>\n",
       "      <td>0.283642</td>\n",
       "      <td>-0.029515</td>\n",
       "    </tr>\n",
       "  </tbody>\n",
       "</table>\n",
       "</div>"
      ],
      "text/plain": [
       "                   A         B\n",
       "2014-01-01  1.187559  0.482007\n",
       "2014-01-02  1.002335  1.121448\n",
       "2014-01-03  0.396296 -0.281746\n",
       "2014-01-04  0.283642 -0.029515"
      ]
     },
     "execution_count": 63,
     "metadata": {},
     "output_type": "execute_result"
    }
   ],
   "source": [
    "df.loc['20140101':'20140104',['A','B']]"
   ]
  },
  {
   "cell_type": "markdown",
   "id": "78800e02",
   "metadata": {},
   "source": [
    "- Selecting a single row and column label returns a scalar:"
   ]
  },
  {
   "cell_type": "code",
   "execution_count": 66,
   "id": "80ef4131",
   "metadata": {},
   "outputs": [
    {
     "data": {
      "text/plain": [
       "np.float64(1.1875586204428668)"
      ]
     },
     "execution_count": 66,
     "metadata": {},
     "output_type": "execute_result"
    }
   ],
   "source": [
    "# print(df.loc[dates[0],'A'])\n",
    "df.loc[dates[0],'A']"
   ]
  },
  {
   "cell_type": "markdown",
   "id": "58a9778f",
   "metadata": {},
   "source": [
    "- For getting fast access to a scalar (equivalent to the prior method):"
   ]
  },
  {
   "cell_type": "code",
   "execution_count": 67,
   "id": "eddc4be5",
   "metadata": {},
   "outputs": [
    {
     "data": {
      "text/plain": [
       "np.float64(1.1875586204428668)"
      ]
     },
     "execution_count": 67,
     "metadata": {},
     "output_type": "execute_result"
    }
   ],
   "source": [
    "df.at[dates[0], 'A']"
   ]
  },
  {
   "cell_type": "markdown",
   "id": "87be9f0f",
   "metadata": {},
   "source": [
    "#### Selection by position\n",
    "- Select via the position of the passed integers:"
   ]
  },
  {
   "cell_type": "code",
   "execution_count": 69,
   "id": "43fd4c86",
   "metadata": {},
   "outputs": [
    {
     "data": {
      "text/plain": [
       "A    0.283642\n",
       "B   -0.029515\n",
       "C    1.270470\n",
       "D   -1.581270\n",
       "Name: 2014-01-04 00:00:00, dtype: float64"
      ]
     },
     "execution_count": 69,
     "metadata": {},
     "output_type": "execute_result"
    }
   ],
   "source": [
    "df.iloc[3]  # Selects the 4th row (index position 3) from the DataFrame df using integer-based indexing.\n",
    "#  Returns the row at position 3 (i.e., the 4th row).\n",
    "# .iloc[]:= Stands for integer-location., Used to access rows/columns by position, not by label.\n",
    "# "
   ]
  },
  {
   "cell_type": "markdown",
   "id": "bd3c240b",
   "metadata": {},
   "source": [
    "- Integer slices acts similar to NumPy/Python:"
   ]
  },
  {
   "cell_type": "code",
   "execution_count": null,
   "id": "60af12e0",
   "metadata": {},
   "outputs": [
    {
     "data": {
      "text/html": [
       "<div>\n",
       "<style scoped>\n",
       "    .dataframe tbody tr th:only-of-type {\n",
       "        vertical-align: middle;\n",
       "    }\n",
       "\n",
       "    .dataframe tbody tr th {\n",
       "        vertical-align: top;\n",
       "    }\n",
       "\n",
       "    .dataframe thead th {\n",
       "        text-align: right;\n",
       "    }\n",
       "</style>\n",
       "<table border=\"1\" class=\"dataframe\">\n",
       "  <thead>\n",
       "    <tr style=\"text-align: right;\">\n",
       "      <th></th>\n",
       "      <th>A</th>\n",
       "      <th>B</th>\n",
       "    </tr>\n",
       "  </thead>\n",
       "  <tbody>\n",
       "    <tr>\n",
       "      <th>2014-01-04</th>\n",
       "      <td>0.283642</td>\n",
       "      <td>-0.029515</td>\n",
       "    </tr>\n",
       "    <tr>\n",
       "      <th>2014-01-05</th>\n",
       "      <td>-0.403508</td>\n",
       "      <td>-0.396598</td>\n",
       "    </tr>\n",
       "  </tbody>\n",
       "</table>\n",
       "</div>"
      ],
      "text/plain": [
       "                   A         B\n",
       "2014-01-04  0.283642 -0.029515\n",
       "2014-01-05 -0.403508 -0.396598"
      ]
     },
     "execution_count": 70,
     "metadata": {},
     "output_type": "execute_result"
    }
   ],
   "source": [
    "df.iloc[3:5, 0:2]  # Selects rows 3 and 4 (index positions 3 to 4) and columns 0 and 1 from DataFrame df, using integer-based indexing.\n",
    "# 3:5 → rows at positions 3 and 4 (excludes 5)., 0:2 → columns at positions 0 and 1 (excludes 2)."
   ]
  },
  {
   "cell_type": "markdown",
   "id": "7609a571",
   "metadata": {},
   "source": [
    "- Lists of integer position locations:"
   ]
  },
  {
   "cell_type": "code",
   "execution_count": 72,
   "id": "1b6d6c04",
   "metadata": {},
   "outputs": [
    {
     "data": {
      "text/html": [
       "<div>\n",
       "<style scoped>\n",
       "    .dataframe tbody tr th:only-of-type {\n",
       "        vertical-align: middle;\n",
       "    }\n",
       "\n",
       "    .dataframe tbody tr th {\n",
       "        vertical-align: top;\n",
       "    }\n",
       "\n",
       "    .dataframe thead th {\n",
       "        text-align: right;\n",
       "    }\n",
       "</style>\n",
       "<table border=\"1\" class=\"dataframe\">\n",
       "  <thead>\n",
       "    <tr style=\"text-align: right;\">\n",
       "      <th></th>\n",
       "      <th>A</th>\n",
       "      <th>C</th>\n",
       "    </tr>\n",
       "  </thead>\n",
       "  <tbody>\n",
       "    <tr>\n",
       "      <th>2014-01-02</th>\n",
       "      <td>1.002335</td>\n",
       "      <td>-1.068504</td>\n",
       "    </tr>\n",
       "    <tr>\n",
       "      <th>2014-01-03</th>\n",
       "      <td>0.396296</td>\n",
       "      <td>0.636223</td>\n",
       "    </tr>\n",
       "    <tr>\n",
       "      <th>2014-01-04</th>\n",
       "      <td>0.283642</td>\n",
       "      <td>1.270470</td>\n",
       "    </tr>\n",
       "  </tbody>\n",
       "</table>\n",
       "</div>"
      ],
      "text/plain": [
       "                   A         C\n",
       "2014-01-02  1.002335 -1.068504\n",
       "2014-01-03  0.396296  0.636223\n",
       "2014-01-04  0.283642  1.270470"
      ]
     },
     "execution_count": 72,
     "metadata": {},
     "output_type": "execute_result"
    }
   ],
   "source": [
    "df.iloc[[1,2,3], [0,2]]  # Selects rows at positions 1, 2, 3 and columns at positions 0 and 2 from the DataFrame df using integer-based indexing.\n",
    "# rows → [1, 2, 3] (2nd, 3rd, and 4th rows), columns → [0, 2] (1st and 3rd columns)"
   ]
  },
  {
   "cell_type": "markdown",
   "id": "c310d279",
   "metadata": {},
   "source": [
    "- For slicing rows explicitly:"
   ]
  },
  {
   "cell_type": "code",
   "execution_count": 73,
   "id": "8ac0ef87",
   "metadata": {},
   "outputs": [
    {
     "data": {
      "text/html": [
       "<div>\n",
       "<style scoped>\n",
       "    .dataframe tbody tr th:only-of-type {\n",
       "        vertical-align: middle;\n",
       "    }\n",
       "\n",
       "    .dataframe tbody tr th {\n",
       "        vertical-align: top;\n",
       "    }\n",
       "\n",
       "    .dataframe thead th {\n",
       "        text-align: right;\n",
       "    }\n",
       "</style>\n",
       "<table border=\"1\" class=\"dataframe\">\n",
       "  <thead>\n",
       "    <tr style=\"text-align: right;\">\n",
       "      <th></th>\n",
       "      <th>A</th>\n",
       "      <th>B</th>\n",
       "      <th>C</th>\n",
       "      <th>D</th>\n",
       "    </tr>\n",
       "  </thead>\n",
       "  <tbody>\n",
       "    <tr>\n",
       "      <th>2014-01-02</th>\n",
       "      <td>1.002335</td>\n",
       "      <td>1.121448</td>\n",
       "      <td>-1.068504</td>\n",
       "      <td>-0.341395</td>\n",
       "    </tr>\n",
       "    <tr>\n",
       "      <th>2014-01-03</th>\n",
       "      <td>0.396296</td>\n",
       "      <td>-0.281746</td>\n",
       "      <td>0.636223</td>\n",
       "      <td>-0.473842</td>\n",
       "    </tr>\n",
       "  </tbody>\n",
       "</table>\n",
       "</div>"
      ],
      "text/plain": [
       "                   A         B         C         D\n",
       "2014-01-02  1.002335  1.121448 -1.068504 -0.341395\n",
       "2014-01-03  0.396296 -0.281746  0.636223 -0.473842"
      ]
     },
     "execution_count": 73,
     "metadata": {},
     "output_type": "execute_result"
    }
   ],
   "source": [
    "df.iloc[1:3, :]"
   ]
  },
  {
   "cell_type": "markdown",
   "id": "2c1499a7",
   "metadata": {},
   "source": [
    "- For slicing columns explicitly:"
   ]
  },
  {
   "cell_type": "code",
   "execution_count": 74,
   "id": "50443534",
   "metadata": {},
   "outputs": [
    {
     "data": {
      "text/html": [
       "<div>\n",
       "<style scoped>\n",
       "    .dataframe tbody tr th:only-of-type {\n",
       "        vertical-align: middle;\n",
       "    }\n",
       "\n",
       "    .dataframe tbody tr th {\n",
       "        vertical-align: top;\n",
       "    }\n",
       "\n",
       "    .dataframe thead th {\n",
       "        text-align: right;\n",
       "    }\n",
       "</style>\n",
       "<table border=\"1\" class=\"dataframe\">\n",
       "  <thead>\n",
       "    <tr style=\"text-align: right;\">\n",
       "      <th></th>\n",
       "      <th>B</th>\n",
       "      <th>C</th>\n",
       "    </tr>\n",
       "  </thead>\n",
       "  <tbody>\n",
       "    <tr>\n",
       "      <th>2014-01-01</th>\n",
       "      <td>0.482007</td>\n",
       "      <td>-0.122165</td>\n",
       "    </tr>\n",
       "    <tr>\n",
       "      <th>2014-01-02</th>\n",
       "      <td>1.121448</td>\n",
       "      <td>-1.068504</td>\n",
       "    </tr>\n",
       "    <tr>\n",
       "      <th>2014-01-03</th>\n",
       "      <td>-0.281746</td>\n",
       "      <td>0.636223</td>\n",
       "    </tr>\n",
       "    <tr>\n",
       "      <th>2014-01-04</th>\n",
       "      <td>-0.029515</td>\n",
       "      <td>1.270470</td>\n",
       "    </tr>\n",
       "    <tr>\n",
       "      <th>2014-01-05</th>\n",
       "      <td>-0.396598</td>\n",
       "      <td>-1.759281</td>\n",
       "    </tr>\n",
       "    <tr>\n",
       "      <th>2014-01-06</th>\n",
       "      <td>0.655618</td>\n",
       "      <td>-0.559479</td>\n",
       "    </tr>\n",
       "    <tr>\n",
       "      <th>2014-01-07</th>\n",
       "      <td>-0.437457</td>\n",
       "      <td>-0.108546</td>\n",
       "    </tr>\n",
       "    <tr>\n",
       "      <th>2014-01-08</th>\n",
       "      <td>2.018889</td>\n",
       "      <td>-1.379746</td>\n",
       "    </tr>\n",
       "    <tr>\n",
       "      <th>2014-01-09</th>\n",
       "      <td>0.855279</td>\n",
       "      <td>0.590098</td>\n",
       "    </tr>\n",
       "    <tr>\n",
       "      <th>2014-01-10</th>\n",
       "      <td>-0.094579</td>\n",
       "      <td>0.370613</td>\n",
       "    </tr>\n",
       "  </tbody>\n",
       "</table>\n",
       "</div>"
      ],
      "text/plain": [
       "                   B         C\n",
       "2014-01-01  0.482007 -0.122165\n",
       "2014-01-02  1.121448 -1.068504\n",
       "2014-01-03 -0.281746  0.636223\n",
       "2014-01-04 -0.029515  1.270470\n",
       "2014-01-05 -0.396598 -1.759281\n",
       "2014-01-06  0.655618 -0.559479\n",
       "2014-01-07 -0.437457 -0.108546\n",
       "2014-01-08  2.018889 -1.379746\n",
       "2014-01-09  0.855279  0.590098\n",
       "2014-01-10 -0.094579  0.370613"
      ]
     },
     "execution_count": 74,
     "metadata": {},
     "output_type": "execute_result"
    }
   ],
   "source": [
    "df.iloc[:, 1:3]"
   ]
  },
  {
   "cell_type": "markdown",
   "id": "61d3ed02",
   "metadata": {},
   "source": [
    "- For getting a value explicitly:"
   ]
  },
  {
   "cell_type": "code",
   "execution_count": 75,
   "id": "cd02fc65",
   "metadata": {},
   "outputs": [
    {
     "data": {
      "text/plain": [
       "np.float64(1.1214478478964671)"
      ]
     },
     "execution_count": 75,
     "metadata": {},
     "output_type": "execute_result"
    }
   ],
   "source": [
    "df.iloc[1,1]"
   ]
  },
  {
   "cell_type": "markdown",
   "id": "6de72b95",
   "metadata": {},
   "source": [
    "- For getting fast access to a scalar (equivalent to the prior method):"
   ]
  },
  {
   "cell_type": "code",
   "execution_count": 76,
   "id": "e3c02c49",
   "metadata": {},
   "outputs": [
    {
     "data": {
      "text/plain": [
       "np.float64(1.1214478478964671)"
      ]
     },
     "execution_count": 76,
     "metadata": {},
     "output_type": "execute_result"
    }
   ],
   "source": [
    "df.iat[1,1]"
   ]
  },
  {
   "cell_type": "markdown",
   "id": "a65228fa",
   "metadata": {},
   "source": [
    "## Boolean indexing\n",
    "- Select rows where df.A is greater than 0."
   ]
  },
  {
   "cell_type": "code",
   "execution_count": null,
   "id": "63a3e2cf",
   "metadata": {},
   "outputs": [
    {
     "data": {
      "text/html": [
       "<div>\n",
       "<style scoped>\n",
       "    .dataframe tbody tr th:only-of-type {\n",
       "        vertical-align: middle;\n",
       "    }\n",
       "\n",
       "    .dataframe tbody tr th {\n",
       "        vertical-align: top;\n",
       "    }\n",
       "\n",
       "    .dataframe thead th {\n",
       "        text-align: right;\n",
       "    }\n",
       "</style>\n",
       "<table border=\"1\" class=\"dataframe\">\n",
       "  <thead>\n",
       "    <tr style=\"text-align: right;\">\n",
       "      <th></th>\n",
       "      <th>A</th>\n",
       "      <th>B</th>\n",
       "      <th>C</th>\n",
       "      <th>D</th>\n",
       "    </tr>\n",
       "  </thead>\n",
       "  <tbody>\n",
       "    <tr>\n",
       "      <th>2014-01-07</th>\n",
       "      <td>2.297743</td>\n",
       "      <td>-0.437457</td>\n",
       "      <td>-0.108546</td>\n",
       "      <td>-0.157699</td>\n",
       "    </tr>\n",
       "    <tr>\n",
       "      <th>2014-01-10</th>\n",
       "      <td>2.494401</td>\n",
       "      <td>-0.094579</td>\n",
       "      <td>0.370613</td>\n",
       "      <td>-0.200282</td>\n",
       "    </tr>\n",
       "  </tbody>\n",
       "</table>\n",
       "</div>"
      ],
      "text/plain": [
       "                   A         B         C         D\n",
       "2014-01-07  2.297743 -0.437457 -0.108546 -0.157699\n",
       "2014-01-10  2.494401 -0.094579  0.370613 -0.200282"
      ]
     },
     "execution_count": 78,
     "metadata": {},
     "output_type": "execute_result"
    }
   ],
   "source": [
    "df[df['A']>2] # Returns only the rows where column 'A' has values greater than 2.\n",
    "#  df['A'] > 2 → creates a boolean Series (True/False for each row)., df[...] → filters rows where condition is True."
   ]
  },
  {
   "cell_type": "markdown",
   "id": "6e6d02d9",
   "metadata": {},
   "source": [
    "- Selecting values from a DataFrame where a boolean condition is met:"
   ]
  },
  {
   "cell_type": "code",
   "execution_count": 79,
   "id": "a4097e80",
   "metadata": {},
   "outputs": [
    {
     "data": {
      "text/html": [
       "<div>\n",
       "<style scoped>\n",
       "    .dataframe tbody tr th:only-of-type {\n",
       "        vertical-align: middle;\n",
       "    }\n",
       "\n",
       "    .dataframe tbody tr th {\n",
       "        vertical-align: top;\n",
       "    }\n",
       "\n",
       "    .dataframe thead th {\n",
       "        text-align: right;\n",
       "    }\n",
       "</style>\n",
       "<table border=\"1\" class=\"dataframe\">\n",
       "  <thead>\n",
       "    <tr style=\"text-align: right;\">\n",
       "      <th></th>\n",
       "      <th>A</th>\n",
       "      <th>B</th>\n",
       "      <th>C</th>\n",
       "      <th>D</th>\n",
       "    </tr>\n",
       "  </thead>\n",
       "  <tbody>\n",
       "    <tr>\n",
       "      <th>2014-01-01</th>\n",
       "      <td>1.187559</td>\n",
       "      <td>0.482007</td>\n",
       "      <td>NaN</td>\n",
       "      <td>NaN</td>\n",
       "    </tr>\n",
       "    <tr>\n",
       "      <th>2014-01-02</th>\n",
       "      <td>1.002335</td>\n",
       "      <td>1.121448</td>\n",
       "      <td>NaN</td>\n",
       "      <td>NaN</td>\n",
       "    </tr>\n",
       "    <tr>\n",
       "      <th>2014-01-03</th>\n",
       "      <td>0.396296</td>\n",
       "      <td>NaN</td>\n",
       "      <td>0.636223</td>\n",
       "      <td>NaN</td>\n",
       "    </tr>\n",
       "    <tr>\n",
       "      <th>2014-01-04</th>\n",
       "      <td>0.283642</td>\n",
       "      <td>NaN</td>\n",
       "      <td>1.270470</td>\n",
       "      <td>NaN</td>\n",
       "    </tr>\n",
       "    <tr>\n",
       "      <th>2014-01-05</th>\n",
       "      <td>NaN</td>\n",
       "      <td>NaN</td>\n",
       "      <td>NaN</td>\n",
       "      <td>0.331228</td>\n",
       "    </tr>\n",
       "    <tr>\n",
       "      <th>2014-01-06</th>\n",
       "      <td>0.099900</td>\n",
       "      <td>0.655618</td>\n",
       "      <td>NaN</td>\n",
       "      <td>0.440636</td>\n",
       "    </tr>\n",
       "    <tr>\n",
       "      <th>2014-01-07</th>\n",
       "      <td>2.297743</td>\n",
       "      <td>NaN</td>\n",
       "      <td>NaN</td>\n",
       "      <td>NaN</td>\n",
       "    </tr>\n",
       "    <tr>\n",
       "      <th>2014-01-08</th>\n",
       "      <td>0.289907</td>\n",
       "      <td>2.018889</td>\n",
       "      <td>NaN</td>\n",
       "      <td>0.842604</td>\n",
       "    </tr>\n",
       "    <tr>\n",
       "      <th>2014-01-09</th>\n",
       "      <td>1.057921</td>\n",
       "      <td>0.855279</td>\n",
       "      <td>0.590098</td>\n",
       "      <td>NaN</td>\n",
       "    </tr>\n",
       "    <tr>\n",
       "      <th>2014-01-10</th>\n",
       "      <td>2.494401</td>\n",
       "      <td>NaN</td>\n",
       "      <td>0.370613</td>\n",
       "      <td>NaN</td>\n",
       "    </tr>\n",
       "  </tbody>\n",
       "</table>\n",
       "</div>"
      ],
      "text/plain": [
       "                   A         B         C         D\n",
       "2014-01-01  1.187559  0.482007       NaN       NaN\n",
       "2014-01-02  1.002335  1.121448       NaN       NaN\n",
       "2014-01-03  0.396296       NaN  0.636223       NaN\n",
       "2014-01-04  0.283642       NaN  1.270470       NaN\n",
       "2014-01-05       NaN       NaN       NaN  0.331228\n",
       "2014-01-06  0.099900  0.655618       NaN  0.440636\n",
       "2014-01-07  2.297743       NaN       NaN       NaN\n",
       "2014-01-08  0.289907  2.018889       NaN  0.842604\n",
       "2014-01-09  1.057921  0.855279  0.590098       NaN\n",
       "2014-01-10  2.494401       NaN  0.370613       NaN"
      ]
     },
     "execution_count": 79,
     "metadata": {},
     "output_type": "execute_result"
    }
   ],
   "source": [
    "df[df>0]"
   ]
  },
  {
   "cell_type": "markdown",
   "id": "71e7e7ed",
   "metadata": {},
   "source": [
    "- Using isin() method for filtering:"
   ]
  },
  {
   "cell_type": "code",
   "execution_count": null,
   "id": "0a0eeaaf",
   "metadata": {},
   "outputs": [
    {
     "data": {
      "text/html": [
       "<div>\n",
       "<style scoped>\n",
       "    .dataframe tbody tr th:only-of-type {\n",
       "        vertical-align: middle;\n",
       "    }\n",
       "\n",
       "    .dataframe tbody tr th {\n",
       "        vertical-align: top;\n",
       "    }\n",
       "\n",
       "    .dataframe thead th {\n",
       "        text-align: right;\n",
       "    }\n",
       "</style>\n",
       "<table border=\"1\" class=\"dataframe\">\n",
       "  <thead>\n",
       "    <tr style=\"text-align: right;\">\n",
       "      <th></th>\n",
       "      <th>A</th>\n",
       "      <th>B</th>\n",
       "      <th>C</th>\n",
       "      <th>D</th>\n",
       "      <th>E</th>\n",
       "    </tr>\n",
       "  </thead>\n",
       "  <tbody>\n",
       "    <tr>\n",
       "      <th>2014-01-01</th>\n",
       "      <td>1.187559</td>\n",
       "      <td>0.482007</td>\n",
       "      <td>-0.122165</td>\n",
       "      <td>-0.037711</td>\n",
       "      <td>one</td>\n",
       "    </tr>\n",
       "    <tr>\n",
       "      <th>2014-01-02</th>\n",
       "      <td>1.002335</td>\n",
       "      <td>1.121448</td>\n",
       "      <td>-1.068504</td>\n",
       "      <td>-0.341395</td>\n",
       "      <td>one</td>\n",
       "    </tr>\n",
       "    <tr>\n",
       "      <th>2014-01-03</th>\n",
       "      <td>0.396296</td>\n",
       "      <td>-0.281746</td>\n",
       "      <td>0.636223</td>\n",
       "      <td>-0.473842</td>\n",
       "      <td>two</td>\n",
       "    </tr>\n",
       "    <tr>\n",
       "      <th>2014-01-04</th>\n",
       "      <td>0.283642</td>\n",
       "      <td>-0.029515</td>\n",
       "      <td>1.270470</td>\n",
       "      <td>-1.581270</td>\n",
       "      <td>three</td>\n",
       "    </tr>\n",
       "    <tr>\n",
       "      <th>2014-01-05</th>\n",
       "      <td>-0.403508</td>\n",
       "      <td>-0.396598</td>\n",
       "      <td>-1.759281</td>\n",
       "      <td>0.331228</td>\n",
       "      <td>four</td>\n",
       "    </tr>\n",
       "    <tr>\n",
       "      <th>2014-01-06</th>\n",
       "      <td>0.099900</td>\n",
       "      <td>0.655618</td>\n",
       "      <td>-0.559479</td>\n",
       "      <td>0.440636</td>\n",
       "      <td>five</td>\n",
       "    </tr>\n",
       "    <tr>\n",
       "      <th>2014-01-07</th>\n",
       "      <td>2.297743</td>\n",
       "      <td>-0.437457</td>\n",
       "      <td>-0.108546</td>\n",
       "      <td>-0.157699</td>\n",
       "      <td>six</td>\n",
       "    </tr>\n",
       "    <tr>\n",
       "      <th>2014-01-08</th>\n",
       "      <td>0.289907</td>\n",
       "      <td>2.018889</td>\n",
       "      <td>-1.379746</td>\n",
       "      <td>0.842604</td>\n",
       "      <td>seven</td>\n",
       "    </tr>\n",
       "    <tr>\n",
       "      <th>2014-01-09</th>\n",
       "      <td>1.057921</td>\n",
       "      <td>0.855279</td>\n",
       "      <td>0.590098</td>\n",
       "      <td>-0.599102</td>\n",
       "      <td>eight</td>\n",
       "    </tr>\n",
       "    <tr>\n",
       "      <th>2014-01-10</th>\n",
       "      <td>2.494401</td>\n",
       "      <td>-0.094579</td>\n",
       "      <td>0.370613</td>\n",
       "      <td>-0.200282</td>\n",
       "      <td>nine</td>\n",
       "    </tr>\n",
       "  </tbody>\n",
       "</table>\n",
       "</div>"
      ],
      "text/plain": [
       "                   A         B         C         D      E\n",
       "2014-01-01  1.187559  0.482007 -0.122165 -0.037711    one\n",
       "2014-01-02  1.002335  1.121448 -1.068504 -0.341395    one\n",
       "2014-01-03  0.396296 -0.281746  0.636223 -0.473842    two\n",
       "2014-01-04  0.283642 -0.029515  1.270470 -1.581270  three\n",
       "2014-01-05 -0.403508 -0.396598 -1.759281  0.331228   four\n",
       "2014-01-06  0.099900  0.655618 -0.559479  0.440636   five\n",
       "2014-01-07  2.297743 -0.437457 -0.108546 -0.157699    six\n",
       "2014-01-08  0.289907  2.018889 -1.379746  0.842604  seven\n",
       "2014-01-09  1.057921  0.855279  0.590098 -0.599102  eight\n",
       "2014-01-10  2.494401 -0.094579  0.370613 -0.200282   nine"
      ]
     },
     "execution_count": 87,
     "metadata": {},
     "output_type": "execute_result"
    }
   ],
   "source": [
    "df2= df.copy()\n",
    "df2['E'] = ['one', 'one', 'two','three','four','five','six','seven','eight','nine']  # add column\n",
    "df2"
   ]
  },
  {
   "cell_type": "code",
   "execution_count": 88,
   "id": "e2715699",
   "metadata": {},
   "outputs": [
    {
     "data": {
      "text/html": [
       "<div>\n",
       "<style scoped>\n",
       "    .dataframe tbody tr th:only-of-type {\n",
       "        vertical-align: middle;\n",
       "    }\n",
       "\n",
       "    .dataframe tbody tr th {\n",
       "        vertical-align: top;\n",
       "    }\n",
       "\n",
       "    .dataframe thead th {\n",
       "        text-align: right;\n",
       "    }\n",
       "</style>\n",
       "<table border=\"1\" class=\"dataframe\">\n",
       "  <thead>\n",
       "    <tr style=\"text-align: right;\">\n",
       "      <th></th>\n",
       "      <th>A</th>\n",
       "      <th>B</th>\n",
       "      <th>C</th>\n",
       "      <th>D</th>\n",
       "      <th>E</th>\n",
       "    </tr>\n",
       "  </thead>\n",
       "  <tbody>\n",
       "    <tr>\n",
       "      <th>2014-01-01</th>\n",
       "      <td>1.187559</td>\n",
       "      <td>0.482007</td>\n",
       "      <td>-0.122165</td>\n",
       "      <td>-0.037711</td>\n",
       "      <td>one</td>\n",
       "    </tr>\n",
       "    <tr>\n",
       "      <th>2014-01-02</th>\n",
       "      <td>1.002335</td>\n",
       "      <td>1.121448</td>\n",
       "      <td>-1.068504</td>\n",
       "      <td>-0.341395</td>\n",
       "      <td>one</td>\n",
       "    </tr>\n",
       "    <tr>\n",
       "      <th>2014-01-10</th>\n",
       "      <td>2.494401</td>\n",
       "      <td>-0.094579</td>\n",
       "      <td>0.370613</td>\n",
       "      <td>-0.200282</td>\n",
       "      <td>nine</td>\n",
       "    </tr>\n",
       "  </tbody>\n",
       "</table>\n",
       "</div>"
      ],
      "text/plain": [
       "                   A         B         C         D     E\n",
       "2014-01-01  1.187559  0.482007 -0.122165 -0.037711   one\n",
       "2014-01-02  1.002335  1.121448 -1.068504 -0.341395   one\n",
       "2014-01-10  2.494401 -0.094579  0.370613 -0.200282  nine"
      ]
     },
     "execution_count": 88,
     "metadata": {},
     "output_type": "execute_result"
    }
   ],
   "source": [
    "df2[df2['E'].isin(['one', 'nine'])]"
   ]
  },
  {
   "cell_type": "markdown",
   "id": "dd366aca",
   "metadata": {},
   "source": [
    "#### Setting\n",
    "- Setting a new column automatically aligns the data by the indexes:"
   ]
  },
  {
   "cell_type": "code",
   "execution_count": 90,
   "id": "5247f987",
   "metadata": {},
   "outputs": [
    {
     "data": {
      "text/plain": [
       "2014-01-01    1\n",
       "2014-01-02    2\n",
       "2014-01-03    3\n",
       "2014-01-04    4\n",
       "2014-01-05    5\n",
       "2014-01-06    6\n",
       "Freq: D, dtype: int64"
      ]
     },
     "execution_count": 90,
     "metadata": {},
     "output_type": "execute_result"
    }
   ],
   "source": [
    "s1 = pd.Series([1,2,3,4,5,6], index=pd.date_range('20140101', periods=6))\n",
    "s1"
   ]
  },
  {
   "cell_type": "code",
   "execution_count": 91,
   "id": "bcef73bd",
   "metadata": {},
   "outputs": [],
   "source": [
    "df['F'] = s1"
   ]
  },
  {
   "cell_type": "markdown",
   "id": "00cedb72",
   "metadata": {},
   "source": [
    "- Setting values by label:"
   ]
  },
  {
   "cell_type": "code",
   "execution_count": 93,
   "id": "28cbbdb8",
   "metadata": {},
   "outputs": [],
   "source": [
    "df.at[dates[0], 'A'] = 0"
   ]
  },
  {
   "cell_type": "markdown",
   "id": "096087c0",
   "metadata": {},
   "source": [
    "- Setting values by position:"
   ]
  },
  {
   "cell_type": "code",
   "execution_count": 94,
   "id": "95856f1e",
   "metadata": {},
   "outputs": [],
   "source": [
    "df.iat[1,2] = 0"
   ]
  },
  {
   "cell_type": "markdown",
   "id": "a0b46ff1",
   "metadata": {},
   "source": [
    "- Setting by assigning with a NumPy array:"
   ]
  },
  {
   "cell_type": "code",
   "execution_count": null,
   "id": "9deb9a1d",
   "metadata": {},
   "outputs": [],
   "source": [
    "df.loc[:, 'D']  = np.array([5] * len(df))\n"
   ]
  },
  {
   "cell_type": "markdown",
   "id": "22ea68ab",
   "metadata": {},
   "source": [
    "- The result of the prior setting operations:"
   ]
  },
  {
   "cell_type": "code",
   "execution_count": 96,
   "id": "ca204a17",
   "metadata": {},
   "outputs": [
    {
     "data": {
      "text/html": [
       "<div>\n",
       "<style scoped>\n",
       "    .dataframe tbody tr th:only-of-type {\n",
       "        vertical-align: middle;\n",
       "    }\n",
       "\n",
       "    .dataframe tbody tr th {\n",
       "        vertical-align: top;\n",
       "    }\n",
       "\n",
       "    .dataframe thead th {\n",
       "        text-align: right;\n",
       "    }\n",
       "</style>\n",
       "<table border=\"1\" class=\"dataframe\">\n",
       "  <thead>\n",
       "    <tr style=\"text-align: right;\">\n",
       "      <th></th>\n",
       "      <th>A</th>\n",
       "      <th>B</th>\n",
       "      <th>C</th>\n",
       "      <th>D</th>\n",
       "      <th>F</th>\n",
       "    </tr>\n",
       "  </thead>\n",
       "  <tbody>\n",
       "    <tr>\n",
       "      <th>2014-01-01</th>\n",
       "      <td>0.000000</td>\n",
       "      <td>0.482007</td>\n",
       "      <td>-0.122165</td>\n",
       "      <td>5.0</td>\n",
       "      <td>1.0</td>\n",
       "    </tr>\n",
       "    <tr>\n",
       "      <th>2014-01-02</th>\n",
       "      <td>1.002335</td>\n",
       "      <td>1.121448</td>\n",
       "      <td>0.000000</td>\n",
       "      <td>5.0</td>\n",
       "      <td>2.0</td>\n",
       "    </tr>\n",
       "    <tr>\n",
       "      <th>2014-01-03</th>\n",
       "      <td>0.396296</td>\n",
       "      <td>-0.281746</td>\n",
       "      <td>0.636223</td>\n",
       "      <td>5.0</td>\n",
       "      <td>3.0</td>\n",
       "    </tr>\n",
       "    <tr>\n",
       "      <th>2014-01-04</th>\n",
       "      <td>0.283642</td>\n",
       "      <td>-0.029515</td>\n",
       "      <td>1.270470</td>\n",
       "      <td>5.0</td>\n",
       "      <td>4.0</td>\n",
       "    </tr>\n",
       "    <tr>\n",
       "      <th>2014-01-05</th>\n",
       "      <td>-0.403508</td>\n",
       "      <td>-0.396598</td>\n",
       "      <td>-1.759281</td>\n",
       "      <td>5.0</td>\n",
       "      <td>5.0</td>\n",
       "    </tr>\n",
       "    <tr>\n",
       "      <th>2014-01-06</th>\n",
       "      <td>0.099900</td>\n",
       "      <td>0.655618</td>\n",
       "      <td>-0.559479</td>\n",
       "      <td>5.0</td>\n",
       "      <td>6.0</td>\n",
       "    </tr>\n",
       "    <tr>\n",
       "      <th>2014-01-07</th>\n",
       "      <td>2.297743</td>\n",
       "      <td>-0.437457</td>\n",
       "      <td>-0.108546</td>\n",
       "      <td>5.0</td>\n",
       "      <td>NaN</td>\n",
       "    </tr>\n",
       "    <tr>\n",
       "      <th>2014-01-08</th>\n",
       "      <td>0.289907</td>\n",
       "      <td>2.018889</td>\n",
       "      <td>-1.379746</td>\n",
       "      <td>5.0</td>\n",
       "      <td>NaN</td>\n",
       "    </tr>\n",
       "    <tr>\n",
       "      <th>2014-01-09</th>\n",
       "      <td>1.057921</td>\n",
       "      <td>0.855279</td>\n",
       "      <td>0.590098</td>\n",
       "      <td>5.0</td>\n",
       "      <td>NaN</td>\n",
       "    </tr>\n",
       "    <tr>\n",
       "      <th>2014-01-10</th>\n",
       "      <td>2.494401</td>\n",
       "      <td>-0.094579</td>\n",
       "      <td>0.370613</td>\n",
       "      <td>5.0</td>\n",
       "      <td>NaN</td>\n",
       "    </tr>\n",
       "  </tbody>\n",
       "</table>\n",
       "</div>"
      ],
      "text/plain": [
       "                   A         B         C    D    F\n",
       "2014-01-01  0.000000  0.482007 -0.122165  5.0  1.0\n",
       "2014-01-02  1.002335  1.121448  0.000000  5.0  2.0\n",
       "2014-01-03  0.396296 -0.281746  0.636223  5.0  3.0\n",
       "2014-01-04  0.283642 -0.029515  1.270470  5.0  4.0\n",
       "2014-01-05 -0.403508 -0.396598 -1.759281  5.0  5.0\n",
       "2014-01-06  0.099900  0.655618 -0.559479  5.0  6.0\n",
       "2014-01-07  2.297743 -0.437457 -0.108546  5.0  NaN\n",
       "2014-01-08  0.289907  2.018889 -1.379746  5.0  NaN\n",
       "2014-01-09  1.057921  0.855279  0.590098  5.0  NaN\n",
       "2014-01-10  2.494401 -0.094579  0.370613  5.0  NaN"
      ]
     },
     "execution_count": 96,
     "metadata": {},
     "output_type": "execute_result"
    }
   ],
   "source": [
    "df"
   ]
  },
  {
   "cell_type": "markdown",
   "id": "eab5f14f",
   "metadata": {},
   "source": [
    "- A where operation with setting:"
   ]
  },
  {
   "cell_type": "code",
   "execution_count": null,
   "id": "2bbf8702",
   "metadata": {},
   "outputs": [
    {
     "data": {
      "text/html": [
       "<div>\n",
       "<style scoped>\n",
       "    .dataframe tbody tr th:only-of-type {\n",
       "        vertical-align: middle;\n",
       "    }\n",
       "\n",
       "    .dataframe tbody tr th {\n",
       "        vertical-align: top;\n",
       "    }\n",
       "\n",
       "    .dataframe thead th {\n",
       "        text-align: right;\n",
       "    }\n",
       "</style>\n",
       "<table border=\"1\" class=\"dataframe\">\n",
       "  <thead>\n",
       "    <tr style=\"text-align: right;\">\n",
       "      <th></th>\n",
       "      <th>A</th>\n",
       "      <th>B</th>\n",
       "      <th>C</th>\n",
       "      <th>D</th>\n",
       "      <th>F</th>\n",
       "    </tr>\n",
       "  </thead>\n",
       "  <tbody>\n",
       "    <tr>\n",
       "      <th>2014-01-01</th>\n",
       "      <td>0.000000</td>\n",
       "      <td>-0.482007</td>\n",
       "      <td>-0.122165</td>\n",
       "      <td>-5.0</td>\n",
       "      <td>-1.0</td>\n",
       "    </tr>\n",
       "    <tr>\n",
       "      <th>2014-01-02</th>\n",
       "      <td>-1.002335</td>\n",
       "      <td>-1.121448</td>\n",
       "      <td>0.000000</td>\n",
       "      <td>-5.0</td>\n",
       "      <td>-2.0</td>\n",
       "    </tr>\n",
       "    <tr>\n",
       "      <th>2014-01-03</th>\n",
       "      <td>-0.396296</td>\n",
       "      <td>-0.281746</td>\n",
       "      <td>-0.636223</td>\n",
       "      <td>-5.0</td>\n",
       "      <td>-3.0</td>\n",
       "    </tr>\n",
       "    <tr>\n",
       "      <th>2014-01-04</th>\n",
       "      <td>-0.283642</td>\n",
       "      <td>-0.029515</td>\n",
       "      <td>-1.270470</td>\n",
       "      <td>-5.0</td>\n",
       "      <td>-4.0</td>\n",
       "    </tr>\n",
       "    <tr>\n",
       "      <th>2014-01-05</th>\n",
       "      <td>-0.403508</td>\n",
       "      <td>-0.396598</td>\n",
       "      <td>-1.759281</td>\n",
       "      <td>-5.0</td>\n",
       "      <td>-5.0</td>\n",
       "    </tr>\n",
       "    <tr>\n",
       "      <th>2014-01-06</th>\n",
       "      <td>-0.099900</td>\n",
       "      <td>-0.655618</td>\n",
       "      <td>-0.559479</td>\n",
       "      <td>-5.0</td>\n",
       "      <td>-6.0</td>\n",
       "    </tr>\n",
       "    <tr>\n",
       "      <th>2014-01-07</th>\n",
       "      <td>-2.297743</td>\n",
       "      <td>-0.437457</td>\n",
       "      <td>-0.108546</td>\n",
       "      <td>-5.0</td>\n",
       "      <td>NaN</td>\n",
       "    </tr>\n",
       "    <tr>\n",
       "      <th>2014-01-08</th>\n",
       "      <td>-0.289907</td>\n",
       "      <td>-2.018889</td>\n",
       "      <td>-1.379746</td>\n",
       "      <td>-5.0</td>\n",
       "      <td>NaN</td>\n",
       "    </tr>\n",
       "    <tr>\n",
       "      <th>2014-01-09</th>\n",
       "      <td>-1.057921</td>\n",
       "      <td>-0.855279</td>\n",
       "      <td>-0.590098</td>\n",
       "      <td>-5.0</td>\n",
       "      <td>NaN</td>\n",
       "    </tr>\n",
       "    <tr>\n",
       "      <th>2014-01-10</th>\n",
       "      <td>-2.494401</td>\n",
       "      <td>-0.094579</td>\n",
       "      <td>-0.370613</td>\n",
       "      <td>-5.0</td>\n",
       "      <td>NaN</td>\n",
       "    </tr>\n",
       "  </tbody>\n",
       "</table>\n",
       "</div>"
      ],
      "text/plain": [
       "                   A         B         C    D    F\n",
       "2014-01-01  0.000000 -0.482007 -0.122165 -5.0 -1.0\n",
       "2014-01-02 -1.002335 -1.121448  0.000000 -5.0 -2.0\n",
       "2014-01-03 -0.396296 -0.281746 -0.636223 -5.0 -3.0\n",
       "2014-01-04 -0.283642 -0.029515 -1.270470 -5.0 -4.0\n",
       "2014-01-05 -0.403508 -0.396598 -1.759281 -5.0 -5.0\n",
       "2014-01-06 -0.099900 -0.655618 -0.559479 -5.0 -6.0\n",
       "2014-01-07 -2.297743 -0.437457 -0.108546 -5.0  NaN\n",
       "2014-01-08 -0.289907 -2.018889 -1.379746 -5.0  NaN\n",
       "2014-01-09 -1.057921 -0.855279 -0.590098 -5.0  NaN\n",
       "2014-01-10 -2.494401 -0.094579 -0.370613 -5.0  NaN"
      ]
     },
     "execution_count": 97,
     "metadata": {},
     "output_type": "execute_result"
    }
   ],
   "source": [
    "df2 = df.copy()\n",
    "df2[df2>0] = -df2\n",
    "df2"
   ]
  }
 ],
 "metadata": {
  "kernelspec": {
   "display_name": "mlatest_env",
   "language": "python",
   "name": "python3"
  },
  "language_info": {
   "codemirror_mode": {
    "name": "ipython",
    "version": 3
   },
   "file_extension": ".py",
   "mimetype": "text/x-python",
   "name": "python",
   "nbconvert_exporter": "python",
   "pygments_lexer": "ipython3",
   "version": "3.13.2"
  }
 },
 "nbformat": 4,
 "nbformat_minor": 5
}
