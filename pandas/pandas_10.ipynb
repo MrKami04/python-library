{
 "cells": [
  {
   "cell_type": "markdown",
   "id": "55185453",
   "metadata": {},
   "source": [
    "# pandas in  10 minutes\n",
    "- this is short introduction of pandas and for more complex study [Cookbook](https://pandas.pydata.org/docs/user_guide/cookbook.html#cookbook)\n"
   ]
  },
  {
   "cell_type": "code",
   "execution_count": 1,
   "id": "e1b910db",
   "metadata": {},
   "outputs": [],
   "source": [
    "# import library as \n",
    "import numpy as np\n",
    "import pandas as pd"
   ]
  },
  {
   "cell_type": "markdown",
   "id": "9626ba18",
   "metadata": {},
   "source": [
    "## Basic data sturcture in pandas\n",
    "- pandasprovides two type of classes for handling data:\n",
    "1. Series: a one-dimensional labeled array holding data of any type\n",
    "such as integers, strings, Python objects etc\n",
    "2. DataFrame: a two-dimensional data structure that holds data like a two-dimension array or a table with rows and columns."
   ]
  },
  {
   "cell_type": "code",
   "execution_count": 2,
   "id": "1907ae7f",
   "metadata": {},
   "outputs": [
    {
     "data": {
      "text/plain": [
       "DatetimeIndex(['2014-01-01', '2014-01-02', '2014-01-03', '2014-01-04',\n",
       "               '2014-01-05', '2014-01-06', '2014-01-07', '2014-01-08',\n",
       "               '2014-01-09', '2014-01-10'],\n",
       "              dtype='datetime64[ns]', freq='D')"
      ]
     },
     "execution_count": 2,
     "metadata": {},
     "output_type": "execute_result"
    }
   ],
   "source": [
    "dates = pd.date_range('20140101',periods=10)\n",
    "# Creates a DatetimeIndex of 10 sequential dates starting from '2014-01-01', used to label the rows (index) in a DataFrame.\n",
    "dates"
   ]
  },
  {
   "cell_type": "code",
   "execution_count": 3,
   "id": "cb8edb53",
   "metadata": {},
   "outputs": [
    {
     "data": {
      "text/html": [
       "<div>\n",
       "<style scoped>\n",
       "    .dataframe tbody tr th:only-of-type {\n",
       "        vertical-align: middle;\n",
       "    }\n",
       "\n",
       "    .dataframe tbody tr th {\n",
       "        vertical-align: top;\n",
       "    }\n",
       "\n",
       "    .dataframe thead th {\n",
       "        text-align: right;\n",
       "    }\n",
       "</style>\n",
       "<table border=\"1\" class=\"dataframe\">\n",
       "  <thead>\n",
       "    <tr style=\"text-align: right;\">\n",
       "      <th></th>\n",
       "      <th>A</th>\n",
       "      <th>B</th>\n",
       "      <th>C</th>\n",
       "      <th>D</th>\n",
       "    </tr>\n",
       "  </thead>\n",
       "  <tbody>\n",
       "    <tr>\n",
       "      <th>2014-01-01</th>\n",
       "      <td>1.569233</td>\n",
       "      <td>-0.678559</td>\n",
       "      <td>0.067050</td>\n",
       "      <td>0.819036</td>\n",
       "    </tr>\n",
       "    <tr>\n",
       "      <th>2014-01-02</th>\n",
       "      <td>-0.481405</td>\n",
       "      <td>-0.192512</td>\n",
       "      <td>0.947463</td>\n",
       "      <td>0.806320</td>\n",
       "    </tr>\n",
       "    <tr>\n",
       "      <th>2014-01-03</th>\n",
       "      <td>-0.864873</td>\n",
       "      <td>-1.100285</td>\n",
       "      <td>-0.093128</td>\n",
       "      <td>0.494835</td>\n",
       "    </tr>\n",
       "    <tr>\n",
       "      <th>2014-01-04</th>\n",
       "      <td>-0.198615</td>\n",
       "      <td>0.344250</td>\n",
       "      <td>-1.704664</td>\n",
       "      <td>1.265533</td>\n",
       "    </tr>\n",
       "    <tr>\n",
       "      <th>2014-01-05</th>\n",
       "      <td>0.138431</td>\n",
       "      <td>0.729905</td>\n",
       "      <td>-2.103799</td>\n",
       "      <td>-0.380120</td>\n",
       "    </tr>\n",
       "    <tr>\n",
       "      <th>2014-01-06</th>\n",
       "      <td>0.024959</td>\n",
       "      <td>0.416609</td>\n",
       "      <td>1.561498</td>\n",
       "      <td>-0.088178</td>\n",
       "    </tr>\n",
       "    <tr>\n",
       "      <th>2014-01-07</th>\n",
       "      <td>-0.324380</td>\n",
       "      <td>-0.401447</td>\n",
       "      <td>-0.039363</td>\n",
       "      <td>-1.063489</td>\n",
       "    </tr>\n",
       "    <tr>\n",
       "      <th>2014-01-08</th>\n",
       "      <td>-1.844305</td>\n",
       "      <td>0.490536</td>\n",
       "      <td>1.218289</td>\n",
       "      <td>-0.304004</td>\n",
       "    </tr>\n",
       "    <tr>\n",
       "      <th>2014-01-09</th>\n",
       "      <td>-0.092354</td>\n",
       "      <td>-0.800876</td>\n",
       "      <td>0.492006</td>\n",
       "      <td>-1.140210</td>\n",
       "    </tr>\n",
       "    <tr>\n",
       "      <th>2014-01-10</th>\n",
       "      <td>0.623552</td>\n",
       "      <td>0.286183</td>\n",
       "      <td>1.184754</td>\n",
       "      <td>0.574648</td>\n",
       "    </tr>\n",
       "  </tbody>\n",
       "</table>\n",
       "</div>"
      ],
      "text/plain": [
       "                   A         B         C         D\n",
       "2014-01-01  1.569233 -0.678559  0.067050  0.819036\n",
       "2014-01-02 -0.481405 -0.192512  0.947463  0.806320\n",
       "2014-01-03 -0.864873 -1.100285 -0.093128  0.494835\n",
       "2014-01-04 -0.198615  0.344250 -1.704664  1.265533\n",
       "2014-01-05  0.138431  0.729905 -2.103799 -0.380120\n",
       "2014-01-06  0.024959  0.416609  1.561498 -0.088178\n",
       "2014-01-07 -0.324380 -0.401447 -0.039363 -1.063489\n",
       "2014-01-08 -1.844305  0.490536  1.218289 -0.304004\n",
       "2014-01-09 -0.092354 -0.800876  0.492006 -1.140210\n",
       "2014-01-10  0.623552  0.286183  1.184754  0.574648"
      ]
     },
     "execution_count": 3,
     "metadata": {},
     "output_type": "execute_result"
    }
   ],
   "source": [
    "df = pd.DataFrame(np.random.randn(10,4), index=dates, columns=list('ABCD'))\n",
    "# A DataFrame with 10 rows (indexed by dates), 4 columns labeled 'A', 'B', 'C', 'D', filled with random values.\n",
    "df"
   ]
  },
  {
   "cell_type": "markdown",
   "id": "0119c3eb",
   "metadata": {},
   "source": [
    "#### Creating a DataFrame by passing a dictionary of objects where the keys are the column labels and the values are the column values."
   ]
  },
  {
   "cell_type": "code",
   "execution_count": 4,
   "id": "55d1a920",
   "metadata": {},
   "outputs": [
    {
     "data": {
      "text/html": [
       "<div>\n",
       "<style scoped>\n",
       "    .dataframe tbody tr th:only-of-type {\n",
       "        vertical-align: middle;\n",
       "    }\n",
       "\n",
       "    .dataframe tbody tr th {\n",
       "        vertical-align: top;\n",
       "    }\n",
       "\n",
       "    .dataframe thead th {\n",
       "        text-align: right;\n",
       "    }\n",
       "</style>\n",
       "<table border=\"1\" class=\"dataframe\">\n",
       "  <thead>\n",
       "    <tr style=\"text-align: right;\">\n",
       "      <th></th>\n",
       "      <th>A</th>\n",
       "      <th>B</th>\n",
       "      <th>C</th>\n",
       "      <th>D</th>\n",
       "      <th>E</th>\n",
       "      <th>F</th>\n",
       "    </tr>\n",
       "  </thead>\n",
       "  <tbody>\n",
       "    <tr>\n",
       "      <th>0</th>\n",
       "      <td>1.0</td>\n",
       "      <td>2013-02-02</td>\n",
       "      <td>1.0</td>\n",
       "      <td>3</td>\n",
       "      <td>train</td>\n",
       "      <td>foo</td>\n",
       "    </tr>\n",
       "    <tr>\n",
       "      <th>1</th>\n",
       "      <td>1.0</td>\n",
       "      <td>2013-02-02</td>\n",
       "      <td>1.0</td>\n",
       "      <td>3</td>\n",
       "      <td>test</td>\n",
       "      <td>foo</td>\n",
       "    </tr>\n",
       "    <tr>\n",
       "      <th>2</th>\n",
       "      <td>1.0</td>\n",
       "      <td>2013-02-02</td>\n",
       "      <td>1.0</td>\n",
       "      <td>3</td>\n",
       "      <td>train</td>\n",
       "      <td>foo</td>\n",
       "    </tr>\n",
       "    <tr>\n",
       "      <th>3</th>\n",
       "      <td>1.0</td>\n",
       "      <td>2013-02-02</td>\n",
       "      <td>1.0</td>\n",
       "      <td>3</td>\n",
       "      <td>test</td>\n",
       "      <td>foo</td>\n",
       "    </tr>\n",
       "  </tbody>\n",
       "</table>\n",
       "</div>"
      ],
      "text/plain": [
       "     A          B    C  D      E    F\n",
       "0  1.0 2013-02-02  1.0  3  train  foo\n",
       "1  1.0 2013-02-02  1.0  3   test  foo\n",
       "2  1.0 2013-02-02  1.0  3  train  foo\n",
       "3  1.0 2013-02-02  1.0  3   test  foo"
      ]
     },
     "execution_count": 4,
     "metadata": {},
     "output_type": "execute_result"
    }
   ],
   "source": [
    "df2 = pd.DataFrame({\n",
    "    'A': 1.0,\n",
    "    'B':pd.Timestamp('20130202'),\n",
    "    'C': pd.Series(1, index=list(range(4)), dtype='float32'),\n",
    "    'D': np.array([3]*4, dtype='int32'),\n",
    "    'E': pd.Categorical(['train','test','train','test']),\n",
    "    'F': 'foo' \n",
    "}\n",
    ")\n",
    "df2"
   ]
  },
  {
   "cell_type": "markdown",
   "id": "d9e2ee28",
   "metadata": {},
   "source": [
    "- columns of dataframe has different dtype "
   ]
  },
  {
   "cell_type": "code",
   "execution_count": 5,
   "id": "95d8f724",
   "metadata": {},
   "outputs": [
    {
     "data": {
      "text/plain": [
       "A          float64\n",
       "B    datetime64[s]\n",
       "C          float32\n",
       "D            int32\n",
       "E         category\n",
       "F           object\n",
       "dtype: object"
      ]
     },
     "execution_count": 5,
     "metadata": {},
     "output_type": "execute_result"
    }
   ],
   "source": [
    "df2.dtypes"
   ]
  },
  {
   "cell_type": "markdown",
   "id": "a8aa2fa4",
   "metadata": {},
   "source": [
    "## Viewing data\n",
    "- use dataframe.head() and dataframe.tail() , we can see first and last five rows of data."
   ]
  },
  {
   "cell_type": "code",
   "execution_count": 6,
   "id": "10010c62",
   "metadata": {},
   "outputs": [
    {
     "data": {
      "text/html": [
       "<div>\n",
       "<style scoped>\n",
       "    .dataframe tbody tr th:only-of-type {\n",
       "        vertical-align: middle;\n",
       "    }\n",
       "\n",
       "    .dataframe tbody tr th {\n",
       "        vertical-align: top;\n",
       "    }\n",
       "\n",
       "    .dataframe thead th {\n",
       "        text-align: right;\n",
       "    }\n",
       "</style>\n",
       "<table border=\"1\" class=\"dataframe\">\n",
       "  <thead>\n",
       "    <tr style=\"text-align: right;\">\n",
       "      <th></th>\n",
       "      <th>A</th>\n",
       "      <th>B</th>\n",
       "      <th>C</th>\n",
       "      <th>D</th>\n",
       "    </tr>\n",
       "  </thead>\n",
       "  <tbody>\n",
       "    <tr>\n",
       "      <th>2014-01-01</th>\n",
       "      <td>1.569233</td>\n",
       "      <td>-0.678559</td>\n",
       "      <td>0.067050</td>\n",
       "      <td>0.819036</td>\n",
       "    </tr>\n",
       "    <tr>\n",
       "      <th>2014-01-02</th>\n",
       "      <td>-0.481405</td>\n",
       "      <td>-0.192512</td>\n",
       "      <td>0.947463</td>\n",
       "      <td>0.806320</td>\n",
       "    </tr>\n",
       "    <tr>\n",
       "      <th>2014-01-03</th>\n",
       "      <td>-0.864873</td>\n",
       "      <td>-1.100285</td>\n",
       "      <td>-0.093128</td>\n",
       "      <td>0.494835</td>\n",
       "    </tr>\n",
       "    <tr>\n",
       "      <th>2014-01-04</th>\n",
       "      <td>-0.198615</td>\n",
       "      <td>0.344250</td>\n",
       "      <td>-1.704664</td>\n",
       "      <td>1.265533</td>\n",
       "    </tr>\n",
       "    <tr>\n",
       "      <th>2014-01-05</th>\n",
       "      <td>0.138431</td>\n",
       "      <td>0.729905</td>\n",
       "      <td>-2.103799</td>\n",
       "      <td>-0.380120</td>\n",
       "    </tr>\n",
       "  </tbody>\n",
       "</table>\n",
       "</div>"
      ],
      "text/plain": [
       "                   A         B         C         D\n",
       "2014-01-01  1.569233 -0.678559  0.067050  0.819036\n",
       "2014-01-02 -0.481405 -0.192512  0.947463  0.806320\n",
       "2014-01-03 -0.864873 -1.100285 -0.093128  0.494835\n",
       "2014-01-04 -0.198615  0.344250 -1.704664  1.265533\n",
       "2014-01-05  0.138431  0.729905 -2.103799 -0.380120"
      ]
     },
     "execution_count": 6,
     "metadata": {},
     "output_type": "execute_result"
    }
   ],
   "source": [
    "df.head()  # first or top five rows of data show in output"
   ]
  },
  {
   "cell_type": "code",
   "execution_count": 7,
   "id": "b962bc48",
   "metadata": {},
   "outputs": [
    {
     "data": {
      "text/html": [
       "<div>\n",
       "<style scoped>\n",
       "    .dataframe tbody tr th:only-of-type {\n",
       "        vertical-align: middle;\n",
       "    }\n",
       "\n",
       "    .dataframe tbody tr th {\n",
       "        vertical-align: top;\n",
       "    }\n",
       "\n",
       "    .dataframe thead th {\n",
       "        text-align: right;\n",
       "    }\n",
       "</style>\n",
       "<table border=\"1\" class=\"dataframe\">\n",
       "  <thead>\n",
       "    <tr style=\"text-align: right;\">\n",
       "      <th></th>\n",
       "      <th>A</th>\n",
       "      <th>B</th>\n",
       "      <th>C</th>\n",
       "      <th>D</th>\n",
       "    </tr>\n",
       "  </thead>\n",
       "  <tbody>\n",
       "    <tr>\n",
       "      <th>2014-01-06</th>\n",
       "      <td>0.024959</td>\n",
       "      <td>0.416609</td>\n",
       "      <td>1.561498</td>\n",
       "      <td>-0.088178</td>\n",
       "    </tr>\n",
       "    <tr>\n",
       "      <th>2014-01-07</th>\n",
       "      <td>-0.324380</td>\n",
       "      <td>-0.401447</td>\n",
       "      <td>-0.039363</td>\n",
       "      <td>-1.063489</td>\n",
       "    </tr>\n",
       "    <tr>\n",
       "      <th>2014-01-08</th>\n",
       "      <td>-1.844305</td>\n",
       "      <td>0.490536</td>\n",
       "      <td>1.218289</td>\n",
       "      <td>-0.304004</td>\n",
       "    </tr>\n",
       "    <tr>\n",
       "      <th>2014-01-09</th>\n",
       "      <td>-0.092354</td>\n",
       "      <td>-0.800876</td>\n",
       "      <td>0.492006</td>\n",
       "      <td>-1.140210</td>\n",
       "    </tr>\n",
       "    <tr>\n",
       "      <th>2014-01-10</th>\n",
       "      <td>0.623552</td>\n",
       "      <td>0.286183</td>\n",
       "      <td>1.184754</td>\n",
       "      <td>0.574648</td>\n",
       "    </tr>\n",
       "  </tbody>\n",
       "</table>\n",
       "</div>"
      ],
      "text/plain": [
       "                   A         B         C         D\n",
       "2014-01-06  0.024959  0.416609  1.561498 -0.088178\n",
       "2014-01-07 -0.324380 -0.401447 -0.039363 -1.063489\n",
       "2014-01-08 -1.844305  0.490536  1.218289 -0.304004\n",
       "2014-01-09 -0.092354 -0.800876  0.492006 -1.140210\n",
       "2014-01-10  0.623552  0.286183  1.184754  0.574648"
      ]
     },
     "execution_count": 7,
     "metadata": {},
     "output_type": "execute_result"
    }
   ],
   "source": [
    "df.tail()  # last or bottom five rows of data show in output."
   ]
  },
  {
   "cell_type": "markdown",
   "id": "889c9c70",
   "metadata": {},
   "source": [
    "- displaying dataframe.index or dataframe. columns means that show all columns name in dataset."
   ]
  },
  {
   "cell_type": "code",
   "execution_count": 8,
   "id": "af5c1ec7",
   "metadata": {},
   "outputs": [
    {
     "data": {
      "text/plain": [
       "DatetimeIndex(['2014-01-01', '2014-01-02', '2014-01-03', '2014-01-04',\n",
       "               '2014-01-05', '2014-01-06', '2014-01-07', '2014-01-08',\n",
       "               '2014-01-09', '2014-01-10'],\n",
       "              dtype='datetime64[ns]', freq='D')"
      ]
     },
     "execution_count": 8,
     "metadata": {},
     "output_type": "execute_result"
    }
   ],
   "source": [
    "df.index\n",
    "# df.columns"
   ]
  },
  {
   "cell_type": "markdown",
   "id": "69bec992",
   "metadata": {},
   "source": [
    "- Return a NumPy representation of the underlying data with DataFrame.to_numpy() without the index or column labels:"
   ]
  },
  {
   "cell_type": "code",
   "execution_count": 9,
   "id": "b1c930a2",
   "metadata": {},
   "outputs": [
    {
     "data": {
      "text/plain": [
       "array([[ 1.56923275, -0.67855872,  0.06705007,  0.81903623],\n",
       "       [-0.48140508, -0.19251191,  0.94746284,  0.80631952],\n",
       "       [-0.86487309, -1.10028492, -0.09312838,  0.49483545],\n",
       "       [-0.19861477,  0.34424954, -1.70466447,  1.26553349],\n",
       "       [ 0.13843142,  0.7299049 , -2.10379851, -0.38011958],\n",
       "       [ 0.02495902,  0.41660904,  1.56149777, -0.08817842],\n",
       "       [-0.32438039, -0.40144735, -0.03936315, -1.06348899],\n",
       "       [-1.84430481,  0.49053585,  1.21828917, -0.30400428],\n",
       "       [-0.09235413, -0.80087643,  0.4920063 , -1.14020981],\n",
       "       [ 0.62355243,  0.28618318,  1.18475423,  0.574648  ]])"
      ]
     },
     "execution_count": 9,
     "metadata": {},
     "output_type": "execute_result"
    }
   ],
   "source": [
    "df.to_numpy()"
   ]
  },
  {
   "cell_type": "markdown",
   "id": "63f46db1",
   "metadata": {},
   "source": [
    "### Note:\n",
    "- NumPy arrays have one dtype for the entire array while pandas DataFrames have one dtype per column. When you call DataFrame.to_numpy(), pandas will find the NumPy dtype that can hold all of the dtypes in the DataFrame. If the common data type is object, DataFrame.to_numpy() will require copying data."
   ]
  },
  {
   "cell_type": "code",
   "execution_count": 10,
   "id": "9daf2e75",
   "metadata": {},
   "outputs": [
    {
     "name": "stdout",
     "output_type": "stream",
     "text": [
      "A          float64\n",
      "B    datetime64[s]\n",
      "C          float32\n",
      "D            int32\n",
      "E         category\n",
      "F           object\n",
      "dtype: object\n",
      "-------------------------\n",
      "[[1.0 Timestamp('2013-02-02 00:00:00') 1.0 3 'train' 'foo']\n",
      " [1.0 Timestamp('2013-02-02 00:00:00') 1.0 3 'test' 'foo']\n",
      " [1.0 Timestamp('2013-02-02 00:00:00') 1.0 3 'train' 'foo']\n",
      " [1.0 Timestamp('2013-02-02 00:00:00') 1.0 3 'test' 'foo']]\n"
     ]
    }
   ],
   "source": [
    "print(df2.dtypes)\n",
    "print(\"-------------------------\")\n",
    "print(df2.to_numpy())"
   ]
  },
  {
   "cell_type": "markdown",
   "id": "51cd575f",
   "metadata": {},
   "source": [
    "- use ``` describe() ``` for short statistics summary. but give only numeric columns output."
   ]
  },
  {
   "cell_type": "code",
   "execution_count": 11,
   "id": "825385bb",
   "metadata": {},
   "outputs": [
    {
     "data": {
      "text/html": [
       "<div>\n",
       "<style scoped>\n",
       "    .dataframe tbody tr th:only-of-type {\n",
       "        vertical-align: middle;\n",
       "    }\n",
       "\n",
       "    .dataframe tbody tr th {\n",
       "        vertical-align: top;\n",
       "    }\n",
       "\n",
       "    .dataframe thead th {\n",
       "        text-align: right;\n",
       "    }\n",
       "</style>\n",
       "<table border=\"1\" class=\"dataframe\">\n",
       "  <thead>\n",
       "    <tr style=\"text-align: right;\">\n",
       "      <th></th>\n",
       "      <th>A</th>\n",
       "      <th>B</th>\n",
       "      <th>C</th>\n",
       "      <th>D</th>\n",
       "    </tr>\n",
       "  </thead>\n",
       "  <tbody>\n",
       "    <tr>\n",
       "      <th>count</th>\n",
       "      <td>10.000000</td>\n",
       "      <td>10.000000</td>\n",
       "      <td>10.000000</td>\n",
       "      <td>10.000000</td>\n",
       "    </tr>\n",
       "    <tr>\n",
       "      <th>mean</th>\n",
       "      <td>-0.144976</td>\n",
       "      <td>-0.090620</td>\n",
       "      <td>0.153011</td>\n",
       "      <td>0.098437</td>\n",
       "    </tr>\n",
       "    <tr>\n",
       "      <th>std</th>\n",
       "      <td>0.894137</td>\n",
       "      <td>0.630338</td>\n",
       "      <td>1.228294</td>\n",
       "      <td>0.821685</td>\n",
       "    </tr>\n",
       "    <tr>\n",
       "      <th>min</th>\n",
       "      <td>-1.844305</td>\n",
       "      <td>-1.100285</td>\n",
       "      <td>-2.103799</td>\n",
       "      <td>-1.140210</td>\n",
       "    </tr>\n",
       "    <tr>\n",
       "      <th>25%</th>\n",
       "      <td>-0.442149</td>\n",
       "      <td>-0.609281</td>\n",
       "      <td>-0.079687</td>\n",
       "      <td>-0.361091</td>\n",
       "    </tr>\n",
       "    <tr>\n",
       "      <th>50%</th>\n",
       "      <td>-0.145484</td>\n",
       "      <td>0.046836</td>\n",
       "      <td>0.279528</td>\n",
       "      <td>0.203329</td>\n",
       "    </tr>\n",
       "    <tr>\n",
       "      <th>75%</th>\n",
       "      <td>0.110063</td>\n",
       "      <td>0.398519</td>\n",
       "      <td>1.125431</td>\n",
       "      <td>0.748402</td>\n",
       "    </tr>\n",
       "    <tr>\n",
       "      <th>max</th>\n",
       "      <td>1.569233</td>\n",
       "      <td>0.729905</td>\n",
       "      <td>1.561498</td>\n",
       "      <td>1.265533</td>\n",
       "    </tr>\n",
       "  </tbody>\n",
       "</table>\n",
       "</div>"
      ],
      "text/plain": [
       "               A          B          C          D\n",
       "count  10.000000  10.000000  10.000000  10.000000\n",
       "mean   -0.144976  -0.090620   0.153011   0.098437\n",
       "std     0.894137   0.630338   1.228294   0.821685\n",
       "min    -1.844305  -1.100285  -2.103799  -1.140210\n",
       "25%    -0.442149  -0.609281  -0.079687  -0.361091\n",
       "50%    -0.145484   0.046836   0.279528   0.203329\n",
       "75%     0.110063   0.398519   1.125431   0.748402\n",
       "max     1.569233   0.729905   1.561498   1.265533"
      ]
     },
     "execution_count": 11,
     "metadata": {},
     "output_type": "execute_result"
    }
   ],
   "source": [
    "df.describe()"
   ]
  },
  {
   "cell_type": "markdown",
   "id": "646f74bc",
   "metadata": {},
   "source": [
    "- we can take trnasform of the data as mean row change in columns."
   ]
  },
  {
   "cell_type": "code",
   "execution_count": 12,
   "id": "a4c4ff98",
   "metadata": {},
   "outputs": [],
   "source": [
    "# df.T"
   ]
  },
  {
   "cell_type": "markdown",
   "id": "48cf113c",
   "metadata": {},
   "source": [
    "- use ``` sort_index()``` for sort data as ascending or decending order."
   ]
  },
  {
   "cell_type": "code",
   "execution_count": 13,
   "id": "f115eea6",
   "metadata": {},
   "outputs": [
    {
     "data": {
      "text/html": [
       "<div>\n",
       "<style scoped>\n",
       "    .dataframe tbody tr th:only-of-type {\n",
       "        vertical-align: middle;\n",
       "    }\n",
       "\n",
       "    .dataframe tbody tr th {\n",
       "        vertical-align: top;\n",
       "    }\n",
       "\n",
       "    .dataframe thead th {\n",
       "        text-align: right;\n",
       "    }\n",
       "</style>\n",
       "<table border=\"1\" class=\"dataframe\">\n",
       "  <thead>\n",
       "    <tr style=\"text-align: right;\">\n",
       "      <th></th>\n",
       "      <th>D</th>\n",
       "      <th>C</th>\n",
       "      <th>B</th>\n",
       "      <th>A</th>\n",
       "    </tr>\n",
       "  </thead>\n",
       "  <tbody>\n",
       "    <tr>\n",
       "      <th>2014-01-01</th>\n",
       "      <td>0.819036</td>\n",
       "      <td>0.067050</td>\n",
       "      <td>-0.678559</td>\n",
       "      <td>1.569233</td>\n",
       "    </tr>\n",
       "    <tr>\n",
       "      <th>2014-01-02</th>\n",
       "      <td>0.806320</td>\n",
       "      <td>0.947463</td>\n",
       "      <td>-0.192512</td>\n",
       "      <td>-0.481405</td>\n",
       "    </tr>\n",
       "    <tr>\n",
       "      <th>2014-01-03</th>\n",
       "      <td>0.494835</td>\n",
       "      <td>-0.093128</td>\n",
       "      <td>-1.100285</td>\n",
       "      <td>-0.864873</td>\n",
       "    </tr>\n",
       "    <tr>\n",
       "      <th>2014-01-04</th>\n",
       "      <td>1.265533</td>\n",
       "      <td>-1.704664</td>\n",
       "      <td>0.344250</td>\n",
       "      <td>-0.198615</td>\n",
       "    </tr>\n",
       "    <tr>\n",
       "      <th>2014-01-05</th>\n",
       "      <td>-0.380120</td>\n",
       "      <td>-2.103799</td>\n",
       "      <td>0.729905</td>\n",
       "      <td>0.138431</td>\n",
       "    </tr>\n",
       "    <tr>\n",
       "      <th>2014-01-06</th>\n",
       "      <td>-0.088178</td>\n",
       "      <td>1.561498</td>\n",
       "      <td>0.416609</td>\n",
       "      <td>0.024959</td>\n",
       "    </tr>\n",
       "    <tr>\n",
       "      <th>2014-01-07</th>\n",
       "      <td>-1.063489</td>\n",
       "      <td>-0.039363</td>\n",
       "      <td>-0.401447</td>\n",
       "      <td>-0.324380</td>\n",
       "    </tr>\n",
       "    <tr>\n",
       "      <th>2014-01-08</th>\n",
       "      <td>-0.304004</td>\n",
       "      <td>1.218289</td>\n",
       "      <td>0.490536</td>\n",
       "      <td>-1.844305</td>\n",
       "    </tr>\n",
       "    <tr>\n",
       "      <th>2014-01-09</th>\n",
       "      <td>-1.140210</td>\n",
       "      <td>0.492006</td>\n",
       "      <td>-0.800876</td>\n",
       "      <td>-0.092354</td>\n",
       "    </tr>\n",
       "    <tr>\n",
       "      <th>2014-01-10</th>\n",
       "      <td>0.574648</td>\n",
       "      <td>1.184754</td>\n",
       "      <td>0.286183</td>\n",
       "      <td>0.623552</td>\n",
       "    </tr>\n",
       "  </tbody>\n",
       "</table>\n",
       "</div>"
      ],
      "text/plain": [
       "                   D         C         B         A\n",
       "2014-01-01  0.819036  0.067050 -0.678559  1.569233\n",
       "2014-01-02  0.806320  0.947463 -0.192512 -0.481405\n",
       "2014-01-03  0.494835 -0.093128 -1.100285 -0.864873\n",
       "2014-01-04  1.265533 -1.704664  0.344250 -0.198615\n",
       "2014-01-05 -0.380120 -2.103799  0.729905  0.138431\n",
       "2014-01-06 -0.088178  1.561498  0.416609  0.024959\n",
       "2014-01-07 -1.063489 -0.039363 -0.401447 -0.324380\n",
       "2014-01-08 -0.304004  1.218289  0.490536 -1.844305\n",
       "2014-01-09 -1.140210  0.492006 -0.800876 -0.092354\n",
       "2014-01-10  0.574648  1.184754  0.286183  0.623552"
      ]
     },
     "execution_count": 13,
     "metadata": {},
     "output_type": "execute_result"
    }
   ],
   "source": [
    "df.sort_index(axis=1, ascending=False) # Sorts the column names in descending order (C, B, A) and rearranges the DataFrame accordingly.\n",
    "# Sorts the index (row labels if axis=0, column labels if axis=1) of the DataFrame.\n",
    "# ascending=False= Sorts in descending order (Z to A, or highest to lowest)., Use True for ascending (A to Z)."
   ]
  },
  {
   "cell_type": "markdown",
   "id": "fbbcdf61",
   "metadata": {},
   "source": [
    "- use ```sort_value()``` sort by values"
   ]
  },
  {
   "cell_type": "code",
   "execution_count": 14,
   "id": "a4e367a8",
   "metadata": {},
   "outputs": [
    {
     "data": {
      "text/html": [
       "<div>\n",
       "<style scoped>\n",
       "    .dataframe tbody tr th:only-of-type {\n",
       "        vertical-align: middle;\n",
       "    }\n",
       "\n",
       "    .dataframe tbody tr th {\n",
       "        vertical-align: top;\n",
       "    }\n",
       "\n",
       "    .dataframe thead th {\n",
       "        text-align: right;\n",
       "    }\n",
       "</style>\n",
       "<table border=\"1\" class=\"dataframe\">\n",
       "  <thead>\n",
       "    <tr style=\"text-align: right;\">\n",
       "      <th></th>\n",
       "      <th>A</th>\n",
       "      <th>B</th>\n",
       "      <th>C</th>\n",
       "      <th>D</th>\n",
       "    </tr>\n",
       "  </thead>\n",
       "  <tbody>\n",
       "    <tr>\n",
       "      <th>2014-01-03</th>\n",
       "      <td>-0.864873</td>\n",
       "      <td>-1.100285</td>\n",
       "      <td>-0.093128</td>\n",
       "      <td>0.494835</td>\n",
       "    </tr>\n",
       "    <tr>\n",
       "      <th>2014-01-09</th>\n",
       "      <td>-0.092354</td>\n",
       "      <td>-0.800876</td>\n",
       "      <td>0.492006</td>\n",
       "      <td>-1.140210</td>\n",
       "    </tr>\n",
       "    <tr>\n",
       "      <th>2014-01-01</th>\n",
       "      <td>1.569233</td>\n",
       "      <td>-0.678559</td>\n",
       "      <td>0.067050</td>\n",
       "      <td>0.819036</td>\n",
       "    </tr>\n",
       "    <tr>\n",
       "      <th>2014-01-07</th>\n",
       "      <td>-0.324380</td>\n",
       "      <td>-0.401447</td>\n",
       "      <td>-0.039363</td>\n",
       "      <td>-1.063489</td>\n",
       "    </tr>\n",
       "    <tr>\n",
       "      <th>2014-01-02</th>\n",
       "      <td>-0.481405</td>\n",
       "      <td>-0.192512</td>\n",
       "      <td>0.947463</td>\n",
       "      <td>0.806320</td>\n",
       "    </tr>\n",
       "    <tr>\n",
       "      <th>2014-01-10</th>\n",
       "      <td>0.623552</td>\n",
       "      <td>0.286183</td>\n",
       "      <td>1.184754</td>\n",
       "      <td>0.574648</td>\n",
       "    </tr>\n",
       "    <tr>\n",
       "      <th>2014-01-04</th>\n",
       "      <td>-0.198615</td>\n",
       "      <td>0.344250</td>\n",
       "      <td>-1.704664</td>\n",
       "      <td>1.265533</td>\n",
       "    </tr>\n",
       "    <tr>\n",
       "      <th>2014-01-06</th>\n",
       "      <td>0.024959</td>\n",
       "      <td>0.416609</td>\n",
       "      <td>1.561498</td>\n",
       "      <td>-0.088178</td>\n",
       "    </tr>\n",
       "    <tr>\n",
       "      <th>2014-01-08</th>\n",
       "      <td>-1.844305</td>\n",
       "      <td>0.490536</td>\n",
       "      <td>1.218289</td>\n",
       "      <td>-0.304004</td>\n",
       "    </tr>\n",
       "    <tr>\n",
       "      <th>2014-01-05</th>\n",
       "      <td>0.138431</td>\n",
       "      <td>0.729905</td>\n",
       "      <td>-2.103799</td>\n",
       "      <td>-0.380120</td>\n",
       "    </tr>\n",
       "  </tbody>\n",
       "</table>\n",
       "</div>"
      ],
      "text/plain": [
       "                   A         B         C         D\n",
       "2014-01-03 -0.864873 -1.100285 -0.093128  0.494835\n",
       "2014-01-09 -0.092354 -0.800876  0.492006 -1.140210\n",
       "2014-01-01  1.569233 -0.678559  0.067050  0.819036\n",
       "2014-01-07 -0.324380 -0.401447 -0.039363 -1.063489\n",
       "2014-01-02 -0.481405 -0.192512  0.947463  0.806320\n",
       "2014-01-10  0.623552  0.286183  1.184754  0.574648\n",
       "2014-01-04 -0.198615  0.344250 -1.704664  1.265533\n",
       "2014-01-06  0.024959  0.416609  1.561498 -0.088178\n",
       "2014-01-08 -1.844305  0.490536  1.218289 -0.304004\n",
       "2014-01-05  0.138431  0.729905 -2.103799 -0.380120"
      ]
     },
     "execution_count": 14,
     "metadata": {},
     "output_type": "execute_result"
    }
   ],
   "source": [
    "df.sort_values(by='B')"
   ]
  },
  {
   "cell_type": "markdown",
   "id": "e806ccb1",
   "metadata": {},
   "source": [
    "# Selection\n",
    "### Note\n",
    "- While standard Python / NumPy expressions for selecting and setting are intuitive and come in handy for interactive work, for production code, we recommend the optimized pandas data access methods, DataFrame.at(), DataFrame.iat(), DataFrame.loc() and DataFrame.iloc().\n",
    "#### Getitem([])\n",
    "- For a DataFrame, passing a single label selects a columns and yields a Series equivalent to df.A:"
   ]
  },
  {
   "cell_type": "code",
   "execution_count": 15,
   "id": "dc3b04a9",
   "metadata": {},
   "outputs": [
    {
     "data": {
      "text/plain": [
       "2014-01-01    1.569233\n",
       "2014-01-02   -0.481405\n",
       "2014-01-03   -0.864873\n",
       "2014-01-04   -0.198615\n",
       "2014-01-05    0.138431\n",
       "2014-01-06    0.024959\n",
       "2014-01-07   -0.324380\n",
       "2014-01-08   -1.844305\n",
       "2014-01-09   -0.092354\n",
       "2014-01-10    0.623552\n",
       "Freq: D, Name: A, dtype: float64"
      ]
     },
     "execution_count": 15,
     "metadata": {},
     "output_type": "execute_result"
    }
   ],
   "source": [
    "df['A']"
   ]
  },
  {
   "cell_type": "markdown",
   "id": "9d4b1369",
   "metadata": {},
   "source": [
    "- For a DataFrame, passing a slice : selects matching rows:"
   ]
  },
  {
   "cell_type": "code",
   "execution_count": 16,
   "id": "df3fdb5a",
   "metadata": {},
   "outputs": [
    {
     "data": {
      "text/html": [
       "<div>\n",
       "<style scoped>\n",
       "    .dataframe tbody tr th:only-of-type {\n",
       "        vertical-align: middle;\n",
       "    }\n",
       "\n",
       "    .dataframe tbody tr th {\n",
       "        vertical-align: top;\n",
       "    }\n",
       "\n",
       "    .dataframe thead th {\n",
       "        text-align: right;\n",
       "    }\n",
       "</style>\n",
       "<table border=\"1\" class=\"dataframe\">\n",
       "  <thead>\n",
       "    <tr style=\"text-align: right;\">\n",
       "      <th></th>\n",
       "      <th>A</th>\n",
       "      <th>B</th>\n",
       "      <th>C</th>\n",
       "      <th>D</th>\n",
       "    </tr>\n",
       "  </thead>\n",
       "  <tbody>\n",
       "    <tr>\n",
       "      <th>2014-01-01</th>\n",
       "      <td>1.569233</td>\n",
       "      <td>-0.678559</td>\n",
       "      <td>0.067050</td>\n",
       "      <td>0.819036</td>\n",
       "    </tr>\n",
       "    <tr>\n",
       "      <th>2014-01-02</th>\n",
       "      <td>-0.481405</td>\n",
       "      <td>-0.192512</td>\n",
       "      <td>0.947463</td>\n",
       "      <td>0.806320</td>\n",
       "    </tr>\n",
       "    <tr>\n",
       "      <th>2014-01-03</th>\n",
       "      <td>-0.864873</td>\n",
       "      <td>-1.100285</td>\n",
       "      <td>-0.093128</td>\n",
       "      <td>0.494835</td>\n",
       "    </tr>\n",
       "  </tbody>\n",
       "</table>\n",
       "</div>"
      ],
      "text/plain": [
       "                   A         B         C         D\n",
       "2014-01-01  1.569233 -0.678559  0.067050  0.819036\n",
       "2014-01-02 -0.481405 -0.192512  0.947463  0.806320\n",
       "2014-01-03 -0.864873 -1.100285 -0.093128  0.494835"
      ]
     },
     "execution_count": 16,
     "metadata": {},
     "output_type": "execute_result"
    }
   ],
   "source": [
    "df[0:3] # Just like my_list[0:3] gives the first 3 items(rows)."
   ]
  },
  {
   "cell_type": "markdown",
   "id": "8ece5e9c",
   "metadata": {},
   "source": [
    "#### Selection by label\n",
    "- Selecting a row matching a label:"
   ]
  },
  {
   "cell_type": "code",
   "execution_count": 17,
   "id": "07693e04",
   "metadata": {},
   "outputs": [
    {
     "data": {
      "text/plain": [
       "A    1.569233\n",
       "B   -0.678559\n",
       "C    0.067050\n",
       "D    0.819036\n",
       "Name: 2014-01-01 00:00:00, dtype: float64"
      ]
     },
     "execution_count": 17,
     "metadata": {},
     "output_type": "execute_result"
    }
   ],
   "source": [
    "df.loc[dates[0]]  # Selects the row in DataFrame df that has the index equal to dates[0].\n",
    "# .loc[]:Accesses data by label (not position)., dates[0] is the first date in your datetime index."
   ]
  },
  {
   "cell_type": "markdown",
   "id": "15784ecc",
   "metadata": {},
   "source": [
    "- Selecting all rows (:) with a select column labels:"
   ]
  },
  {
   "cell_type": "code",
   "execution_count": 18,
   "id": "46b84e1d",
   "metadata": {},
   "outputs": [
    {
     "data": {
      "text/html": [
       "<div>\n",
       "<style scoped>\n",
       "    .dataframe tbody tr th:only-of-type {\n",
       "        vertical-align: middle;\n",
       "    }\n",
       "\n",
       "    .dataframe tbody tr th {\n",
       "        vertical-align: top;\n",
       "    }\n",
       "\n",
       "    .dataframe thead th {\n",
       "        text-align: right;\n",
       "    }\n",
       "</style>\n",
       "<table border=\"1\" class=\"dataframe\">\n",
       "  <thead>\n",
       "    <tr style=\"text-align: right;\">\n",
       "      <th></th>\n",
       "      <th>A</th>\n",
       "      <th>B</th>\n",
       "    </tr>\n",
       "  </thead>\n",
       "  <tbody>\n",
       "    <tr>\n",
       "      <th>2014-01-01</th>\n",
       "      <td>1.569233</td>\n",
       "      <td>-0.678559</td>\n",
       "    </tr>\n",
       "    <tr>\n",
       "      <th>2014-01-02</th>\n",
       "      <td>-0.481405</td>\n",
       "      <td>-0.192512</td>\n",
       "    </tr>\n",
       "    <tr>\n",
       "      <th>2014-01-03</th>\n",
       "      <td>-0.864873</td>\n",
       "      <td>-1.100285</td>\n",
       "    </tr>\n",
       "    <tr>\n",
       "      <th>2014-01-04</th>\n",
       "      <td>-0.198615</td>\n",
       "      <td>0.344250</td>\n",
       "    </tr>\n",
       "    <tr>\n",
       "      <th>2014-01-05</th>\n",
       "      <td>0.138431</td>\n",
       "      <td>0.729905</td>\n",
       "    </tr>\n",
       "    <tr>\n",
       "      <th>2014-01-06</th>\n",
       "      <td>0.024959</td>\n",
       "      <td>0.416609</td>\n",
       "    </tr>\n",
       "    <tr>\n",
       "      <th>2014-01-07</th>\n",
       "      <td>-0.324380</td>\n",
       "      <td>-0.401447</td>\n",
       "    </tr>\n",
       "    <tr>\n",
       "      <th>2014-01-08</th>\n",
       "      <td>-1.844305</td>\n",
       "      <td>0.490536</td>\n",
       "    </tr>\n",
       "    <tr>\n",
       "      <th>2014-01-09</th>\n",
       "      <td>-0.092354</td>\n",
       "      <td>-0.800876</td>\n",
       "    </tr>\n",
       "    <tr>\n",
       "      <th>2014-01-10</th>\n",
       "      <td>0.623552</td>\n",
       "      <td>0.286183</td>\n",
       "    </tr>\n",
       "  </tbody>\n",
       "</table>\n",
       "</div>"
      ],
      "text/plain": [
       "                   A         B\n",
       "2014-01-01  1.569233 -0.678559\n",
       "2014-01-02 -0.481405 -0.192512\n",
       "2014-01-03 -0.864873 -1.100285\n",
       "2014-01-04 -0.198615  0.344250\n",
       "2014-01-05  0.138431  0.729905\n",
       "2014-01-06  0.024959  0.416609\n",
       "2014-01-07 -0.324380 -0.401447\n",
       "2014-01-08 -1.844305  0.490536\n",
       "2014-01-09 -0.092354 -0.800876\n",
       "2014-01-10  0.623552  0.286183"
      ]
     },
     "execution_count": 18,
     "metadata": {},
     "output_type": "execute_result"
    }
   ],
   "source": [
    "df.loc[:,['A','B']]"
   ]
  },
  {
   "cell_type": "markdown",
   "id": "c96088b7",
   "metadata": {},
   "source": [
    "- For label slicing, both endpoints are included:"
   ]
  },
  {
   "cell_type": "code",
   "execution_count": 19,
   "id": "ce441c1a",
   "metadata": {},
   "outputs": [
    {
     "data": {
      "text/html": [
       "<div>\n",
       "<style scoped>\n",
       "    .dataframe tbody tr th:only-of-type {\n",
       "        vertical-align: middle;\n",
       "    }\n",
       "\n",
       "    .dataframe tbody tr th {\n",
       "        vertical-align: top;\n",
       "    }\n",
       "\n",
       "    .dataframe thead th {\n",
       "        text-align: right;\n",
       "    }\n",
       "</style>\n",
       "<table border=\"1\" class=\"dataframe\">\n",
       "  <thead>\n",
       "    <tr style=\"text-align: right;\">\n",
       "      <th></th>\n",
       "      <th>A</th>\n",
       "      <th>B</th>\n",
       "    </tr>\n",
       "  </thead>\n",
       "  <tbody>\n",
       "    <tr>\n",
       "      <th>2014-01-01</th>\n",
       "      <td>1.569233</td>\n",
       "      <td>-0.678559</td>\n",
       "    </tr>\n",
       "    <tr>\n",
       "      <th>2014-01-02</th>\n",
       "      <td>-0.481405</td>\n",
       "      <td>-0.192512</td>\n",
       "    </tr>\n",
       "    <tr>\n",
       "      <th>2014-01-03</th>\n",
       "      <td>-0.864873</td>\n",
       "      <td>-1.100285</td>\n",
       "    </tr>\n",
       "    <tr>\n",
       "      <th>2014-01-04</th>\n",
       "      <td>-0.198615</td>\n",
       "      <td>0.344250</td>\n",
       "    </tr>\n",
       "  </tbody>\n",
       "</table>\n",
       "</div>"
      ],
      "text/plain": [
       "                   A         B\n",
       "2014-01-01  1.569233 -0.678559\n",
       "2014-01-02 -0.481405 -0.192512\n",
       "2014-01-03 -0.864873 -1.100285\n",
       "2014-01-04 -0.198615  0.344250"
      ]
     },
     "execution_count": 19,
     "metadata": {},
     "output_type": "execute_result"
    }
   ],
   "source": [
    "df.loc['20140101':'20140104',['A','B']]"
   ]
  },
  {
   "cell_type": "markdown",
   "id": "78800e02",
   "metadata": {},
   "source": [
    "- Selecting a single row and column label returns a scalar:"
   ]
  },
  {
   "cell_type": "code",
   "execution_count": 20,
   "id": "80ef4131",
   "metadata": {},
   "outputs": [
    {
     "data": {
      "text/plain": [
       "np.float64(1.5692327537268844)"
      ]
     },
     "execution_count": 20,
     "metadata": {},
     "output_type": "execute_result"
    }
   ],
   "source": [
    "# print(df.loc[dates[0],'A'])\n",
    "df.loc[dates[0],'A']"
   ]
  },
  {
   "cell_type": "markdown",
   "id": "58a9778f",
   "metadata": {},
   "source": [
    "- For getting fast access to a scalar (equivalent to the prior method):"
   ]
  },
  {
   "cell_type": "code",
   "execution_count": 21,
   "id": "eddc4be5",
   "metadata": {},
   "outputs": [
    {
     "data": {
      "text/plain": [
       "np.float64(1.5692327537268844)"
      ]
     },
     "execution_count": 21,
     "metadata": {},
     "output_type": "execute_result"
    }
   ],
   "source": [
    "df.at[dates[0], 'A']"
   ]
  },
  {
   "cell_type": "markdown",
   "id": "87be9f0f",
   "metadata": {},
   "source": [
    "#### Selection by position\n",
    "- Select via the position of the passed integers:"
   ]
  },
  {
   "cell_type": "code",
   "execution_count": 22,
   "id": "43fd4c86",
   "metadata": {},
   "outputs": [
    {
     "data": {
      "text/plain": [
       "A   -0.198615\n",
       "B    0.344250\n",
       "C   -1.704664\n",
       "D    1.265533\n",
       "Name: 2014-01-04 00:00:00, dtype: float64"
      ]
     },
     "execution_count": 22,
     "metadata": {},
     "output_type": "execute_result"
    }
   ],
   "source": [
    "df.iloc[3]  # Selects the 4th row (index position 3) from the DataFrame df using integer-based indexing.\n",
    "#  Returns the row at position 3 (i.e., the 4th row).\n",
    "# .iloc[]:= Stands for integer-location., Used to access rows/columns by position, not by label.\n",
    "# "
   ]
  },
  {
   "cell_type": "markdown",
   "id": "bd3c240b",
   "metadata": {},
   "source": [
    "- Integer slices acts similar to NumPy/Python:"
   ]
  },
  {
   "cell_type": "code",
   "execution_count": 23,
   "id": "60af12e0",
   "metadata": {},
   "outputs": [
    {
     "data": {
      "text/html": [
       "<div>\n",
       "<style scoped>\n",
       "    .dataframe tbody tr th:only-of-type {\n",
       "        vertical-align: middle;\n",
       "    }\n",
       "\n",
       "    .dataframe tbody tr th {\n",
       "        vertical-align: top;\n",
       "    }\n",
       "\n",
       "    .dataframe thead th {\n",
       "        text-align: right;\n",
       "    }\n",
       "</style>\n",
       "<table border=\"1\" class=\"dataframe\">\n",
       "  <thead>\n",
       "    <tr style=\"text-align: right;\">\n",
       "      <th></th>\n",
       "      <th>A</th>\n",
       "      <th>B</th>\n",
       "    </tr>\n",
       "  </thead>\n",
       "  <tbody>\n",
       "    <tr>\n",
       "      <th>2014-01-04</th>\n",
       "      <td>-0.198615</td>\n",
       "      <td>0.344250</td>\n",
       "    </tr>\n",
       "    <tr>\n",
       "      <th>2014-01-05</th>\n",
       "      <td>0.138431</td>\n",
       "      <td>0.729905</td>\n",
       "    </tr>\n",
       "  </tbody>\n",
       "</table>\n",
       "</div>"
      ],
      "text/plain": [
       "                   A         B\n",
       "2014-01-04 -0.198615  0.344250\n",
       "2014-01-05  0.138431  0.729905"
      ]
     },
     "execution_count": 23,
     "metadata": {},
     "output_type": "execute_result"
    }
   ],
   "source": [
    "df.iloc[3:5, 0:2]  # Selects rows 3 and 4 (index positions 3 to 4) and columns 0 and 1 from DataFrame df, using integer-based indexing.\n",
    "# 3:5 → rows at positions 3 and 4 (excludes 5)., 0:2 → columns at positions 0 and 1 (excludes 2)."
   ]
  },
  {
   "cell_type": "markdown",
   "id": "7609a571",
   "metadata": {},
   "source": [
    "- Lists of integer position locations:"
   ]
  },
  {
   "cell_type": "code",
   "execution_count": 24,
   "id": "1b6d6c04",
   "metadata": {},
   "outputs": [
    {
     "data": {
      "text/html": [
       "<div>\n",
       "<style scoped>\n",
       "    .dataframe tbody tr th:only-of-type {\n",
       "        vertical-align: middle;\n",
       "    }\n",
       "\n",
       "    .dataframe tbody tr th {\n",
       "        vertical-align: top;\n",
       "    }\n",
       "\n",
       "    .dataframe thead th {\n",
       "        text-align: right;\n",
       "    }\n",
       "</style>\n",
       "<table border=\"1\" class=\"dataframe\">\n",
       "  <thead>\n",
       "    <tr style=\"text-align: right;\">\n",
       "      <th></th>\n",
       "      <th>A</th>\n",
       "      <th>C</th>\n",
       "    </tr>\n",
       "  </thead>\n",
       "  <tbody>\n",
       "    <tr>\n",
       "      <th>2014-01-02</th>\n",
       "      <td>-0.481405</td>\n",
       "      <td>0.947463</td>\n",
       "    </tr>\n",
       "    <tr>\n",
       "      <th>2014-01-03</th>\n",
       "      <td>-0.864873</td>\n",
       "      <td>-0.093128</td>\n",
       "    </tr>\n",
       "    <tr>\n",
       "      <th>2014-01-04</th>\n",
       "      <td>-0.198615</td>\n",
       "      <td>-1.704664</td>\n",
       "    </tr>\n",
       "  </tbody>\n",
       "</table>\n",
       "</div>"
      ],
      "text/plain": [
       "                   A         C\n",
       "2014-01-02 -0.481405  0.947463\n",
       "2014-01-03 -0.864873 -0.093128\n",
       "2014-01-04 -0.198615 -1.704664"
      ]
     },
     "execution_count": 24,
     "metadata": {},
     "output_type": "execute_result"
    }
   ],
   "source": [
    "df.iloc[[1,2,3], [0,2]]  # Selects rows at positions 1, 2, 3 and columns at positions 0 and 2 from the DataFrame df using integer-based indexing.\n",
    "# rows → [1, 2, 3] (2nd, 3rd, and 4th rows), columns → [0, 2] (1st and 3rd columns)"
   ]
  },
  {
   "cell_type": "markdown",
   "id": "c310d279",
   "metadata": {},
   "source": [
    "- For slicing rows explicitly:"
   ]
  },
  {
   "cell_type": "code",
   "execution_count": 25,
   "id": "8ac0ef87",
   "metadata": {},
   "outputs": [
    {
     "data": {
      "text/html": [
       "<div>\n",
       "<style scoped>\n",
       "    .dataframe tbody tr th:only-of-type {\n",
       "        vertical-align: middle;\n",
       "    }\n",
       "\n",
       "    .dataframe tbody tr th {\n",
       "        vertical-align: top;\n",
       "    }\n",
       "\n",
       "    .dataframe thead th {\n",
       "        text-align: right;\n",
       "    }\n",
       "</style>\n",
       "<table border=\"1\" class=\"dataframe\">\n",
       "  <thead>\n",
       "    <tr style=\"text-align: right;\">\n",
       "      <th></th>\n",
       "      <th>A</th>\n",
       "      <th>B</th>\n",
       "      <th>C</th>\n",
       "      <th>D</th>\n",
       "    </tr>\n",
       "  </thead>\n",
       "  <tbody>\n",
       "    <tr>\n",
       "      <th>2014-01-02</th>\n",
       "      <td>-0.481405</td>\n",
       "      <td>-0.192512</td>\n",
       "      <td>0.947463</td>\n",
       "      <td>0.806320</td>\n",
       "    </tr>\n",
       "    <tr>\n",
       "      <th>2014-01-03</th>\n",
       "      <td>-0.864873</td>\n",
       "      <td>-1.100285</td>\n",
       "      <td>-0.093128</td>\n",
       "      <td>0.494835</td>\n",
       "    </tr>\n",
       "  </tbody>\n",
       "</table>\n",
       "</div>"
      ],
      "text/plain": [
       "                   A         B         C         D\n",
       "2014-01-02 -0.481405 -0.192512  0.947463  0.806320\n",
       "2014-01-03 -0.864873 -1.100285 -0.093128  0.494835"
      ]
     },
     "execution_count": 25,
     "metadata": {},
     "output_type": "execute_result"
    }
   ],
   "source": [
    "df.iloc[1:3, :]"
   ]
  },
  {
   "cell_type": "markdown",
   "id": "2c1499a7",
   "metadata": {},
   "source": [
    "- For slicing columns explicitly:"
   ]
  },
  {
   "cell_type": "code",
   "execution_count": 26,
   "id": "50443534",
   "metadata": {},
   "outputs": [
    {
     "data": {
      "text/html": [
       "<div>\n",
       "<style scoped>\n",
       "    .dataframe tbody tr th:only-of-type {\n",
       "        vertical-align: middle;\n",
       "    }\n",
       "\n",
       "    .dataframe tbody tr th {\n",
       "        vertical-align: top;\n",
       "    }\n",
       "\n",
       "    .dataframe thead th {\n",
       "        text-align: right;\n",
       "    }\n",
       "</style>\n",
       "<table border=\"1\" class=\"dataframe\">\n",
       "  <thead>\n",
       "    <tr style=\"text-align: right;\">\n",
       "      <th></th>\n",
       "      <th>B</th>\n",
       "      <th>C</th>\n",
       "    </tr>\n",
       "  </thead>\n",
       "  <tbody>\n",
       "    <tr>\n",
       "      <th>2014-01-01</th>\n",
       "      <td>-0.678559</td>\n",
       "      <td>0.067050</td>\n",
       "    </tr>\n",
       "    <tr>\n",
       "      <th>2014-01-02</th>\n",
       "      <td>-0.192512</td>\n",
       "      <td>0.947463</td>\n",
       "    </tr>\n",
       "    <tr>\n",
       "      <th>2014-01-03</th>\n",
       "      <td>-1.100285</td>\n",
       "      <td>-0.093128</td>\n",
       "    </tr>\n",
       "    <tr>\n",
       "      <th>2014-01-04</th>\n",
       "      <td>0.344250</td>\n",
       "      <td>-1.704664</td>\n",
       "    </tr>\n",
       "    <tr>\n",
       "      <th>2014-01-05</th>\n",
       "      <td>0.729905</td>\n",
       "      <td>-2.103799</td>\n",
       "    </tr>\n",
       "    <tr>\n",
       "      <th>2014-01-06</th>\n",
       "      <td>0.416609</td>\n",
       "      <td>1.561498</td>\n",
       "    </tr>\n",
       "    <tr>\n",
       "      <th>2014-01-07</th>\n",
       "      <td>-0.401447</td>\n",
       "      <td>-0.039363</td>\n",
       "    </tr>\n",
       "    <tr>\n",
       "      <th>2014-01-08</th>\n",
       "      <td>0.490536</td>\n",
       "      <td>1.218289</td>\n",
       "    </tr>\n",
       "    <tr>\n",
       "      <th>2014-01-09</th>\n",
       "      <td>-0.800876</td>\n",
       "      <td>0.492006</td>\n",
       "    </tr>\n",
       "    <tr>\n",
       "      <th>2014-01-10</th>\n",
       "      <td>0.286183</td>\n",
       "      <td>1.184754</td>\n",
       "    </tr>\n",
       "  </tbody>\n",
       "</table>\n",
       "</div>"
      ],
      "text/plain": [
       "                   B         C\n",
       "2014-01-01 -0.678559  0.067050\n",
       "2014-01-02 -0.192512  0.947463\n",
       "2014-01-03 -1.100285 -0.093128\n",
       "2014-01-04  0.344250 -1.704664\n",
       "2014-01-05  0.729905 -2.103799\n",
       "2014-01-06  0.416609  1.561498\n",
       "2014-01-07 -0.401447 -0.039363\n",
       "2014-01-08  0.490536  1.218289\n",
       "2014-01-09 -0.800876  0.492006\n",
       "2014-01-10  0.286183  1.184754"
      ]
     },
     "execution_count": 26,
     "metadata": {},
     "output_type": "execute_result"
    }
   ],
   "source": [
    "df.iloc[:, 1:3]"
   ]
  },
  {
   "cell_type": "markdown",
   "id": "61d3ed02",
   "metadata": {},
   "source": [
    "- For getting a value explicitly:"
   ]
  },
  {
   "cell_type": "code",
   "execution_count": 27,
   "id": "cd02fc65",
   "metadata": {},
   "outputs": [
    {
     "data": {
      "text/plain": [
       "np.float64(-0.1925119146456864)"
      ]
     },
     "execution_count": 27,
     "metadata": {},
     "output_type": "execute_result"
    }
   ],
   "source": [
    "df.iloc[1,1]"
   ]
  },
  {
   "cell_type": "markdown",
   "id": "6de72b95",
   "metadata": {},
   "source": [
    "- For getting fast access to a scalar (equivalent to the prior method):"
   ]
  },
  {
   "cell_type": "code",
   "execution_count": 28,
   "id": "e3c02c49",
   "metadata": {},
   "outputs": [
    {
     "data": {
      "text/plain": [
       "np.float64(-0.1925119146456864)"
      ]
     },
     "execution_count": 28,
     "metadata": {},
     "output_type": "execute_result"
    }
   ],
   "source": [
    "df.iat[1,1]"
   ]
  },
  {
   "cell_type": "markdown",
   "id": "a65228fa",
   "metadata": {},
   "source": [
    "## Boolean indexing\n",
    "- Select rows where df.A is greater than 0."
   ]
  },
  {
   "cell_type": "code",
   "execution_count": 29,
   "id": "63a3e2cf",
   "metadata": {},
   "outputs": [
    {
     "data": {
      "text/html": [
       "<div>\n",
       "<style scoped>\n",
       "    .dataframe tbody tr th:only-of-type {\n",
       "        vertical-align: middle;\n",
       "    }\n",
       "\n",
       "    .dataframe tbody tr th {\n",
       "        vertical-align: top;\n",
       "    }\n",
       "\n",
       "    .dataframe thead th {\n",
       "        text-align: right;\n",
       "    }\n",
       "</style>\n",
       "<table border=\"1\" class=\"dataframe\">\n",
       "  <thead>\n",
       "    <tr style=\"text-align: right;\">\n",
       "      <th></th>\n",
       "      <th>A</th>\n",
       "      <th>B</th>\n",
       "      <th>C</th>\n",
       "      <th>D</th>\n",
       "    </tr>\n",
       "  </thead>\n",
       "  <tbody>\n",
       "  </tbody>\n",
       "</table>\n",
       "</div>"
      ],
      "text/plain": [
       "Empty DataFrame\n",
       "Columns: [A, B, C, D]\n",
       "Index: []"
      ]
     },
     "execution_count": 29,
     "metadata": {},
     "output_type": "execute_result"
    }
   ],
   "source": [
    "df[df['A']>2] # Returns only the rows where column 'A' has values greater than 2.\n",
    "#  df['A'] > 2 → creates a boolean Series (True/False for each row)., df[...] → filters rows where condition is True."
   ]
  },
  {
   "cell_type": "markdown",
   "id": "6e6d02d9",
   "metadata": {},
   "source": [
    "- Selecting values from a DataFrame where a boolean condition is met:"
   ]
  },
  {
   "cell_type": "code",
   "execution_count": 30,
   "id": "a4097e80",
   "metadata": {},
   "outputs": [
    {
     "data": {
      "text/html": [
       "<div>\n",
       "<style scoped>\n",
       "    .dataframe tbody tr th:only-of-type {\n",
       "        vertical-align: middle;\n",
       "    }\n",
       "\n",
       "    .dataframe tbody tr th {\n",
       "        vertical-align: top;\n",
       "    }\n",
       "\n",
       "    .dataframe thead th {\n",
       "        text-align: right;\n",
       "    }\n",
       "</style>\n",
       "<table border=\"1\" class=\"dataframe\">\n",
       "  <thead>\n",
       "    <tr style=\"text-align: right;\">\n",
       "      <th></th>\n",
       "      <th>A</th>\n",
       "      <th>B</th>\n",
       "      <th>C</th>\n",
       "      <th>D</th>\n",
       "    </tr>\n",
       "  </thead>\n",
       "  <tbody>\n",
       "    <tr>\n",
       "      <th>2014-01-01</th>\n",
       "      <td>1.569233</td>\n",
       "      <td>NaN</td>\n",
       "      <td>0.067050</td>\n",
       "      <td>0.819036</td>\n",
       "    </tr>\n",
       "    <tr>\n",
       "      <th>2014-01-02</th>\n",
       "      <td>NaN</td>\n",
       "      <td>NaN</td>\n",
       "      <td>0.947463</td>\n",
       "      <td>0.806320</td>\n",
       "    </tr>\n",
       "    <tr>\n",
       "      <th>2014-01-03</th>\n",
       "      <td>NaN</td>\n",
       "      <td>NaN</td>\n",
       "      <td>NaN</td>\n",
       "      <td>0.494835</td>\n",
       "    </tr>\n",
       "    <tr>\n",
       "      <th>2014-01-04</th>\n",
       "      <td>NaN</td>\n",
       "      <td>0.344250</td>\n",
       "      <td>NaN</td>\n",
       "      <td>1.265533</td>\n",
       "    </tr>\n",
       "    <tr>\n",
       "      <th>2014-01-05</th>\n",
       "      <td>0.138431</td>\n",
       "      <td>0.729905</td>\n",
       "      <td>NaN</td>\n",
       "      <td>NaN</td>\n",
       "    </tr>\n",
       "    <tr>\n",
       "      <th>2014-01-06</th>\n",
       "      <td>0.024959</td>\n",
       "      <td>0.416609</td>\n",
       "      <td>1.561498</td>\n",
       "      <td>NaN</td>\n",
       "    </tr>\n",
       "    <tr>\n",
       "      <th>2014-01-07</th>\n",
       "      <td>NaN</td>\n",
       "      <td>NaN</td>\n",
       "      <td>NaN</td>\n",
       "      <td>NaN</td>\n",
       "    </tr>\n",
       "    <tr>\n",
       "      <th>2014-01-08</th>\n",
       "      <td>NaN</td>\n",
       "      <td>0.490536</td>\n",
       "      <td>1.218289</td>\n",
       "      <td>NaN</td>\n",
       "    </tr>\n",
       "    <tr>\n",
       "      <th>2014-01-09</th>\n",
       "      <td>NaN</td>\n",
       "      <td>NaN</td>\n",
       "      <td>0.492006</td>\n",
       "      <td>NaN</td>\n",
       "    </tr>\n",
       "    <tr>\n",
       "      <th>2014-01-10</th>\n",
       "      <td>0.623552</td>\n",
       "      <td>0.286183</td>\n",
       "      <td>1.184754</td>\n",
       "      <td>0.574648</td>\n",
       "    </tr>\n",
       "  </tbody>\n",
       "</table>\n",
       "</div>"
      ],
      "text/plain": [
       "                   A         B         C         D\n",
       "2014-01-01  1.569233       NaN  0.067050  0.819036\n",
       "2014-01-02       NaN       NaN  0.947463  0.806320\n",
       "2014-01-03       NaN       NaN       NaN  0.494835\n",
       "2014-01-04       NaN  0.344250       NaN  1.265533\n",
       "2014-01-05  0.138431  0.729905       NaN       NaN\n",
       "2014-01-06  0.024959  0.416609  1.561498       NaN\n",
       "2014-01-07       NaN       NaN       NaN       NaN\n",
       "2014-01-08       NaN  0.490536  1.218289       NaN\n",
       "2014-01-09       NaN       NaN  0.492006       NaN\n",
       "2014-01-10  0.623552  0.286183  1.184754  0.574648"
      ]
     },
     "execution_count": 30,
     "metadata": {},
     "output_type": "execute_result"
    }
   ],
   "source": [
    "df[df>0]"
   ]
  },
  {
   "cell_type": "markdown",
   "id": "71e7e7ed",
   "metadata": {},
   "source": [
    "- Using isin() method for filtering:"
   ]
  },
  {
   "cell_type": "code",
   "execution_count": 31,
   "id": "0a0eeaaf",
   "metadata": {},
   "outputs": [
    {
     "data": {
      "text/html": [
       "<div>\n",
       "<style scoped>\n",
       "    .dataframe tbody tr th:only-of-type {\n",
       "        vertical-align: middle;\n",
       "    }\n",
       "\n",
       "    .dataframe tbody tr th {\n",
       "        vertical-align: top;\n",
       "    }\n",
       "\n",
       "    .dataframe thead th {\n",
       "        text-align: right;\n",
       "    }\n",
       "</style>\n",
       "<table border=\"1\" class=\"dataframe\">\n",
       "  <thead>\n",
       "    <tr style=\"text-align: right;\">\n",
       "      <th></th>\n",
       "      <th>A</th>\n",
       "      <th>B</th>\n",
       "      <th>C</th>\n",
       "      <th>D</th>\n",
       "      <th>E</th>\n",
       "    </tr>\n",
       "  </thead>\n",
       "  <tbody>\n",
       "    <tr>\n",
       "      <th>2014-01-01</th>\n",
       "      <td>1.569233</td>\n",
       "      <td>-0.678559</td>\n",
       "      <td>0.067050</td>\n",
       "      <td>0.819036</td>\n",
       "      <td>one</td>\n",
       "    </tr>\n",
       "    <tr>\n",
       "      <th>2014-01-02</th>\n",
       "      <td>-0.481405</td>\n",
       "      <td>-0.192512</td>\n",
       "      <td>0.947463</td>\n",
       "      <td>0.806320</td>\n",
       "      <td>one</td>\n",
       "    </tr>\n",
       "    <tr>\n",
       "      <th>2014-01-03</th>\n",
       "      <td>-0.864873</td>\n",
       "      <td>-1.100285</td>\n",
       "      <td>-0.093128</td>\n",
       "      <td>0.494835</td>\n",
       "      <td>two</td>\n",
       "    </tr>\n",
       "    <tr>\n",
       "      <th>2014-01-04</th>\n",
       "      <td>-0.198615</td>\n",
       "      <td>0.344250</td>\n",
       "      <td>-1.704664</td>\n",
       "      <td>1.265533</td>\n",
       "      <td>three</td>\n",
       "    </tr>\n",
       "    <tr>\n",
       "      <th>2014-01-05</th>\n",
       "      <td>0.138431</td>\n",
       "      <td>0.729905</td>\n",
       "      <td>-2.103799</td>\n",
       "      <td>-0.380120</td>\n",
       "      <td>four</td>\n",
       "    </tr>\n",
       "    <tr>\n",
       "      <th>2014-01-06</th>\n",
       "      <td>0.024959</td>\n",
       "      <td>0.416609</td>\n",
       "      <td>1.561498</td>\n",
       "      <td>-0.088178</td>\n",
       "      <td>five</td>\n",
       "    </tr>\n",
       "    <tr>\n",
       "      <th>2014-01-07</th>\n",
       "      <td>-0.324380</td>\n",
       "      <td>-0.401447</td>\n",
       "      <td>-0.039363</td>\n",
       "      <td>-1.063489</td>\n",
       "      <td>six</td>\n",
       "    </tr>\n",
       "    <tr>\n",
       "      <th>2014-01-08</th>\n",
       "      <td>-1.844305</td>\n",
       "      <td>0.490536</td>\n",
       "      <td>1.218289</td>\n",
       "      <td>-0.304004</td>\n",
       "      <td>seven</td>\n",
       "    </tr>\n",
       "    <tr>\n",
       "      <th>2014-01-09</th>\n",
       "      <td>-0.092354</td>\n",
       "      <td>-0.800876</td>\n",
       "      <td>0.492006</td>\n",
       "      <td>-1.140210</td>\n",
       "      <td>eight</td>\n",
       "    </tr>\n",
       "    <tr>\n",
       "      <th>2014-01-10</th>\n",
       "      <td>0.623552</td>\n",
       "      <td>0.286183</td>\n",
       "      <td>1.184754</td>\n",
       "      <td>0.574648</td>\n",
       "      <td>nine</td>\n",
       "    </tr>\n",
       "  </tbody>\n",
       "</table>\n",
       "</div>"
      ],
      "text/plain": [
       "                   A         B         C         D      E\n",
       "2014-01-01  1.569233 -0.678559  0.067050  0.819036    one\n",
       "2014-01-02 -0.481405 -0.192512  0.947463  0.806320    one\n",
       "2014-01-03 -0.864873 -1.100285 -0.093128  0.494835    two\n",
       "2014-01-04 -0.198615  0.344250 -1.704664  1.265533  three\n",
       "2014-01-05  0.138431  0.729905 -2.103799 -0.380120   four\n",
       "2014-01-06  0.024959  0.416609  1.561498 -0.088178   five\n",
       "2014-01-07 -0.324380 -0.401447 -0.039363 -1.063489    six\n",
       "2014-01-08 -1.844305  0.490536  1.218289 -0.304004  seven\n",
       "2014-01-09 -0.092354 -0.800876  0.492006 -1.140210  eight\n",
       "2014-01-10  0.623552  0.286183  1.184754  0.574648   nine"
      ]
     },
     "execution_count": 31,
     "metadata": {},
     "output_type": "execute_result"
    }
   ],
   "source": [
    "df2= df.copy()\n",
    "df2['E'] = ['one', 'one', 'two','three','four','five','six','seven','eight','nine']  # add column\n",
    "df2"
   ]
  },
  {
   "cell_type": "code",
   "execution_count": 32,
   "id": "e2715699",
   "metadata": {},
   "outputs": [
    {
     "data": {
      "text/html": [
       "<div>\n",
       "<style scoped>\n",
       "    .dataframe tbody tr th:only-of-type {\n",
       "        vertical-align: middle;\n",
       "    }\n",
       "\n",
       "    .dataframe tbody tr th {\n",
       "        vertical-align: top;\n",
       "    }\n",
       "\n",
       "    .dataframe thead th {\n",
       "        text-align: right;\n",
       "    }\n",
       "</style>\n",
       "<table border=\"1\" class=\"dataframe\">\n",
       "  <thead>\n",
       "    <tr style=\"text-align: right;\">\n",
       "      <th></th>\n",
       "      <th>A</th>\n",
       "      <th>B</th>\n",
       "      <th>C</th>\n",
       "      <th>D</th>\n",
       "      <th>E</th>\n",
       "    </tr>\n",
       "  </thead>\n",
       "  <tbody>\n",
       "    <tr>\n",
       "      <th>2014-01-01</th>\n",
       "      <td>1.569233</td>\n",
       "      <td>-0.678559</td>\n",
       "      <td>0.067050</td>\n",
       "      <td>0.819036</td>\n",
       "      <td>one</td>\n",
       "    </tr>\n",
       "    <tr>\n",
       "      <th>2014-01-02</th>\n",
       "      <td>-0.481405</td>\n",
       "      <td>-0.192512</td>\n",
       "      <td>0.947463</td>\n",
       "      <td>0.806320</td>\n",
       "      <td>one</td>\n",
       "    </tr>\n",
       "    <tr>\n",
       "      <th>2014-01-10</th>\n",
       "      <td>0.623552</td>\n",
       "      <td>0.286183</td>\n",
       "      <td>1.184754</td>\n",
       "      <td>0.574648</td>\n",
       "      <td>nine</td>\n",
       "    </tr>\n",
       "  </tbody>\n",
       "</table>\n",
       "</div>"
      ],
      "text/plain": [
       "                   A         B         C         D     E\n",
       "2014-01-01  1.569233 -0.678559  0.067050  0.819036   one\n",
       "2014-01-02 -0.481405 -0.192512  0.947463  0.806320   one\n",
       "2014-01-10  0.623552  0.286183  1.184754  0.574648  nine"
      ]
     },
     "execution_count": 32,
     "metadata": {},
     "output_type": "execute_result"
    }
   ],
   "source": [
    "df2[df2['E'].isin(['one', 'nine'])]"
   ]
  },
  {
   "cell_type": "markdown",
   "id": "dd366aca",
   "metadata": {},
   "source": [
    "#### Setting\n",
    "- Setting a new column automatically aligns the data by the indexes:"
   ]
  },
  {
   "cell_type": "code",
   "execution_count": 33,
   "id": "5247f987",
   "metadata": {},
   "outputs": [
    {
     "data": {
      "text/plain": [
       "2014-01-01    1\n",
       "2014-01-02    2\n",
       "2014-01-03    3\n",
       "2014-01-04    4\n",
       "2014-01-05    5\n",
       "2014-01-06    6\n",
       "Freq: D, dtype: int64"
      ]
     },
     "execution_count": 33,
     "metadata": {},
     "output_type": "execute_result"
    }
   ],
   "source": [
    "s1 = pd.Series([1,2,3,4,5,6], index=pd.date_range('20140101', periods=6))\n",
    "s1"
   ]
  },
  {
   "cell_type": "code",
   "execution_count": 34,
   "id": "bcef73bd",
   "metadata": {},
   "outputs": [],
   "source": [
    "df['F'] = s1"
   ]
  },
  {
   "cell_type": "markdown",
   "id": "00cedb72",
   "metadata": {},
   "source": [
    "- Setting values by label:"
   ]
  },
  {
   "cell_type": "code",
   "execution_count": 35,
   "id": "28cbbdb8",
   "metadata": {},
   "outputs": [],
   "source": [
    "df.at[dates[0], 'A'] = 0"
   ]
  },
  {
   "cell_type": "markdown",
   "id": "096087c0",
   "metadata": {},
   "source": [
    "- Setting values by position:"
   ]
  },
  {
   "cell_type": "code",
   "execution_count": 36,
   "id": "95856f1e",
   "metadata": {},
   "outputs": [],
   "source": [
    "df.iat[1,2] = 0"
   ]
  },
  {
   "cell_type": "markdown",
   "id": "a0b46ff1",
   "metadata": {},
   "source": [
    "- Setting by assigning with a NumPy array:"
   ]
  },
  {
   "cell_type": "code",
   "execution_count": 37,
   "id": "9deb9a1d",
   "metadata": {},
   "outputs": [],
   "source": [
    "df.loc[:, 'D']  = np.array([5] * len(df))\n"
   ]
  },
  {
   "cell_type": "markdown",
   "id": "22ea68ab",
   "metadata": {},
   "source": [
    "- The result of the prior setting operations:"
   ]
  },
  {
   "cell_type": "code",
   "execution_count": 38,
   "id": "ca204a17",
   "metadata": {},
   "outputs": [
    {
     "data": {
      "text/html": [
       "<div>\n",
       "<style scoped>\n",
       "    .dataframe tbody tr th:only-of-type {\n",
       "        vertical-align: middle;\n",
       "    }\n",
       "\n",
       "    .dataframe tbody tr th {\n",
       "        vertical-align: top;\n",
       "    }\n",
       "\n",
       "    .dataframe thead th {\n",
       "        text-align: right;\n",
       "    }\n",
       "</style>\n",
       "<table border=\"1\" class=\"dataframe\">\n",
       "  <thead>\n",
       "    <tr style=\"text-align: right;\">\n",
       "      <th></th>\n",
       "      <th>A</th>\n",
       "      <th>B</th>\n",
       "      <th>C</th>\n",
       "      <th>D</th>\n",
       "      <th>F</th>\n",
       "    </tr>\n",
       "  </thead>\n",
       "  <tbody>\n",
       "    <tr>\n",
       "      <th>2014-01-01</th>\n",
       "      <td>0.000000</td>\n",
       "      <td>-0.678559</td>\n",
       "      <td>0.067050</td>\n",
       "      <td>5.0</td>\n",
       "      <td>1.0</td>\n",
       "    </tr>\n",
       "    <tr>\n",
       "      <th>2014-01-02</th>\n",
       "      <td>-0.481405</td>\n",
       "      <td>-0.192512</td>\n",
       "      <td>0.000000</td>\n",
       "      <td>5.0</td>\n",
       "      <td>2.0</td>\n",
       "    </tr>\n",
       "    <tr>\n",
       "      <th>2014-01-03</th>\n",
       "      <td>-0.864873</td>\n",
       "      <td>-1.100285</td>\n",
       "      <td>-0.093128</td>\n",
       "      <td>5.0</td>\n",
       "      <td>3.0</td>\n",
       "    </tr>\n",
       "    <tr>\n",
       "      <th>2014-01-04</th>\n",
       "      <td>-0.198615</td>\n",
       "      <td>0.344250</td>\n",
       "      <td>-1.704664</td>\n",
       "      <td>5.0</td>\n",
       "      <td>4.0</td>\n",
       "    </tr>\n",
       "    <tr>\n",
       "      <th>2014-01-05</th>\n",
       "      <td>0.138431</td>\n",
       "      <td>0.729905</td>\n",
       "      <td>-2.103799</td>\n",
       "      <td>5.0</td>\n",
       "      <td>5.0</td>\n",
       "    </tr>\n",
       "    <tr>\n",
       "      <th>2014-01-06</th>\n",
       "      <td>0.024959</td>\n",
       "      <td>0.416609</td>\n",
       "      <td>1.561498</td>\n",
       "      <td>5.0</td>\n",
       "      <td>6.0</td>\n",
       "    </tr>\n",
       "    <tr>\n",
       "      <th>2014-01-07</th>\n",
       "      <td>-0.324380</td>\n",
       "      <td>-0.401447</td>\n",
       "      <td>-0.039363</td>\n",
       "      <td>5.0</td>\n",
       "      <td>NaN</td>\n",
       "    </tr>\n",
       "    <tr>\n",
       "      <th>2014-01-08</th>\n",
       "      <td>-1.844305</td>\n",
       "      <td>0.490536</td>\n",
       "      <td>1.218289</td>\n",
       "      <td>5.0</td>\n",
       "      <td>NaN</td>\n",
       "    </tr>\n",
       "    <tr>\n",
       "      <th>2014-01-09</th>\n",
       "      <td>-0.092354</td>\n",
       "      <td>-0.800876</td>\n",
       "      <td>0.492006</td>\n",
       "      <td>5.0</td>\n",
       "      <td>NaN</td>\n",
       "    </tr>\n",
       "    <tr>\n",
       "      <th>2014-01-10</th>\n",
       "      <td>0.623552</td>\n",
       "      <td>0.286183</td>\n",
       "      <td>1.184754</td>\n",
       "      <td>5.0</td>\n",
       "      <td>NaN</td>\n",
       "    </tr>\n",
       "  </tbody>\n",
       "</table>\n",
       "</div>"
      ],
      "text/plain": [
       "                   A         B         C    D    F\n",
       "2014-01-01  0.000000 -0.678559  0.067050  5.0  1.0\n",
       "2014-01-02 -0.481405 -0.192512  0.000000  5.0  2.0\n",
       "2014-01-03 -0.864873 -1.100285 -0.093128  5.0  3.0\n",
       "2014-01-04 -0.198615  0.344250 -1.704664  5.0  4.0\n",
       "2014-01-05  0.138431  0.729905 -2.103799  5.0  5.0\n",
       "2014-01-06  0.024959  0.416609  1.561498  5.0  6.0\n",
       "2014-01-07 -0.324380 -0.401447 -0.039363  5.0  NaN\n",
       "2014-01-08 -1.844305  0.490536  1.218289  5.0  NaN\n",
       "2014-01-09 -0.092354 -0.800876  0.492006  5.0  NaN\n",
       "2014-01-10  0.623552  0.286183  1.184754  5.0  NaN"
      ]
     },
     "execution_count": 38,
     "metadata": {},
     "output_type": "execute_result"
    }
   ],
   "source": [
    "df"
   ]
  },
  {
   "cell_type": "markdown",
   "id": "eab5f14f",
   "metadata": {},
   "source": [
    "- A where operation with setting:"
   ]
  },
  {
   "cell_type": "code",
   "execution_count": 39,
   "id": "2bbf8702",
   "metadata": {},
   "outputs": [
    {
     "data": {
      "text/html": [
       "<div>\n",
       "<style scoped>\n",
       "    .dataframe tbody tr th:only-of-type {\n",
       "        vertical-align: middle;\n",
       "    }\n",
       "\n",
       "    .dataframe tbody tr th {\n",
       "        vertical-align: top;\n",
       "    }\n",
       "\n",
       "    .dataframe thead th {\n",
       "        text-align: right;\n",
       "    }\n",
       "</style>\n",
       "<table border=\"1\" class=\"dataframe\">\n",
       "  <thead>\n",
       "    <tr style=\"text-align: right;\">\n",
       "      <th></th>\n",
       "      <th>A</th>\n",
       "      <th>B</th>\n",
       "      <th>C</th>\n",
       "      <th>D</th>\n",
       "      <th>F</th>\n",
       "    </tr>\n",
       "  </thead>\n",
       "  <tbody>\n",
       "    <tr>\n",
       "      <th>2014-01-01</th>\n",
       "      <td>0.000000</td>\n",
       "      <td>-0.678559</td>\n",
       "      <td>-0.067050</td>\n",
       "      <td>-5.0</td>\n",
       "      <td>-1.0</td>\n",
       "    </tr>\n",
       "    <tr>\n",
       "      <th>2014-01-02</th>\n",
       "      <td>-0.481405</td>\n",
       "      <td>-0.192512</td>\n",
       "      <td>0.000000</td>\n",
       "      <td>-5.0</td>\n",
       "      <td>-2.0</td>\n",
       "    </tr>\n",
       "    <tr>\n",
       "      <th>2014-01-03</th>\n",
       "      <td>-0.864873</td>\n",
       "      <td>-1.100285</td>\n",
       "      <td>-0.093128</td>\n",
       "      <td>-5.0</td>\n",
       "      <td>-3.0</td>\n",
       "    </tr>\n",
       "    <tr>\n",
       "      <th>2014-01-04</th>\n",
       "      <td>-0.198615</td>\n",
       "      <td>-0.344250</td>\n",
       "      <td>-1.704664</td>\n",
       "      <td>-5.0</td>\n",
       "      <td>-4.0</td>\n",
       "    </tr>\n",
       "    <tr>\n",
       "      <th>2014-01-05</th>\n",
       "      <td>-0.138431</td>\n",
       "      <td>-0.729905</td>\n",
       "      <td>-2.103799</td>\n",
       "      <td>-5.0</td>\n",
       "      <td>-5.0</td>\n",
       "    </tr>\n",
       "    <tr>\n",
       "      <th>2014-01-06</th>\n",
       "      <td>-0.024959</td>\n",
       "      <td>-0.416609</td>\n",
       "      <td>-1.561498</td>\n",
       "      <td>-5.0</td>\n",
       "      <td>-6.0</td>\n",
       "    </tr>\n",
       "    <tr>\n",
       "      <th>2014-01-07</th>\n",
       "      <td>-0.324380</td>\n",
       "      <td>-0.401447</td>\n",
       "      <td>-0.039363</td>\n",
       "      <td>-5.0</td>\n",
       "      <td>NaN</td>\n",
       "    </tr>\n",
       "    <tr>\n",
       "      <th>2014-01-08</th>\n",
       "      <td>-1.844305</td>\n",
       "      <td>-0.490536</td>\n",
       "      <td>-1.218289</td>\n",
       "      <td>-5.0</td>\n",
       "      <td>NaN</td>\n",
       "    </tr>\n",
       "    <tr>\n",
       "      <th>2014-01-09</th>\n",
       "      <td>-0.092354</td>\n",
       "      <td>-0.800876</td>\n",
       "      <td>-0.492006</td>\n",
       "      <td>-5.0</td>\n",
       "      <td>NaN</td>\n",
       "    </tr>\n",
       "    <tr>\n",
       "      <th>2014-01-10</th>\n",
       "      <td>-0.623552</td>\n",
       "      <td>-0.286183</td>\n",
       "      <td>-1.184754</td>\n",
       "      <td>-5.0</td>\n",
       "      <td>NaN</td>\n",
       "    </tr>\n",
       "  </tbody>\n",
       "</table>\n",
       "</div>"
      ],
      "text/plain": [
       "                   A         B         C    D    F\n",
       "2014-01-01  0.000000 -0.678559 -0.067050 -5.0 -1.0\n",
       "2014-01-02 -0.481405 -0.192512  0.000000 -5.0 -2.0\n",
       "2014-01-03 -0.864873 -1.100285 -0.093128 -5.0 -3.0\n",
       "2014-01-04 -0.198615 -0.344250 -1.704664 -5.0 -4.0\n",
       "2014-01-05 -0.138431 -0.729905 -2.103799 -5.0 -5.0\n",
       "2014-01-06 -0.024959 -0.416609 -1.561498 -5.0 -6.0\n",
       "2014-01-07 -0.324380 -0.401447 -0.039363 -5.0  NaN\n",
       "2014-01-08 -1.844305 -0.490536 -1.218289 -5.0  NaN\n",
       "2014-01-09 -0.092354 -0.800876 -0.492006 -5.0  NaN\n",
       "2014-01-10 -0.623552 -0.286183 -1.184754 -5.0  NaN"
      ]
     },
     "execution_count": 39,
     "metadata": {},
     "output_type": "execute_result"
    }
   ],
   "source": [
    "df2 = df.copy()\n",
    "df2[df2>0] = -df2\n",
    "df2"
   ]
  }
 ],
 "metadata": {
  "kernelspec": {
   "display_name": "data_analysis",
   "language": "python",
   "name": "python3"
  },
  "language_info": {
   "codemirror_mode": {
    "name": "ipython",
    "version": 3
   },
   "file_extension": ".py",
   "mimetype": "text/x-python",
   "name": "python",
   "nbconvert_exporter": "python",
   "pygments_lexer": "ipython3",
   "version": "3.13.5"
  }
 },
 "nbformat": 4,
 "nbformat_minor": 5
}
