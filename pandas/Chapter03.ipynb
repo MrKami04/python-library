{
 "cells": [
  {
   "cell_type": "markdown",
   "id": "3308662b",
   "metadata": {},
   "source": [
    "## Data Types"
   ]
  },
  {
   "cell_type": "code",
   "execution_count": 1,
   "id": "abdf765e",
   "metadata": {},
   "outputs": [],
   "source": [
    "import pandas as pd\n",
    "import numpy as np\n",
    "import pyarrow as pa"
   ]
  },
  {
   "cell_type": "markdown",
   "id": "9a268125",
   "metadata": {},
   "source": [
    "#### Integral types"
   ]
  },
  {
   "cell_type": "code",
   "execution_count": 8,
   "id": "b33eebb8",
   "metadata": {},
   "outputs": [
    {
     "name": "stdout",
     "output_type": "stream",
     "text": [
      "0    0\n",
      "1    1\n",
      "2    2\n",
      "dtype: Int64\n",
      "--------------\n",
      "0    0\n",
      "1    1\n",
      "2    2\n",
      "dtype: Int8\n",
      "--------------\n",
      "0       1\n",
      "1    <NA>\n",
      "2       2\n",
      "dtype: Int64\n",
      "--------------\n",
      "0       1\n",
      "1    <NA>\n",
      "2       2\n",
      "dtype: Int64\n",
      "--------------\n",
      "0    555\n",
      "1    556\n",
      "2    557\n",
      "dtype: Int16\n",
      "--------------\n",
      "0    0\n",
      "1    1\n",
      "2    2\n",
      "dtype: UInt8\n"
     ]
    }
   ],
   "source": [
    "print(pd.Series(range(3), dtype=pd.Int64Dtype()))\n",
    "print(\"--------------\")\n",
    "print(pd.Series(range(3), dtype=pd.Int8Dtype()))\n",
    "print(\"--------------\")\n",
    "print(pd.Series([1, pd.NA, 2], dtype=pd.Int64Dtype()))\n",
    "print(\"--------------\")\n",
    "print(pd.Series([1, None, 2], dtype=pd.Int64Dtype()))\n",
    "print(\"--------------\")\n",
    "print(pd.Series(range(555, 558), dtype=pd.Int16Dtype()))\n",
    "print(\"--------------\")\n",
    "print(pd.Series(range(3), dtype=pd.UInt8Dtype()))\n"
   ]
  },
  {
   "cell_type": "markdown",
   "id": "8e63f229",
   "metadata": {},
   "source": [
    "### Floating point types"
   ]
  },
  {
   "cell_type": "code",
   "execution_count": 12,
   "id": "40863b54",
   "metadata": {},
   "outputs": [
    {
     "name": "stdout",
     "output_type": "stream",
     "text": [
      "0        3.14\n",
      "1    0.333333\n",
      "2    -123.456\n",
      "dtype: Float64\n",
      "--------------\n",
      "0    3.14\n",
      "1    <NA>\n",
      "2    <NA>\n",
      "dtype: Float64\n",
      "--------------\n",
      "0    True\n",
      "dtype: boolean\n"
     ]
    }
   ],
   "source": [
    "print(pd.Series([3.14, .333333333, -123.456], dtype=pd.Float64Dtype()))\n",
    "print(\"--------------\")\n",
    "print(pd.Series([3.14, None, pd.NA], dtype=pd.Float64Dtype()))\n",
    "print(\"--------------\")\n",
    "ser1 = pd.Series([1_000_000.123], dtype=pd.Float32Dtype())\n",
    "ser2 = pd.Series([1_000_000.124], dtype=pd.Float32Dtype())\n",
    "print(ser1.eq(ser2))"
   ]
  },
  {
   "cell_type": "markdown",
   "id": "ca3956b0",
   "metadata": {},
   "source": [
    "### Boolean types"
   ]
  },
  {
   "cell_type": "code",
   "execution_count": 13,
   "id": "6cef1e35",
   "metadata": {},
   "outputs": [
    {
     "data": {
      "text/plain": [
       "0     True\n",
       "1    False\n",
       "2     True\n",
       "dtype: boolean"
      ]
     },
     "execution_count": 13,
     "metadata": {},
     "output_type": "execute_result"
    }
   ],
   "source": [
    "pd.Series([True, False, True], dtype=pd.BooleanDtype())"
   ]
  },
  {
   "cell_type": "code",
   "execution_count": 14,
   "id": "fc5d35ef",
   "metadata": {},
   "outputs": [
    {
     "data": {
      "text/plain": [
       "0     True\n",
       "1    False\n",
       "2     True\n",
       "dtype: boolean"
      ]
     },
     "execution_count": 14,
     "metadata": {},
     "output_type": "execute_result"
    }
   ],
   "source": [
    "pd.Series([1, 0, 1], dtype=pd.BooleanDtype())"
   ]
  },
  {
   "cell_type": "markdown",
   "id": "cf636c8e",
   "metadata": {},
   "source": [
    "### String types"
   ]
  },
  {
   "cell_type": "code",
   "execution_count": 20,
   "id": "621d735c",
   "metadata": {},
   "outputs": [
    {
     "name": "stdout",
     "output_type": "stream",
     "text": [
      "0    foo\n",
      "1    bar\n",
      "2    baz\n",
      "dtype: string\n",
      "--------------\n",
      "0    2\n",
      "1    3\n",
      "2    4\n",
      "dtype: Int64\n",
      "--------------\n",
      "0      XX\n",
      "1     YYY\n",
      "2    ZZZZ\n",
      "dtype: string \n",
      " 0      xx\n",
      "1     yyy\n",
      "2    zzzz\n",
      "dtype: string \n",
      " 0      Xx\n",
      "1     Yyy\n",
      "2    Zzzz\n",
      "dtype: string\n"
     ]
    }
   ],
   "source": [
    "print(pd.Series([\"foo\", \"bar\", \"baz\"], dtype=pd.StringDtype()))\n",
    "print(\"--------------\")\n",
    "ser = pd.Series([\"xx\", \"YyY\", \"zZzZ\"], dtype=pd.StringDtype())\n",
    "print(ser.str.len())\n",
    "print(\"--------------\")\n",
    "print(ser.str.upper(),\"\\n\",ser.str.lower(),\"\\n\", ser.str.title())"
   ]
  },
  {
   "cell_type": "code",
   "execution_count": 22,
   "id": "a2265974",
   "metadata": {},
   "outputs": [
    {
     "name": "stdout",
     "output_type": "stream",
     "text": [
      "0     True\n",
      "1    False\n",
      "2    False\n",
      "dtype: boolean\n",
      "--------------\n"
     ]
    },
    {
     "data": {
      "text/plain": [
       "0    False\n",
       "1     True\n",
       "2     True\n",
       "dtype: boolean"
      ]
     },
     "execution_count": 22,
     "metadata": {},
     "output_type": "execute_result"
    }
   ],
   "source": [
    "ser = pd.Series([\"foo\", \"bar\", \"baz\"], dtype=pd.StringDtype())\n",
    "print(ser.str.contains(\"o\"))\n",
    "print(\"--------------\")\n",
    "ser.str.contains(r\"^ba[rz]$\", case=False, regex=True)"
   ]
  },
  {
   "cell_type": "markdown",
   "id": "720683ec",
   "metadata": {},
   "source": [
    "### Missing value handling"
   ]
  },
  {
   "cell_type": "code",
   "execution_count": 23,
   "id": "de2ef69b",
   "metadata": {},
   "outputs": [
    {
     "data": {
      "text/plain": [
       "0    0\n",
       "1    1\n",
       "2    2\n",
       "dtype: int64"
      ]
     },
     "execution_count": 23,
     "metadata": {},
     "output_type": "execute_result"
    }
   ],
   "source": [
    "ser = pd.Series(range(3))\n",
    "ser"
   ]
  },
  {
   "cell_type": "code",
   "execution_count": 26,
   "id": "0f99fa87",
   "metadata": {},
   "outputs": [
    {
     "name": "stdout",
     "output_type": "stream",
     "text": [
      "0    0.0\n",
      "1    NaN\n",
      "2    2.0\n",
      "dtype: float64\n",
      "--------------\n",
      "0    False\n",
      "1     True\n",
      "2    False\n",
      "dtype: bool\n",
      "--------------\n",
      "0    False\n",
      "1     True\n",
      "2    False\n",
      "dtype: bool\n"
     ]
    }
   ],
   "source": [
    "ser.iloc[1] = None\n",
    "print(ser)\n",
    "print(\"--------------\")\n",
    "print(pd.isna(pd.Series([1, np.nan, 2])))\n",
    "print(\"--------------\")\n",
    "print(pd.isna(pd.Series([1, pd.NA, 2], dtype=pd.Int64Dtype())))"
   ]
  },
  {
   "cell_type": "code",
   "execution_count": 27,
   "id": "56880795",
   "metadata": {},
   "outputs": [
    {
     "data": {
      "text/plain": [
       "0    0\n",
       "dtype: Int64"
      ]
     },
     "execution_count": 27,
     "metadata": {},
     "output_type": "execute_result"
    }
   ],
   "source": [
    "ser = pd.Series(range(3), dtype=pd.Int64Dtype())\n",
    "mask = pd.Series([True, pd.NA, False], dtype=pd.BooleanDtype())\n",
    "ser[mask]"
   ]
  },
  {
   "cell_type": "markdown",
   "id": "a8b2f6e2",
   "metadata": {},
   "source": [
    "### Categorical types"
   ]
  },
  {
   "cell_type": "code",
   "execution_count": 29,
   "id": "10a17b0d",
   "metadata": {},
   "outputs": [
    {
     "data": {
      "text/plain": [
       "0    foo\n",
       "1    bar\n",
       "2    baz\n",
       "dtype: category\n",
       "Categories (3, string): [bar, baz, foo]"
      ]
     },
     "execution_count": 29,
     "metadata": {},
     "output_type": "execute_result"
    }
   ],
   "source": [
    "values = [\"foo\", \"bar\", \"baz\"]\n",
    "values_ser = pd.Series(values, dtype=pd.StringDtype())\n",
    "ser = values_ser.astype(pd.CategoricalDtype())\n",
    "ser"
   ]
  },
  {
   "cell_type": "code",
   "execution_count": 30,
   "id": "da413570",
   "metadata": {},
   "outputs": [
    {
     "data": {
      "text/plain": [
       "0    foo\n",
       "1    bar\n",
       "2    baz\n",
       "dtype: category\n",
       "Categories (3, string): [foo, bar, baz]"
      ]
     },
     "execution_count": 30,
     "metadata": {},
     "output_type": "execute_result"
    }
   ],
   "source": [
    "cat = pd.CategoricalDtype(values_ser)\n",
    "ser = pd.Series(values, dtype=cat)\n",
    "ser"
   ]
  },
  {
   "cell_type": "code",
   "execution_count": 31,
   "id": "41f8dd0b",
   "metadata": {},
   "outputs": [
    {
     "data": {
      "text/plain": [
       "0    foo\n",
       "1    bar\n",
       "2    foo\n",
       "dtype: category\n",
       "Categories (3, string): [foo, bar, baz]"
      ]
     },
     "execution_count": 31,
     "metadata": {},
     "output_type": "execute_result"
    }
   ],
   "source": [
    "ser.iloc[2] = \"foo\"\n",
    "ser"
   ]
  },
  {
   "cell_type": "code",
   "execution_count": 32,
   "id": "ca1e3f07",
   "metadata": {},
   "outputs": [
    {
     "data": {
      "text/plain": [
       "0    False\n",
       "1    False\n",
       "2     True\n",
       "3    False\n",
       "4     True\n",
       "5     True\n",
       "dtype: bool"
      ]
     },
     "execution_count": 32,
     "metadata": {},
     "output_type": "execute_result"
    }
   ],
   "source": [
    "shirt_sizes = pd.Series([\"S\", \"M\", \"L\", \"XL\"], dtype=pd.StringDtype())\n",
    "cat = pd.CategoricalDtype(shirt_sizes, ordered=True)\n",
    "ser = pd.Series([\"XL\", \"L\", \"S\", \"L\", \"S\", \"M\"], dtype=cat)\n",
    "ser < \"L\""
   ]
  },
  {
   "cell_type": "code",
   "execution_count": 33,
   "id": "fce2d4fb",
   "metadata": {},
   "outputs": [
    {
     "data": {
      "text/plain": [
       "0    foo\n",
       "1    bar\n",
       "2    foo\n",
       "dtype: category\n",
       "Categories (2, string): [foo, bar]"
      ]
     },
     "execution_count": 33,
     "metadata": {},
     "output_type": "execute_result"
    }
   ],
   "source": [
    "accepted_values = pd.Series([\"foo\", \"bar\"], dtype=pd.StringDtype())\n",
    "cat = pd.CategoricalDtype(accepted_values)\n",
    "ser = pd.Series([\"foo\", \"bar\", \"foo\"], dtype=cat)\n",
    "ser"
   ]
  },
  {
   "cell_type": "code",
   "execution_count": 35,
   "id": "befc823c",
   "metadata": {},
   "outputs": [
    {
     "name": "stdout",
     "output_type": "stream",
     "text": [
      "0    0\n",
      "1    1\n",
      "2    0\n",
      "dtype: int8\n",
      "--------------\n",
      "Index(['foo', 'bar'], dtype='string')\n"
     ]
    }
   ],
   "source": [
    "print(ser.cat.codes)\n",
    "print(\"--------------\")\n",
    "print(ser.cat.categories)"
   ]
  },
  {
   "cell_type": "code",
   "execution_count": 37,
   "id": "dc3c9689",
   "metadata": {},
   "outputs": [
    {
     "name": "stdout",
     "output_type": "stream",
     "text": [
      "2532\n",
      "--------------\n",
      "556\n",
      "--------------\n",
      "0    foo\n",
      "1    bar\n",
      "2    NaN\n",
      "dtype: category\n",
      "Categories (2, object): ['bar', 'foo']\n"
     ]
    }
   ],
   "source": [
    "print(pd.Series([\"foo\", \"bar\", \"baz\"] * 100, dtype=pd.StringDtype()).memory_usage())\n",
    "print(\"--------------\")\n",
    "print(pd.Series([\"foo\", \"bar\", \"baz\"] * 100, dtype=cat).memory_usage())\n",
    "print(\"--------------\")\n",
    "print(pd.Series([\"foo\", \"bar\", pd.NA], dtype=pd.CategoricalDtype()))"
   ]
  },
  {
   "cell_type": "markdown",
   "id": "cd74807a",
   "metadata": {},
   "source": [
    "### Temporal types - datetime"
   ]
  },
  {
   "cell_type": "code",
   "execution_count": 38,
   "id": "9372cafb",
   "metadata": {},
   "outputs": [
    {
     "data": {
      "text/plain": [
       "0   2024-01-01 00:00:00\n",
       "1   2024-01-02 00:00:01\n",
       "2   2024-01-03 00:00:02\n",
       "dtype: datetime64[ns]"
      ]
     },
     "execution_count": 38,
     "metadata": {},
     "output_type": "execute_result"
    }
   ],
   "source": [
    "ser = pd.Series([\n",
    "    \"2024-01-01 00:00:00\",\n",
    "    \"2024-01-02 00:00:01\",\n",
    "    \"2024-01-03 00:00:02\"\n",
    "], dtype=\"datetime64[ns]\")\n",
    "ser"
   ]
  },
  {
   "cell_type": "code",
   "execution_count": 39,
   "id": "5082e30f",
   "metadata": {},
   "outputs": [
    {
     "data": {
      "text/plain": [
       "0   2024-01-01\n",
       "1   2024-01-02\n",
       "2   2024-01-03\n",
       "dtype: datetime64[ns]"
      ]
     },
     "execution_count": 39,
     "metadata": {},
     "output_type": "execute_result"
    }
   ],
   "source": [
    "ser = pd.Series([\n",
    "    \"2024-01-01\",\n",
    "    \"2024-01-02\",\n",
    "    \"2024-01-03\"\n",
    "], dtype=\"datetime64[ns]\")\n",
    "ser"
   ]
  },
  {
   "cell_type": "code",
   "execution_count": 44,
   "id": "423d6ab6",
   "metadata": {},
   "outputs": [
    {
     "name": "stdout",
     "output_type": "stream",
     "text": [
      "0   2024-01-01 00:00:00\n",
      "1   2024-01-04 00:00:42\n",
      "2   2024-01-03 00:00:00\n",
      "dtype: datetime64[ns]\n",
      "--------------\n",
      "0    2024\n",
      "1    2024\n",
      "2    2024\n",
      "dtype: int32\n",
      "--------------\n",
      "0    1\n",
      "1    1\n",
      "2    1\n",
      "dtype: int32\n",
      "--------------\n",
      "0    0\n",
      "1    3\n",
      "2    2\n",
      "dtype: int32\n",
      "--------------\n",
      "0    1\n",
      "1    4\n",
      "2    3\n",
      "dtype: int32\n",
      "--------------\n",
      "0    0\n",
      "1    0\n",
      "2    0\n",
      "dtype: int32\n",
      "--------------\n",
      "0    0\n",
      "1    0\n",
      "2    0\n",
      "dtype: int32\n"
     ]
    }
   ],
   "source": [
    "ser.iloc[1] = \"2024-01-04 00:00:42\"\n",
    "print(ser)\n",
    "print(\"--------------\")\n",
    "print(ser.dt.year)\n",
    "print(\"--------------\")\n",
    "print(ser.dt.month)\n",
    "print(\"--------------\")\n",
    "print(ser.dt.day_of_week)\n",
    "print(\"--------------\")\n",
    "print(ser.dt.day)\n",
    "print(\"--------------\")\n",
    "print(ser.dt.hour)\n",
    "print(\"--------------\")\n",
    "print(ser.dt.minute)"
   ]
  },
  {
   "cell_type": "code",
   "execution_count": 45,
   "id": "295e9c5e",
   "metadata": {},
   "outputs": [
    {
     "data": {
      "text/plain": [
       "0   2024-01-01 00:00:01+00:00\n",
       "1   2024-01-02 00:00:01+00:00\n",
       "2   2024-01-03 00:00:01+00:00\n",
       "dtype: datetime64[ns, UTC]"
      ]
     },
     "execution_count": 45,
     "metadata": {},
     "output_type": "execute_result"
    }
   ],
   "source": [
    "pd.Series([\n",
    "    \"2024-01-01 00:00:01\",\n",
    "    \"2024-01-02 00:00:01\",\n",
    "    \"2024-01-03 00:00:01\"\n",
    "], dtype=pd.DatetimeTZDtype(tz=\"UTC\"))"
   ]
  },
  {
   "cell_type": "code",
   "execution_count": 46,
   "id": "df25e7aa",
   "metadata": {},
   "outputs": [
    {
     "data": {
      "text/plain": [
       "0   2024-01-01 00:00:01-05:00\n",
       "1   2024-01-02 00:00:01-05:00\n",
       "2   2024-01-03 00:00:01-05:00\n",
       "dtype: datetime64[ns, America/New_York]"
      ]
     },
     "execution_count": 46,
     "metadata": {},
     "output_type": "execute_result"
    }
   ],
   "source": [
    "pd.Series([\n",
    "    \"2024-01-01 00:00:01\",\n",
    "    \"2024-01-02 00:00:01\",\n",
    "    \"2024-01-03 00:00:01\"\n",
    "], dtype=pd.DatetimeTZDtype(tz=\"America/New_York\"))"
   ]
  },
  {
   "cell_type": "code",
   "execution_count": 47,
   "id": "092d1deb",
   "metadata": {},
   "outputs": [
    {
     "data": {
      "text/plain": [
       "0   2024-01-01 00:00:01-05:00\n",
       "1   2024-01-02 00:00:01-05:00\n",
       "2   2024-01-03 00:00:01-05:00\n",
       "dtype: datetime64[ns, UTC-05:00]"
      ]
     },
     "execution_count": 47,
     "metadata": {},
     "output_type": "execute_result"
    }
   ],
   "source": [
    "pd.Series([\n",
    "    \"2024-01-01 00:00:01\",\n",
    "    \"2024-01-02 00:00:01\",\n",
    "    \"2024-01-03 00:00:01\"\n",
    "], dtype=pd.DatetimeTZDtype(tz=\"-05:00\"))"
   ]
  },
  {
   "cell_type": "code",
   "execution_count": 48,
   "id": "fe0b8116",
   "metadata": {},
   "outputs": [
    {
     "data": {
      "text/plain": [
       "0   2024-01-01 00:00:00-05:00\n",
       "1   2024-01-01 00:01:10-05:00\n",
       "2   2024-01-01 00:02:42-05:00\n",
       "dtype: datetime64[ns, America/New_York]"
      ]
     },
     "execution_count": 48,
     "metadata": {},
     "output_type": "execute_result"
    }
   ],
   "source": [
    "ser_no_tz = pd.Series([\n",
    "    \"2024-01-01 00:00:00\",\n",
    "    \"2024-01-01 00:01:10\",\n",
    "    \"2024-01-01 00:02:42\"\n",
    "], dtype=\"datetime64[ns]\")\n",
    "ser_et = ser_no_tz.dt.tz_localize(\"America/New_York\")\n",
    "ser_et"
   ]
  },
  {
   "cell_type": "code",
   "execution_count": 49,
   "id": "55ca9d80",
   "metadata": {},
   "outputs": [
    {
     "data": {
      "text/plain": [
       "0   2023-12-31 21:00:00-08:00\n",
       "1   2023-12-31 21:01:10-08:00\n",
       "2   2023-12-31 21:02:42-08:00\n",
       "dtype: datetime64[ns, America/Los_Angeles]"
      ]
     },
     "execution_count": 49,
     "metadata": {},
     "output_type": "execute_result"
    }
   ],
   "source": [
    "ser_pt = ser_et.dt.tz_convert(\"America/Los_Angeles\")\n",
    "ser_pt"
   ]
  },
  {
   "cell_type": "code",
   "execution_count": 50,
   "id": "2c11ecb4",
   "metadata": {},
   "outputs": [
    {
     "data": {
      "text/plain": [
       "0   2023-12-31 00:00:00-08:00\n",
       "1   2023-12-31 00:00:00-08:00\n",
       "2   2023-12-31 00:00:00-08:00\n",
       "dtype: datetime64[ns, America/Los_Angeles]"
      ]
     },
     "execution_count": 50,
     "metadata": {},
     "output_type": "execute_result"
    }
   ],
   "source": [
    "ser_pt.dt.normalize()"
   ]
  },
  {
   "cell_type": "code",
   "execution_count": 51,
   "id": "e653adbb",
   "metadata": {},
   "outputs": [
    {
     "data": {
      "text/plain": [
       "0   2024-01-01\n",
       "1          NaT\n",
       "2   2024-01-03\n",
       "dtype: datetime64[ns]"
      ]
     },
     "execution_count": 51,
     "metadata": {},
     "output_type": "execute_result"
    }
   ],
   "source": [
    "ser = pd.Series([\n",
    "    \"2024-01-01\",\n",
    "    None,\n",
    "    \"2024-01-03\"\n",
    "], dtype=\"datetime64[ns]\")\n",
    "ser"
   ]
  },
  {
   "cell_type": "code",
   "execution_count": 52,
   "id": "3395b832",
   "metadata": {},
   "outputs": [
    {
     "data": {
      "text/plain": [
       "0    False\n",
       "1     True\n",
       "2    False\n",
       "dtype: bool"
      ]
     },
     "execution_count": 52,
     "metadata": {},
     "output_type": "execute_result"
    }
   ],
   "source": [
    "pd.isna(ser)"
   ]
  },
  {
   "cell_type": "code",
   "execution_count": 53,
   "id": "8bc65d3a",
   "metadata": {},
   "outputs": [
    {
     "data": {
      "text/plain": [
       "0   1500-01-01 00:00:01\n",
       "1   2500-01-01 00:00:01\n",
       "dtype: datetime64[us]"
      ]
     },
     "execution_count": 53,
     "metadata": {},
     "output_type": "execute_result"
    }
   ],
   "source": [
    "pd.Series([\n",
    "    \"1500-01-01 00:00:01\",\n",
    "    \"2500-01-01 00:00:01\",\n",
    "], dtype=\"datetime64[us]\")"
   ]
  },
  {
   "cell_type": "markdown",
   "id": "3e1e54ce",
   "metadata": {},
   "source": [
    "### Temporal types - Timedelta"
   ]
  },
  {
   "cell_type": "code",
   "execution_count": 54,
   "id": "418fddd3",
   "metadata": {},
   "outputs": [
    {
     "data": {
      "text/plain": [
       "0   0 days 12:00:00\n",
       "1   1 days 12:00:00\n",
       "2   2 days 12:00:00\n",
       "dtype: timedelta64[ns]"
      ]
     },
     "execution_count": 54,
     "metadata": {},
     "output_type": "execute_result"
    }
   ],
   "source": [
    "ser = pd.Series([\n",
    "    \"2024-01-01\",\n",
    "    \"2024-01-02\",\n",
    "    \"2024-01-03\"\n",
    "], dtype=\"datetime64[ns]\")\n",
    "ser - pd.Timestamp(\"2023-12-31 12:00:00\")"
   ]
  },
  {
   "cell_type": "code",
   "execution_count": 55,
   "id": "54bba7ed",
   "metadata": {},
   "outputs": [
    {
     "data": {
      "text/plain": [
       "0   2024-01-04\n",
       "1   2024-01-05\n",
       "2   2024-01-06\n",
       "dtype: datetime64[ns]"
      ]
     },
     "execution_count": 55,
     "metadata": {},
     "output_type": "execute_result"
    }
   ],
   "source": [
    "ser + pd.Timedelta(\"3 days\")"
   ]
  },
  {
   "cell_type": "code",
   "execution_count": 56,
   "id": "4ec17ad9",
   "metadata": {},
   "outputs": [
    {
     "data": {
      "text/plain": [
       "0           -1 days +00:00:00\n",
       "1             0 days 06:00:00\n",
       "2             0 days 00:42:00\n",
       "3             0 days 00:00:12\n",
       "4      0 days 00:00:00.008000\n",
       "5      0 days 00:00:00.000004\n",
       "6   0 days 00:00:00.000000300\n",
       "dtype: timedelta64[ns]"
      ]
     },
     "execution_count": 56,
     "metadata": {},
     "output_type": "execute_result"
    }
   ],
   "source": [
    "pd.Series([\n",
    "    \"-1 days\",\n",
    "    \"6 hours\",\n",
    "    \"42 minutes\",\n",
    "    \"12 seconds\",\n",
    "    \"8 milliseconds\",\n",
    "    \"4 microseconds\",\n",
    "    \"300 nanoseconds\",\n",
    "], dtype=\"timedelta64[ns]\")"
   ]
  },
  {
   "cell_type": "markdown",
   "id": "747b9300",
   "metadata": {},
   "source": [
    "### Temporal PyArrow types"
   ]
  },
  {
   "cell_type": "code",
   "execution_count": 57,
   "id": "9bd5e65c",
   "metadata": {},
   "outputs": [
    {
     "data": {
      "text/plain": [
       "0    2024-01-01\n",
       "1    2024-01-02\n",
       "2    2024-01-03\n",
       "dtype: date32[day][pyarrow]"
      ]
     },
     "execution_count": 57,
     "metadata": {},
     "output_type": "execute_result"
    }
   ],
   "source": [
    "ser = pd.Series([\n",
    "    \"2024-01-01\",\n",
    "    \"2024-01-02\",\n",
    "    \"2024-01-03\",\n",
    "], dtype=pd.ArrowDtype(pa.date32()))\n",
    "ser"
   ]
  },
  {
   "cell_type": "code",
   "execution_count": 58,
   "id": "96c645c7",
   "metadata": {},
   "outputs": [
    {
     "data": {
      "text/plain": [
       "0    9999-12-29\n",
       "1    9999-12-30\n",
       "2    9999-12-31\n",
       "dtype: date32[day][pyarrow]"
      ]
     },
     "execution_count": 58,
     "metadata": {},
     "output_type": "execute_result"
    }
   ],
   "source": [
    "ser = pd.Series([\n",
    "    \"9999-12-29\",\n",
    "    \"9999-12-30\",\n",
    "    \"9999-12-31\",\n",
    "], dtype=pd.ArrowDtype(pa.date32()))\n",
    "ser"
   ]
  },
  {
   "cell_type": "markdown",
   "id": "005304ba",
   "metadata": {},
   "source": [
    "### PyArrow List types"
   ]
  },
  {
   "cell_type": "code",
   "execution_count": 60,
   "id": "e82ba379",
   "metadata": {},
   "outputs": [
    {
     "data": {
      "text/html": [
       "<div>\n",
       "<style scoped>\n",
       "    .dataframe tbody tr th:only-of-type {\n",
       "        vertical-align: middle;\n",
       "    }\n",
       "\n",
       "    .dataframe tbody tr th {\n",
       "        vertical-align: top;\n",
       "    }\n",
       "\n",
       "    .dataframe thead th {\n",
       "        text-align: right;\n",
       "    }\n",
       "</style>\n",
       "<table border=\"1\" class=\"dataframe\">\n",
       "  <thead>\n",
       "    <tr style=\"text-align: right;\">\n",
       "      <th></th>\n",
       "      <th>name</th>\n",
       "      <th>years_exp</th>\n",
       "    </tr>\n",
       "  </thead>\n",
       "  <tbody>\n",
       "    <tr>\n",
       "      <th>0</th>\n",
       "      <td>Alice</td>\n",
       "      <td>10</td>\n",
       "    </tr>\n",
       "    <tr>\n",
       "      <th>1</th>\n",
       "      <td>Bob</td>\n",
       "      <td>2</td>\n",
       "    </tr>\n",
       "    <tr>\n",
       "      <th>2</th>\n",
       "      <td>Janice</td>\n",
       "      <td>4</td>\n",
       "    </tr>\n",
       "    <tr>\n",
       "      <th>3</th>\n",
       "      <td>Jim</td>\n",
       "      <td>8</td>\n",
       "    </tr>\n",
       "    <tr>\n",
       "      <th>4</th>\n",
       "      <td>Michael</td>\n",
       "      <td>6</td>\n",
       "    </tr>\n",
       "  </tbody>\n",
       "</table>\n",
       "</div>"
      ],
      "text/plain": [
       "      name  years_exp\n",
       "0    Alice         10\n",
       "1      Bob          2\n",
       "2   Janice          4\n",
       "3      Jim          8\n",
       "4  Michael          6"
      ]
     },
     "execution_count": 60,
     "metadata": {},
     "output_type": "execute_result"
    }
   ],
   "source": [
    "df = pd.DataFrame({\n",
    "    \"name\": [\"Alice\", \"Bob\", \"Janice\", \"Jim\", \"Michael\"],\n",
    "    \"years_exp\": [10, 2, 4, 8, 6],\n",
    "})\n",
    "df"
   ]
  },
  {
   "cell_type": "code",
   "execution_count": 61,
   "id": "944a1f1e",
   "metadata": {},
   "outputs": [
    {
     "data": {
      "text/html": [
       "<div>\n",
       "<style scoped>\n",
       "    .dataframe tbody tr th:only-of-type {\n",
       "        vertical-align: middle;\n",
       "    }\n",
       "\n",
       "    .dataframe tbody tr th {\n",
       "        vertical-align: top;\n",
       "    }\n",
       "\n",
       "    .dataframe thead th {\n",
       "        text-align: right;\n",
       "    }\n",
       "</style>\n",
       "<table border=\"1\" class=\"dataframe\">\n",
       "  <thead>\n",
       "    <tr style=\"text-align: right;\">\n",
       "      <th></th>\n",
       "      <th>name</th>\n",
       "      <th>years_exp</th>\n",
       "      <th>direct_reports</th>\n",
       "    </tr>\n",
       "  </thead>\n",
       "  <tbody>\n",
       "    <tr>\n",
       "      <th>0</th>\n",
       "      <td>Alice</td>\n",
       "      <td>10</td>\n",
       "      <td>['Bob' 'Michael']</td>\n",
       "    </tr>\n",
       "    <tr>\n",
       "      <th>1</th>\n",
       "      <td>Bob</td>\n",
       "      <td>2</td>\n",
       "      <td>&lt;NA&gt;</td>\n",
       "    </tr>\n",
       "    <tr>\n",
       "      <th>2</th>\n",
       "      <td>Janice</td>\n",
       "      <td>4</td>\n",
       "      <td>&lt;NA&gt;</td>\n",
       "    </tr>\n",
       "    <tr>\n",
       "      <th>3</th>\n",
       "      <td>Jim</td>\n",
       "      <td>8</td>\n",
       "      <td>['Janice']</td>\n",
       "    </tr>\n",
       "    <tr>\n",
       "      <th>4</th>\n",
       "      <td>Michael</td>\n",
       "      <td>6</td>\n",
       "      <td>&lt;NA&gt;</td>\n",
       "    </tr>\n",
       "  </tbody>\n",
       "</table>\n",
       "</div>"
      ],
      "text/plain": [
       "      name  years_exp     direct_reports\n",
       "0    Alice         10  ['Bob' 'Michael']\n",
       "1      Bob          2               <NA>\n",
       "2   Janice          4               <NA>\n",
       "3      Jim          8         ['Janice']\n",
       "4  Michael          6               <NA>"
      ]
     },
     "execution_count": 61,
     "metadata": {},
     "output_type": "execute_result"
    }
   ],
   "source": [
    "ser = pd.Series([\n",
    "    [\"Bob\", \"Michael\"],\n",
    "    None,\n",
    "    None,\n",
    "    [\"Janice\"],\n",
    "    None,\n",
    "], dtype=pd.ArrowDtype(pa.list_(pa.string())))\n",
    "df[\"direct_reports\"] = ser\n",
    "df"
   ]
  },
  {
   "cell_type": "code",
   "execution_count": 64,
   "id": "8197bb2c",
   "metadata": {},
   "outputs": [
    {
     "name": "stdout",
     "output_type": "stream",
     "text": [
      "0       2\n",
      "1    <NA>\n",
      "2    <NA>\n",
      "3       1\n",
      "4    <NA>\n",
      "dtype: int32[pyarrow]\n",
      "--------------\n",
      "0       Bob\n",
      "1      <NA>\n",
      "2      <NA>\n",
      "3    Janice\n",
      "4      <NA>\n",
      "dtype: string[pyarrow]\n",
      "--------------\n",
      "0        Bob\n",
      "1    Michael\n",
      "2     Janice\n",
      "dtype: string[pyarrow]\n"
     ]
    }
   ],
   "source": [
    "print(ser.list.len())\n",
    "print(\"--------------\")\n",
    "print(ser.list[0])\n",
    "print(\"--------------\")\n",
    "print(ser.list.flatten())"
   ]
  },
  {
   "cell_type": "markdown",
   "id": "41c41aed",
   "metadata": {},
   "source": [
    "### NumPy type system, the object type, and pitfalls"
   ]
  },
  {
   "cell_type": "code",
   "execution_count": 66,
   "id": "c94405a6",
   "metadata": {},
   "outputs": [
    {
     "name": "stdout",
     "output_type": "stream",
     "text": [
      "0    0\n",
      "1    1\n",
      "2    2\n",
      "dtype: int64\n",
      "--------------\n",
      "0    0.0\n",
      "1    NaN\n",
      "2    2.0\n",
      "dtype: float64\n"
     ]
    }
   ],
   "source": [
    "print(pd.Series([0, 1, 2]))\n",
    "print(\"--------------\")\n",
    "print(pd.Series([0, None, 2]))"
   ]
  },
  {
   "cell_type": "code",
   "execution_count": 70,
   "id": "dcf9f8d3",
   "metadata": {},
   "outputs": [
    {
     "data": {
      "text/plain": [
       "0    0\n",
       "1    0\n",
       "2    2\n",
       "dtype: int64"
      ]
     },
     "execution_count": 70,
     "metadata": {},
     "output_type": "execute_result"
    }
   ],
   "source": [
    "ser = pd.Series([0, None, 2])\n",
    "ser.fillna(0).astype(int)"
   ]
  },
  {
   "cell_type": "code",
   "execution_count": 72,
   "id": "f5ed4bf6",
   "metadata": {},
   "outputs": [
    {
     "name": "stdout",
     "output_type": "stream",
     "text": [
      "0.6666666666666666\n",
      "--------------\n",
      "1.0\n"
     ]
    }
   ],
   "source": [
    "print(pd.Series([0, None, 2]).fillna(0).astype(int).mean())\n",
    "print(\"--------------\")\n",
    "print(pd.Series([0, None, 2], dtype=pd.Int64Dtype()).mean())"
   ]
  },
  {
   "cell_type": "code",
   "execution_count": 73,
   "id": "7244efd6",
   "metadata": {},
   "outputs": [
    {
     "data": {
      "text/plain": [
       "2.7745231999870157"
      ]
     },
     "execution_count": 73,
     "metadata": {},
     "output_type": "execute_result"
    }
   ],
   "source": [
    "import timeit\n",
    "func = lambda: pd.Series([0, None, 2]).fillna(0).astype(int).mean()\n",
    "timeit.timeit(func, number=10_000)"
   ]
  },
  {
   "cell_type": "code",
   "execution_count": 74,
   "id": "1a981835",
   "metadata": {},
   "outputs": [
    {
     "data": {
      "text/plain": [
       "2.1524763999914285"
      ]
     },
     "execution_count": 74,
     "metadata": {},
     "output_type": "execute_result"
    }
   ],
   "source": [
    "func = lambda: pd.Series([0, None, 2], dtype=pd.Int64Dtype()).mean()\n",
    "timeit.timeit(func, number=10_000)"
   ]
  },
  {
   "cell_type": "code",
   "execution_count": 75,
   "id": "d6a31b8a",
   "metadata": {},
   "outputs": [
    {
     "name": "stdout",
     "output_type": "stream",
     "text": [
      "0     True\n",
      "1    False\n",
      "dtype: bool\n",
      "--------------\n",
      "0     True\n",
      "1    False\n",
      "2     None\n",
      "dtype: object\n"
     ]
    }
   ],
   "source": [
    "print(pd.Series([True, False]))\n",
    "print(\"--------------\")\n",
    "print(pd.Series([True, False, None]))"
   ]
  },
  {
   "cell_type": "code",
   "execution_count": 76,
   "id": "3d08710a",
   "metadata": {},
   "outputs": [
    {
     "data": {
      "text/plain": [
       "0                   True\n",
       "1                  False\n",
       "2                   None\n",
       "3    one of these things\n",
       "4          [is not like]\n",
       "5            [the other]\n",
       "dtype: object"
      ]
     },
     "execution_count": 76,
     "metadata": {},
     "output_type": "execute_result"
    }
   ],
   "source": [
    "pd.Series([True, False, None, \"one of these things\", [\"is not like\"], [\"the other\"]])"
   ]
  },
  {
   "cell_type": "code",
   "execution_count": 77,
   "id": "19397045",
   "metadata": {},
   "outputs": [
    {
     "data": {
      "text/plain": [
       "0     True\n",
       "1    False\n",
       "2     <NA>\n",
       "dtype: boolean"
      ]
     },
     "execution_count": 77,
     "metadata": {},
     "output_type": "execute_result"
    }
   ],
   "source": [
    "pd.Series([True, False, None], dtype=pd.BooleanDtype())"
   ]
  },
  {
   "cell_type": "code",
   "execution_count": 78,
   "id": "53117752",
   "metadata": {},
   "outputs": [
    {
     "data": {
      "text/plain": [
       "0    foo\n",
       "1    bar\n",
       "2    baz\n",
       "dtype: object"
      ]
     },
     "execution_count": 78,
     "metadata": {},
     "output_type": "execute_result"
    }
   ],
   "source": [
    "pd.Series([\"foo\", \"bar\", \"baz\"])"
   ]
  },
  {
   "cell_type": "code",
   "execution_count": 79,
   "id": "daf5fa5e",
   "metadata": {},
   "outputs": [
    {
     "data": {
      "text/plain": [
       "0    foo\n",
       "1    bar\n",
       "2     42\n",
       "dtype: object"
      ]
     },
     "execution_count": 79,
     "metadata": {},
     "output_type": "execute_result"
    }
   ],
   "source": [
    "ser = pd.Series([\"foo\", \"bar\", \"baz\"])\n",
    "ser.iloc[2] = 42\n",
    "ser"
   ]
  },
  {
   "cell_type": "code",
   "execution_count": 80,
   "id": "f33a0e34",
   "metadata": {},
   "outputs": [
    {
     "data": {
      "text/plain": [
       "0                  42\n",
       "1                 foo\n",
       "2         [sub, list]\n",
       "3    {'key': 'value'}\n",
       "dtype: object"
      ]
     },
     "execution_count": 80,
     "metadata": {},
     "output_type": "execute_result"
    }
   ],
   "source": [
    "alist = [42, \"foo\", [\"sub\", \"list\"], {\"key\": \"value\"}]\n",
    "ser = pd.Series(alist)\n",
    "ser"
   ]
  },
  {
   "cell_type": "code",
   "execution_count": 81,
   "id": "e915f38f",
   "metadata": {},
   "outputs": [
    {
     "data": {
      "text/html": [
       "<div>\n",
       "<style scoped>\n",
       "    .dataframe tbody tr th:only-of-type {\n",
       "        vertical-align: middle;\n",
       "    }\n",
       "\n",
       "    .dataframe tbody tr th {\n",
       "        vertical-align: top;\n",
       "    }\n",
       "\n",
       "    .dataframe thead th {\n",
       "        text-align: right;\n",
       "    }\n",
       "</style>\n",
       "<table border=\"1\" class=\"dataframe\">\n",
       "  <thead>\n",
       "    <tr style=\"text-align: right;\">\n",
       "      <th></th>\n",
       "      <th>a</th>\n",
       "      <th>b</th>\n",
       "      <th>c</th>\n",
       "    </tr>\n",
       "  </thead>\n",
       "  <tbody>\n",
       "    <tr>\n",
       "      <th>0</th>\n",
       "      <td>foo</td>\n",
       "      <td>1</td>\n",
       "      <td>123.45</td>\n",
       "    </tr>\n",
       "    <tr>\n",
       "      <th>1</th>\n",
       "      <td>bar</td>\n",
       "      <td>2</td>\n",
       "      <td>333.33</td>\n",
       "    </tr>\n",
       "    <tr>\n",
       "      <th>2</th>\n",
       "      <td>baz</td>\n",
       "      <td>3</td>\n",
       "      <td>999.99</td>\n",
       "    </tr>\n",
       "  </tbody>\n",
       "</table>\n",
       "</div>"
      ],
      "text/plain": [
       "     a  b       c\n",
       "0  foo  1  123.45\n",
       "1  bar  2  333.33\n",
       "2  baz  3  999.99"
      ]
     },
     "execution_count": 81,
     "metadata": {},
     "output_type": "execute_result"
    }
   ],
   "source": [
    "df = pd.DataFrame([\n",
    "    [\"foo\", 1, 123.45],\n",
    "    [\"bar\", 2, 333.33],\n",
    "    [\"baz\", 3, 999.99],\n",
    "], columns=list(\"abc\"))\n",
    "df"
   ]
  },
  {
   "cell_type": "code",
   "execution_count": 82,
   "id": "5573b49d",
   "metadata": {},
   "outputs": [
    {
     "data": {
      "text/plain": [
       "a     object\n",
       "b      int64\n",
       "c    float64\n",
       "dtype: object"
      ]
     },
     "execution_count": 82,
     "metadata": {},
     "output_type": "execute_result"
    }
   ],
   "source": [
    "df.dtypes"
   ]
  },
  {
   "cell_type": "code",
   "execution_count": 83,
   "id": "8de3ef4b",
   "metadata": {},
   "outputs": [
    {
     "data": {
      "text/plain": [
       "a    string[python]\n",
       "b             Int64\n",
       "c           Float64\n",
       "dtype: object"
      ]
     },
     "execution_count": 83,
     "metadata": {},
     "output_type": "execute_result"
    }
   ],
   "source": [
    "df.astype({\n",
    "    \"a\": pd.StringDtype(),\n",
    "    \"b\": pd.Int64Dtype(),\n",
    "    \"c\": pd.Float64Dtype(),\n",
    "}).dtypes"
   ]
  },
  {
   "cell_type": "code",
   "execution_count": 84,
   "id": "cda447fd",
   "metadata": {},
   "outputs": [
    {
     "data": {
      "text/plain": [
       "a    string[python]\n",
       "b             Int64\n",
       "c           Float64\n",
       "dtype: object"
      ]
     },
     "execution_count": 84,
     "metadata": {},
     "output_type": "execute_result"
    }
   ],
   "source": [
    "df.convert_dtypes(dtype_backend=\"numpy_nullable\").dtypes"
   ]
  }
 ],
 "metadata": {
  "kernelspec": {
   "display_name": "data_analysis",
   "language": "python",
   "name": "python3"
  },
  "language_info": {
   "codemirror_mode": {
    "name": "ipython",
    "version": 3
   },
   "file_extension": ".py",
   "mimetype": "text/x-python",
   "name": "python",
   "nbconvert_exporter": "python",
   "pygments_lexer": "ipython3",
   "version": "3.13.5"
  }
 },
 "nbformat": 4,
 "nbformat_minor": 5
}
