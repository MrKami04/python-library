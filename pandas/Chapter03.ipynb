{
 "cells": [
  {
   "cell_type": "markdown",
   "id": "3308662b",
   "metadata": {},
   "source": [
    "## Data Types"
   ]
  },
  {
   "cell_type": "code",
   "execution_count": 1,
   "id": "abdf765e",
   "metadata": {},
   "outputs": [],
   "source": [
    "import pandas as pd\n",
    "import numpy as np\n",
    "# import pyarrow as pa"
   ]
  },
  {
   "cell_type": "markdown",
   "id": "9a268125",
   "metadata": {},
   "source": [
    "#### Integral types"
   ]
  },
  {
   "cell_type": "code",
   "execution_count": 3,
   "id": "b33eebb8",
   "metadata": {},
   "outputs": [
    {
     "name": "stdout",
     "output_type": "stream",
     "text": [
      "0    0\n",
      "1    1\n",
      "2    2\n",
      "dtype: Int64\n",
      "--------------\n",
      "0       1\n",
      "1    <NA>\n",
      "2       2\n",
      "3    <NA>\n",
      "dtype: Int64\n",
      "--------------\n",
      "0    0\n",
      "1    1\n",
      "2    2\n",
      "dtype: UInt8\n"
     ]
    }
   ],
   "source": [
    "print(pd.Series(range(3), dtype=pd.Int64Dtype()))\n",
    "print(\"--------------\")\n",
    "print(pd.Series([1, pd.NA, 2,None], dtype=pd.Int64Dtype()))\n",
    "print(\"--------------\")\n",
    "print(pd.Series(range(3), dtype=pd.UInt8Dtype()))\n"
   ]
  },
  {
   "cell_type": "markdown",
   "id": "8e63f229",
   "metadata": {},
   "source": [
    "### Floating point types"
   ]
  },
  {
   "cell_type": "code",
   "execution_count": 4,
   "id": "40863b54",
   "metadata": {},
   "outputs": [
    {
     "name": "stdout",
     "output_type": "stream",
     "text": [
      "0    3.14\n",
      "1    <NA>\n",
      "2    <NA>\n",
      "dtype: Float64\n",
      "--------------\n",
      "0    True\n",
      "dtype: boolean\n"
     ]
    }
   ],
   "source": [
    "print(pd.Series([3.14, None, pd.NA], dtype=pd.Float64Dtype()))\n",
    "print(\"--------------\")\n",
    "ser1 = pd.Series([1_000_000.123], dtype=pd.Float32Dtype())\n",
    "ser2 = pd.Series([1_000_000.124], dtype=pd.Float32Dtype())\n",
    "print(ser1.eq(ser2))"
   ]
  },
  {
   "cell_type": "markdown",
   "id": "ca3956b0",
   "metadata": {},
   "source": [
    "### Boolean types"
   ]
  },
  {
   "cell_type": "code",
   "execution_count": 9,
   "id": "6cef1e35",
   "metadata": {},
   "outputs": [
    {
     "data": {
      "text/plain": [
       "0     True\n",
       "1    False\n",
       "2     True\n",
       "dtype: boolean"
      ]
     },
     "execution_count": 9,
     "metadata": {},
     "output_type": "execute_result"
    }
   ],
   "source": [
    "pd.Series([True, False, True], dtype=pd.BooleanDtype())\n",
    "pd.Series([1, 0, 1], dtype=pd.BooleanDtype())"
   ]
  },
  {
   "cell_type": "markdown",
   "id": "cf636c8e",
   "metadata": {},
   "source": [
    "### String types"
   ]
  },
  {
   "cell_type": "code",
   "execution_count": 12,
   "id": "621d735c",
   "metadata": {},
   "outputs": [
    {
     "name": "stdout",
     "output_type": "stream",
     "text": [
      "0    foo\n",
      "1    bar\n",
      "2    baz\n",
      "dtype: string\n",
      "--------------\n",
      "0    2\n",
      "1    3\n",
      "2    4\n",
      "dtype: Int64\n",
      "--------------\n",
      "0      XX\n",
      "1     YYY\n",
      "2    ZZZZ\n",
      "dtype: string \n",
      " 0      xx\n",
      "1     yyy\n",
      "2    zzzz\n",
      "dtype: string \n",
      " 0      Xx\n",
      "1     Yyy\n",
      "2    Zzzz\n",
      "dtype: string\n"
     ]
    }
   ],
   "source": [
    "print(pd.Series([\"foo\", \"bar\", \"baz\"], dtype=pd.StringDtype()))\n",
    "print(\"--------------\")\n",
    "ser = pd.Series([\"xx\", \"YyY\", \"zZzZ\"], dtype=pd.StringDtype())\n",
    "print(ser.str.len())\n",
    "print(\"--------------\")\n",
    "print(ser.str.upper(),\"\\n\",ser.str.lower(),\"\\n\", ser.str.title())"
   ]
  },
  {
   "cell_type": "code",
   "execution_count": 15,
   "id": "a2265974",
   "metadata": {},
   "outputs": [
    {
     "name": "stdout",
     "output_type": "stream",
     "text": [
      "0     True\n",
      "1    False\n",
      "2    False\n",
      "dtype: boolean\n",
      "--------------\n"
     ]
    },
    {
     "data": {
      "text/plain": [
       "0    False\n",
       "1     True\n",
       "2     True\n",
       "dtype: boolean"
      ]
     },
     "execution_count": 15,
     "metadata": {},
     "output_type": "execute_result"
    }
   ],
   "source": [
    "ser = pd.Series([\"foo\", \"bar\", \"baz\"], dtype=pd.StringDtype())\n",
    "print(ser.str.contains(\"o\"))\n",
    "print(\"--------------\")\n",
    "ser.str.contains(r\"^ba[rz]$\", case=False, regex=True)\n",
    "# ^ = start, ba = literal \"ba\", [rz] = r or z, $ = end → matches \"bar\"/\"baz\" (case-insensitive)"
   ]
  },
  {
   "cell_type": "markdown",
   "id": "720683ec",
   "metadata": {},
   "source": [
    "### Missing value handling"
   ]
  },
  {
   "cell_type": "code",
   "execution_count": 17,
   "id": "de2ef69b",
   "metadata": {},
   "outputs": [
    {
     "name": "stdout",
     "output_type": "stream",
     "text": [
      "0    0\n",
      "1    1\n",
      "2    2\n",
      "dtype: int64\n",
      "0    0.0\n",
      "1    NaN\n",
      "2    2.0\n",
      "dtype: float64\n",
      "--------------\n",
      "0    False\n",
      "1     True\n",
      "2    False\n",
      "dtype: bool\n",
      "--------------\n",
      "0    False\n",
      "1     True\n",
      "2    False\n",
      "dtype: bool\n"
     ]
    }
   ],
   "source": [
    "ser = pd.Series(range(3))\n",
    "print(ser)\n",
    "ser.iloc[1] = None\n",
    "print(ser)\n",
    "print(\"--------------\")\n",
    "print(pd.isna(pd.Series([1, np.nan, 2])))\n",
    "print(\"--------------\")\n",
    "print(pd.isna(pd.Series([1, pd.NA, 2], dtype=pd.Int64Dtype())))"
   ]
  },
  {
   "cell_type": "markdown",
   "id": "a8b2f6e2",
   "metadata": {},
   "source": [
    "### Categorical types"
   ]
  },
  {
   "cell_type": "code",
   "execution_count": 18,
   "id": "10a17b0d",
   "metadata": {},
   "outputs": [
    {
     "name": "stdout",
     "output_type": "stream",
     "text": [
      "0    foo\n",
      "1    bar\n",
      "2    baz\n",
      "dtype: category\n",
      "Categories (3, string): [bar, baz, foo]\n",
      "0    foo\n",
      "1    bar\n",
      "2    baz\n",
      "dtype: category\n",
      "Categories (3, string): [foo, bar, baz]\n"
     ]
    }
   ],
   "source": [
    "values = [\"foo\", \"bar\", \"baz\"]\n",
    "values_ser = pd.Series(values, dtype=pd.StringDtype())\n",
    "ser = values_ser.astype(pd.CategoricalDtype())\n",
    "print(ser)\n",
    "cat = pd.CategoricalDtype(values_ser)\n",
    "ser = pd.Series(values, dtype=cat)\n",
    "print(ser)"
   ]
  },
  {
   "cell_type": "code",
   "execution_count": 20,
   "id": "ca1e3f07",
   "metadata": {},
   "outputs": [
    {
     "data": {
      "text/plain": [
       "0    False\n",
       "1    False\n",
       "2     True\n",
       "3    False\n",
       "4     True\n",
       "5     True\n",
       "dtype: bool"
      ]
     },
     "execution_count": 20,
     "metadata": {},
     "output_type": "execute_result"
    }
   ],
   "source": [
    "shirt_sizes = pd.Series([\"S\", \"M\", \"L\", \"XL\"], dtype=pd.StringDtype())\n",
    "cat = pd.CategoricalDtype(shirt_sizes, ordered=True)\n",
    "ser = pd.Series([\"XL\", \"L\", \"S\", \"L\", \"S\", \"M\"], dtype=cat)\n",
    "ser < \"L\""
   ]
  },
  {
   "cell_type": "code",
   "execution_count": 23,
   "id": "dc3c9689",
   "metadata": {},
   "outputs": [
    {
     "name": "stdout",
     "output_type": "stream",
     "text": [
      "2532\n",
      "--------------\n",
      "556\n"
     ]
    }
   ],
   "source": [
    "print(pd.Series([\"foo\", \"bar\", \"baz\"] * 100, dtype=pd.StringDtype()).memory_usage())\n",
    "print(\"--------------\")\n",
    "print(pd.Series([\"foo\", \"bar\", \"baz\"] * 100, dtype=cat).memory_usage())"
   ]
  },
  {
   "cell_type": "markdown",
   "id": "cd74807a",
   "metadata": {},
   "source": [
    "### Temporal types - datetime"
   ]
  },
  {
   "cell_type": "code",
   "execution_count": 24,
   "id": "9372cafb",
   "metadata": {},
   "outputs": [
    {
     "data": {
      "text/plain": [
       "0   2024-01-01 00:00:00\n",
       "1   2024-01-02 00:00:01\n",
       "2   2024-01-03 00:00:02\n",
       "dtype: datetime64[ns]"
      ]
     },
     "execution_count": 24,
     "metadata": {},
     "output_type": "execute_result"
    }
   ],
   "source": [
    "ser = pd.Series([\n",
    "    \"2024-01-01 00:00:00\",\n",
    "    \"2024-01-02 00:00:01\",\n",
    "    \"2024-01-03 00:00:02\"\n",
    "], dtype=\"datetime64[ns]\")\n",
    "ser"
   ]
  },
  {
   "cell_type": "code",
   "execution_count": 27,
   "id": "423d6ab6",
   "metadata": {},
   "outputs": [
    {
     "name": "stdout",
     "output_type": "stream",
     "text": [
      "0   2024-01-01 00:00:00\n",
      "1   2024-01-04 00:00:42\n",
      "2   2024-01-03 00:00:02\n",
      "dtype: datetime64[ns]\n",
      "--------------\n",
      "0    2024\n",
      "1    2024\n",
      "2    2024\n",
      "dtype: int32\n"
     ]
    }
   ],
   "source": [
    "ser.iloc[1] = \"2024-01-04 00:00:42\"\n",
    "print(ser)\n",
    "print(\"--------------\")\n",
    "print(ser.dt.year) # year, minute, second, hour, day, month, week, day_of_year, day_of_week"
   ]
  },
  {
   "cell_type": "code",
   "execution_count": 29,
   "id": "295e9c5e",
   "metadata": {},
   "outputs": [
    {
     "data": {
      "text/plain": [
       "0   2024-01-01 00:00:01+00:00\n",
       "1   2024-01-02 00:00:01+00:00\n",
       "2   2024-01-03 00:00:01+00:00\n",
       "dtype: datetime64[ns, UTC]"
      ]
     },
     "execution_count": 29,
     "metadata": {},
     "output_type": "execute_result"
    }
   ],
   "source": [
    "pd.Series([\n",
    "    \"2024-01-01 00:00:01\",\n",
    "    \"2024-01-02 00:00:01\",\n",
    "    \"2024-01-03 00:00:01\"\n",
    "], dtype=pd.DatetimeTZDtype(tz=\"UTC\")) # UTC timezone, tz=\"America/New_York\""
   ]
  },
  {
   "cell_type": "code",
   "execution_count": 34,
   "id": "3395b832",
   "metadata": {},
   "outputs": [
    {
     "data": {
      "text/plain": [
       "0    False\n",
       "1     True\n",
       "2    False\n",
       "dtype: bool"
      ]
     },
     "execution_count": 34,
     "metadata": {},
     "output_type": "execute_result"
    }
   ],
   "source": [
    "pd.isna(ser)"
   ]
  },
  {
   "cell_type": "markdown",
   "id": "3e1e54ce",
   "metadata": {},
   "source": [
    "### Temporal types - Timedelta"
   ]
  },
  {
   "cell_type": "code",
   "execution_count": 38,
   "id": "418fddd3",
   "metadata": {},
   "outputs": [
    {
     "data": {
      "text/plain": [
       "0   0 days 12:00:00\n",
       "1   1 days 12:00:00\n",
       "2   2 days 12:00:00\n",
       "dtype: timedelta64[ns]"
      ]
     },
     "execution_count": 38,
     "metadata": {},
     "output_type": "execute_result"
    }
   ],
   "source": [
    "ser = pd.Series([\n",
    "    \"2024-01-01\",\n",
    "    \"2024-01-02\",\n",
    "    \"2024-01-03\"\n",
    "], dtype=\"datetime64[ns]\")\n",
    "ser - pd.Timestamp(\"2023-12-31 12:00:00\")"
   ]
  },
  {
   "cell_type": "code",
   "execution_count": 37,
   "id": "54bba7ed",
   "metadata": {},
   "outputs": [
    {
     "data": {
      "text/plain": [
       "0   2024-01-04\n",
       "1   2024-01-05\n",
       "2   2024-01-06\n",
       "dtype: datetime64[ns]"
      ]
     },
     "execution_count": 37,
     "metadata": {},
     "output_type": "execute_result"
    }
   ],
   "source": [
    "ser + pd.Timedelta(\"3 days\")"
   ]
  },
  {
   "cell_type": "code",
   "execution_count": 36,
   "id": "4ec17ad9",
   "metadata": {},
   "outputs": [
    {
     "data": {
      "text/plain": [
       "0           -1 days +00:00:00\n",
       "1             0 days 06:00:00\n",
       "2             0 days 00:42:00\n",
       "3             0 days 00:00:12\n",
       "4      0 days 00:00:00.008000\n",
       "5      0 days 00:00:00.000004\n",
       "6   0 days 00:00:00.000000300\n",
       "dtype: timedelta64[ns]"
      ]
     },
     "execution_count": 36,
     "metadata": {},
     "output_type": "execute_result"
    }
   ],
   "source": [
    "pd.Series([\n",
    "    \"-1 days\",\n",
    "    \"6 hours\",\n",
    "    \"42 minutes\",\n",
    "    \"12 seconds\",\n",
    "    \"8 milliseconds\",\n",
    "    \"4 microseconds\",\n",
    "    \"300 nanoseconds\",\n",
    "], dtype=\"timedelta64[ns]\")"
   ]
  },
  {
   "cell_type": "markdown",
   "id": "41c41aed",
   "metadata": {},
   "source": [
    "### NumPy type system, the object type, and pitfalls"
   ]
  },
  {
   "cell_type": "code",
   "execution_count": 42,
   "id": "dcf9f8d3",
   "metadata": {},
   "outputs": [
    {
     "data": {
      "text/plain": [
       "0    0\n",
       "1    0\n",
       "2    2\n",
       "dtype: int64"
      ]
     },
     "execution_count": 42,
     "metadata": {},
     "output_type": "execute_result"
    }
   ],
   "source": [
    "ser = pd.Series([0, None, 2])\n",
    "ser.fillna(0).astype(int)"
   ]
  },
  {
   "cell_type": "code",
   "execution_count": 43,
   "id": "f5ed4bf6",
   "metadata": {},
   "outputs": [
    {
     "name": "stdout",
     "output_type": "stream",
     "text": [
      "0.6666666666666666\n",
      "--------------\n",
      "1.0\n"
     ]
    }
   ],
   "source": [
    "print(pd.Series([0, None, 2]).fillna(0).astype(int).mean())\n",
    "print(\"--------------\")\n",
    "print(pd.Series([0, None, 2], dtype=pd.Int64Dtype()).mean())"
   ]
  },
  {
   "cell_type": "code",
   "execution_count": 44,
   "id": "7244efd6",
   "metadata": {},
   "outputs": [
    {
     "data": {
      "text/plain": [
       "3.6394585000234656"
      ]
     },
     "execution_count": 44,
     "metadata": {},
     "output_type": "execute_result"
    }
   ],
   "source": [
    "import timeit\n",
    "func = lambda: pd.Series([0, None, 2]).fillna(0).astype(int).mean()\n",
    "timeit.timeit(func, number=10_000)"
   ]
  },
  {
   "cell_type": "code",
   "execution_count": 45,
   "id": "1a981835",
   "metadata": {},
   "outputs": [
    {
     "data": {
      "text/plain": [
       "2.2208314000163227"
      ]
     },
     "execution_count": 45,
     "metadata": {},
     "output_type": "execute_result"
    }
   ],
   "source": [
    "func = lambda: pd.Series([0, None, 2], dtype=pd.Int64Dtype()).mean()\n",
    "timeit.timeit(func, number=10_000)"
   ]
  },
  {
   "cell_type": "code",
   "execution_count": 46,
   "id": "daf5fa5e",
   "metadata": {},
   "outputs": [
    {
     "data": {
      "text/plain": [
       "0    foo\n",
       "1    bar\n",
       "2     42\n",
       "dtype: object"
      ]
     },
     "execution_count": 46,
     "metadata": {},
     "output_type": "execute_result"
    }
   ],
   "source": [
    "ser = pd.Series([\"foo\", \"bar\", \"baz\"])\n",
    "ser.iloc[2] = 42\n",
    "ser"
   ]
  },
  {
   "cell_type": "code",
   "execution_count": 47,
   "id": "f33a0e34",
   "metadata": {},
   "outputs": [
    {
     "data": {
      "text/plain": [
       "0                  42\n",
       "1                 foo\n",
       "2         [sub, list]\n",
       "3    {'key': 'value'}\n",
       "dtype: object"
      ]
     },
     "execution_count": 47,
     "metadata": {},
     "output_type": "execute_result"
    }
   ],
   "source": [
    "alist = [42, \"foo\", [\"sub\", \"list\"], {\"key\": \"value\"}]\n",
    "ser = pd.Series(alist)\n",
    "ser"
   ]
  }
 ],
 "metadata": {
  "kernelspec": {
   "display_name": "data_analysis",
   "language": "python",
   "name": "python3"
  },
  "language_info": {
   "codemirror_mode": {
    "name": "ipython",
    "version": 3
   },
   "file_extension": ".py",
   "mimetype": "text/x-python",
   "name": "python",
   "nbconvert_exporter": "python",
   "pygments_lexer": "ipython3",
   "version": "3.13.5"
  }
 },
 "nbformat": 4,
 "nbformat_minor": 5
}
