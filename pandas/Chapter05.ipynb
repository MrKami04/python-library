{
 "cells": [
  {
   "cell_type": "markdown",
   "id": "bd140766",
   "metadata": {},
   "source": [
    "## Algorithms and How to Apply Them"
   ]
  },
  {
   "cell_type": "code",
   "execution_count": 1,
   "id": "eb02695a",
   "metadata": {},
   "outputs": [],
   "source": [
    "import pandas as pd\n",
    "import numpy as np\n",
    "import pyarrow as pa"
   ]
  },
  {
   "cell_type": "markdown",
   "id": "752fd65a",
   "metadata": {},
   "source": [
    "### Basic pd.Series arithmetic"
   ]
  },
  {
   "cell_type": "code",
   "execution_count": 2,
   "id": "0b719fee",
   "metadata": {},
   "outputs": [
    {
     "data": {
      "text/plain": [
       "0    0\n",
       "1    1\n",
       "2    2\n",
       "dtype: Int64"
      ]
     },
     "execution_count": 2,
     "metadata": {},
     "output_type": "execute_result"
    }
   ],
   "source": [
    "ser = pd.Series(range(3), dtype=pd.Int64Dtype())\n",
    "ser"
   ]
  },
  {
   "cell_type": "code",
   "execution_count": 4,
   "id": "d0fc5bc8",
   "metadata": {},
   "outputs": [
    {
     "name": "stdout",
     "output_type": "stream",
     "text": [
      "0    42\n",
      "1    43\n",
      "2    44\n",
      "dtype: Int64\n",
      "0    -42\n",
      "1    -41\n",
      "2    -40\n",
      "dtype: Int64\n",
      "0     0\n",
      "1    42\n",
      "2    84\n",
      "dtype: Int64\n",
      "0         0.0\n",
      "1     0.02381\n",
      "2    0.047619\n",
      "dtype: Float64\n"
     ]
    }
   ],
   "source": [
    "print(ser + 42)\n",
    "print(ser - 42)\n",
    "print(ser * 42)\n",
    "print(ser / 42)"
   ]
  },
  {
   "cell_type": "code",
   "execution_count": 5,
   "id": "b5939114",
   "metadata": {},
   "outputs": [
    {
     "data": {
      "text/plain": [
       "0    10\n",
       "1    12\n",
       "2    14\n",
       "dtype: Int64"
      ]
     },
     "execution_count": 5,
     "metadata": {},
     "output_type": "execute_result"
    }
   ],
   "source": [
    "ser2 = pd.Series(range(10, 13), dtype=pd.Int64Dtype())\n",
    "ser + ser2"
   ]
  },
  {
   "cell_type": "code",
   "execution_count": 6,
   "id": "550e39cd",
   "metadata": {},
   "outputs": [
    {
     "data": {
      "text/plain": [
       "0     5.0\n",
       "1    <NA>\n",
       "2     9.0\n",
       "dtype: Float64"
      ]
     },
     "execution_count": 6,
     "metadata": {},
     "output_type": "execute_result"
    }
   ],
   "source": [
    "ser1 = pd.Series([1., 2., 3.], dtype=pd.Float64Dtype())\n",
    "ser2 = pd.Series([4., pd.NA, 6.], dtype=pd.Float64Dtype())\n",
    "ser1.add(ser2)"
   ]
  },
  {
   "cell_type": "code",
   "execution_count": 7,
   "id": "1eac255d",
   "metadata": {},
   "outputs": [
    {
     "data": {
      "text/plain": [
       "0    5.0\n",
       "1    2.0\n",
       "2    9.0\n",
       "dtype: Float64"
      ]
     },
     "execution_count": 7,
     "metadata": {},
     "output_type": "execute_result"
    }
   ],
   "source": [
    "ser1.add(ser2, fill_value=0.)"
   ]
  },
  {
   "cell_type": "markdown",
   "id": "2e4b126a",
   "metadata": {},
   "source": [
    "### Basic pd.DataFrame arithmetic"
   ]
  },
  {
   "cell_type": "code",
   "execution_count": 8,
   "id": "81041e3f",
   "metadata": {},
   "outputs": [
    {
     "data": {
      "text/html": [
       "<div>\n",
       "<style scoped>\n",
       "    .dataframe tbody tr th:only-of-type {\n",
       "        vertical-align: middle;\n",
       "    }\n",
       "\n",
       "    .dataframe tbody tr th {\n",
       "        vertical-align: top;\n",
       "    }\n",
       "\n",
       "    .dataframe thead th {\n",
       "        text-align: right;\n",
       "    }\n",
       "</style>\n",
       "<table border=\"1\" class=\"dataframe\">\n",
       "  <thead>\n",
       "    <tr style=\"text-align: right;\">\n",
       "      <th></th>\n",
       "      <th>col1</th>\n",
       "      <th>col2</th>\n",
       "      <th>col3</th>\n",
       "    </tr>\n",
       "  </thead>\n",
       "  <tbody>\n",
       "    <tr>\n",
       "      <th>row1</th>\n",
       "      <td>0.496714</td>\n",
       "      <td>-0.138264</td>\n",
       "      <td>0.647689</td>\n",
       "    </tr>\n",
       "    <tr>\n",
       "      <th>row2</th>\n",
       "      <td>1.52303</td>\n",
       "      <td>-0.234153</td>\n",
       "      <td>-0.234137</td>\n",
       "    </tr>\n",
       "    <tr>\n",
       "      <th>row3</th>\n",
       "      <td>1.579213</td>\n",
       "      <td>0.767435</td>\n",
       "      <td>-0.469474</td>\n",
       "    </tr>\n",
       "  </tbody>\n",
       "</table>\n",
       "</div>"
      ],
      "text/plain": [
       "          col1      col2      col3\n",
       "row1  0.496714 -0.138264  0.647689\n",
       "row2   1.52303 -0.234153 -0.234137\n",
       "row3  1.579213  0.767435 -0.469474"
      ]
     },
     "execution_count": 8,
     "metadata": {},
     "output_type": "execute_result"
    }
   ],
   "source": [
    "np.random.seed(42)\n",
    "df = pd.DataFrame(\n",
    "    np.random.randn(3, 3),\n",
    "    columns=[\"col1\", \"col2\", \"col3\"],\n",
    "    index=[\"row1\", \"row2\", \"row3\"],\n",
    ").convert_dtypes(dtype_backend=\"numpy_nullable\")\n",
    "df"
   ]
  },
  {
   "cell_type": "code",
   "execution_count": 10,
   "id": "a3cf7ccf",
   "metadata": {},
   "outputs": [
    {
     "name": "stdout",
     "output_type": "stream",
     "text": [
      "          col1      col2      col3\n",
      "row1  1.496714  0.861736  1.647689\n",
      "row2   2.52303  0.765847  0.765863\n",
      "row3  2.579213  1.767435  0.530526\n",
      "          col1      col2      col3\n",
      "row1  0.993428 -0.276529  1.295377\n",
      "row2   3.04606 -0.468307 -0.468274\n",
      "row3  3.158426  1.534869 -0.938949\n"
     ]
    }
   ],
   "source": [
    "print(df + 1)\n",
    "print(df * 2)"
   ]
  },
  {
   "cell_type": "code",
   "execution_count": 11,
   "id": "31f38ae0",
   "metadata": {},
   "outputs": [
    {
     "data": {
      "text/plain": [
       "col1    20\n",
       "col2    10\n",
       "col3     0\n",
       "dtype: Int64"
      ]
     },
     "execution_count": 11,
     "metadata": {},
     "output_type": "execute_result"
    }
   ],
   "source": [
    "ser = pd.Series(\n",
    "    [20, 10, 0],\n",
    "    index=[\"col1\", \"col2\", \"col3\"],\n",
    "    dtype=pd.Int64Dtype(),\n",
    ")\n",
    "ser"
   ]
  },
  {
   "cell_type": "code",
   "execution_count": 12,
   "id": "4c7bff2d",
   "metadata": {},
   "outputs": [
    {
     "data": {
      "text/html": [
       "<div>\n",
       "<style scoped>\n",
       "    .dataframe tbody tr th:only-of-type {\n",
       "        vertical-align: middle;\n",
       "    }\n",
       "\n",
       "    .dataframe tbody tr th {\n",
       "        vertical-align: top;\n",
       "    }\n",
       "\n",
       "    .dataframe thead th {\n",
       "        text-align: right;\n",
       "    }\n",
       "</style>\n",
       "<table border=\"1\" class=\"dataframe\">\n",
       "  <thead>\n",
       "    <tr style=\"text-align: right;\">\n",
       "      <th></th>\n",
       "      <th>col1</th>\n",
       "      <th>col2</th>\n",
       "      <th>col3</th>\n",
       "    </tr>\n",
       "  </thead>\n",
       "  <tbody>\n",
       "    <tr>\n",
       "      <th>row1</th>\n",
       "      <td>20.496714</td>\n",
       "      <td>9.861736</td>\n",
       "      <td>0.647689</td>\n",
       "    </tr>\n",
       "    <tr>\n",
       "      <th>row2</th>\n",
       "      <td>21.52303</td>\n",
       "      <td>9.765847</td>\n",
       "      <td>-0.234137</td>\n",
       "    </tr>\n",
       "    <tr>\n",
       "      <th>row3</th>\n",
       "      <td>21.579213</td>\n",
       "      <td>10.767435</td>\n",
       "      <td>-0.469474</td>\n",
       "    </tr>\n",
       "  </tbody>\n",
       "</table>\n",
       "</div>"
      ],
      "text/plain": [
       "           col1       col2      col3\n",
       "row1  20.496714   9.861736  0.647689\n",
       "row2   21.52303   9.765847 -0.234137\n",
       "row3  21.579213  10.767435 -0.469474"
      ]
     },
     "execution_count": 12,
     "metadata": {},
     "output_type": "execute_result"
    }
   ],
   "source": [
    "df + ser"
   ]
  },
  {
   "cell_type": "markdown",
   "id": "348256bd",
   "metadata": {},
   "source": [
    "### Aggregations"
   ]
  },
  {
   "cell_type": "code",
   "execution_count": 13,
   "id": "297086c7",
   "metadata": {},
   "outputs": [],
   "source": [
    "np.random.seed(42)\n",
    "ser = pd.Series(np.random.rand(10_000), dtype=pd.Float64Dtype())"
   ]
  },
  {
   "cell_type": "code",
   "execution_count": 14,
   "id": "acf7d68f",
   "metadata": {},
   "outputs": [
    {
     "name": "stdout",
     "output_type": "stream",
     "text": [
      "Count is: 10000\n",
      "Mean value is: 0.49415955768429964\n",
      "Standard deviation is: 0.28763012652699277\n",
      "Minimum value is: 1.1634755366141114e-05\n",
      "Maximum value is: 0.9997176732861306\n",
      "Summation is: 4941.595576842997\n"
     ]
    }
   ],
   "source": [
    "print(f\"Count is: {ser.count()}\")\n",
    "print(f\"Mean value is: {ser.mean()}\")\n",
    "print(f\"Standard deviation is: {ser.std()}\")\n",
    "print(f\"Minimum value is: {ser.min()}\")\n",
    "print(f\"Maximum value is: {ser.max()}\")\n",
    "print(f\"Summation is: {ser.sum()}\")"
   ]
  },
  {
   "cell_type": "code",
   "execution_count": 15,
   "id": "e8fab7e5",
   "metadata": {},
   "outputs": [
    {
     "name": "stdout",
     "output_type": "stream",
     "text": [
      "Count is: 10000\n",
      "Mean value is: 0.49415955768429964\n",
      "Standard deviation is: 0.28763012652699277\n",
      "Minimum value is: 1.1634755366141114e-05\n",
      "Maximum value is: 0.9997176732861306\n",
      "Summation is: 4941.595576842997\n"
     ]
    }
   ],
   "source": [
    "print(f\"Count is: {ser.agg('count')}\")\n",
    "print(f\"Mean value is: {ser.agg('mean')}\")\n",
    "print(f\"Standard deviation is: {ser.agg('std')}\")\n",
    "print(f\"Minimum value is: {ser.agg('min')}\")\n",
    "print(f\"Maximum value is: {ser.agg('max')}\")\n",
    "print(f\"Summation is: {ser.agg('sum')}\")"
   ]
  },
  {
   "cell_type": "code",
   "execution_count": 16,
   "id": "4cac491a",
   "metadata": {},
   "outputs": [
    {
     "data": {
      "text/plain": [
       "min    0.000012\n",
       "max    0.999718\n",
       "dtype: float64"
      ]
     },
     "execution_count": 16,
     "metadata": {},
     "output_type": "execute_result"
    }
   ],
   "source": [
    "ser.agg([\"min\", \"max\"])"
   ]
  },
  {
   "cell_type": "code",
   "execution_count": 17,
   "id": "94e32307",
   "metadata": {},
   "outputs": [
    {
     "data": {
      "text/html": [
       "<div>\n",
       "<style scoped>\n",
       "    .dataframe tbody tr th:only-of-type {\n",
       "        vertical-align: middle;\n",
       "    }\n",
       "\n",
       "    .dataframe tbody tr th {\n",
       "        vertical-align: top;\n",
       "    }\n",
       "\n",
       "    .dataframe thead th {\n",
       "        text-align: right;\n",
       "    }\n",
       "</style>\n",
       "<table border=\"1\" class=\"dataframe\">\n",
       "  <thead>\n",
       "    <tr style=\"text-align: right;\">\n",
       "      <th></th>\n",
       "      <th>a</th>\n",
       "      <th>b</th>\n",
       "      <th>c</th>\n",
       "      <th>d</th>\n",
       "      <th>e</th>\n",
       "      <th>f</th>\n",
       "    </tr>\n",
       "  </thead>\n",
       "  <tbody>\n",
       "    <tr>\n",
       "      <th>0</th>\n",
       "      <td>0.496714</td>\n",
       "      <td>-0.138264</td>\n",
       "      <td>0.647689</td>\n",
       "      <td>1.52303</td>\n",
       "      <td>-0.234153</td>\n",
       "      <td>-0.234137</td>\n",
       "    </tr>\n",
       "    <tr>\n",
       "      <th>1</th>\n",
       "      <td>1.579213</td>\n",
       "      <td>0.767435</td>\n",
       "      <td>-0.469474</td>\n",
       "      <td>0.54256</td>\n",
       "      <td>-0.463418</td>\n",
       "      <td>-0.46573</td>\n",
       "    </tr>\n",
       "    <tr>\n",
       "      <th>2</th>\n",
       "      <td>0.241962</td>\n",
       "      <td>-1.91328</td>\n",
       "      <td>-1.724918</td>\n",
       "      <td>-0.562288</td>\n",
       "      <td>-1.012831</td>\n",
       "      <td>0.314247</td>\n",
       "    </tr>\n",
       "    <tr>\n",
       "      <th>3</th>\n",
       "      <td>-0.908024</td>\n",
       "      <td>-1.412304</td>\n",
       "      <td>1.465649</td>\n",
       "      <td>-0.225776</td>\n",
       "      <td>0.067528</td>\n",
       "      <td>-1.424748</td>\n",
       "    </tr>\n",
       "    <tr>\n",
       "      <th>4</th>\n",
       "      <td>-0.544383</td>\n",
       "      <td>0.110923</td>\n",
       "      <td>-1.150994</td>\n",
       "      <td>0.375698</td>\n",
       "      <td>-0.600639</td>\n",
       "      <td>-0.291694</td>\n",
       "    </tr>\n",
       "    <tr>\n",
       "      <th>...</th>\n",
       "      <td>...</td>\n",
       "      <td>...</td>\n",
       "      <td>...</td>\n",
       "      <td>...</td>\n",
       "      <td>...</td>\n",
       "      <td>...</td>\n",
       "    </tr>\n",
       "    <tr>\n",
       "      <th>9995</th>\n",
       "      <td>1.951254</td>\n",
       "      <td>0.324704</td>\n",
       "      <td>1.937021</td>\n",
       "      <td>-0.125083</td>\n",
       "      <td>0.589664</td>\n",
       "      <td>0.869128</td>\n",
       "    </tr>\n",
       "    <tr>\n",
       "      <th>9996</th>\n",
       "      <td>0.624062</td>\n",
       "      <td>-0.31734</td>\n",
       "      <td>-1.636983</td>\n",
       "      <td>2.390878</td>\n",
       "      <td>-0.597118</td>\n",
       "      <td>2.670553</td>\n",
       "    </tr>\n",
       "    <tr>\n",
       "      <th>9997</th>\n",
       "      <td>-0.470192</td>\n",
       "      <td>1.511932</td>\n",
       "      <td>0.718306</td>\n",
       "      <td>0.764051</td>\n",
       "      <td>-0.495094</td>\n",
       "      <td>-0.273401</td>\n",
       "    </tr>\n",
       "    <tr>\n",
       "      <th>9998</th>\n",
       "      <td>-0.259206</td>\n",
       "      <td>0.274769</td>\n",
       "      <td>-0.084735</td>\n",
       "      <td>-0.406717</td>\n",
       "      <td>-0.815527</td>\n",
       "      <td>-0.716988</td>\n",
       "    </tr>\n",
       "    <tr>\n",
       "      <th>9999</th>\n",
       "      <td>0.533743</td>\n",
       "      <td>-0.701856</td>\n",
       "      <td>-1.099044</td>\n",
       "      <td>0.14101</td>\n",
       "      <td>-2.181973</td>\n",
       "      <td>-0.006398</td>\n",
       "    </tr>\n",
       "  </tbody>\n",
       "</table>\n",
       "<p>10000 rows × 6 columns</p>\n",
       "</div>"
      ],
      "text/plain": [
       "             a         b         c         d         e         f\n",
       "0     0.496714 -0.138264  0.647689   1.52303 -0.234153 -0.234137\n",
       "1     1.579213  0.767435 -0.469474   0.54256 -0.463418  -0.46573\n",
       "2     0.241962  -1.91328 -1.724918 -0.562288 -1.012831  0.314247\n",
       "3    -0.908024 -1.412304  1.465649 -0.225776  0.067528 -1.424748\n",
       "4    -0.544383  0.110923 -1.150994  0.375698 -0.600639 -0.291694\n",
       "...        ...       ...       ...       ...       ...       ...\n",
       "9995  1.951254  0.324704  1.937021 -0.125083  0.589664  0.869128\n",
       "9996  0.624062  -0.31734 -1.636983  2.390878 -0.597118  2.670553\n",
       "9997 -0.470192  1.511932  0.718306  0.764051 -0.495094 -0.273401\n",
       "9998 -0.259206  0.274769 -0.084735 -0.406717 -0.815527 -0.716988\n",
       "9999  0.533743 -0.701856 -1.099044   0.14101 -2.181973 -0.006398\n",
       "\n",
       "[10000 rows x 6 columns]"
      ]
     },
     "execution_count": 17,
     "metadata": {},
     "output_type": "execute_result"
    }
   ],
   "source": [
    "np.random.seed(42)\n",
    "df = pd.DataFrame(\n",
    "    np.random.randn(10_000, 6),\n",
    "    columns=list(\"abcdef\"),\n",
    ").convert_dtypes(dtype_backend=\"numpy_nullable\")\n",
    "df"
   ]
  },
  {
   "cell_type": "code",
   "execution_count": 18,
   "id": "381b4866",
   "metadata": {},
   "outputs": [
    {
     "data": {
      "text/plain": [
       "a    -21.365908\n",
       "b     -7.963987\n",
       "c    152.032992\n",
       "d   -180.727498\n",
       "e     29.399311\n",
       "f     25.042078\n",
       "dtype: Float64"
      ]
     },
     "execution_count": 18,
     "metadata": {},
     "output_type": "execute_result"
    }
   ],
   "source": [
    "df.sum()"
   ]
  },
  {
   "cell_type": "code",
   "execution_count": 19,
   "id": "ae80d035",
   "metadata": {},
   "outputs": [
    {
     "data": {
      "text/plain": [
       "0       2.060878\n",
       "1       1.490586\n",
       "2      -4.657107\n",
       "3      -2.437675\n",
       "4      -2.101088\n",
       "          ...   \n",
       "9995     5.54669\n",
       "9996    3.134053\n",
       "9997    1.755601\n",
       "9998   -2.008404\n",
       "9999   -3.314518\n",
       "Length: 10000, dtype: Float64"
      ]
     },
     "execution_count": 19,
     "metadata": {},
     "output_type": "execute_result"
    }
   ],
   "source": [
    "df.sum(axis=1)"
   ]
  },
  {
   "cell_type": "code",
   "execution_count": 20,
   "id": "d1035f12",
   "metadata": {},
   "outputs": [
    {
     "data": {
      "text/html": [
       "<div>\n",
       "<style scoped>\n",
       "    .dataframe tbody tr th:only-of-type {\n",
       "        vertical-align: middle;\n",
       "    }\n",
       "\n",
       "    .dataframe tbody tr th {\n",
       "        vertical-align: top;\n",
       "    }\n",
       "\n",
       "    .dataframe thead th {\n",
       "        text-align: right;\n",
       "    }\n",
       "</style>\n",
       "<table border=\"1\" class=\"dataframe\">\n",
       "  <thead>\n",
       "    <tr style=\"text-align: right;\">\n",
       "      <th></th>\n",
       "      <th>a</th>\n",
       "      <th>b</th>\n",
       "      <th>c</th>\n",
       "      <th>d</th>\n",
       "      <th>e</th>\n",
       "      <th>f</th>\n",
       "    </tr>\n",
       "  </thead>\n",
       "  <tbody>\n",
       "    <tr>\n",
       "      <th>min</th>\n",
       "      <td>-4.295391</td>\n",
       "      <td>-3.436062</td>\n",
       "      <td>-3.922400</td>\n",
       "      <td>-4.465604</td>\n",
       "      <td>-3.836656</td>\n",
       "      <td>-4.157734</td>\n",
       "    </tr>\n",
       "    <tr>\n",
       "      <th>max</th>\n",
       "      <td>3.602415</td>\n",
       "      <td>3.745379</td>\n",
       "      <td>3.727833</td>\n",
       "      <td>4.479084</td>\n",
       "      <td>3.691625</td>\n",
       "      <td>3.942331</td>\n",
       "    </tr>\n",
       "  </tbody>\n",
       "</table>\n",
       "</div>"
      ],
      "text/plain": [
       "            a         b         c         d         e         f\n",
       "min -4.295391 -3.436062 -3.922400 -4.465604 -3.836656 -4.157734\n",
       "max  3.602415  3.745379  3.727833  4.479084  3.691625  3.942331"
      ]
     },
     "execution_count": 20,
     "metadata": {},
     "output_type": "execute_result"
    }
   ],
   "source": [
    "df.agg([\"min\", \"max\"])"
   ]
  },
  {
   "cell_type": "markdown",
   "id": "2b22114d",
   "metadata": {},
   "source": [
    "### Transformations"
   ]
  },
  {
   "cell_type": "code",
   "execution_count": 22,
   "id": "83104bc4",
   "metadata": {},
   "outputs": [
    {
     "data": {
      "text/html": [
       "<div>\n",
       "<style scoped>\n",
       "    .dataframe tbody tr th:only-of-type {\n",
       "        vertical-align: middle;\n",
       "    }\n",
       "\n",
       "    .dataframe tbody tr th {\n",
       "        vertical-align: top;\n",
       "    }\n",
       "\n",
       "    .dataframe thead th {\n",
       "        text-align: right;\n",
       "    }\n",
       "</style>\n",
       "<table border=\"1\" class=\"dataframe\">\n",
       "  <thead>\n",
       "    <tr style=\"text-align: right;\">\n",
       "      <th></th>\n",
       "      <th>abs</th>\n",
       "      <th>adds_one</th>\n",
       "    </tr>\n",
       "  </thead>\n",
       "  <tbody>\n",
       "    <tr>\n",
       "      <th>0</th>\n",
       "      <td>1</td>\n",
       "      <td>0</td>\n",
       "    </tr>\n",
       "    <tr>\n",
       "      <th>1</th>\n",
       "      <td>0</td>\n",
       "      <td>1</td>\n",
       "    </tr>\n",
       "    <tr>\n",
       "      <th>2</th>\n",
       "      <td>1</td>\n",
       "      <td>2</td>\n",
       "    </tr>\n",
       "  </tbody>\n",
       "</table>\n",
       "</div>"
      ],
      "text/plain": [
       "   abs  adds_one\n",
       "0    1         0\n",
       "1    0         1\n",
       "2    1         2"
      ]
     },
     "execution_count": 22,
     "metadata": {},
     "output_type": "execute_result"
    }
   ],
   "source": [
    "ser = pd.Series([-1, 0, 1], dtype=pd.Int64Dtype())\n",
    "def adds_one(ser: pd.Series) -> pd.Series:\n",
    "    return ser + 1\n",
    "\n",
    "ser.transform([\"abs\", adds_one])"
   ]
  },
  {
   "cell_type": "code",
   "execution_count": 23,
   "id": "40b6fea5",
   "metadata": {},
   "outputs": [
    {
     "data": {
      "text/html": [
       "<div>\n",
       "<style scoped>\n",
       "    .dataframe tbody tr th:only-of-type {\n",
       "        vertical-align: middle;\n",
       "    }\n",
       "\n",
       "    .dataframe tbody tr th {\n",
       "        vertical-align: top;\n",
       "    }\n",
       "\n",
       "    .dataframe thead th {\n",
       "        text-align: right;\n",
       "    }\n",
       "</style>\n",
       "<table border=\"1\" class=\"dataframe\">\n",
       "  <thead>\n",
       "    <tr style=\"text-align: right;\">\n",
       "      <th></th>\n",
       "      <th>0</th>\n",
       "      <th>1</th>\n",
       "      <th>2</th>\n",
       "    </tr>\n",
       "  </thead>\n",
       "  <tbody>\n",
       "    <tr>\n",
       "      <th>0</th>\n",
       "      <td>-5</td>\n",
       "      <td>-4</td>\n",
       "      <td>-3</td>\n",
       "    </tr>\n",
       "    <tr>\n",
       "      <th>1</th>\n",
       "      <td>-2</td>\n",
       "      <td>-1</td>\n",
       "      <td>0</td>\n",
       "    </tr>\n",
       "    <tr>\n",
       "      <th>2</th>\n",
       "      <td>1</td>\n",
       "      <td>2</td>\n",
       "      <td>3</td>\n",
       "    </tr>\n",
       "  </tbody>\n",
       "</table>\n",
       "</div>"
      ],
      "text/plain": [
       "    0   1   2\n",
       "0  -5  -4  -3\n",
       "1  -2  -1   0\n",
       "2   1   2   3"
      ]
     },
     "execution_count": 23,
     "metadata": {},
     "output_type": "execute_result"
    }
   ],
   "source": [
    "df = pd.DataFrame(\n",
    "    np.arange(-5, 4, 1).reshape(3, -1)\n",
    ").convert_dtypes(dtype_backend=\"numpy_nullable\")\n",
    "df"
   ]
  },
  {
   "cell_type": "code",
   "execution_count": 24,
   "id": "63516d86",
   "metadata": {},
   "outputs": [
    {
     "data": {
      "text/html": [
       "<div>\n",
       "<style scoped>\n",
       "    .dataframe tbody tr th:only-of-type {\n",
       "        vertical-align: middle;\n",
       "    }\n",
       "\n",
       "    .dataframe tbody tr th {\n",
       "        vertical-align: top;\n",
       "    }\n",
       "\n",
       "    .dataframe thead th {\n",
       "        text-align: right;\n",
       "    }\n",
       "</style>\n",
       "<table border=\"1\" class=\"dataframe\">\n",
       "  <thead>\n",
       "    <tr style=\"text-align: right;\">\n",
       "      <th></th>\n",
       "      <th>0</th>\n",
       "      <th>1</th>\n",
       "      <th>2</th>\n",
       "    </tr>\n",
       "  </thead>\n",
       "  <tbody>\n",
       "    <tr>\n",
       "      <th>0</th>\n",
       "      <td>5</td>\n",
       "      <td>4</td>\n",
       "      <td>3</td>\n",
       "    </tr>\n",
       "    <tr>\n",
       "      <th>1</th>\n",
       "      <td>2</td>\n",
       "      <td>1</td>\n",
       "      <td>0</td>\n",
       "    </tr>\n",
       "    <tr>\n",
       "      <th>2</th>\n",
       "      <td>1</td>\n",
       "      <td>2</td>\n",
       "      <td>3</td>\n",
       "    </tr>\n",
       "  </tbody>\n",
       "</table>\n",
       "</div>"
      ],
      "text/plain": [
       "   0  1  2\n",
       "0  5  4  3\n",
       "1  2  1  0\n",
       "2  1  2  3"
      ]
     },
     "execution_count": 24,
     "metadata": {},
     "output_type": "execute_result"
    }
   ],
   "source": [
    "df.transform(\"abs\")"
   ]
  },
  {
   "cell_type": "code",
   "execution_count": 25,
   "id": "87f0206a",
   "metadata": {},
   "outputs": [
    {
     "data": {
      "text/html": [
       "<div>\n",
       "<style scoped>\n",
       "    .dataframe tbody tr th:only-of-type {\n",
       "        vertical-align: middle;\n",
       "    }\n",
       "\n",
       "    .dataframe tbody tr th {\n",
       "        vertical-align: top;\n",
       "    }\n",
       "\n",
       "    .dataframe thead tr th {\n",
       "        text-align: left;\n",
       "    }\n",
       "</style>\n",
       "<table border=\"1\" class=\"dataframe\">\n",
       "  <thead>\n",
       "    <tr>\n",
       "      <th></th>\n",
       "      <th colspan=\"2\" halign=\"left\">0</th>\n",
       "      <th colspan=\"2\" halign=\"left\">1</th>\n",
       "      <th colspan=\"2\" halign=\"left\">2</th>\n",
       "    </tr>\n",
       "    <tr>\n",
       "      <th></th>\n",
       "      <th>abs</th>\n",
       "      <th>add_42</th>\n",
       "      <th>abs</th>\n",
       "      <th>add_42</th>\n",
       "      <th>abs</th>\n",
       "      <th>add_42</th>\n",
       "    </tr>\n",
       "  </thead>\n",
       "  <tbody>\n",
       "    <tr>\n",
       "      <th>0</th>\n",
       "      <td>5</td>\n",
       "      <td>37</td>\n",
       "      <td>4</td>\n",
       "      <td>38</td>\n",
       "      <td>3</td>\n",
       "      <td>39</td>\n",
       "    </tr>\n",
       "    <tr>\n",
       "      <th>1</th>\n",
       "      <td>2</td>\n",
       "      <td>40</td>\n",
       "      <td>1</td>\n",
       "      <td>41</td>\n",
       "      <td>0</td>\n",
       "      <td>42</td>\n",
       "    </tr>\n",
       "    <tr>\n",
       "      <th>2</th>\n",
       "      <td>1</td>\n",
       "      <td>43</td>\n",
       "      <td>2</td>\n",
       "      <td>44</td>\n",
       "      <td>3</td>\n",
       "      <td>45</td>\n",
       "    </tr>\n",
       "  </tbody>\n",
       "</table>\n",
       "</div>"
      ],
      "text/plain": [
       "    0          1          2       \n",
       "  abs add_42 abs add_42 abs add_42\n",
       "0   5     37   4     38   3     39\n",
       "1   2     40   1     41   0     42\n",
       "2   1     43   2     44   3     45"
      ]
     },
     "execution_count": 25,
     "metadata": {},
     "output_type": "execute_result"
    }
   ],
   "source": [
    "def add_42(ser: pd.Series):\n",
    "    return ser + 42\n",
    "\n",
    "df.transform([\"abs\", add_42])"
   ]
  },
  {
   "cell_type": "markdown",
   "id": "4f492bcb",
   "metadata": {},
   "source": [
    "### Map"
   ]
  },
  {
   "cell_type": "code",
   "execution_count": 26,
   "id": "f0ac5c4f",
   "metadata": {},
   "outputs": [
    {
     "data": {
      "text/plain": [
       "0             123.45\n",
       "1         [100, 113]\n",
       "2              142.0\n",
       "3    [110, 113, 119]\n",
       "dtype: object"
      ]
     },
     "execution_count": 26,
     "metadata": {},
     "output_type": "execute_result"
    }
   ],
   "source": [
    "ser = pd.Series([123.45, [100, 113], 142.0, [110, 113, 119]])\n",
    "ser"
   ]
  },
  {
   "cell_type": "code",
   "execution_count": 27,
   "id": "768f7ebc",
   "metadata": {},
   "outputs": [],
   "source": [
    "def custom_average(value):\n",
    "    if isinstance(value, list):\n",
    "        return sum(value) / len(value)\n",
    "\n",
    "    return value"
   ]
  },
  {
   "cell_type": "code",
   "execution_count": 28,
   "id": "32129553",
   "metadata": {},
   "outputs": [
    {
     "data": {
      "text/plain": [
       "0    123.45\n",
       "1    106.50\n",
       "2    142.00\n",
       "3    114.00\n",
       "dtype: float64"
      ]
     },
     "execution_count": 28,
     "metadata": {},
     "output_type": "execute_result"
    }
   ],
   "source": [
    "ser.map(custom_average)"
   ]
  },
  {
   "cell_type": "code",
   "execution_count": 29,
   "id": "bd64d7a6",
   "metadata": {},
   "outputs": [
    {
     "data": {
      "text/html": [
       "<div>\n",
       "<style scoped>\n",
       "    .dataframe tbody tr th:only-of-type {\n",
       "        vertical-align: middle;\n",
       "    }\n",
       "\n",
       "    .dataframe tbody tr th {\n",
       "        vertical-align: top;\n",
       "    }\n",
       "\n",
       "    .dataframe thead th {\n",
       "        text-align: right;\n",
       "    }\n",
       "</style>\n",
       "<table border=\"1\" class=\"dataframe\">\n",
       "  <thead>\n",
       "    <tr style=\"text-align: right;\">\n",
       "      <th></th>\n",
       "      <th>0</th>\n",
       "      <th>1</th>\n",
       "      <th>2</th>\n",
       "    </tr>\n",
       "  </thead>\n",
       "  <tbody>\n",
       "    <tr>\n",
       "      <th>0</th>\n",
       "      <td>2.0</td>\n",
       "      <td>[1, 2]</td>\n",
       "      <td>3.0</td>\n",
       "    </tr>\n",
       "    <tr>\n",
       "      <th>1</th>\n",
       "      <td>[4, 5]</td>\n",
       "      <td>5</td>\n",
       "      <td>7.0</td>\n",
       "    </tr>\n",
       "    <tr>\n",
       "      <th>2</th>\n",
       "      <td>1</td>\n",
       "      <td>4</td>\n",
       "      <td>[1, 1, 5.5]</td>\n",
       "    </tr>\n",
       "  </tbody>\n",
       "</table>\n",
       "</div>"
      ],
      "text/plain": [
       "        0       1            2\n",
       "0     2.0  [1, 2]          3.0\n",
       "1  [4, 5]       5          7.0\n",
       "2       1       4  [1, 1, 5.5]"
      ]
     },
     "execution_count": 29,
     "metadata": {},
     "output_type": "execute_result"
    }
   ],
   "source": [
    "df = pd.DataFrame([\n",
    "    [2., [1, 2], 3.],\n",
    "    [[4, 5], 5, 7.],\n",
    "    [1, 4, [1, 1, 5.5]],\n",
    "])\n",
    "df"
   ]
  },
  {
   "cell_type": "code",
   "execution_count": 30,
   "id": "1f11c5aa",
   "metadata": {},
   "outputs": [
    {
     "data": {
      "text/html": [
       "<div>\n",
       "<style scoped>\n",
       "    .dataframe tbody tr th:only-of-type {\n",
       "        vertical-align: middle;\n",
       "    }\n",
       "\n",
       "    .dataframe tbody tr th {\n",
       "        vertical-align: top;\n",
       "    }\n",
       "\n",
       "    .dataframe thead th {\n",
       "        text-align: right;\n",
       "    }\n",
       "</style>\n",
       "<table border=\"1\" class=\"dataframe\">\n",
       "  <thead>\n",
       "    <tr style=\"text-align: right;\">\n",
       "      <th></th>\n",
       "      <th>0</th>\n",
       "      <th>1</th>\n",
       "      <th>2</th>\n",
       "    </tr>\n",
       "  </thead>\n",
       "  <tbody>\n",
       "    <tr>\n",
       "      <th>0</th>\n",
       "      <td>2.0</td>\n",
       "      <td>1.5</td>\n",
       "      <td>3.0</td>\n",
       "    </tr>\n",
       "    <tr>\n",
       "      <th>1</th>\n",
       "      <td>4.5</td>\n",
       "      <td>5.0</td>\n",
       "      <td>7.0</td>\n",
       "    </tr>\n",
       "    <tr>\n",
       "      <th>2</th>\n",
       "      <td>1.0</td>\n",
       "      <td>4.0</td>\n",
       "      <td>2.5</td>\n",
       "    </tr>\n",
       "  </tbody>\n",
       "</table>\n",
       "</div>"
      ],
      "text/plain": [
       "     0    1    2\n",
       "0  2.0  1.5  3.0\n",
       "1  4.5  5.0  7.0\n",
       "2  1.0  4.0  2.5"
      ]
     },
     "execution_count": 30,
     "metadata": {},
     "output_type": "execute_result"
    }
   ],
   "source": [
    "df.map(custom_average)"
   ]
  },
  {
   "cell_type": "code",
   "execution_count": 31,
   "id": "4abbe5f6",
   "metadata": {},
   "outputs": [
    {
     "data": {
      "text/plain": [
       "0    123.45\n",
       "1    106.50\n",
       "2    142.00\n",
       "3    114.00\n",
       "dtype: float64"
      ]
     },
     "execution_count": 31,
     "metadata": {},
     "output_type": "execute_result"
    }
   ],
   "source": [
    "ser.transform(custom_average)"
   ]
  },
  {
   "cell_type": "code",
   "execution_count": 32,
   "id": "95637a31",
   "metadata": {},
   "outputs": [
    {
     "data": {
      "text/html": [
       "<div>\n",
       "<style scoped>\n",
       "    .dataframe tbody tr th:only-of-type {\n",
       "        vertical-align: middle;\n",
       "    }\n",
       "\n",
       "    .dataframe tbody tr th {\n",
       "        vertical-align: top;\n",
       "    }\n",
       "\n",
       "    .dataframe thead th {\n",
       "        text-align: right;\n",
       "    }\n",
       "</style>\n",
       "<table border=\"1\" class=\"dataframe\">\n",
       "  <thead>\n",
       "    <tr style=\"text-align: right;\">\n",
       "      <th></th>\n",
       "      <th>0</th>\n",
       "      <th>1</th>\n",
       "      <th>2</th>\n",
       "    </tr>\n",
       "  </thead>\n",
       "  <tbody>\n",
       "    <tr>\n",
       "      <th>0</th>\n",
       "      <td>2.0</td>\n",
       "      <td>[1, 2]</td>\n",
       "      <td>3.0</td>\n",
       "    </tr>\n",
       "    <tr>\n",
       "      <th>1</th>\n",
       "      <td>[4, 5]</td>\n",
       "      <td>5</td>\n",
       "      <td>7.0</td>\n",
       "    </tr>\n",
       "    <tr>\n",
       "      <th>2</th>\n",
       "      <td>1</td>\n",
       "      <td>4</td>\n",
       "      <td>[1, 1, 5.5]</td>\n",
       "    </tr>\n",
       "  </tbody>\n",
       "</table>\n",
       "</div>"
      ],
      "text/plain": [
       "        0       1            2\n",
       "0     2.0  [1, 2]          3.0\n",
       "1  [4, 5]       5          7.0\n",
       "2       1       4  [1, 1, 5.5]"
      ]
     },
     "execution_count": 32,
     "metadata": {},
     "output_type": "execute_result"
    }
   ],
   "source": [
    "df.transform(custom_average)"
   ]
  },
  {
   "cell_type": "markdown",
   "id": "a5701137",
   "metadata": {},
   "source": [
    "### Apply"
   ]
  },
  {
   "cell_type": "code",
   "execution_count": 33,
   "id": "a3e5868e",
   "metadata": {},
   "outputs": [],
   "source": [
    "def debug_apply(value):\n",
    "    print(f\"Apply was called with value:\\n{value}\")"
   ]
  },
  {
   "cell_type": "code",
   "execution_count": 34,
   "id": "ec6e3e12",
   "metadata": {},
   "outputs": [
    {
     "name": "stdout",
     "output_type": "stream",
     "text": [
      "Apply was called with value:\n",
      "0\n",
      "Apply was called with value:\n",
      "1\n",
      "Apply was called with value:\n",
      "2\n"
     ]
    },
    {
     "data": {
      "text/plain": [
       "0    None\n",
       "1    None\n",
       "2    None\n",
       "dtype: object"
      ]
     },
     "execution_count": 34,
     "metadata": {},
     "output_type": "execute_result"
    }
   ],
   "source": [
    "ser = pd.Series(range(3), dtype=pd.Int64Dtype())\n",
    "ser.apply(debug_apply)"
   ]
  },
  {
   "cell_type": "code",
   "execution_count": 35,
   "id": "06add616",
   "metadata": {},
   "outputs": [
    {
     "name": "stdout",
     "output_type": "stream",
     "text": [
      "Apply was called with value:\n",
      "0\n",
      "Apply was called with value:\n",
      "1\n",
      "Apply was called with value:\n",
      "2\n"
     ]
    },
    {
     "data": {
      "text/plain": [
       "0    None\n",
       "1    None\n",
       "2    None\n",
       "dtype: object"
      ]
     },
     "execution_count": 35,
     "metadata": {},
     "output_type": "execute_result"
    }
   ],
   "source": [
    "ser.map(debug_apply)"
   ]
  },
  {
   "cell_type": "code",
   "execution_count": 36,
   "id": "9e2b0ed4",
   "metadata": {},
   "outputs": [
    {
     "data": {
      "text/html": [
       "<div>\n",
       "<style scoped>\n",
       "    .dataframe tbody tr th:only-of-type {\n",
       "        vertical-align: middle;\n",
       "    }\n",
       "\n",
       "    .dataframe tbody tr th {\n",
       "        vertical-align: top;\n",
       "    }\n",
       "\n",
       "    .dataframe thead th {\n",
       "        text-align: right;\n",
       "    }\n",
       "</style>\n",
       "<table border=\"1\" class=\"dataframe\">\n",
       "  <thead>\n",
       "    <tr style=\"text-align: right;\">\n",
       "      <th></th>\n",
       "      <th>a</th>\n",
       "      <th>b</th>\n",
       "    </tr>\n",
       "  </thead>\n",
       "  <tbody>\n",
       "    <tr>\n",
       "      <th>0</th>\n",
       "      <td>0</td>\n",
       "      <td>1</td>\n",
       "    </tr>\n",
       "    <tr>\n",
       "      <th>1</th>\n",
       "      <td>2</td>\n",
       "      <td>3</td>\n",
       "    </tr>\n",
       "    <tr>\n",
       "      <th>2</th>\n",
       "      <td>4</td>\n",
       "      <td>5</td>\n",
       "    </tr>\n",
       "  </tbody>\n",
       "</table>\n",
       "</div>"
      ],
      "text/plain": [
       "   a  b\n",
       "0  0  1\n",
       "1  2  3\n",
       "2  4  5"
      ]
     },
     "execution_count": 36,
     "metadata": {},
     "output_type": "execute_result"
    }
   ],
   "source": [
    "df = pd.DataFrame(\n",
    "    np.arange(6).reshape(3, -1),\n",
    "    columns=list(\"ab\"),\n",
    ").convert_dtypes(dtype_backend=\"numpy_nullable\")\n",
    "df"
   ]
  },
  {
   "cell_type": "code",
   "execution_count": 37,
   "id": "71c3ed69",
   "metadata": {},
   "outputs": [
    {
     "name": "stdout",
     "output_type": "stream",
     "text": [
      "Apply was called with value:\n",
      "0    0\n",
      "1    2\n",
      "2    4\n",
      "Name: a, dtype: Int64\n",
      "Apply was called with value:\n",
      "0    1\n",
      "1    3\n",
      "2    5\n",
      "Name: b, dtype: Int64\n"
     ]
    },
    {
     "data": {
      "text/plain": [
       "a    None\n",
       "b    None\n",
       "dtype: object"
      ]
     },
     "execution_count": 37,
     "metadata": {},
     "output_type": "execute_result"
    }
   ],
   "source": [
    "df.apply(debug_apply)"
   ]
  },
  {
   "cell_type": "code",
   "execution_count": 38,
   "id": "c88d9298",
   "metadata": {},
   "outputs": [],
   "source": [
    "def debug_apply_and_return(value):\n",
    "    print(value)\n",
    "    return value"
   ]
  },
  {
   "cell_type": "code",
   "execution_count": 39,
   "id": "a3843c2e",
   "metadata": {},
   "outputs": [
    {
     "name": "stdout",
     "output_type": "stream",
     "text": [
      "0    0\n",
      "1    2\n",
      "2    4\n",
      "Name: a, dtype: Int64\n",
      "0    1\n",
      "1    3\n",
      "2    5\n",
      "Name: b, dtype: Int64\n"
     ]
    },
    {
     "data": {
      "text/html": [
       "<div>\n",
       "<style scoped>\n",
       "    .dataframe tbody tr th:only-of-type {\n",
       "        vertical-align: middle;\n",
       "    }\n",
       "\n",
       "    .dataframe tbody tr th {\n",
       "        vertical-align: top;\n",
       "    }\n",
       "\n",
       "    .dataframe thead th {\n",
       "        text-align: right;\n",
       "    }\n",
       "</style>\n",
       "<table border=\"1\" class=\"dataframe\">\n",
       "  <thead>\n",
       "    <tr style=\"text-align: right;\">\n",
       "      <th></th>\n",
       "      <th>a</th>\n",
       "      <th>b</th>\n",
       "    </tr>\n",
       "  </thead>\n",
       "  <tbody>\n",
       "    <tr>\n",
       "      <th>0</th>\n",
       "      <td>0</td>\n",
       "      <td>1</td>\n",
       "    </tr>\n",
       "    <tr>\n",
       "      <th>1</th>\n",
       "      <td>2</td>\n",
       "      <td>3</td>\n",
       "    </tr>\n",
       "    <tr>\n",
       "      <th>2</th>\n",
       "      <td>4</td>\n",
       "      <td>5</td>\n",
       "    </tr>\n",
       "  </tbody>\n",
       "</table>\n",
       "</div>"
      ],
      "text/plain": [
       "   a  b\n",
       "0  0  1\n",
       "1  2  3\n",
       "2  4  5"
      ]
     },
     "execution_count": 39,
     "metadata": {},
     "output_type": "execute_result"
    }
   ],
   "source": [
    "df.apply(debug_apply_and_return)"
   ]
  },
  {
   "cell_type": "markdown",
   "id": "c7c46191",
   "metadata": {},
   "source": [
    "### Summary statistics"
   ]
  },
  {
   "cell_type": "code",
   "execution_count": 40,
   "id": "181ef3bf",
   "metadata": {},
   "outputs": [
    {
     "data": {
      "text/plain": [
       "a    3\n",
       "c    2\n",
       "b    1\n",
       "Name: count, dtype: Int64"
      ]
     },
     "execution_count": 40,
     "metadata": {},
     "output_type": "execute_result"
    }
   ],
   "source": [
    "ser = pd.Series([\"a\", \"b\", \"c\", \"a\", \"c\", \"a\"], dtype=pd.StringDtype())\n",
    "ser.value_counts()"
   ]
  },
  {
   "cell_type": "code",
   "execution_count": 41,
   "id": "b01c421a",
   "metadata": {},
   "outputs": [
    {
     "data": {
      "text/plain": [
       "count     3.0\n",
       "mean     42.0\n",
       "std      42.0\n",
       "min       0.0\n",
       "25%      21.0\n",
       "50%      42.0\n",
       "75%      63.0\n",
       "max      84.0\n",
       "dtype: Float64"
      ]
     },
     "execution_count": 41,
     "metadata": {},
     "output_type": "execute_result"
    }
   ],
   "source": [
    "ser = pd.Series([0, 42, 84], dtype=pd.Int64Dtype())\n",
    "ser.describe()"
   ]
  },
  {
   "cell_type": "code",
   "execution_count": 42,
   "id": "3b44d146",
   "metadata": {},
   "outputs": [
    {
     "data": {
      "text/plain": [
       "count      3.0\n",
       "mean      42.0\n",
       "std       42.0\n",
       "min        0.0\n",
       "10%        8.4\n",
       "44%      36.96\n",
       "50%       42.0\n",
       "67%      56.28\n",
       "max       84.0\n",
       "dtype: Float64"
      ]
     },
     "execution_count": 42,
     "metadata": {},
     "output_type": "execute_result"
    }
   ],
   "source": [
    "ser.describe(percentiles=[.10, .44, .67])"
   ]
  },
  {
   "cell_type": "markdown",
   "id": "efa9d4a8",
   "metadata": {},
   "source": [
    "### Binning algorithms"
   ]
  },
  {
   "cell_type": "code",
   "execution_count": 43,
   "id": "9299975d",
   "metadata": {},
   "outputs": [
    {
     "data": {
      "text/html": [
       "<div>\n",
       "<style scoped>\n",
       "    .dataframe tbody tr th:only-of-type {\n",
       "        vertical-align: middle;\n",
       "    }\n",
       "\n",
       "    .dataframe tbody tr th {\n",
       "        vertical-align: top;\n",
       "    }\n",
       "\n",
       "    .dataframe thead th {\n",
       "        text-align: right;\n",
       "    }\n",
       "</style>\n",
       "<table border=\"1\" class=\"dataframe\">\n",
       "  <thead>\n",
       "    <tr style=\"text-align: right;\">\n",
       "      <th></th>\n",
       "      <th>name</th>\n",
       "      <th>age</th>\n",
       "    </tr>\n",
       "  </thead>\n",
       "  <tbody>\n",
       "    <tr>\n",
       "      <th>0</th>\n",
       "      <td>Jane</td>\n",
       "      <td>34</td>\n",
       "    </tr>\n",
       "    <tr>\n",
       "      <th>1</th>\n",
       "      <td>John</td>\n",
       "      <td>18</td>\n",
       "    </tr>\n",
       "    <tr>\n",
       "      <th>2</th>\n",
       "      <td>Jamie</td>\n",
       "      <td>22</td>\n",
       "    </tr>\n",
       "    <tr>\n",
       "      <th>3</th>\n",
       "      <td>Jessica</td>\n",
       "      <td>36</td>\n",
       "    </tr>\n",
       "    <tr>\n",
       "      <th>4</th>\n",
       "      <td>Jackie</td>\n",
       "      <td>33</td>\n",
       "    </tr>\n",
       "  </tbody>\n",
       "</table>\n",
       "</div>"
      ],
      "text/plain": [
       "      name  age\n",
       "0     Jane   34\n",
       "1     John   18\n",
       "2    Jamie   22\n",
       "3  Jessica   36\n",
       "4   Jackie   33"
      ]
     },
     "execution_count": 43,
     "metadata": {},
     "output_type": "execute_result"
    }
   ],
   "source": [
    "df = pd.DataFrame([\n",
    "    [\"Jane\", 34],\n",
    "    [\"John\", 18],\n",
    "    [\"Jamie\", 22],\n",
    "    [\"Jessica\", 36],\n",
    "    [\"Jackie\", 33],\n",
    "    [\"Steve\", 40],\n",
    "    [\"Sam\", 30],\n",
    "    [\"Stephanie\", 66],\n",
    "    [\"Sarah\", 55],\n",
    "    [\"Aaron\", 22],\n",
    "    [\"Erin\", 28],\n",
    "    [\"Elsa\", 37],\n",
    "], columns=[\"name\", \"age\"])\n",
    "df = df.convert_dtypes(dtype_backend=\"numpy_nullable\")\n",
    "\n",
    "df.head()"
   ]
  },
  {
   "cell_type": "code",
   "execution_count": 44,
   "id": "2c68a6a2",
   "metadata": {},
   "outputs": [
    {
     "data": {
      "text/plain": [
       "0       (30.0, 42.0]\n",
       "1     (17.952, 30.0]\n",
       "2     (17.952, 30.0]\n",
       "3       (30.0, 42.0]\n",
       "4       (30.0, 42.0]\n",
       "5       (30.0, 42.0]\n",
       "6     (17.952, 30.0]\n",
       "7       (54.0, 66.0]\n",
       "8       (54.0, 66.0]\n",
       "9     (17.952, 30.0]\n",
       "10    (17.952, 30.0]\n",
       "11      (30.0, 42.0]\n",
       "Name: age, dtype: category\n",
       "Categories (4, interval[float64, right]): [(17.952, 30.0] < (30.0, 42.0] < (42.0, 54.0] < (54.0, 66.0]]"
      ]
     },
     "execution_count": 44,
     "metadata": {},
     "output_type": "execute_result"
    }
   ],
   "source": [
    "pd.cut(df[\"age\"], 4)"
   ]
  },
  {
   "cell_type": "code",
   "execution_count": 45,
   "id": "c10805af",
   "metadata": {},
   "outputs": [
    {
     "data": {
      "text/plain": [
       "0     (30.0, 42.0]\n",
       "1     (18.0, 30.0]\n",
       "2     (18.0, 30.0]\n",
       "3     (30.0, 42.0]\n",
       "4     (30.0, 42.0]\n",
       "5     (30.0, 42.0]\n",
       "6     (18.0, 30.0]\n",
       "7     (54.0, 66.0]\n",
       "8     (54.0, 66.0]\n",
       "9     (18.0, 30.0]\n",
       "10    (18.0, 30.0]\n",
       "11    (30.0, 42.0]\n",
       "Name: age, dtype: category\n",
       "Categories (4, interval[float64, right]): [(18.0, 30.0] < (30.0, 42.0] < (42.0, 54.0] < (54.0, 66.0]]"
      ]
     },
     "execution_count": 45,
     "metadata": {},
     "output_type": "execute_result"
    }
   ],
   "source": [
    "pd.cut(df[\"age\"], 4, precision=0)"
   ]
  },
  {
   "cell_type": "code",
   "execution_count": 46,
   "id": "023a83cf",
   "metadata": {},
   "outputs": [
    {
     "data": {
      "text/plain": [
       "0     (30, 40]\n",
       "1     (10, 20]\n",
       "2     (20, 30]\n",
       "3     (30, 40]\n",
       "4     (30, 40]\n",
       "5     (30, 40]\n",
       "6     (20, 30]\n",
       "7     (60, 70]\n",
       "8     (50, 60]\n",
       "9     (20, 30]\n",
       "10    (20, 30]\n",
       "11    (30, 40]\n",
       "Name: age, dtype: category\n",
       "Categories (6, interval[int64, right]): [(10, 20] < (20, 30] < (30, 40] < (40, 50] < (50, 60] < (60, 70]]"
      ]
     },
     "execution_count": 46,
     "metadata": {},
     "output_type": "execute_result"
    }
   ],
   "source": [
    "pd.cut(df[\"age\"], [10, 20, 30, 40, 50, 60, 70])"
   ]
  },
  {
   "cell_type": "code",
   "execution_count": 47,
   "id": "6dfcf43b",
   "metadata": {},
   "outputs": [
    {
     "data": {
      "text/plain": [
       "0      (30, 40]\n",
       "1      (10, 20]\n",
       "2      (20, 30]\n",
       "3      (30, 40]\n",
       "4      (30, 40]\n",
       "5      (30, 40]\n",
       "6      (20, 30]\n",
       "7     (60, 999]\n",
       "8      (50, 60]\n",
       "9      (20, 30]\n",
       "10     (20, 30]\n",
       "11     (30, 40]\n",
       "Name: age, dtype: category\n",
       "Categories (6, interval[int64, right]): [(10, 20] < (20, 30] < (30, 40] < (40, 50] < (50, 60] < (60, 999]]"
      ]
     },
     "execution_count": 47,
     "metadata": {},
     "output_type": "execute_result"
    }
   ],
   "source": [
    "pd.cut(df[\"age\"], [10, 20, 30, 40, 50, 60, 999])"
   ]
  },
  {
   "cell_type": "code",
   "execution_count": 48,
   "id": "e6aa0295",
   "metadata": {},
   "outputs": [
    {
     "data": {
      "text/plain": [
       "0     30-40\n",
       "1     10-20\n",
       "2     20-30\n",
       "3     30-40\n",
       "4     30-40\n",
       "5     30-40\n",
       "6     20-30\n",
       "7       60+\n",
       "8     50-60\n",
       "9     20-30\n",
       "10    20-30\n",
       "11    30-40\n",
       "Name: age, dtype: category\n",
       "Categories (6, object): ['10-20' < '20-30' < '30-40' < '40-50' < '50-60' < '60+']"
      ]
     },
     "execution_count": 48,
     "metadata": {},
     "output_type": "execute_result"
    }
   ],
   "source": [
    "pd.cut(\n",
    "    df[\"age\"],\n",
    "    [10, 20, 30, 40, 50, 60, 999],\n",
    "    labels=[\"10-20\", \"20-30\", \"30-40\", \"40-50\", \"50-60\", \"60+\"],\n",
    ")"
   ]
  },
  {
   "cell_type": "code",
   "execution_count": 49,
   "id": "ae015ecc",
   "metadata": {},
   "outputs": [
    {
     "data": {
      "text/html": [
       "<div>\n",
       "<style scoped>\n",
       "    .dataframe tbody tr th:only-of-type {\n",
       "        vertical-align: middle;\n",
       "    }\n",
       "\n",
       "    .dataframe tbody tr th {\n",
       "        vertical-align: top;\n",
       "    }\n",
       "\n",
       "    .dataframe thead th {\n",
       "        text-align: right;\n",
       "    }\n",
       "</style>\n",
       "<table border=\"1\" class=\"dataframe\">\n",
       "  <thead>\n",
       "    <tr style=\"text-align: right;\">\n",
       "      <th></th>\n",
       "      <th>name</th>\n",
       "      <th>age</th>\n",
       "      <th>age_bin</th>\n",
       "    </tr>\n",
       "  </thead>\n",
       "  <tbody>\n",
       "    <tr>\n",
       "      <th>0</th>\n",
       "      <td>Jane</td>\n",
       "      <td>34</td>\n",
       "      <td>(30, 40]</td>\n",
       "    </tr>\n",
       "    <tr>\n",
       "      <th>1</th>\n",
       "      <td>John</td>\n",
       "      <td>18</td>\n",
       "      <td>(10, 20]</td>\n",
       "    </tr>\n",
       "    <tr>\n",
       "      <th>2</th>\n",
       "      <td>Jamie</td>\n",
       "      <td>22</td>\n",
       "      <td>(20, 30]</td>\n",
       "    </tr>\n",
       "    <tr>\n",
       "      <th>3</th>\n",
       "      <td>Jessica</td>\n",
       "      <td>36</td>\n",
       "      <td>(30, 40]</td>\n",
       "    </tr>\n",
       "    <tr>\n",
       "      <th>4</th>\n",
       "      <td>Jackie</td>\n",
       "      <td>33</td>\n",
       "      <td>(30, 40]</td>\n",
       "    </tr>\n",
       "    <tr>\n",
       "      <th>5</th>\n",
       "      <td>Steve</td>\n",
       "      <td>40</td>\n",
       "      <td>(30, 40]</td>\n",
       "    </tr>\n",
       "    <tr>\n",
       "      <th>6</th>\n",
       "      <td>Sam</td>\n",
       "      <td>30</td>\n",
       "      <td>(20, 30]</td>\n",
       "    </tr>\n",
       "    <tr>\n",
       "      <th>7</th>\n",
       "      <td>Stephanie</td>\n",
       "      <td>66</td>\n",
       "      <td>(60, 999]</td>\n",
       "    </tr>\n",
       "    <tr>\n",
       "      <th>8</th>\n",
       "      <td>Sarah</td>\n",
       "      <td>55</td>\n",
       "      <td>(50, 60]</td>\n",
       "    </tr>\n",
       "    <tr>\n",
       "      <th>9</th>\n",
       "      <td>Aaron</td>\n",
       "      <td>22</td>\n",
       "      <td>(20, 30]</td>\n",
       "    </tr>\n",
       "    <tr>\n",
       "      <th>10</th>\n",
       "      <td>Erin</td>\n",
       "      <td>28</td>\n",
       "      <td>(20, 30]</td>\n",
       "    </tr>\n",
       "    <tr>\n",
       "      <th>11</th>\n",
       "      <td>Elsa</td>\n",
       "      <td>37</td>\n",
       "      <td>(30, 40]</td>\n",
       "    </tr>\n",
       "  </tbody>\n",
       "</table>\n",
       "</div>"
      ],
      "text/plain": [
       "         name  age    age_bin\n",
       "0        Jane   34   (30, 40]\n",
       "1        John   18   (10, 20]\n",
       "2       Jamie   22   (20, 30]\n",
       "3     Jessica   36   (30, 40]\n",
       "4      Jackie   33   (30, 40]\n",
       "5       Steve   40   (30, 40]\n",
       "6         Sam   30   (20, 30]\n",
       "7   Stephanie   66  (60, 999]\n",
       "8       Sarah   55   (50, 60]\n",
       "9       Aaron   22   (20, 30]\n",
       "10       Erin   28   (20, 30]\n",
       "11       Elsa   37   (30, 40]"
      ]
     },
     "execution_count": 49,
     "metadata": {},
     "output_type": "execute_result"
    }
   ],
   "source": [
    "df.assign(age_bin=lambda x: pd.cut(x[\"age\"], [10, 20, 30, 40, 50, 60, 999]))"
   ]
  },
  {
   "cell_type": "code",
   "execution_count": 50,
   "id": "fe92c2a2",
   "metadata": {},
   "outputs": [
    {
     "data": {
      "text/html": [
       "<div>\n",
       "<style scoped>\n",
       "    .dataframe tbody tr th:only-of-type {\n",
       "        vertical-align: middle;\n",
       "    }\n",
       "\n",
       "    .dataframe tbody tr th {\n",
       "        vertical-align: top;\n",
       "    }\n",
       "\n",
       "    .dataframe thead th {\n",
       "        text-align: right;\n",
       "    }\n",
       "</style>\n",
       "<table border=\"1\" class=\"dataframe\">\n",
       "  <thead>\n",
       "    <tr style=\"text-align: right;\">\n",
       "      <th></th>\n",
       "      <th>name</th>\n",
       "      <th>age</th>\n",
       "      <th>age_bin</th>\n",
       "    </tr>\n",
       "  </thead>\n",
       "  <tbody>\n",
       "    <tr>\n",
       "      <th>0</th>\n",
       "      <td>Jane</td>\n",
       "      <td>34</td>\n",
       "      <td>[30, 40)</td>\n",
       "    </tr>\n",
       "    <tr>\n",
       "      <th>1</th>\n",
       "      <td>John</td>\n",
       "      <td>18</td>\n",
       "      <td>[10, 20)</td>\n",
       "    </tr>\n",
       "    <tr>\n",
       "      <th>2</th>\n",
       "      <td>Jamie</td>\n",
       "      <td>22</td>\n",
       "      <td>[20, 30)</td>\n",
       "    </tr>\n",
       "    <tr>\n",
       "      <th>3</th>\n",
       "      <td>Jessica</td>\n",
       "      <td>36</td>\n",
       "      <td>[30, 40)</td>\n",
       "    </tr>\n",
       "    <tr>\n",
       "      <th>4</th>\n",
       "      <td>Jackie</td>\n",
       "      <td>33</td>\n",
       "      <td>[30, 40)</td>\n",
       "    </tr>\n",
       "    <tr>\n",
       "      <th>5</th>\n",
       "      <td>Steve</td>\n",
       "      <td>40</td>\n",
       "      <td>[40, 50)</td>\n",
       "    </tr>\n",
       "    <tr>\n",
       "      <th>6</th>\n",
       "      <td>Sam</td>\n",
       "      <td>30</td>\n",
       "      <td>[30, 40)</td>\n",
       "    </tr>\n",
       "    <tr>\n",
       "      <th>7</th>\n",
       "      <td>Stephanie</td>\n",
       "      <td>66</td>\n",
       "      <td>[60, 999)</td>\n",
       "    </tr>\n",
       "    <tr>\n",
       "      <th>8</th>\n",
       "      <td>Sarah</td>\n",
       "      <td>55</td>\n",
       "      <td>[50, 60)</td>\n",
       "    </tr>\n",
       "    <tr>\n",
       "      <th>9</th>\n",
       "      <td>Aaron</td>\n",
       "      <td>22</td>\n",
       "      <td>[20, 30)</td>\n",
       "    </tr>\n",
       "    <tr>\n",
       "      <th>10</th>\n",
       "      <td>Erin</td>\n",
       "      <td>28</td>\n",
       "      <td>[20, 30)</td>\n",
       "    </tr>\n",
       "    <tr>\n",
       "      <th>11</th>\n",
       "      <td>Elsa</td>\n",
       "      <td>37</td>\n",
       "      <td>[30, 40)</td>\n",
       "    </tr>\n",
       "  </tbody>\n",
       "</table>\n",
       "</div>"
      ],
      "text/plain": [
       "         name  age    age_bin\n",
       "0        Jane   34   [30, 40)\n",
       "1        John   18   [10, 20)\n",
       "2       Jamie   22   [20, 30)\n",
       "3     Jessica   36   [30, 40)\n",
       "4      Jackie   33   [30, 40)\n",
       "5       Steve   40   [40, 50)\n",
       "6         Sam   30   [30, 40)\n",
       "7   Stephanie   66  [60, 999)\n",
       "8       Sarah   55   [50, 60)\n",
       "9       Aaron   22   [20, 30)\n",
       "10       Erin   28   [20, 30)\n",
       "11       Elsa   37   [30, 40)"
      ]
     },
     "execution_count": 50,
     "metadata": {},
     "output_type": "execute_result"
    }
   ],
   "source": [
    "df.assign(\n",
    "    age_bin=lambda x: pd.cut(x[\"age\"], [10, 20, 30, 40, 50, 60, 999], right=False)\n",
    ")"
   ]
  },
  {
   "cell_type": "markdown",
   "id": "03fb65dc",
   "metadata": {},
   "source": [
    "### One-hot encoding with pd.get_dummies"
   ]
  },
  {
   "cell_type": "code",
   "execution_count": 51,
   "id": "b84a8107",
   "metadata": {},
   "outputs": [
    {
     "data": {
      "text/plain": [
       "0    green\n",
       "1    brown\n",
       "2     blue\n",
       "3    amber\n",
       "4    hazel\n",
       "5    amber\n",
       "6    green\n",
       "7     blue\n",
       "8    green\n",
       "Name: eye_colors, dtype: string"
      ]
     },
     "execution_count": 51,
     "metadata": {},
     "output_type": "execute_result"
    }
   ],
   "source": [
    "ser = pd.Series([\n",
    "    \"green\",\n",
    "    \"brown\",\n",
    "    \"blue\",\n",
    "    \"amber\",\n",
    "    \"hazel\",\n",
    "    \"amber\",\n",
    "    \"green\",\n",
    "    \"blue\",\n",
    "    \"green\",\n",
    "], name=\"eye_colors\", dtype=pd.StringDtype())\n",
    "ser"
   ]
  },
  {
   "cell_type": "code",
   "execution_count": 52,
   "id": "a5c21ad9",
   "metadata": {},
   "outputs": [
    {
     "data": {
      "text/html": [
       "<div>\n",
       "<style scoped>\n",
       "    .dataframe tbody tr th:only-of-type {\n",
       "        vertical-align: middle;\n",
       "    }\n",
       "\n",
       "    .dataframe tbody tr th {\n",
       "        vertical-align: top;\n",
       "    }\n",
       "\n",
       "    .dataframe thead th {\n",
       "        text-align: right;\n",
       "    }\n",
       "</style>\n",
       "<table border=\"1\" class=\"dataframe\">\n",
       "  <thead>\n",
       "    <tr style=\"text-align: right;\">\n",
       "      <th></th>\n",
       "      <th>amber</th>\n",
       "      <th>blue</th>\n",
       "      <th>brown</th>\n",
       "      <th>green</th>\n",
       "      <th>hazel</th>\n",
       "    </tr>\n",
       "  </thead>\n",
       "  <tbody>\n",
       "    <tr>\n",
       "      <th>0</th>\n",
       "      <td>False</td>\n",
       "      <td>False</td>\n",
       "      <td>False</td>\n",
       "      <td>True</td>\n",
       "      <td>False</td>\n",
       "    </tr>\n",
       "    <tr>\n",
       "      <th>1</th>\n",
       "      <td>False</td>\n",
       "      <td>False</td>\n",
       "      <td>True</td>\n",
       "      <td>False</td>\n",
       "      <td>False</td>\n",
       "    </tr>\n",
       "    <tr>\n",
       "      <th>2</th>\n",
       "      <td>False</td>\n",
       "      <td>True</td>\n",
       "      <td>False</td>\n",
       "      <td>False</td>\n",
       "      <td>False</td>\n",
       "    </tr>\n",
       "    <tr>\n",
       "      <th>3</th>\n",
       "      <td>True</td>\n",
       "      <td>False</td>\n",
       "      <td>False</td>\n",
       "      <td>False</td>\n",
       "      <td>False</td>\n",
       "    </tr>\n",
       "    <tr>\n",
       "      <th>4</th>\n",
       "      <td>False</td>\n",
       "      <td>False</td>\n",
       "      <td>False</td>\n",
       "      <td>False</td>\n",
       "      <td>True</td>\n",
       "    </tr>\n",
       "    <tr>\n",
       "      <th>5</th>\n",
       "      <td>True</td>\n",
       "      <td>False</td>\n",
       "      <td>False</td>\n",
       "      <td>False</td>\n",
       "      <td>False</td>\n",
       "    </tr>\n",
       "    <tr>\n",
       "      <th>6</th>\n",
       "      <td>False</td>\n",
       "      <td>False</td>\n",
       "      <td>False</td>\n",
       "      <td>True</td>\n",
       "      <td>False</td>\n",
       "    </tr>\n",
       "    <tr>\n",
       "      <th>7</th>\n",
       "      <td>False</td>\n",
       "      <td>True</td>\n",
       "      <td>False</td>\n",
       "      <td>False</td>\n",
       "      <td>False</td>\n",
       "    </tr>\n",
       "    <tr>\n",
       "      <th>8</th>\n",
       "      <td>False</td>\n",
       "      <td>False</td>\n",
       "      <td>False</td>\n",
       "      <td>True</td>\n",
       "      <td>False</td>\n",
       "    </tr>\n",
       "  </tbody>\n",
       "</table>\n",
       "</div>"
      ],
      "text/plain": [
       "   amber   blue  brown  green  hazel\n",
       "0  False  False  False   True  False\n",
       "1  False  False   True  False  False\n",
       "2  False   True  False  False  False\n",
       "3   True  False  False  False  False\n",
       "4  False  False  False  False   True\n",
       "5   True  False  False  False  False\n",
       "6  False  False  False   True  False\n",
       "7  False   True  False  False  False\n",
       "8  False  False  False   True  False"
      ]
     },
     "execution_count": 52,
     "metadata": {},
     "output_type": "execute_result"
    }
   ],
   "source": [
    "pd.get_dummies(ser)"
   ]
  },
  {
   "cell_type": "code",
   "execution_count": 53,
   "id": "abda9cc8",
   "metadata": {},
   "outputs": [
    {
     "data": {
      "text/html": [
       "<div>\n",
       "<style scoped>\n",
       "    .dataframe tbody tr th:only-of-type {\n",
       "        vertical-align: middle;\n",
       "    }\n",
       "\n",
       "    .dataframe tbody tr th {\n",
       "        vertical-align: top;\n",
       "    }\n",
       "\n",
       "    .dataframe thead th {\n",
       "        text-align: right;\n",
       "    }\n",
       "</style>\n",
       "<table border=\"1\" class=\"dataframe\">\n",
       "  <thead>\n",
       "    <tr style=\"text-align: right;\">\n",
       "      <th></th>\n",
       "      <th>is_amber</th>\n",
       "      <th>is_blue</th>\n",
       "      <th>is_brown</th>\n",
       "      <th>is_green</th>\n",
       "      <th>is_hazel</th>\n",
       "    </tr>\n",
       "  </thead>\n",
       "  <tbody>\n",
       "    <tr>\n",
       "      <th>0</th>\n",
       "      <td>False</td>\n",
       "      <td>False</td>\n",
       "      <td>False</td>\n",
       "      <td>True</td>\n",
       "      <td>False</td>\n",
       "    </tr>\n",
       "    <tr>\n",
       "      <th>1</th>\n",
       "      <td>False</td>\n",
       "      <td>False</td>\n",
       "      <td>True</td>\n",
       "      <td>False</td>\n",
       "      <td>False</td>\n",
       "    </tr>\n",
       "    <tr>\n",
       "      <th>2</th>\n",
       "      <td>False</td>\n",
       "      <td>True</td>\n",
       "      <td>False</td>\n",
       "      <td>False</td>\n",
       "      <td>False</td>\n",
       "    </tr>\n",
       "    <tr>\n",
       "      <th>3</th>\n",
       "      <td>True</td>\n",
       "      <td>False</td>\n",
       "      <td>False</td>\n",
       "      <td>False</td>\n",
       "      <td>False</td>\n",
       "    </tr>\n",
       "    <tr>\n",
       "      <th>4</th>\n",
       "      <td>False</td>\n",
       "      <td>False</td>\n",
       "      <td>False</td>\n",
       "      <td>False</td>\n",
       "      <td>True</td>\n",
       "    </tr>\n",
       "    <tr>\n",
       "      <th>5</th>\n",
       "      <td>True</td>\n",
       "      <td>False</td>\n",
       "      <td>False</td>\n",
       "      <td>False</td>\n",
       "      <td>False</td>\n",
       "    </tr>\n",
       "    <tr>\n",
       "      <th>6</th>\n",
       "      <td>False</td>\n",
       "      <td>False</td>\n",
       "      <td>False</td>\n",
       "      <td>True</td>\n",
       "      <td>False</td>\n",
       "    </tr>\n",
       "    <tr>\n",
       "      <th>7</th>\n",
       "      <td>False</td>\n",
       "      <td>True</td>\n",
       "      <td>False</td>\n",
       "      <td>False</td>\n",
       "      <td>False</td>\n",
       "    </tr>\n",
       "    <tr>\n",
       "      <th>8</th>\n",
       "      <td>False</td>\n",
       "      <td>False</td>\n",
       "      <td>False</td>\n",
       "      <td>True</td>\n",
       "      <td>False</td>\n",
       "    </tr>\n",
       "  </tbody>\n",
       "</table>\n",
       "</div>"
      ],
      "text/plain": [
       "   is_amber  is_blue  is_brown  is_green  is_hazel\n",
       "0     False    False     False      True     False\n",
       "1     False    False      True     False     False\n",
       "2     False     True     False     False     False\n",
       "3      True    False     False     False     False\n",
       "4     False    False     False     False      True\n",
       "5      True    False     False     False     False\n",
       "6     False    False     False      True     False\n",
       "7     False     True     False     False     False\n",
       "8     False    False     False      True     False"
      ]
     },
     "execution_count": 53,
     "metadata": {},
     "output_type": "execute_result"
    }
   ],
   "source": [
    "pd.get_dummies(ser, prefix=\"is\")"
   ]
  },
  {
   "cell_type": "markdown",
   "id": "dc0676d2",
   "metadata": {},
   "source": [
    "### Chaining with .pipe"
   ]
  },
  {
   "cell_type": "code",
   "execution_count": 54,
   "id": "21560480",
   "metadata": {},
   "outputs": [
    {
     "data": {
      "text/html": [
       "<div>\n",
       "<style scoped>\n",
       "    .dataframe tbody tr th:only-of-type {\n",
       "        vertical-align: middle;\n",
       "    }\n",
       "\n",
       "    .dataframe tbody tr th {\n",
       "        vertical-align: top;\n",
       "    }\n",
       "\n",
       "    .dataframe thead th {\n",
       "        text-align: right;\n",
       "    }\n",
       "</style>\n",
       "<table border=\"1\" class=\"dataframe\">\n",
       "  <thead>\n",
       "    <tr style=\"text-align: right;\">\n",
       "      <th></th>\n",
       "      <th>col1</th>\n",
       "      <th>col2</th>\n",
       "    </tr>\n",
       "  </thead>\n",
       "  <tbody>\n",
       "    <tr>\n",
       "      <th>0</th>\n",
       "      <td>1</td>\n",
       "      <td>a</td>\n",
       "    </tr>\n",
       "    <tr>\n",
       "      <th>1</th>\n",
       "      <td>2</td>\n",
       "      <td>b</td>\n",
       "    </tr>\n",
       "    <tr>\n",
       "      <th>2</th>\n",
       "      <td>3</td>\n",
       "      <td>c</td>\n",
       "    </tr>\n",
       "  </tbody>\n",
       "</table>\n",
       "</div>"
      ],
      "text/plain": [
       "   col1 col2\n",
       "0     1    a\n",
       "1     2    b\n",
       "2     3    c"
      ]
     },
     "execution_count": 54,
     "metadata": {},
     "output_type": "execute_result"
    }
   ],
   "source": [
    "df = pd.DataFrame({\n",
    "    \"col1\": pd.Series([1, 2, 3], dtype=pd.Int64Dtype()),\n",
    "    \"col2\": pd.Series([\"a\", \"b\", \"c\"], dtype=pd.StringDtype()),\n",
    "})\n",
    "df"
   ]
  },
  {
   "cell_type": "code",
   "execution_count": 56,
   "id": "6694432a",
   "metadata": {},
   "outputs": [],
   "source": [
    "def change_col1(df: pd.DataFrame) -> pd.DataFrame:\n",
    "    return df.assign(col1=pd.Series([4, 5, 6], dtype=pd.Int64Dtype()))\n",
    "\n",
    "def change_col2(df: pd.DataFrame) -> pd.DataFrame:\n",
    "    return df.assign(col2=pd.Series([\"X\", \"Y\", \"Z\"], dtype=pd.StringDtype()))"
   ]
  },
  {
   "cell_type": "code",
   "execution_count": 57,
   "id": "e598569e",
   "metadata": {},
   "outputs": [
    {
     "data": {
      "text/html": [
       "<div>\n",
       "<style scoped>\n",
       "    .dataframe tbody tr th:only-of-type {\n",
       "        vertical-align: middle;\n",
       "    }\n",
       "\n",
       "    .dataframe tbody tr th {\n",
       "        vertical-align: top;\n",
       "    }\n",
       "\n",
       "    .dataframe thead th {\n",
       "        text-align: right;\n",
       "    }\n",
       "</style>\n",
       "<table border=\"1\" class=\"dataframe\">\n",
       "  <thead>\n",
       "    <tr style=\"text-align: right;\">\n",
       "      <th></th>\n",
       "      <th>col1</th>\n",
       "      <th>col2</th>\n",
       "    </tr>\n",
       "  </thead>\n",
       "  <tbody>\n",
       "    <tr>\n",
       "      <th>0</th>\n",
       "      <td>4</td>\n",
       "      <td>X</td>\n",
       "    </tr>\n",
       "    <tr>\n",
       "      <th>1</th>\n",
       "      <td>5</td>\n",
       "      <td>Y</td>\n",
       "    </tr>\n",
       "    <tr>\n",
       "      <th>2</th>\n",
       "      <td>6</td>\n",
       "      <td>Z</td>\n",
       "    </tr>\n",
       "  </tbody>\n",
       "</table>\n",
       "</div>"
      ],
      "text/plain": [
       "   col1 col2\n",
       "0     4    X\n",
       "1     5    Y\n",
       "2     6    Z"
      ]
     },
     "execution_count": 57,
     "metadata": {},
     "output_type": "execute_result"
    }
   ],
   "source": [
    "df2 = change_col1(df)\n",
    "df3 = change_col2(df2)\n",
    "df3"
   ]
  },
  {
   "cell_type": "code",
   "execution_count": 58,
   "id": "cfe9e3fe",
   "metadata": {},
   "outputs": [
    {
     "data": {
      "text/html": [
       "<div>\n",
       "<style scoped>\n",
       "    .dataframe tbody tr th:only-of-type {\n",
       "        vertical-align: middle;\n",
       "    }\n",
       "\n",
       "    .dataframe tbody tr th {\n",
       "        vertical-align: top;\n",
       "    }\n",
       "\n",
       "    .dataframe thead th {\n",
       "        text-align: right;\n",
       "    }\n",
       "</style>\n",
       "<table border=\"1\" class=\"dataframe\">\n",
       "  <thead>\n",
       "    <tr style=\"text-align: right;\">\n",
       "      <th></th>\n",
       "      <th>col1</th>\n",
       "      <th>col2</th>\n",
       "    </tr>\n",
       "  </thead>\n",
       "  <tbody>\n",
       "    <tr>\n",
       "      <th>0</th>\n",
       "      <td>4</td>\n",
       "      <td>X</td>\n",
       "    </tr>\n",
       "    <tr>\n",
       "      <th>1</th>\n",
       "      <td>5</td>\n",
       "      <td>Y</td>\n",
       "    </tr>\n",
       "    <tr>\n",
       "      <th>2</th>\n",
       "      <td>6</td>\n",
       "      <td>Z</td>\n",
       "    </tr>\n",
       "  </tbody>\n",
       "</table>\n",
       "</div>"
      ],
      "text/plain": [
       "   col1 col2\n",
       "0     4    X\n",
       "1     5    Y\n",
       "2     6    Z"
      ]
     },
     "execution_count": 58,
     "metadata": {},
     "output_type": "execute_result"
    }
   ],
   "source": [
    "change_col2(change_col1(df))"
   ]
  },
  {
   "cell_type": "code",
   "execution_count": 59,
   "id": "b07ec136",
   "metadata": {},
   "outputs": [
    {
     "data": {
      "text/html": [
       "<div>\n",
       "<style scoped>\n",
       "    .dataframe tbody tr th:only-of-type {\n",
       "        vertical-align: middle;\n",
       "    }\n",
       "\n",
       "    .dataframe tbody tr th {\n",
       "        vertical-align: top;\n",
       "    }\n",
       "\n",
       "    .dataframe thead th {\n",
       "        text-align: right;\n",
       "    }\n",
       "</style>\n",
       "<table border=\"1\" class=\"dataframe\">\n",
       "  <thead>\n",
       "    <tr style=\"text-align: right;\">\n",
       "      <th></th>\n",
       "      <th>col1</th>\n",
       "      <th>col2</th>\n",
       "    </tr>\n",
       "  </thead>\n",
       "  <tbody>\n",
       "    <tr>\n",
       "      <th>0</th>\n",
       "      <td>4</td>\n",
       "      <td>X</td>\n",
       "    </tr>\n",
       "    <tr>\n",
       "      <th>1</th>\n",
       "      <td>5</td>\n",
       "      <td>Y</td>\n",
       "    </tr>\n",
       "    <tr>\n",
       "      <th>2</th>\n",
       "      <td>6</td>\n",
       "      <td>Z</td>\n",
       "    </tr>\n",
       "  </tbody>\n",
       "</table>\n",
       "</div>"
      ],
      "text/plain": [
       "   col1 col2\n",
       "0     4    X\n",
       "1     5    Y\n",
       "2     6    Z"
      ]
     },
     "execution_count": 59,
     "metadata": {},
     "output_type": "execute_result"
    }
   ],
   "source": [
    "df.pipe(change_col1).pipe(change_col2)"
   ]
  },
  {
   "cell_type": "code",
   "execution_count": 60,
   "id": "7f8ee72d",
   "metadata": {},
   "outputs": [],
   "source": [
    "from typing import Literal\n",
    "\n",
    "def change_col2(\n",
    "        df: pd.DataFrame,\n",
    "        str_case: Literal[\"upper\", \"lower\"]\n",
    ") -> pd.DataFrame:\n",
    "    if str_case == \"upper\":\n",
    "        values = [\"X\", \"Y\", \"Z\"]\n",
    "    else:\n",
    "        values = [\"x\", \"y\", \"z\"]\n",
    "\n",
    "    return df.assign(col2=pd.Series(values, dtype=pd.StringDtype()))"
   ]
  },
  {
   "cell_type": "code",
   "execution_count": 61,
   "id": "443673f5",
   "metadata": {},
   "outputs": [
    {
     "data": {
      "text/html": [
       "<div>\n",
       "<style scoped>\n",
       "    .dataframe tbody tr th:only-of-type {\n",
       "        vertical-align: middle;\n",
       "    }\n",
       "\n",
       "    .dataframe tbody tr th {\n",
       "        vertical-align: top;\n",
       "    }\n",
       "\n",
       "    .dataframe thead th {\n",
       "        text-align: right;\n",
       "    }\n",
       "</style>\n",
       "<table border=\"1\" class=\"dataframe\">\n",
       "  <thead>\n",
       "    <tr style=\"text-align: right;\">\n",
       "      <th></th>\n",
       "      <th>col1</th>\n",
       "      <th>col2</th>\n",
       "    </tr>\n",
       "  </thead>\n",
       "  <tbody>\n",
       "    <tr>\n",
       "      <th>0</th>\n",
       "      <td>1</td>\n",
       "      <td>x</td>\n",
       "    </tr>\n",
       "    <tr>\n",
       "      <th>1</th>\n",
       "      <td>2</td>\n",
       "      <td>y</td>\n",
       "    </tr>\n",
       "    <tr>\n",
       "      <th>2</th>\n",
       "      <td>3</td>\n",
       "      <td>z</td>\n",
       "    </tr>\n",
       "  </tbody>\n",
       "</table>\n",
       "</div>"
      ],
      "text/plain": [
       "   col1 col2\n",
       "0     1    x\n",
       "1     2    y\n",
       "2     3    z"
      ]
     },
     "execution_count": 61,
     "metadata": {},
     "output_type": "execute_result"
    }
   ],
   "source": [
    "df.pipe(change_col2, str_case=\"lower\")"
   ]
  },
  {
   "cell_type": "markdown",
   "id": "9cdaaebc",
   "metadata": {},
   "source": [
    "### Selecting the lowest budget movies from the top 100"
   ]
  },
  {
   "cell_type": "code",
   "execution_count": 63,
   "id": "0a6aebc5",
   "metadata": {},
   "outputs": [
    {
     "data": {
      "text/html": [
       "<div>\n",
       "<style scoped>\n",
       "    .dataframe tbody tr th:only-of-type {\n",
       "        vertical-align: middle;\n",
       "    }\n",
       "\n",
       "    .dataframe tbody tr th {\n",
       "        vertical-align: top;\n",
       "    }\n",
       "\n",
       "    .dataframe thead th {\n",
       "        text-align: right;\n",
       "    }\n",
       "</style>\n",
       "<table border=\"1\" class=\"dataframe\">\n",
       "  <thead>\n",
       "    <tr style=\"text-align: right;\">\n",
       "      <th></th>\n",
       "      <th>gross</th>\n",
       "      <th>movie_title</th>\n",
       "      <th>budget</th>\n",
       "      <th>imdb_score</th>\n",
       "    </tr>\n",
       "  </thead>\n",
       "  <tbody>\n",
       "    <tr>\n",
       "      <th>0</th>\n",
       "      <td>760505847.0</td>\n",
       "      <td>Avatar</td>\n",
       "      <td>237000000.0</td>\n",
       "      <td>7.9</td>\n",
       "    </tr>\n",
       "    <tr>\n",
       "      <th>1</th>\n",
       "      <td>309404152.0</td>\n",
       "      <td>Pirates of the Caribbean: At World's End</td>\n",
       "      <td>300000000.0</td>\n",
       "      <td>7.1</td>\n",
       "    </tr>\n",
       "    <tr>\n",
       "      <th>2</th>\n",
       "      <td>200074175.0</td>\n",
       "      <td>Spectre</td>\n",
       "      <td>245000000.0</td>\n",
       "      <td>6.8</td>\n",
       "    </tr>\n",
       "    <tr>\n",
       "      <th>3</th>\n",
       "      <td>448130642.0</td>\n",
       "      <td>The Dark Knight Rises</td>\n",
       "      <td>250000000.0</td>\n",
       "      <td>8.5</td>\n",
       "    </tr>\n",
       "    <tr>\n",
       "      <th>4</th>\n",
       "      <td>&lt;NA&gt;</td>\n",
       "      <td>Star Wars: Episode VII - The Force Awakens</td>\n",
       "      <td>&lt;NA&gt;</td>\n",
       "      <td>7.1</td>\n",
       "    </tr>\n",
       "  </tbody>\n",
       "</table>\n",
       "</div>"
      ],
      "text/plain": [
       "         gross                                 movie_title       budget  \\\n",
       "0  760505847.0                                      Avatar  237000000.0   \n",
       "1  309404152.0    Pirates of the Caribbean: At World's End  300000000.0   \n",
       "2  200074175.0                                     Spectre  245000000.0   \n",
       "3  448130642.0                       The Dark Knight Rises  250000000.0   \n",
       "4         <NA>  Star Wars: Episode VII - The Force Awakens         <NA>   \n",
       "\n",
       "   imdb_score  \n",
       "0         7.9  \n",
       "1         7.1  \n",
       "2         6.8  \n",
       "3         8.5  \n",
       "4         7.1  "
      ]
     },
     "execution_count": 63,
     "metadata": {},
     "output_type": "execute_result"
    }
   ],
   "source": [
    "df = pd.read_csv(\n",
    "    \"../data/movie.csv\",\n",
    "    usecols=[\"movie_title\", \"imdb_score\", \"budget\", \"gross\"],\n",
    "    dtype_backend=\"numpy_nullable\",\n",
    ")\n",
    "df.head()"
   ]
  },
  {
   "cell_type": "code",
   "execution_count": 64,
   "id": "b3780b2c",
   "metadata": {},
   "outputs": [
    {
     "data": {
      "text/html": [
       "<div>\n",
       "<style scoped>\n",
       "    .dataframe tbody tr th:only-of-type {\n",
       "        vertical-align: middle;\n",
       "    }\n",
       "\n",
       "    .dataframe tbody tr th {\n",
       "        vertical-align: top;\n",
       "    }\n",
       "\n",
       "    .dataframe thead th {\n",
       "        text-align: right;\n",
       "    }\n",
       "</style>\n",
       "<table border=\"1\" class=\"dataframe\">\n",
       "  <thead>\n",
       "    <tr style=\"text-align: right;\">\n",
       "      <th></th>\n",
       "      <th>gross</th>\n",
       "      <th>movie_title</th>\n",
       "      <th>budget</th>\n",
       "      <th>imdb_score</th>\n",
       "    </tr>\n",
       "  </thead>\n",
       "  <tbody>\n",
       "    <tr>\n",
       "      <th>2725</th>\n",
       "      <td>&lt;NA&gt;</td>\n",
       "      <td>Towering Inferno</td>\n",
       "      <td>&lt;NA&gt;</td>\n",
       "      <td>9.5</td>\n",
       "    </tr>\n",
       "    <tr>\n",
       "      <th>1920</th>\n",
       "      <td>28341469.0</td>\n",
       "      <td>The Shawshank Redemption</td>\n",
       "      <td>25000000.0</td>\n",
       "      <td>9.3</td>\n",
       "    </tr>\n",
       "    <tr>\n",
       "      <th>3402</th>\n",
       "      <td>134821952.0</td>\n",
       "      <td>The Godfather</td>\n",
       "      <td>6000000.0</td>\n",
       "      <td>9.2</td>\n",
       "    </tr>\n",
       "    <tr>\n",
       "      <th>2779</th>\n",
       "      <td>447093.0</td>\n",
       "      <td>Dekalog</td>\n",
       "      <td>&lt;NA&gt;</td>\n",
       "      <td>9.1</td>\n",
       "    </tr>\n",
       "    <tr>\n",
       "      <th>4312</th>\n",
       "      <td>&lt;NA&gt;</td>\n",
       "      <td>Kickboxer: Vengeance</td>\n",
       "      <td>17000000.0</td>\n",
       "      <td>9.1</td>\n",
       "    </tr>\n",
       "  </tbody>\n",
       "</table>\n",
       "</div>"
      ],
      "text/plain": [
       "            gross               movie_title      budget  imdb_score\n",
       "2725         <NA>          Towering Inferno        <NA>         9.5\n",
       "1920   28341469.0  The Shawshank Redemption  25000000.0         9.3\n",
       "3402  134821952.0             The Godfather   6000000.0         9.2\n",
       "2779     447093.0                   Dekalog        <NA>         9.1\n",
       "4312         <NA>      Kickboxer: Vengeance  17000000.0         9.1"
      ]
     },
     "execution_count": 64,
     "metadata": {},
     "output_type": "execute_result"
    }
   ],
   "source": [
    "df.nlargest(100, \"imdb_score\").head()"
   ]
  },
  {
   "cell_type": "code",
   "execution_count": 65,
   "id": "871ceb1f",
   "metadata": {},
   "outputs": [
    {
     "data": {
      "text/html": [
       "<div>\n",
       "<style scoped>\n",
       "    .dataframe tbody tr th:only-of-type {\n",
       "        vertical-align: middle;\n",
       "    }\n",
       "\n",
       "    .dataframe tbody tr th {\n",
       "        vertical-align: top;\n",
       "    }\n",
       "\n",
       "    .dataframe thead th {\n",
       "        text-align: right;\n",
       "    }\n",
       "</style>\n",
       "<table border=\"1\" class=\"dataframe\">\n",
       "  <thead>\n",
       "    <tr style=\"text-align: right;\">\n",
       "      <th></th>\n",
       "      <th>gross</th>\n",
       "      <th>movie_title</th>\n",
       "      <th>budget</th>\n",
       "      <th>imdb_score</th>\n",
       "    </tr>\n",
       "  </thead>\n",
       "  <tbody>\n",
       "    <tr>\n",
       "      <th>4804</th>\n",
       "      <td>&lt;NA&gt;</td>\n",
       "      <td>Butterfly Girl</td>\n",
       "      <td>180000.0</td>\n",
       "      <td>8.7</td>\n",
       "    </tr>\n",
       "    <tr>\n",
       "      <th>4801</th>\n",
       "      <td>925402.0</td>\n",
       "      <td>Children of Heaven</td>\n",
       "      <td>180000.0</td>\n",
       "      <td>8.5</td>\n",
       "    </tr>\n",
       "    <tr>\n",
       "      <th>4706</th>\n",
       "      <td>&lt;NA&gt;</td>\n",
       "      <td>12 Angry Men</td>\n",
       "      <td>350000.0</td>\n",
       "      <td>8.9</td>\n",
       "    </tr>\n",
       "    <tr>\n",
       "      <th>4550</th>\n",
       "      <td>7098492.0</td>\n",
       "      <td>A Separation</td>\n",
       "      <td>500000.0</td>\n",
       "      <td>8.4</td>\n",
       "    </tr>\n",
       "    <tr>\n",
       "      <th>4636</th>\n",
       "      <td>133778.0</td>\n",
       "      <td>The Other Dream Team</td>\n",
       "      <td>500000.0</td>\n",
       "      <td>8.4</td>\n",
       "    </tr>\n",
       "  </tbody>\n",
       "</table>\n",
       "</div>"
      ],
      "text/plain": [
       "          gross           movie_title    budget  imdb_score\n",
       "4804       <NA>        Butterfly Girl  180000.0         8.7\n",
       "4801   925402.0    Children of Heaven  180000.0         8.5\n",
       "4706       <NA>          12 Angry Men  350000.0         8.9\n",
       "4550  7098492.0          A Separation  500000.0         8.4\n",
       "4636   133778.0  The Other Dream Team  500000.0         8.4"
      ]
     },
     "execution_count": 65,
     "metadata": {},
     "output_type": "execute_result"
    }
   ],
   "source": [
    "df.nlargest(100, \"imdb_score\").nsmallest(5, \"budget\")"
   ]
  },
  {
   "cell_type": "code",
   "execution_count": 66,
   "id": "b9c913a4",
   "metadata": {},
   "outputs": [
    {
     "data": {
      "text/html": [
       "<div>\n",
       "<style scoped>\n",
       "    .dataframe tbody tr th:only-of-type {\n",
       "        vertical-align: middle;\n",
       "    }\n",
       "\n",
       "    .dataframe tbody tr th {\n",
       "        vertical-align: top;\n",
       "    }\n",
       "\n",
       "    .dataframe thead th {\n",
       "        text-align: right;\n",
       "    }\n",
       "</style>\n",
       "<table border=\"1\" class=\"dataframe\">\n",
       "  <thead>\n",
       "    <tr style=\"text-align: right;\">\n",
       "      <th></th>\n",
       "      <th>gross</th>\n",
       "      <th>movie_title</th>\n",
       "      <th>budget</th>\n",
       "      <th>imdb_score</th>\n",
       "    </tr>\n",
       "  </thead>\n",
       "  <tbody>\n",
       "    <tr>\n",
       "      <th>2725</th>\n",
       "      <td>&lt;NA&gt;</td>\n",
       "      <td>Towering Inferno</td>\n",
       "      <td>&lt;NA&gt;</td>\n",
       "      <td>9.5</td>\n",
       "    </tr>\n",
       "    <tr>\n",
       "      <th>1920</th>\n",
       "      <td>28341469.0</td>\n",
       "      <td>The Shawshank Redemption</td>\n",
       "      <td>25000000.0</td>\n",
       "      <td>9.3</td>\n",
       "    </tr>\n",
       "    <tr>\n",
       "      <th>3402</th>\n",
       "      <td>134821952.0</td>\n",
       "      <td>The Godfather</td>\n",
       "      <td>6000000.0</td>\n",
       "      <td>9.2</td>\n",
       "    </tr>\n",
       "    <tr>\n",
       "      <th>2779</th>\n",
       "      <td>447093.0</td>\n",
       "      <td>Dekalog</td>\n",
       "      <td>&lt;NA&gt;</td>\n",
       "      <td>9.1</td>\n",
       "    </tr>\n",
       "    <tr>\n",
       "      <th>4312</th>\n",
       "      <td>&lt;NA&gt;</td>\n",
       "      <td>Kickboxer: Vengeance</td>\n",
       "      <td>17000000.0</td>\n",
       "      <td>9.1</td>\n",
       "    </tr>\n",
       "    <tr>\n",
       "      <th>66</th>\n",
       "      <td>533316061.0</td>\n",
       "      <td>The Dark Knight</td>\n",
       "      <td>185000000.0</td>\n",
       "      <td>9.0</td>\n",
       "    </tr>\n",
       "    <tr>\n",
       "      <th>2791</th>\n",
       "      <td>57300000.0</td>\n",
       "      <td>The Godfather: Part II</td>\n",
       "      <td>13000000.0</td>\n",
       "      <td>9.0</td>\n",
       "    </tr>\n",
       "    <tr>\n",
       "      <th>3415</th>\n",
       "      <td>&lt;NA&gt;</td>\n",
       "      <td>Fargo</td>\n",
       "      <td>&lt;NA&gt;</td>\n",
       "      <td>9.0</td>\n",
       "    </tr>\n",
       "    <tr>\n",
       "      <th>335</th>\n",
       "      <td>377019252.0</td>\n",
       "      <td>The Lord of the Rings: The Return of the King</td>\n",
       "      <td>94000000.0</td>\n",
       "      <td>8.9</td>\n",
       "    </tr>\n",
       "    <tr>\n",
       "      <th>1857</th>\n",
       "      <td>96067179.0</td>\n",
       "      <td>Schindler's List</td>\n",
       "      <td>22000000.0</td>\n",
       "      <td>8.9</td>\n",
       "    </tr>\n",
       "  </tbody>\n",
       "</table>\n",
       "</div>"
      ],
      "text/plain": [
       "            gross                                    movie_title       budget  \\\n",
       "2725         <NA>                               Towering Inferno         <NA>   \n",
       "1920   28341469.0                       The Shawshank Redemption   25000000.0   \n",
       "3402  134821952.0                                  The Godfather    6000000.0   \n",
       "2779     447093.0                                        Dekalog         <NA>   \n",
       "4312         <NA>                           Kickboxer: Vengeance   17000000.0   \n",
       "66    533316061.0                                The Dark Knight  185000000.0   \n",
       "2791   57300000.0                         The Godfather: Part II   13000000.0   \n",
       "3415         <NA>                                          Fargo         <NA>   \n",
       "335   377019252.0  The Lord of the Rings: The Return of the King   94000000.0   \n",
       "1857   96067179.0                               Schindler's List   22000000.0   \n",
       "\n",
       "      imdb_score  \n",
       "2725         9.5  \n",
       "1920         9.3  \n",
       "3402         9.2  \n",
       "2779         9.1  \n",
       "4312         9.1  \n",
       "66           9.0  \n",
       "2791         9.0  \n",
       "3415         9.0  \n",
       "335          8.9  \n",
       "1857         8.9  "
      ]
     },
     "execution_count": 66,
     "metadata": {},
     "output_type": "execute_result"
    }
   ],
   "source": [
    "df.nlargest(10, \"imdb_score\")"
   ]
  },
  {
   "cell_type": "code",
   "execution_count": 67,
   "id": "71c094cb",
   "metadata": {},
   "outputs": [
    {
     "data": {
      "text/html": [
       "<div>\n",
       "<style scoped>\n",
       "    .dataframe tbody tr th:only-of-type {\n",
       "        vertical-align: middle;\n",
       "    }\n",
       "\n",
       "    .dataframe tbody tr th {\n",
       "        vertical-align: top;\n",
       "    }\n",
       "\n",
       "    .dataframe thead th {\n",
       "        text-align: right;\n",
       "    }\n",
       "</style>\n",
       "<table border=\"1\" class=\"dataframe\">\n",
       "  <thead>\n",
       "    <tr style=\"text-align: right;\">\n",
       "      <th></th>\n",
       "      <th>gross</th>\n",
       "      <th>movie_title</th>\n",
       "      <th>budget</th>\n",
       "      <th>imdb_score</th>\n",
       "    </tr>\n",
       "  </thead>\n",
       "  <tbody>\n",
       "    <tr>\n",
       "      <th>66</th>\n",
       "      <td>533316061.0</td>\n",
       "      <td>The Dark Knight</td>\n",
       "      <td>185000000.0</td>\n",
       "      <td>9.0</td>\n",
       "    </tr>\n",
       "    <tr>\n",
       "      <th>335</th>\n",
       "      <td>377019252.0</td>\n",
       "      <td>The Lord of the Rings: The Return of the King</td>\n",
       "      <td>94000000.0</td>\n",
       "      <td>8.9</td>\n",
       "    </tr>\n",
       "    <tr>\n",
       "      <th>1857</th>\n",
       "      <td>96067179.0</td>\n",
       "      <td>Schindler's List</td>\n",
       "      <td>22000000.0</td>\n",
       "      <td>8.9</td>\n",
       "    </tr>\n",
       "    <tr>\n",
       "      <th>1920</th>\n",
       "      <td>28341469.0</td>\n",
       "      <td>The Shawshank Redemption</td>\n",
       "      <td>25000000.0</td>\n",
       "      <td>9.3</td>\n",
       "    </tr>\n",
       "    <tr>\n",
       "      <th>2725</th>\n",
       "      <td>&lt;NA&gt;</td>\n",
       "      <td>Towering Inferno</td>\n",
       "      <td>&lt;NA&gt;</td>\n",
       "      <td>9.5</td>\n",
       "    </tr>\n",
       "    <tr>\n",
       "      <th>2779</th>\n",
       "      <td>447093.0</td>\n",
       "      <td>Dekalog</td>\n",
       "      <td>&lt;NA&gt;</td>\n",
       "      <td>9.1</td>\n",
       "    </tr>\n",
       "    <tr>\n",
       "      <th>2791</th>\n",
       "      <td>57300000.0</td>\n",
       "      <td>The Godfather: Part II</td>\n",
       "      <td>13000000.0</td>\n",
       "      <td>9.0</td>\n",
       "    </tr>\n",
       "    <tr>\n",
       "      <th>3295</th>\n",
       "      <td>107930000.0</td>\n",
       "      <td>Pulp Fiction</td>\n",
       "      <td>8000000.0</td>\n",
       "      <td>8.9</td>\n",
       "    </tr>\n",
       "    <tr>\n",
       "      <th>3402</th>\n",
       "      <td>134821952.0</td>\n",
       "      <td>The Godfather</td>\n",
       "      <td>6000000.0</td>\n",
       "      <td>9.2</td>\n",
       "    </tr>\n",
       "    <tr>\n",
       "      <th>3415</th>\n",
       "      <td>&lt;NA&gt;</td>\n",
       "      <td>Fargo</td>\n",
       "      <td>&lt;NA&gt;</td>\n",
       "      <td>9.0</td>\n",
       "    </tr>\n",
       "    <tr>\n",
       "      <th>4312</th>\n",
       "      <td>&lt;NA&gt;</td>\n",
       "      <td>Kickboxer: Vengeance</td>\n",
       "      <td>17000000.0</td>\n",
       "      <td>9.1</td>\n",
       "    </tr>\n",
       "    <tr>\n",
       "      <th>4397</th>\n",
       "      <td>6100000.0</td>\n",
       "      <td>The Good, the Bad and the Ugly</td>\n",
       "      <td>1200000.0</td>\n",
       "      <td>8.9</td>\n",
       "    </tr>\n",
       "    <tr>\n",
       "      <th>4706</th>\n",
       "      <td>&lt;NA&gt;</td>\n",
       "      <td>12 Angry Men</td>\n",
       "      <td>350000.0</td>\n",
       "      <td>8.9</td>\n",
       "    </tr>\n",
       "  </tbody>\n",
       "</table>\n",
       "</div>"
      ],
      "text/plain": [
       "            gross                                    movie_title       budget  \\\n",
       "66    533316061.0                                The Dark Knight  185000000.0   \n",
       "335   377019252.0  The Lord of the Rings: The Return of the King   94000000.0   \n",
       "1857   96067179.0                               Schindler's List   22000000.0   \n",
       "1920   28341469.0                       The Shawshank Redemption   25000000.0   \n",
       "2725         <NA>                               Towering Inferno         <NA>   \n",
       "2779     447093.0                                        Dekalog         <NA>   \n",
       "2791   57300000.0                         The Godfather: Part II   13000000.0   \n",
       "3295  107930000.0                                   Pulp Fiction    8000000.0   \n",
       "3402  134821952.0                                  The Godfather    6000000.0   \n",
       "3415         <NA>                                          Fargo         <NA>   \n",
       "4312         <NA>                           Kickboxer: Vengeance   17000000.0   \n",
       "4397    6100000.0                 The Good, the Bad and the Ugly    1200000.0   \n",
       "4706         <NA>                                   12 Angry Men     350000.0   \n",
       "\n",
       "      imdb_score  \n",
       "66           9.0  \n",
       "335          8.9  \n",
       "1857         8.9  \n",
       "1920         9.3  \n",
       "2725         9.5  \n",
       "2779         9.1  \n",
       "2791         9.0  \n",
       "3295         8.9  \n",
       "3402         9.2  \n",
       "3415         9.0  \n",
       "4312         9.1  \n",
       "4397         8.9  \n",
       "4706         8.9  "
      ]
     },
     "execution_count": 67,
     "metadata": {},
     "output_type": "execute_result"
    }
   ],
   "source": [
    "df[df[\"imdb_score\"] >= 8.9]"
   ]
  },
  {
   "cell_type": "code",
   "execution_count": 68,
   "id": "f6ca9798",
   "metadata": {},
   "outputs": [
    {
     "data": {
      "text/html": [
       "<div>\n",
       "<style scoped>\n",
       "    .dataframe tbody tr th:only-of-type {\n",
       "        vertical-align: middle;\n",
       "    }\n",
       "\n",
       "    .dataframe tbody tr th {\n",
       "        vertical-align: top;\n",
       "    }\n",
       "\n",
       "    .dataframe thead th {\n",
       "        text-align: right;\n",
       "    }\n",
       "</style>\n",
       "<table border=\"1\" class=\"dataframe\">\n",
       "  <thead>\n",
       "    <tr style=\"text-align: right;\">\n",
       "      <th></th>\n",
       "      <th>gross</th>\n",
       "      <th>movie_title</th>\n",
       "      <th>budget</th>\n",
       "      <th>imdb_score</th>\n",
       "    </tr>\n",
       "  </thead>\n",
       "  <tbody>\n",
       "    <tr>\n",
       "      <th>2725</th>\n",
       "      <td>&lt;NA&gt;</td>\n",
       "      <td>Towering Inferno</td>\n",
       "      <td>&lt;NA&gt;</td>\n",
       "      <td>9.5</td>\n",
       "    </tr>\n",
       "    <tr>\n",
       "      <th>1920</th>\n",
       "      <td>28341469.0</td>\n",
       "      <td>The Shawshank Redemption</td>\n",
       "      <td>25000000.0</td>\n",
       "      <td>9.3</td>\n",
       "    </tr>\n",
       "    <tr>\n",
       "      <th>3402</th>\n",
       "      <td>134821952.0</td>\n",
       "      <td>The Godfather</td>\n",
       "      <td>6000000.0</td>\n",
       "      <td>9.2</td>\n",
       "    </tr>\n",
       "    <tr>\n",
       "      <th>2779</th>\n",
       "      <td>447093.0</td>\n",
       "      <td>Dekalog</td>\n",
       "      <td>&lt;NA&gt;</td>\n",
       "      <td>9.1</td>\n",
       "    </tr>\n",
       "    <tr>\n",
       "      <th>4312</th>\n",
       "      <td>&lt;NA&gt;</td>\n",
       "      <td>Kickboxer: Vengeance</td>\n",
       "      <td>17000000.0</td>\n",
       "      <td>9.1</td>\n",
       "    </tr>\n",
       "    <tr>\n",
       "      <th>66</th>\n",
       "      <td>533316061.0</td>\n",
       "      <td>The Dark Knight</td>\n",
       "      <td>185000000.0</td>\n",
       "      <td>9.0</td>\n",
       "    </tr>\n",
       "    <tr>\n",
       "      <th>2791</th>\n",
       "      <td>57300000.0</td>\n",
       "      <td>The Godfather: Part II</td>\n",
       "      <td>13000000.0</td>\n",
       "      <td>9.0</td>\n",
       "    </tr>\n",
       "    <tr>\n",
       "      <th>3415</th>\n",
       "      <td>&lt;NA&gt;</td>\n",
       "      <td>Fargo</td>\n",
       "      <td>&lt;NA&gt;</td>\n",
       "      <td>9.0</td>\n",
       "    </tr>\n",
       "    <tr>\n",
       "      <th>335</th>\n",
       "      <td>377019252.0</td>\n",
       "      <td>The Lord of the Rings: The Return of the King</td>\n",
       "      <td>94000000.0</td>\n",
       "      <td>8.9</td>\n",
       "    </tr>\n",
       "    <tr>\n",
       "      <th>3295</th>\n",
       "      <td>107930000.0</td>\n",
       "      <td>Pulp Fiction</td>\n",
       "      <td>8000000.0</td>\n",
       "      <td>8.9</td>\n",
       "    </tr>\n",
       "  </tbody>\n",
       "</table>\n",
       "</div>"
      ],
      "text/plain": [
       "            gross                                    movie_title       budget  \\\n",
       "2725         <NA>                               Towering Inferno         <NA>   \n",
       "1920   28341469.0                       The Shawshank Redemption   25000000.0   \n",
       "3402  134821952.0                                  The Godfather    6000000.0   \n",
       "2779     447093.0                                        Dekalog         <NA>   \n",
       "4312         <NA>                           Kickboxer: Vengeance   17000000.0   \n",
       "66    533316061.0                                The Dark Knight  185000000.0   \n",
       "2791   57300000.0                         The Godfather: Part II   13000000.0   \n",
       "3415         <NA>                                          Fargo         <NA>   \n",
       "335   377019252.0  The Lord of the Rings: The Return of the King   94000000.0   \n",
       "3295  107930000.0                                   Pulp Fiction    8000000.0   \n",
       "\n",
       "      imdb_score  \n",
       "2725         9.5  \n",
       "1920         9.3  \n",
       "3402         9.2  \n",
       "2779         9.1  \n",
       "4312         9.1  \n",
       "66           9.0  \n",
       "2791         9.0  \n",
       "3415         9.0  \n",
       "335          8.9  \n",
       "3295         8.9  "
      ]
     },
     "execution_count": 68,
     "metadata": {},
     "output_type": "execute_result"
    }
   ],
   "source": [
    "df.nlargest(10, [\"imdb_score\", \"gross\"])"
   ]
  }
 ],
 "metadata": {
  "kernelspec": {
   "display_name": "data_analysis",
   "language": "python",
   "name": "python3"
  },
  "language_info": {
   "codemirror_mode": {
    "name": "ipython",
    "version": 3
   },
   "file_extension": ".py",
   "mimetype": "text/x-python",
   "name": "python",
   "nbconvert_exporter": "python",
   "pygments_lexer": "ipython3",
   "version": "3.13.5"
  }
 },
 "nbformat": 4,
 "nbformat_minor": 5
}
