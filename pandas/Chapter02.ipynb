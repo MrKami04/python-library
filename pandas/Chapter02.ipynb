{
 "cells": [
  {
   "cell_type": "markdown",
   "id": "c03d2431",
   "metadata": {},
   "source": [
    "## Selection and assignment"
   ]
  },
  {
   "cell_type": "code",
   "execution_count": 1,
   "id": "a0e49c3b",
   "metadata": {},
   "outputs": [],
   "source": [
    "import pandas as pd\n",
    "import numpy as np\n",
    "import pyarrow as pa"
   ]
  },
  {
   "cell_type": "markdown",
   "id": "2df65972",
   "metadata": {},
   "source": [
    "## basic selection of Series.pd"
   ]
  },
  {
   "cell_type": "code",
   "execution_count": 2,
   "id": "c911e09c",
   "metadata": {},
   "outputs": [
    {
     "data": {
      "text/plain": [
       "0    a\n",
       "1    b\n",
       "2    c\n",
       "3    a\n",
       "4    b\n",
       "5    c\n",
       "6    a\n",
       "7    b\n",
       "8    c\n",
       "dtype: object"
      ]
     },
     "execution_count": 2,
     "metadata": {},
     "output_type": "execute_result"
    }
   ],
   "source": [
    "# basic selections\n",
    "ser = pd.Series(list(\"abc\") * 3)\n",
    "ser"
   ]
  },
  {
   "cell_type": "code",
   "execution_count": 10,
   "id": "47ae276f",
   "metadata": {},
   "outputs": [
    {
     "name": "stdout",
     "output_type": "stream",
     "text": [
      "a\n",
      "3    a\n",
      "dtype: object\n",
      "0    a\n",
      "2    c\n",
      "dtype: object\n",
      "0    a\n",
      "1    b\n",
      "2    c\n",
      "dtype: object\n",
      "5    c\n",
      "6    a\n",
      "7    b\n",
      "8    c\n",
      "dtype: object\n",
      "2    c\n",
      "3    a\n",
      "4    b\n",
      "5    c\n",
      "dtype: object\n",
      "1    b\n",
      "4    b\n",
      "7    b\n",
      "dtype: object\n"
     ]
    }
   ],
   "source": [
    "print(ser[3])\n",
    "print(ser[[3]])\n",
    "print(ser[[0,2]])\n",
    "print(ser[:3])\n",
    "print(ser[-4:])\n",
    "print(ser[2:6])\n",
    "print(ser[1:8:3])"
   ]
  },
  {
   "cell_type": "code",
   "execution_count": 11,
   "id": "af2fe156",
   "metadata": {},
   "outputs": [
    {
     "data": {
      "text/plain": [
       "Jack     0\n",
       "Jill     1\n",
       "Jayne    2\n",
       "dtype: int64"
      ]
     },
     "execution_count": 11,
     "metadata": {},
     "output_type": "execute_result"
    }
   ],
   "source": [
    "ser = pd.Series(range(3), index=[\"Jack\", \"Jill\", \"Jayne\"])\n",
    "ser"
   ]
  },
  {
   "cell_type": "code",
   "execution_count": 13,
   "id": "64318c07",
   "metadata": {},
   "outputs": [
    {
     "name": "stdout",
     "output_type": "stream",
     "text": [
      "0\n",
      "Jill    1\n",
      "dtype: int64\n"
     ]
    }
   ],
   "source": [
    "print(ser['Jack'])\n",
    "print(ser[['Jill']])"
   ]
  },
  {
   "cell_type": "code",
   "execution_count": 15,
   "id": "d6557e26",
   "metadata": {},
   "outputs": [
    {
     "name": "stdout",
     "output_type": "stream",
     "text": [
      "2     a\n",
      "42    b\n",
      "21    c\n",
      "dtype: object\n",
      "a\n"
     ]
    }
   ],
   "source": [
    "ser = pd.Series(list(\"abc\"), index=[2, 42, 21])\n",
    "print(ser)\n",
    "print(ser[2])"
   ]
  },
  {
   "cell_type": "code",
   "execution_count": 16,
   "id": "f914364a",
   "metadata": {},
   "outputs": [
    {
     "data": {
      "text/plain": [
       "0     apple\n",
       "1    banana\n",
       "1    orange\n",
       "dtype: object"
      ]
     },
     "execution_count": 16,
     "metadata": {},
     "output_type": "execute_result"
    }
   ],
   "source": [
    "ser = pd.Series([\"apple\", \"banana\", \"orange\"], index=[0, 1, 1])\n",
    "ser"
   ]
  },
  {
   "cell_type": "code",
   "execution_count": 17,
   "id": "82ce7fb1",
   "metadata": {},
   "outputs": [
    {
     "data": {
      "text/plain": [
       "1    banana\n",
       "1    orange\n",
       "dtype: object"
      ]
     },
     "execution_count": 17,
     "metadata": {},
     "output_type": "execute_result"
    }
   ],
   "source": [
    "ser[1]"
   ]
  },
  {
   "cell_type": "markdown",
   "id": "adac6633",
   "metadata": {},
   "source": [
    "## Selection of pd.DataFrame"
   ]
  },
  {
   "cell_type": "code",
   "execution_count": 18,
   "id": "a8164cd9",
   "metadata": {},
   "outputs": [
    {
     "data": {
      "text/html": [
       "<div>\n",
       "<style scoped>\n",
       "    .dataframe tbody tr th:only-of-type {\n",
       "        vertical-align: middle;\n",
       "    }\n",
       "\n",
       "    .dataframe tbody tr th {\n",
       "        vertical-align: top;\n",
       "    }\n",
       "\n",
       "    .dataframe thead th {\n",
       "        text-align: right;\n",
       "    }\n",
       "</style>\n",
       "<table border=\"1\" class=\"dataframe\">\n",
       "  <thead>\n",
       "    <tr style=\"text-align: right;\">\n",
       "      <th></th>\n",
       "      <th>a</th>\n",
       "      <th>b</th>\n",
       "      <th>c</th>\n",
       "    </tr>\n",
       "  </thead>\n",
       "  <tbody>\n",
       "    <tr>\n",
       "      <th>0</th>\n",
       "      <td>0</td>\n",
       "      <td>1</td>\n",
       "      <td>2</td>\n",
       "    </tr>\n",
       "    <tr>\n",
       "      <th>1</th>\n",
       "      <td>3</td>\n",
       "      <td>4</td>\n",
       "      <td>5</td>\n",
       "    </tr>\n",
       "    <tr>\n",
       "      <th>2</th>\n",
       "      <td>6</td>\n",
       "      <td>7</td>\n",
       "      <td>8</td>\n",
       "    </tr>\n",
       "  </tbody>\n",
       "</table>\n",
       "</div>"
      ],
      "text/plain": [
       "   a  b  c\n",
       "0  0  1  2\n",
       "1  3  4  5\n",
       "2  6  7  8"
      ]
     },
     "execution_count": 18,
     "metadata": {},
     "output_type": "execute_result"
    }
   ],
   "source": [
    "df = pd.DataFrame(np.arange(9).reshape(3, -1), columns=[\"a\", \"b\", \"c\"])\n",
    "df"
   ]
  },
  {
   "cell_type": "code",
   "execution_count": 22,
   "id": "2b27b7e4",
   "metadata": {},
   "outputs": [
    {
     "name": "stdout",
     "output_type": "stream",
     "text": [
      "0    0\n",
      "1    3\n",
      "2    6\n",
      "Name: a, dtype: int64\n",
      "   a\n",
      "0  0\n",
      "1  3\n",
      "2  6\n",
      "-----------\n",
      "   a  b\n",
      "0  0  1\n",
      "1  3  4\n",
      "2  6  7\n",
      "-----------\n",
      "   a  b  c\n",
      "0  0  1  2\n",
      "1  3  4  5\n",
      "-----------\n",
      "   b  a\n",
      "0  1  0\n",
      "1  4  3\n",
      "2  7  6\n"
     ]
    }
   ],
   "source": [
    "print(df[\"a\"])\n",
    "print(df[[\"a\"]])\n",
    "print(\"-----------\")\n",
    "print(df[[\"a\", \"b\"]])\n",
    "print(\"-----------\")\n",
    "print(df[0:2])\n",
    "print(\"-----------\")\n",
    "print(df[[\"b\", \"a\"]])"
   ]
  },
  {
   "cell_type": "markdown",
   "id": "40ab8164",
   "metadata": {},
   "source": [
    "## position based selection of Series.pd"
   ]
  },
  {
   "cell_type": "code",
   "execution_count": 23,
   "id": "66143058",
   "metadata": {},
   "outputs": [
    {
     "data": {
      "text/plain": [
       "0     apple\n",
       "1    banana\n",
       "1    orange\n",
       "dtype: object"
      ]
     },
     "execution_count": 23,
     "metadata": {},
     "output_type": "execute_result"
    }
   ],
   "source": [
    "ser = pd.Series([\"apple\", \"banana\", \"orange\"], index=[0, 1, 1])\n",
    "ser"
   ]
  },
  {
   "cell_type": "code",
   "execution_count": 29,
   "id": "d47cd2f8",
   "metadata": {},
   "outputs": [
    {
     "name": "stdout",
     "output_type": "stream",
     "text": [
      "banana\n",
      "1    banana\n",
      "dtype: object\n",
      "-----------\n",
      "0     apple\n",
      "1    banana\n",
      "dtype: object\n",
      "0     apple\n",
      "1    orange\n",
      "dtype: object\n",
      "-----------\n",
      "0     apple\n",
      "1    banana\n",
      "dtype: object\n"
     ]
    }
   ],
   "source": [
    "print(ser.iloc[1])\n",
    "print(ser.iloc[[1]])\n",
    "print(\"-----------\")\n",
    "print(ser.iloc[0:2]) \n",
    "print(ser.iloc[[0,2]])\n",
    "print(\"-----------\")\n",
    "print(ser.iloc[:2])"
   ]
  },
  {
   "cell_type": "markdown",
   "id": "f47e4b59",
   "metadata": {},
   "source": [
    "## Position based selection of pd.DataFrame"
   ]
  },
  {
   "cell_type": "code",
   "execution_count": 33,
   "id": "545ca9a4",
   "metadata": {},
   "outputs": [
    {
     "data": {
      "text/html": [
       "<div>\n",
       "<style scoped>\n",
       "    .dataframe tbody tr th:only-of-type {\n",
       "        vertical-align: middle;\n",
       "    }\n",
       "\n",
       "    .dataframe tbody tr th {\n",
       "        vertical-align: top;\n",
       "    }\n",
       "\n",
       "    .dataframe thead th {\n",
       "        text-align: right;\n",
       "    }\n",
       "</style>\n",
       "<table border=\"1\" class=\"dataframe\">\n",
       "  <thead>\n",
       "    <tr style=\"text-align: right;\">\n",
       "      <th></th>\n",
       "      <th>a</th>\n",
       "      <th>b</th>\n",
       "      <th>c</th>\n",
       "      <th>d</th>\n",
       "    </tr>\n",
       "  </thead>\n",
       "  <tbody>\n",
       "    <tr>\n",
       "      <th>0</th>\n",
       "      <td>0</td>\n",
       "      <td>1</td>\n",
       "      <td>2</td>\n",
       "      <td>3</td>\n",
       "    </tr>\n",
       "    <tr>\n",
       "      <th>1</th>\n",
       "      <td>4</td>\n",
       "      <td>5</td>\n",
       "      <td>6</td>\n",
       "      <td>7</td>\n",
       "    </tr>\n",
       "    <tr>\n",
       "      <th>2</th>\n",
       "      <td>8</td>\n",
       "      <td>9</td>\n",
       "      <td>10</td>\n",
       "      <td>11</td>\n",
       "    </tr>\n",
       "    <tr>\n",
       "      <th>3</th>\n",
       "      <td>12</td>\n",
       "      <td>13</td>\n",
       "      <td>14</td>\n",
       "      <td>15</td>\n",
       "    </tr>\n",
       "    <tr>\n",
       "      <th>4</th>\n",
       "      <td>16</td>\n",
       "      <td>17</td>\n",
       "      <td>18</td>\n",
       "      <td>19</td>\n",
       "    </tr>\n",
       "  </tbody>\n",
       "</table>\n",
       "</div>"
      ],
      "text/plain": [
       "    a   b   c   d\n",
       "0   0   1   2   3\n",
       "1   4   5   6   7\n",
       "2   8   9  10  11\n",
       "3  12  13  14  15\n",
       "4  16  17  18  19"
      ]
     },
     "execution_count": 33,
     "metadata": {},
     "output_type": "execute_result"
    }
   ],
   "source": [
    "df = pd.DataFrame(np.arange(20).reshape(5,-1), columns=list(\"abcd\"))\n",
    "df"
   ]
  },
  {
   "cell_type": "code",
   "execution_count": 41,
   "id": "deb3b7ab",
   "metadata": {},
   "outputs": [
    {
     "name": "stdout",
     "output_type": "stream",
     "text": [
      "a    4\n",
      "b    5\n",
      "c    6\n",
      "d    7\n",
      "Name: 1, dtype: int64\n",
      "10\n",
      "-----------\n",
      "0     0\n",
      "1     4\n",
      "2     8\n",
      "3    12\n",
      "4    16\n",
      "Name: a, dtype: int64\n",
      "-----------\n",
      "a    0\n",
      "b    1\n",
      "c    2\n",
      "d    3\n",
      "Name: 0, dtype: int64\n",
      "-----------\n",
      "    a\n",
      "0   0\n",
      "1   4\n",
      "2   8\n",
      "3  12\n",
      "4  16\n",
      "-----------\n",
      "   a  b  c  d\n",
      "0  0  1  2  3\n",
      "-----------\n",
      "   d  c\n",
      "0  3  2\n",
      "1  7  6\n"
     ]
    }
   ],
   "source": [
    "print(df.iloc[1])\n",
    "print(df.iloc[2,2])\n",
    "print(\"-----------\")\n",
    "print(df.iloc[:,0])\n",
    "print(\"-----------\")\n",
    "print(df.iloc[0,:])\n",
    "print(\"-----------\")\n",
    "print(df.iloc[:,[0]])\n",
    "print(\"-----------\")\n",
    "print(df.iloc[[0], :])\n",
    "print(\"-----------\")\n",
    "print(df.iloc[[0, 1], [-1, -2]])"
   ]
  },
  {
   "cell_type": "markdown",
   "id": "90a7ce1c",
   "metadata": {},
   "source": [
    "## label-base selection Series.pd"
   ]
  },
  {
   "cell_type": "code",
   "execution_count": 42,
   "id": "c80f9bc7",
   "metadata": {},
   "outputs": [
    {
     "data": {
      "text/plain": [
       "0     apple\n",
       "1    banana\n",
       "1    orange\n",
       "dtype: object"
      ]
     },
     "execution_count": 42,
     "metadata": {},
     "output_type": "execute_result"
    }
   ],
   "source": [
    "ser = pd.Series([\"apple\", \"banana\", \"orange\"], index=[0, 1, 1])\n",
    "ser"
   ]
  },
  {
   "cell_type": "code",
   "execution_count": 43,
   "id": "263cc5f0",
   "metadata": {},
   "outputs": [
    {
     "name": "stdout",
     "output_type": "stream",
     "text": [
      "1    banana\n",
      "1    orange\n",
      "dtype: object\n"
     ]
    }
   ],
   "source": [
    "print(ser.loc[1])"
   ]
  },
  {
   "cell_type": "code",
   "execution_count": 44,
   "id": "91cf06b3",
   "metadata": {},
   "outputs": [
    {
     "data": {
      "text/plain": [
       "dog      2\n",
       "cat      2\n",
       "human    4\n",
       "Name: num_legs, dtype: int64"
      ]
     },
     "execution_count": 44,
     "metadata": {},
     "output_type": "execute_result"
    }
   ],
   "source": [
    "ser = pd.Series([2, 2, 4], index=[\"dog\", \"cat\", \"human\"], name=\"num_legs\")\n",
    "ser"
   ]
  },
  {
   "cell_type": "code",
   "execution_count": 45,
   "id": "e28cdbd7",
   "metadata": {},
   "outputs": [
    {
     "name": "stdout",
     "output_type": "stream",
     "text": [
      "2\n",
      "cat      2\n",
      "human    4\n",
      "Name: num_legs, dtype: int64\n"
     ]
    }
   ],
   "source": [
    "print(ser.loc['dog'])\n",
    "print(ser.loc[['cat','human']])"
   ]
  },
  {
   "cell_type": "code",
   "execution_count": 46,
   "id": "6a8825d2",
   "metadata": {},
   "outputs": [
    {
     "data": {
      "text/plain": [
       "0     Jack\n",
       "1     Jill\n",
       "2    Jayne\n",
       "dtype: object"
      ]
     },
     "execution_count": 46,
     "metadata": {},
     "output_type": "execute_result"
    }
   ],
   "source": [
    "values = [\"Jack\", \"Jill\", \"Jayne\"]\n",
    "ser = pd.Series(values)\n",
    "ser"
   ]
  },
  {
   "cell_type": "code",
   "execution_count": 48,
   "id": "a36b99c7",
   "metadata": {},
   "outputs": [
    {
     "name": "stdout",
     "output_type": "stream",
     "text": [
      "['Jack', 'Jill']\n",
      "0    Jack\n",
      "1    Jill\n",
      "dtype: object\n"
     ]
    }
   ],
   "source": [
    "print(values[:2])\n",
    "print(ser.iloc[:2])\n"
   ]
  },
  {
   "cell_type": "code",
   "execution_count": 49,
   "id": "2d2fde35",
   "metadata": {},
   "outputs": [
    {
     "data": {
      "text/plain": [
       "0    0\n",
       "1    1\n",
       "2    2\n",
       "2    3\n",
       "dtype: int64"
      ]
     },
     "execution_count": 49,
     "metadata": {},
     "output_type": "execute_result"
    }
   ],
   "source": [
    "repeats_2 = pd.Series(range(5), index=[0, 1, 2, 2, 0])\n",
    "repeats_2.loc[:2]"
   ]
  },
  {
   "cell_type": "code",
   "execution_count": 50,
   "id": "bd32c73f",
   "metadata": {},
   "outputs": [
    {
     "data": {
      "text/plain": [
       "zzz    0\n",
       "xxx    1\n",
       "xxx    2\n",
       "dtype: int64"
      ]
     },
     "execution_count": 50,
     "metadata": {},
     "output_type": "execute_result"
    }
   ],
   "source": [
    "ser = pd.Series(range(4), index=[\"zzz\", \"xxx\", \"xxx\", \"yyy\"])\n",
    "ser.loc[:\"xxx\"]"
   ]
  },
  {
   "cell_type": "markdown",
   "id": "ecd514a8",
   "metadata": {},
   "source": [
    "## Label base selection of DataFrame.pd"
   ]
  },
  {
   "cell_type": "code",
   "execution_count": 54,
   "id": "48a4d1f1",
   "metadata": {},
   "outputs": [
    {
     "data": {
      "text/html": [
       "<div>\n",
       "<style scoped>\n",
       "    .dataframe tbody tr th:only-of-type {\n",
       "        vertical-align: middle;\n",
       "    }\n",
       "\n",
       "    .dataframe tbody tr th {\n",
       "        vertical-align: top;\n",
       "    }\n",
       "\n",
       "    .dataframe thead th {\n",
       "        text-align: right;\n",
       "    }\n",
       "</style>\n",
       "<table border=\"1\" class=\"dataframe\">\n",
       "  <thead>\n",
       "    <tr style=\"text-align: right;\">\n",
       "      <th></th>\n",
       "      <th>age</th>\n",
       "      <th>height_cm</th>\n",
       "      <th>eye_color</th>\n",
       "    </tr>\n",
       "  </thead>\n",
       "  <tbody>\n",
       "    <tr>\n",
       "      <th>Jack</th>\n",
       "      <td>24</td>\n",
       "      <td>180</td>\n",
       "      <td>blue</td>\n",
       "    </tr>\n",
       "    <tr>\n",
       "      <th>Jill</th>\n",
       "      <td>42</td>\n",
       "      <td>166</td>\n",
       "      <td>brown</td>\n",
       "    </tr>\n",
       "    <tr>\n",
       "      <th>Jayne</th>\n",
       "      <td>22</td>\n",
       "      <td>160</td>\n",
       "      <td>green</td>\n",
       "    </tr>\n",
       "  </tbody>\n",
       "</table>\n",
       "</div>"
      ],
      "text/plain": [
       "       age  height_cm eye_color\n",
       "Jack    24        180      blue\n",
       "Jill    42        166     brown\n",
       "Jayne   22        160     green"
      ]
     },
     "execution_count": 54,
     "metadata": {},
     "output_type": "execute_result"
    }
   ],
   "source": [
    "df = pd.DataFrame([\n",
    "    [24, 180, \"blue\"],\n",
    "    [42, 166, \"brown\"],\n",
    "    [22, 160, \"green\"],\n",
    "], columns=[\"age\", \"height_cm\", \"eye_color\"], index=[\"Jack\", \"Jill\", \"Jayne\"])\n",
    "df"
   ]
  },
  {
   "cell_type": "code",
   "execution_count": 56,
   "id": "65446a5b",
   "metadata": {},
   "outputs": [
    {
     "name": "stdout",
     "output_type": "stream",
     "text": [
      "green\n",
      "Jack     24\n",
      "Jill     42\n",
      "Jayne    22\n",
      "Name: age, dtype: int64\n",
      "age            24\n",
      "height_cm     180\n",
      "eye_color    blue\n",
      "Name: Jack, dtype: object\n",
      "       age\n",
      "Jack    24\n",
      "Jill    42\n",
      "Jayne   22\n",
      "      age eye_color\n",
      "Jack   24      blue\n",
      "Jill   42     brown\n"
     ]
    }
   ],
   "source": [
    "print(df.loc[\"Jayne\", \"eye_color\"])\n",
    "print(df.loc[:, \"age\"])\n",
    "print(df.loc[\"Jack\", :])\n",
    "print(df.loc[:, [\"age\"]])\n",
    "print(df.loc[[\"Jack\", \"Jill\"], [\"age\", \"eye_color\"]])"
   ]
  },
  {
   "cell_type": "markdown",
   "id": "bf9b71a8",
   "metadata": {},
   "source": [
    "## Mixing position-based and label-based selection of DataFrame"
   ]
  },
  {
   "cell_type": "code",
   "execution_count": 57,
   "id": "d8e9b239",
   "metadata": {},
   "outputs": [
    {
     "data": {
      "text/html": [
       "<div>\n",
       "<style scoped>\n",
       "    .dataframe tbody tr th:only-of-type {\n",
       "        vertical-align: middle;\n",
       "    }\n",
       "\n",
       "    .dataframe tbody tr th {\n",
       "        vertical-align: top;\n",
       "    }\n",
       "\n",
       "    .dataframe thead th {\n",
       "        text-align: right;\n",
       "    }\n",
       "</style>\n",
       "<table border=\"1\" class=\"dataframe\">\n",
       "  <thead>\n",
       "    <tr style=\"text-align: right;\">\n",
       "      <th></th>\n",
       "      <th>age</th>\n",
       "      <th>height_cm</th>\n",
       "      <th>eye_color</th>\n",
       "    </tr>\n",
       "  </thead>\n",
       "  <tbody>\n",
       "    <tr>\n",
       "      <th>0</th>\n",
       "      <td>24</td>\n",
       "      <td>180</td>\n",
       "      <td>blue</td>\n",
       "    </tr>\n",
       "    <tr>\n",
       "      <th>1</th>\n",
       "      <td>42</td>\n",
       "      <td>166</td>\n",
       "      <td>brown</td>\n",
       "    </tr>\n",
       "    <tr>\n",
       "      <th>2</th>\n",
       "      <td>22</td>\n",
       "      <td>160</td>\n",
       "      <td>green</td>\n",
       "    </tr>\n",
       "  </tbody>\n",
       "</table>\n",
       "</div>"
      ],
      "text/plain": [
       "   age  height_cm eye_color\n",
       "0   24        180      blue\n",
       "1   42        166     brown\n",
       "2   22        160     green"
      ]
     },
     "execution_count": 57,
     "metadata": {},
     "output_type": "execute_result"
    }
   ],
   "source": [
    "df = pd.DataFrame([\n",
    "    [24, 180, \"blue\"],\n",
    "    [42, 166, \"brown\"],\n",
    "    [22, 160, \"green\"],\n",
    "], columns=[\"age\", \"height_cm\", \"eye_color\"])\n",
    "\n",
    "df"
   ]
  },
  {
   "cell_type": "code",
   "execution_count": 59,
   "id": "b3a09c6e",
   "metadata": {},
   "outputs": [
    {
     "data": {
      "text/plain": [
       "array([0, 2])"
      ]
     },
     "execution_count": 59,
     "metadata": {},
     "output_type": "execute_result"
    }
   ],
   "source": [
    "col_idxer = df.columns.get_indexer([\"age\", \"eye_color\"])\n",
    "col_idxer"
   ]
  },
  {
   "cell_type": "code",
   "execution_count": 61,
   "id": "412e1b61",
   "metadata": {},
   "outputs": [
    {
     "name": "stdout",
     "output_type": "stream",
     "text": [
      "   age eye_color\n",
      "0   24      blue\n",
      "1   42     brown\n",
      "--------------\n"
     ]
    },
    {
     "data": {
      "text/html": [
       "<div>\n",
       "<style scoped>\n",
       "    .dataframe tbody tr th:only-of-type {\n",
       "        vertical-align: middle;\n",
       "    }\n",
       "\n",
       "    .dataframe tbody tr th {\n",
       "        vertical-align: top;\n",
       "    }\n",
       "\n",
       "    .dataframe thead th {\n",
       "        text-align: right;\n",
       "    }\n",
       "</style>\n",
       "<table border=\"1\" class=\"dataframe\">\n",
       "  <thead>\n",
       "    <tr style=\"text-align: right;\">\n",
       "      <th></th>\n",
       "      <th>age</th>\n",
       "      <th>eye_color</th>\n",
       "    </tr>\n",
       "  </thead>\n",
       "  <tbody>\n",
       "    <tr>\n",
       "      <th>0</th>\n",
       "      <td>24</td>\n",
       "      <td>blue</td>\n",
       "    </tr>\n",
       "    <tr>\n",
       "      <th>1</th>\n",
       "      <td>42</td>\n",
       "      <td>brown</td>\n",
       "    </tr>\n",
       "  </tbody>\n",
       "</table>\n",
       "</div>"
      ],
      "text/plain": [
       "   age eye_color\n",
       "0   24      blue\n",
       "1   42     brown"
      ]
     },
     "execution_count": 61,
     "metadata": {},
     "output_type": "execute_result"
    }
   ],
   "source": [
    "print(df.iloc[[0, 1], col_idxer])\n",
    "print(\"--------------\")\n",
    "df[[\"age\", \"eye_color\"]].iloc[[0, 1]]"
   ]
  },
  {
   "cell_type": "code",
   "execution_count": 65,
   "id": "ea7a9f62",
   "metadata": {},
   "outputs": [
    {
     "data": {
      "text/plain": [
       "6.730973799989442"
      ]
     },
     "execution_count": 65,
     "metadata": {},
     "output_type": "execute_result"
    }
   ],
   "source": [
    "import timeit\n",
    "\n",
    "def get_indexer_approach():\n",
    "    col_idxer = df.columns.get_indexer([\"age\", \"eye_color\"])\n",
    "    df.iloc[[0, 1], col_idxer]\n",
    "\n",
    "timeit.timeit(get_indexer_approach, number=10_000)"
   ]
  },
  {
   "cell_type": "code",
   "execution_count": 67,
   "id": "b47f72fc",
   "metadata": {},
   "outputs": [
    {
     "data": {
      "text/plain": [
       "7.41815339999448"
      ]
     },
     "execution_count": 67,
     "metadata": {},
     "output_type": "execute_result"
    }
   ],
   "source": [
    "two_step_approach = lambda: df[[\"age\", \"eye_color\"]].iloc[[0, 1]]\n",
    "timeit.timeit(two_step_approach, number=10_000)"
   ]
  },
  {
   "cell_type": "markdown",
   "id": "30d67557",
   "metadata": {},
   "source": [
    "## pd.DataFrame.filter"
   ]
  },
  {
   "cell_type": "code",
   "execution_count": 68,
   "id": "7fd2de05",
   "metadata": {},
   "outputs": [
    {
     "data": {
      "text/html": [
       "<div>\n",
       "<style scoped>\n",
       "    .dataframe tbody tr th:only-of-type {\n",
       "        vertical-align: middle;\n",
       "    }\n",
       "\n",
       "    .dataframe tbody tr th {\n",
       "        vertical-align: top;\n",
       "    }\n",
       "\n",
       "    .dataframe thead th {\n",
       "        text-align: right;\n",
       "    }\n",
       "</style>\n",
       "<table border=\"1\" class=\"dataframe\">\n",
       "  <thead>\n",
       "    <tr style=\"text-align: right;\">\n",
       "      <th></th>\n",
       "      <th>age</th>\n",
       "      <th>height_cm</th>\n",
       "      <th>eye_color</th>\n",
       "    </tr>\n",
       "  </thead>\n",
       "  <tbody>\n",
       "    <tr>\n",
       "      <th>Jack</th>\n",
       "      <td>24</td>\n",
       "      <td>180</td>\n",
       "      <td>blue</td>\n",
       "    </tr>\n",
       "    <tr>\n",
       "      <th>Jill</th>\n",
       "      <td>42</td>\n",
       "      <td>166</td>\n",
       "      <td>brown</td>\n",
       "    </tr>\n",
       "    <tr>\n",
       "      <th>Jayne</th>\n",
       "      <td>22</td>\n",
       "      <td>160</td>\n",
       "      <td>green</td>\n",
       "    </tr>\n",
       "  </tbody>\n",
       "</table>\n",
       "</div>"
      ],
      "text/plain": [
       "       age  height_cm eye_color\n",
       "Jack    24        180      blue\n",
       "Jill    42        166     brown\n",
       "Jayne   22        160     green"
      ]
     },
     "execution_count": 68,
     "metadata": {},
     "output_type": "execute_result"
    }
   ],
   "source": [
    "df = pd.DataFrame([\n",
    "    [24, 180, \"blue\"],\n",
    "    [42, 166, \"brown\"],\n",
    "    [22, 160, \"green\"],\n",
    "], columns=[\n",
    "    \"age\",\n",
    "    \"height_cm\",\n",
    "    \"eye_color\"\n",
    "], index=[\"Jack\", \"Jill\", \"Jayne\"])\n",
    "df"
   ]
  },
  {
   "cell_type": "code",
   "execution_count": 71,
   "id": "d50dd792",
   "metadata": {},
   "outputs": [
    {
     "name": "stdout",
     "output_type": "stream",
     "text": [
      "       age eye_color\n",
      "Jack    24      blue\n",
      "Jill    42     brown\n",
      "Jayne   22     green\n",
      "--------------\n",
      "      age  height_cm eye_color\n",
      "Jack   24        180      blue\n",
      "Jill   42        166     brown\n",
      "--------------\n",
      "       height_cm eye_color\n",
      "Jack         180      blue\n",
      "Jill         166     brown\n",
      "Jayne        160     green\n",
      "--------------\n",
      "      age  height_cm eye_color\n",
      "Jack   24        180      blue\n"
     ]
    }
   ],
   "source": [
    "print(df.filter([\"age\", \"eye_color\"]))\n",
    "print(\"--------------\")\n",
    "print(df.filter([\"Jack\", \"Jill\"], axis=0))\n",
    "print(\"--------------\")\n",
    "print(df.filter(like=\"_\"))\n",
    "print(\"--------------\")\n",
    "print(df.filter(regex=r\"^Ja.*(?<!e)$\", axis=0))"
   ]
  },
  {
   "cell_type": "markdown",
   "id": "1b34ae63",
   "metadata": {},
   "source": [
    "## Selection by data type (DataFrame.pd)"
   ]
  },
  {
   "cell_type": "code",
   "execution_count": 72,
   "id": "164febcc",
   "metadata": {},
   "outputs": [
    {
     "data": {
      "text/html": [
       "<div>\n",
       "<style scoped>\n",
       "    .dataframe tbody tr th:only-of-type {\n",
       "        vertical-align: middle;\n",
       "    }\n",
       "\n",
       "    .dataframe tbody tr th {\n",
       "        vertical-align: top;\n",
       "    }\n",
       "\n",
       "    .dataframe thead th {\n",
       "        text-align: right;\n",
       "    }\n",
       "</style>\n",
       "<table border=\"1\" class=\"dataframe\">\n",
       "  <thead>\n",
       "    <tr style=\"text-align: right;\">\n",
       "      <th></th>\n",
       "      <th>int_col</th>\n",
       "      <th>float_col</th>\n",
       "      <th>string_col</th>\n",
       "    </tr>\n",
       "  </thead>\n",
       "  <tbody>\n",
       "    <tr>\n",
       "      <th>0</th>\n",
       "      <td>0</td>\n",
       "      <td>1.0</td>\n",
       "      <td>2</td>\n",
       "    </tr>\n",
       "    <tr>\n",
       "      <th>1</th>\n",
       "      <td>4</td>\n",
       "      <td>8.0</td>\n",
       "      <td>16</td>\n",
       "    </tr>\n",
       "  </tbody>\n",
       "</table>\n",
       "</div>"
      ],
      "text/plain": [
       "   int_col  float_col string_col\n",
       "0        0        1.0          2\n",
       "1        4        8.0         16"
      ]
     },
     "execution_count": 72,
     "metadata": {},
     "output_type": "execute_result"
    }
   ],
   "source": [
    "df = pd.DataFrame([\n",
    "    [0, 1.0, \"2\"],\n",
    "    [4, 8.0, \"16\"],\n",
    "], columns=[\"int_col\", \"float_col\", \"string_col\"])\n",
    "df"
   ]
  },
  {
   "cell_type": "code",
   "execution_count": 76,
   "id": "e55f281f",
   "metadata": {},
   "outputs": [
    {
     "name": "stdout",
     "output_type": "stream",
     "text": [
      "   int_col\n",
      "0        0\n",
      "1        4\n",
      "--------------\n",
      "   int_col  float_col\n",
      "0        0        1.0\n",
      "1        4        8.0\n",
      "--------------\n",
      "  string_col\n",
      "0          2\n",
      "1         16\n"
     ]
    }
   ],
   "source": [
    "print(df.select_dtypes(\"int\"))\n",
    "print(\"--------------\")\n",
    "print(df.select_dtypes(include=[\"int\", \"float\"]))\n",
    "print(\"--------------\")\n",
    "print(df.select_dtypes(exclude=[\"int\", \"float\"]))"
   ]
  },
  {
   "cell_type": "markdown",
   "id": "4f30f539",
   "metadata": {},
   "source": [
    "#### Selection / filtering via Boolean arrays (Series/DataFrame)"
   ]
  },
  {
   "cell_type": "code",
   "execution_count": 77,
   "id": "401b71ac",
   "metadata": {},
   "outputs": [
    {
     "data": {
      "text/plain": [
       "0    0\n",
       "1    1\n",
       "2    2\n",
       "dtype: int64"
      ]
     },
     "execution_count": 77,
     "metadata": {},
     "output_type": "execute_result"
    }
   ],
   "source": [
    "mask = [True, False, True]\n",
    "ser = pd.Series(range(3))\n",
    "ser"
   ]
  },
  {
   "cell_type": "code",
   "execution_count": 79,
   "id": "b6a2eacc",
   "metadata": {},
   "outputs": [
    {
     "name": "stdout",
     "output_type": "stream",
     "text": [
      "0    0\n",
      "2    2\n",
      "dtype: int64\n",
      "--------------\n",
      "0    0\n",
      "2    2\n",
      "dtype: int64\n"
     ]
    }
   ],
   "source": [
    "print(ser[mask])\n",
    "print(\"--------------\")\n",
    "print(ser[mask])"
   ]
  },
  {
   "cell_type": "code",
   "execution_count": 80,
   "id": "b50a334e",
   "metadata": {},
   "outputs": [
    {
     "data": {
      "text/html": [
       "<div>\n",
       "<style scoped>\n",
       "    .dataframe tbody tr th:only-of-type {\n",
       "        vertical-align: middle;\n",
       "    }\n",
       "\n",
       "    .dataframe tbody tr th {\n",
       "        vertical-align: top;\n",
       "    }\n",
       "\n",
       "    .dataframe thead th {\n",
       "        text-align: right;\n",
       "    }\n",
       "</style>\n",
       "<table border=\"1\" class=\"dataframe\">\n",
       "  <thead>\n",
       "    <tr style=\"text-align: right;\">\n",
       "      <th></th>\n",
       "      <th>0</th>\n",
       "      <th>1</th>\n",
       "    </tr>\n",
       "  </thead>\n",
       "  <tbody>\n",
       "    <tr>\n",
       "      <th>0</th>\n",
       "      <td>0</td>\n",
       "      <td>1</td>\n",
       "    </tr>\n",
       "    <tr>\n",
       "      <th>2</th>\n",
       "      <td>4</td>\n",
       "      <td>5</td>\n",
       "    </tr>\n",
       "  </tbody>\n",
       "</table>\n",
       "</div>"
      ],
      "text/plain": [
       "   0  1\n",
       "0  0  1\n",
       "2  4  5"
      ]
     },
     "execution_count": 80,
     "metadata": {},
     "output_type": "execute_result"
    }
   ],
   "source": [
    "df = pd.DataFrame(np.arange(6).reshape(3, -1))\n",
    "df[mask]"
   ]
  },
  {
   "cell_type": "code",
   "execution_count": 81,
   "id": "ebf3cde7",
   "metadata": {},
   "outputs": [
    {
     "data": {
      "text/html": [
       "<div>\n",
       "<style scoped>\n",
       "    .dataframe tbody tr th:only-of-type {\n",
       "        vertical-align: middle;\n",
       "    }\n",
       "\n",
       "    .dataframe tbody tr th {\n",
       "        vertical-align: top;\n",
       "    }\n",
       "\n",
       "    .dataframe thead th {\n",
       "        text-align: right;\n",
       "    }\n",
       "</style>\n",
       "<table border=\"1\" class=\"dataframe\">\n",
       "  <thead>\n",
       "    <tr style=\"text-align: right;\">\n",
       "      <th></th>\n",
       "      <th>0</th>\n",
       "    </tr>\n",
       "  </thead>\n",
       "  <tbody>\n",
       "    <tr>\n",
       "      <th>0</th>\n",
       "      <td>0</td>\n",
       "    </tr>\n",
       "    <tr>\n",
       "      <th>2</th>\n",
       "      <td>4</td>\n",
       "    </tr>\n",
       "  </tbody>\n",
       "</table>\n",
       "</div>"
      ],
      "text/plain": [
       "   0\n",
       "0  0\n",
       "2  4"
      ]
     },
     "execution_count": 81,
     "metadata": {},
     "output_type": "execute_result"
    }
   ],
   "source": [
    "col_mask = [True, False]\n",
    "df.loc[mask, col_mask]"
   ]
  },
  {
   "cell_type": "code",
   "execution_count": 82,
   "id": "0816a175",
   "metadata": {},
   "outputs": [
    {
     "data": {
      "text/html": [
       "<div>\n",
       "<style scoped>\n",
       "    .dataframe tbody tr th:only-of-type {\n",
       "        vertical-align: middle;\n",
       "    }\n",
       "\n",
       "    .dataframe tbody tr th {\n",
       "        vertical-align: top;\n",
       "    }\n",
       "\n",
       "    .dataframe thead th {\n",
       "        text-align: right;\n",
       "    }\n",
       "</style>\n",
       "<table border=\"1\" class=\"dataframe\">\n",
       "  <thead>\n",
       "    <tr style=\"text-align: right;\">\n",
       "      <th></th>\n",
       "      <th>age</th>\n",
       "      <th>height_cm</th>\n",
       "      <th>eye_color</th>\n",
       "    </tr>\n",
       "  </thead>\n",
       "  <tbody>\n",
       "    <tr>\n",
       "      <th>Jack</th>\n",
       "      <td>24</td>\n",
       "      <td>180</td>\n",
       "      <td>blue</td>\n",
       "    </tr>\n",
       "    <tr>\n",
       "      <th>Jill</th>\n",
       "      <td>42</td>\n",
       "      <td>166</td>\n",
       "      <td>brown</td>\n",
       "    </tr>\n",
       "    <tr>\n",
       "      <th>Jayne</th>\n",
       "      <td>22</td>\n",
       "      <td>160</td>\n",
       "      <td>green</td>\n",
       "    </tr>\n",
       "  </tbody>\n",
       "</table>\n",
       "</div>"
      ],
      "text/plain": [
       "       age  height_cm eye_color\n",
       "Jack    24        180      blue\n",
       "Jill    42        166     brown\n",
       "Jayne   22        160     green"
      ]
     },
     "execution_count": 82,
     "metadata": {},
     "output_type": "execute_result"
    }
   ],
   "source": [
    "df = pd.DataFrame([\n",
    "    [24, 180, \"blue\"],\n",
    "    [42, 166, \"brown\"],\n",
    "    [22, 160, \"green\"],\n",
    "], columns=[\"age\", \"height_cm\", \"eye_color\"], index=[\"Jack\", \"Jill\", \"Jayne\"])\n",
    "df"
   ]
  },
  {
   "cell_type": "code",
   "execution_count": 83,
   "id": "34aea661",
   "metadata": {},
   "outputs": [
    {
     "data": {
      "text/plain": [
       "Jack      True\n",
       "Jill     False\n",
       "Jayne    False\n",
       "Name: eye_color, dtype: bool"
      ]
     },
     "execution_count": 83,
     "metadata": {},
     "output_type": "execute_result"
    }
   ],
   "source": [
    "blue_eyes = df[\"eye_color\"] == \"blue\"\n",
    "blue_eyes"
   ]
  },
  {
   "cell_type": "code",
   "execution_count": 84,
   "id": "5f427c1d",
   "metadata": {},
   "outputs": [
    {
     "data": {
      "text/plain": [
       "Jack     False\n",
       "Jill     False\n",
       "Jayne     True\n",
       "Name: eye_color, dtype: bool"
      ]
     },
     "execution_count": 84,
     "metadata": {},
     "output_type": "execute_result"
    }
   ],
   "source": [
    "green_eyes = df[\"eye_color\"] == \"green\"\n",
    "green_eyes"
   ]
  },
  {
   "cell_type": "code",
   "execution_count": 85,
   "id": "40e2dc0c",
   "metadata": {},
   "outputs": [
    {
     "data": {
      "text/plain": [
       "Jack      True\n",
       "Jill     False\n",
       "Jayne     True\n",
       "Name: eye_color, dtype: bool"
      ]
     },
     "execution_count": 85,
     "metadata": {},
     "output_type": "execute_result"
    }
   ],
   "source": [
    "mask = blue_eyes | green_eyes\n",
    "mask"
   ]
  },
  {
   "cell_type": "code",
   "execution_count": 86,
   "id": "4ffb9511",
   "metadata": {},
   "outputs": [
    {
     "data": {
      "text/html": [
       "<div>\n",
       "<style scoped>\n",
       "    .dataframe tbody tr th:only-of-type {\n",
       "        vertical-align: middle;\n",
       "    }\n",
       "\n",
       "    .dataframe tbody tr th {\n",
       "        vertical-align: top;\n",
       "    }\n",
       "\n",
       "    .dataframe thead th {\n",
       "        text-align: right;\n",
       "    }\n",
       "</style>\n",
       "<table border=\"1\" class=\"dataframe\">\n",
       "  <thead>\n",
       "    <tr style=\"text-align: right;\">\n",
       "      <th></th>\n",
       "      <th>age</th>\n",
       "      <th>height_cm</th>\n",
       "      <th>eye_color</th>\n",
       "    </tr>\n",
       "  </thead>\n",
       "  <tbody>\n",
       "    <tr>\n",
       "      <th>Jack</th>\n",
       "      <td>24</td>\n",
       "      <td>180</td>\n",
       "      <td>blue</td>\n",
       "    </tr>\n",
       "    <tr>\n",
       "      <th>Jayne</th>\n",
       "      <td>22</td>\n",
       "      <td>160</td>\n",
       "      <td>green</td>\n",
       "    </tr>\n",
       "  </tbody>\n",
       "</table>\n",
       "</div>"
      ],
      "text/plain": [
       "       age  height_cm eye_color\n",
       "Jack    24        180      blue\n",
       "Jayne   22        160     green"
      ]
     },
     "execution_count": 86,
     "metadata": {},
     "output_type": "execute_result"
    }
   ],
   "source": [
    "df[mask]"
   ]
  },
  {
   "cell_type": "code",
   "execution_count": 87,
   "id": "0cd8a8fd",
   "metadata": {},
   "outputs": [
    {
     "data": {
      "text/plain": [
       "Jack      True\n",
       "Jill     False\n",
       "Jayne     True\n",
       "Name: age, dtype: bool"
      ]
     },
     "execution_count": 87,
     "metadata": {},
     "output_type": "execute_result"
    }
   ],
   "source": [
    "age_lt_40 = df[\"age\"] < 40\n",
    "age_lt_40"
   ]
  },
  {
   "cell_type": "code",
   "execution_count": 88,
   "id": "566f5fb3",
   "metadata": {},
   "outputs": [
    {
     "data": {
      "text/plain": [
       "Jack      True\n",
       "Jill     False\n",
       "Jayne    False\n",
       "Name: height_cm, dtype: bool"
      ]
     },
     "execution_count": 88,
     "metadata": {},
     "output_type": "execute_result"
    }
   ],
   "source": [
    "height_gt_170 = df[\"height_cm\"] > 170\n",
    "height_gt_170"
   ]
  },
  {
   "cell_type": "code",
   "execution_count": 91,
   "id": "5f24b1c7",
   "metadata": {},
   "outputs": [
    {
     "name": "stdout",
     "output_type": "stream",
     "text": [
      "      age  height_cm eye_color\n",
      "Jack   24        180      blue\n",
      "-------------- --------------\n",
      "       age  height_cm eye_color\n",
      "Jill    42        166     brown\n",
      "Jayne   22        160     green\n"
     ]
    }
   ],
   "source": [
    "print(df[age_lt_40 & height_gt_170])\n",
    "print(\"-------------- --------------\")\n",
    "print(df[~(age_lt_40 & height_gt_170)])"
   ]
  },
  {
   "cell_type": "markdown",
   "id": "d40043d1",
   "metadata": {},
   "source": [
    "### Selection with a pd.MultiIndex - single level"
   ]
  },
  {
   "cell_type": "code",
   "execution_count": 92,
   "id": "34ae93ba",
   "metadata": {},
   "outputs": [
    {
     "data": {
      "text/plain": [
       "first_name  last_name\n",
       "John        Smith        0\n",
       "            Doe          1\n",
       "Jane        Doe          2\n",
       "Stephen     Smith        3\n",
       "dtype: int64"
      ]
     },
     "execution_count": 92,
     "metadata": {},
     "output_type": "execute_result"
    }
   ],
   "source": [
    "index = pd.MultiIndex.from_tuples([\n",
    "    (\"John\", \"Smith\"),\n",
    "    (\"John\", \"Doe\"),\n",
    "    (\"Jane\", \"Doe\"),\n",
    "    (\"Stephen\", \"Smith\"),\n",
    "], names=[\"first_name\", \"last_name\"])\n",
    "ser = pd.Series(range(4), index=index)\n",
    "ser"
   ]
  },
  {
   "cell_type": "code",
   "execution_count": 95,
   "id": "80659113",
   "metadata": {},
   "outputs": [
    {
     "name": "stdout",
     "output_type": "stream",
     "text": [
      "last_name\n",
      "Smith    0\n",
      "Doe      1\n",
      "dtype: int64\n",
      "--------------\n",
      "first_name  last_name\n",
      "John        Smith        0\n",
      "            Doe          1\n",
      "dtype: int64\n"
     ]
    }
   ],
   "source": [
    "print(ser.loc[\"John\"])\n",
    "print(\"--------------\")\n",
    "print(ser.loc[[\"John\"]])"
   ]
  },
  {
   "cell_type": "markdown",
   "id": "89782b16",
   "metadata": {},
   "source": [
    "### Selection with a pd.MultiIndex - multiple levels"
   ]
  },
  {
   "cell_type": "code",
   "execution_count": 96,
   "id": "18d566fa",
   "metadata": {},
   "outputs": [
    {
     "data": {
      "text/plain": [
       "first_name  last_name\n",
       "John        Smith        0\n",
       "            Doe          1\n",
       "Jane        Doe          2\n",
       "Stephen     Smith        3\n",
       "dtype: int64"
      ]
     },
     "execution_count": 96,
     "metadata": {},
     "output_type": "execute_result"
    }
   ],
   "source": [
    "index = pd.MultiIndex.from_tuples([\n",
    "    (\"John\", \"Smith\"),\n",
    "    (\"John\", \"Doe\"),\n",
    "    (\"Jane\", \"Doe\"),\n",
    "    (\"Stephen\", \"Smith\"),\n",
    "], names=[\"first_name\", \"last_name\"])\n",
    "ser = pd.Series(range(4), index=index)\n",
    "ser"
   ]
  },
  {
   "cell_type": "code",
   "execution_count": 101,
   "id": "2ffe5cbb",
   "metadata": {},
   "outputs": [
    {
     "name": "stdout",
     "output_type": "stream",
     "text": [
      "2\n",
      "--------------\n",
      "first_name  last_name\n",
      "Jane        Doe          2\n",
      "dtype: int64\n",
      "--------------\n",
      "first_name  last_name\n",
      "Jane        Doe          2\n",
      "John        Doe          1\n",
      "            Smith        0\n",
      "dtype: int64\n",
      "--------------\n",
      "first_name\n",
      "John    1\n",
      "Jane    2\n",
      "dtype: int64\n",
      "--------------\n",
      "first_name  last_name\n",
      "John        Doe          1\n",
      "Jane        Doe          2\n",
      "dtype: int64\n"
     ]
    }
   ],
   "source": [
    "print(ser.loc[(\"Jane\", \"Doe\")])\n",
    "print(\"--------------\")\n",
    "print(ser.loc[([\"Jane\"], \"Doe\")])\n",
    "print(\"--------------\")\n",
    "print(ser.loc[([\"Jane\", \"John\"], [\"Doe\", \"Smith\"])])\n",
    "print(\"--------------\")\n",
    "print(ser.loc[(slice(None), \"Doe\")])\n",
    "print(\"--------------\")\n",
    "print(ser.loc[(slice(None), [\"Doe\"])])"
   ]
  },
  {
   "cell_type": "code",
   "execution_count": 102,
   "id": "b4789a05",
   "metadata": {},
   "outputs": [
    {
     "data": {
      "text/plain": [
       "['a', 'b', 'c']"
      ]
     },
     "execution_count": 102,
     "metadata": {},
     "output_type": "execute_result"
    }
   ],
   "source": [
    "alist = list(\"abc\")\n",
    "alist[:]"
   ]
  },
  {
   "cell_type": "code",
   "execution_count": 105,
   "id": "96e9d821",
   "metadata": {},
   "outputs": [
    {
     "name": "stdout",
     "output_type": "stream",
     "text": [
      "['a', 'b', 'c']\n",
      "first_name  last_name\n",
      "John        Doe          1\n",
      "Jane        Doe          2\n",
      "dtype: int64\n"
     ]
    }
   ],
   "source": [
    "print(alist[slice(None)])\n",
    "ixsl = pd.IndexSlice\n",
    "print(ser.loc[ixsl[:, [\"Doe\"]]])"
   ]
  },
  {
   "cell_type": "markdown",
   "id": "b159d9c0",
   "metadata": {},
   "source": [
    "### Selection with a pd.MultiIndex - pd.DataFrame"
   ]
  },
  {
   "cell_type": "code",
   "execution_count": 106,
   "id": "1e449ef1",
   "metadata": {},
   "outputs": [
    {
     "data": {
      "text/html": [
       "<div>\n",
       "<style scoped>\n",
       "    .dataframe tbody tr th:only-of-type {\n",
       "        vertical-align: middle;\n",
       "    }\n",
       "\n",
       "    .dataframe tbody tr th {\n",
       "        vertical-align: top;\n",
       "    }\n",
       "\n",
       "    .dataframe thead tr th {\n",
       "        text-align: left;\n",
       "    }\n",
       "\n",
       "    .dataframe thead tr:last-of-type th {\n",
       "        text-align: right;\n",
       "    }\n",
       "</style>\n",
       "<table border=\"1\" class=\"dataframe\">\n",
       "  <thead>\n",
       "    <tr>\n",
       "      <th></th>\n",
       "      <th>art_type</th>\n",
       "      <th colspan=\"2\" halign=\"left\">music</th>\n",
       "      <th>art</th>\n",
       "    </tr>\n",
       "    <tr>\n",
       "      <th></th>\n",
       "      <th>category</th>\n",
       "      <th>favorite</th>\n",
       "      <th>last_seen_live</th>\n",
       "      <th>favorite</th>\n",
       "    </tr>\n",
       "    <tr>\n",
       "      <th>first_name</th>\n",
       "      <th>last_name</th>\n",
       "      <th></th>\n",
       "      <th></th>\n",
       "      <th></th>\n",
       "    </tr>\n",
       "  </thead>\n",
       "  <tbody>\n",
       "    <tr>\n",
       "      <th rowspan=\"2\" valign=\"top\">John</th>\n",
       "      <th>Smith</th>\n",
       "      <td>Swift</td>\n",
       "      <td>Swift</td>\n",
       "      <td>Matisse</td>\n",
       "    </tr>\n",
       "    <tr>\n",
       "      <th>Doe</th>\n",
       "      <td>Mozart</td>\n",
       "      <td>T. Swift</td>\n",
       "      <td>Van Gogh</td>\n",
       "    </tr>\n",
       "    <tr>\n",
       "      <th>Jane</th>\n",
       "      <th>Doe</th>\n",
       "      <td>Beatles</td>\n",
       "      <td>Wonder</td>\n",
       "      <td>Warhol</td>\n",
       "    </tr>\n",
       "    <tr>\n",
       "      <th>Stephen</th>\n",
       "      <th>Smith</th>\n",
       "      <td>Jackson</td>\n",
       "      <td>Dylan</td>\n",
       "      <td>Picasso</td>\n",
       "    </tr>\n",
       "  </tbody>\n",
       "</table>\n",
       "</div>"
      ],
      "text/plain": [
       "art_type                music                      art\n",
       "category             favorite last_seen_live  favorite\n",
       "first_name last_name                                  \n",
       "John       Smith        Swift          Swift   Matisse\n",
       "           Doe         Mozart       T. Swift  Van Gogh\n",
       "Jane       Doe        Beatles         Wonder    Warhol\n",
       "Stephen    Smith      Jackson          Dylan   Picasso"
      ]
     },
     "execution_count": 106,
     "metadata": {},
     "output_type": "execute_result"
    }
   ],
   "source": [
    "row_index = pd.MultiIndex.from_tuples([\n",
    "    (\"John\", \"Smith\"),\n",
    "    (\"John\", \"Doe\"),\n",
    "    (\"Jane\", \"Doe\"),\n",
    "    (\"Stephen\", \"Smith\"),\n",
    "], names=[\"first_name\", \"last_name\"])\n",
    "col_index = pd.MultiIndex.from_tuples([\n",
    "    (\"music\", \"favorite\"),\n",
    "    (\"music\", \"last_seen_live\"),\n",
    "    (\"art\", \"favorite\"),\n",
    "], names=[\"art_type\", \"category\"])\n",
    "df = pd.DataFrame([\n",
    "   [\"Swift\", \"Swift\", \"Matisse\"],\n",
    "   [\"Mozart\", \"T. Swift\", \"Van Gogh\"],\n",
    "   [\"Beatles\", \"Wonder\", \"Warhol\"],\n",
    "   [\"Jackson\", \"Dylan\", \"Picasso\"],\n",
    "], index=row_index, columns=col_index)\n",
    "df"
   ]
  },
  {
   "cell_type": "code",
   "execution_count": 107,
   "id": "ecc05bac",
   "metadata": {},
   "outputs": [
    {
     "data": {
      "text/html": [
       "<div>\n",
       "<style scoped>\n",
       "    .dataframe tbody tr th:only-of-type {\n",
       "        vertical-align: middle;\n",
       "    }\n",
       "\n",
       "    .dataframe tbody tr th {\n",
       "        vertical-align: top;\n",
       "    }\n",
       "\n",
       "    .dataframe thead tr th {\n",
       "        text-align: left;\n",
       "    }\n",
       "\n",
       "    .dataframe thead tr:last-of-type th {\n",
       "        text-align: right;\n",
       "    }\n",
       "</style>\n",
       "<table border=\"1\" class=\"dataframe\">\n",
       "  <thead>\n",
       "    <tr>\n",
       "      <th></th>\n",
       "      <th>art_type</th>\n",
       "      <th>music</th>\n",
       "      <th>art</th>\n",
       "    </tr>\n",
       "    <tr>\n",
       "      <th></th>\n",
       "      <th>category</th>\n",
       "      <th>favorite</th>\n",
       "      <th>favorite</th>\n",
       "    </tr>\n",
       "    <tr>\n",
       "      <th>first_name</th>\n",
       "      <th>last_name</th>\n",
       "      <th></th>\n",
       "      <th></th>\n",
       "    </tr>\n",
       "  </thead>\n",
       "  <tbody>\n",
       "    <tr>\n",
       "      <th>John</th>\n",
       "      <th>Smith</th>\n",
       "      <td>Swift</td>\n",
       "      <td>Matisse</td>\n",
       "    </tr>\n",
       "    <tr>\n",
       "      <th>Stephen</th>\n",
       "      <th>Smith</th>\n",
       "      <td>Jackson</td>\n",
       "      <td>Picasso</td>\n",
       "    </tr>\n",
       "  </tbody>\n",
       "</table>\n",
       "</div>"
      ],
      "text/plain": [
       "art_type                music      art\n",
       "category             favorite favorite\n",
       "first_name last_name                  \n",
       "John       Smith        Swift  Matisse\n",
       "Stephen    Smith      Jackson  Picasso"
      ]
     },
     "execution_count": 107,
     "metadata": {},
     "output_type": "execute_result"
    }
   ],
   "source": [
    "row_idxer = (slice(None), \"Smith\")\n",
    "col_idxer = (slice(None), \"favorite\")\n",
    "df.loc[row_idxer, col_idxer]"
   ]
  },
  {
   "cell_type": "code",
   "execution_count": 108,
   "id": "090cce40",
   "metadata": {},
   "outputs": [
    {
     "name": "stdout",
     "output_type": "stream",
     "text": [
      "art_type                music      art\n",
      "category             favorite favorite\n",
      "first_name last_name                  \n",
      "John       Smith        Swift  Matisse\n",
      "Stephen    Smith      Jackson  Picasso\n"
     ]
    }
   ],
   "source": [
    "print(df.loc[(slice(None), \"Smith\"), (slice(None), \"favorite\")])"
   ]
  },
  {
   "cell_type": "markdown",
   "id": "c7d1c113",
   "metadata": {},
   "source": [
    "### Item Assignment with .loc and .iloc"
   ]
  },
  {
   "cell_type": "code",
   "execution_count": 109,
   "id": "6e8dfe9e",
   "metadata": {},
   "outputs": [],
   "source": [
    "ser = pd.Series(range(3), index=list(\"abc\"))"
   ]
  },
  {
   "cell_type": "code",
   "execution_count": 110,
   "id": "4e13cfd0",
   "metadata": {},
   "outputs": [
    {
     "data": {
      "text/plain": [
       "a     0\n",
       "b    42\n",
       "c     2\n",
       "dtype: int64"
      ]
     },
     "execution_count": 110,
     "metadata": {},
     "output_type": "execute_result"
    }
   ],
   "source": [
    "ser.loc[\"b\"] = 42\n",
    "ser"
   ]
  },
  {
   "cell_type": "code",
   "execution_count": 111,
   "id": "3db0c59e",
   "metadata": {},
   "outputs": [
    {
     "data": {
      "text/plain": [
       "a     0\n",
       "b    42\n",
       "c   -42\n",
       "dtype: int64"
      ]
     },
     "execution_count": 111,
     "metadata": {},
     "output_type": "execute_result"
    }
   ],
   "source": [
    "ser.iloc[2] = -42\n",
    "ser"
   ]
  },
  {
   "cell_type": "code",
   "execution_count": 112,
   "id": "204eb09d",
   "metadata": {},
   "outputs": [
    {
     "data": {
      "text/html": [
       "<div>\n",
       "<style scoped>\n",
       "    .dataframe tbody tr th:only-of-type {\n",
       "        vertical-align: middle;\n",
       "    }\n",
       "\n",
       "    .dataframe tbody tr th {\n",
       "        vertical-align: top;\n",
       "    }\n",
       "\n",
       "    .dataframe thead th {\n",
       "        text-align: right;\n",
       "    }\n",
       "</style>\n",
       "<table border=\"1\" class=\"dataframe\">\n",
       "  <thead>\n",
       "    <tr style=\"text-align: right;\">\n",
       "      <th></th>\n",
       "      <th>col1</th>\n",
       "    </tr>\n",
       "  </thead>\n",
       "  <tbody>\n",
       "    <tr>\n",
       "      <th>0</th>\n",
       "      <td>1</td>\n",
       "    </tr>\n",
       "    <tr>\n",
       "      <th>1</th>\n",
       "      <td>2</td>\n",
       "    </tr>\n",
       "    <tr>\n",
       "      <th>2</th>\n",
       "      <td>3</td>\n",
       "    </tr>\n",
       "  </tbody>\n",
       "</table>\n",
       "</div>"
      ],
      "text/plain": [
       "   col1\n",
       "0     1\n",
       "1     2\n",
       "2     3"
      ]
     },
     "execution_count": 112,
     "metadata": {},
     "output_type": "execute_result"
    }
   ],
   "source": [
    "df = pd.DataFrame({\"col1\": [1, 2, 3]})\n",
    "df"
   ]
  },
  {
   "cell_type": "code",
   "execution_count": 113,
   "id": "c0245022",
   "metadata": {},
   "outputs": [
    {
     "data": {
      "text/html": [
       "<div>\n",
       "<style scoped>\n",
       "    .dataframe tbody tr th:only-of-type {\n",
       "        vertical-align: middle;\n",
       "    }\n",
       "\n",
       "    .dataframe tbody tr th {\n",
       "        vertical-align: top;\n",
       "    }\n",
       "\n",
       "    .dataframe thead th {\n",
       "        text-align: right;\n",
       "    }\n",
       "</style>\n",
       "<table border=\"1\" class=\"dataframe\">\n",
       "  <thead>\n",
       "    <tr style=\"text-align: right;\">\n",
       "      <th></th>\n",
       "      <th>col1</th>\n",
       "      <th>new_column1</th>\n",
       "    </tr>\n",
       "  </thead>\n",
       "  <tbody>\n",
       "    <tr>\n",
       "      <th>0</th>\n",
       "      <td>1</td>\n",
       "      <td>42</td>\n",
       "    </tr>\n",
       "    <tr>\n",
       "      <th>1</th>\n",
       "      <td>2</td>\n",
       "      <td>42</td>\n",
       "    </tr>\n",
       "    <tr>\n",
       "      <th>2</th>\n",
       "      <td>3</td>\n",
       "      <td>42</td>\n",
       "    </tr>\n",
       "  </tbody>\n",
       "</table>\n",
       "</div>"
      ],
      "text/plain": [
       "   col1  new_column1\n",
       "0     1           42\n",
       "1     2           42\n",
       "2     3           42"
      ]
     },
     "execution_count": 113,
     "metadata": {},
     "output_type": "execute_result"
    }
   ],
   "source": [
    "df[\"new_column1\"] = 42\n",
    "df"
   ]
  },
  {
   "cell_type": "code",
   "execution_count": 114,
   "id": "2157454d",
   "metadata": {},
   "outputs": [
    {
     "data": {
      "text/html": [
       "<div>\n",
       "<style scoped>\n",
       "    .dataframe tbody tr th:only-of-type {\n",
       "        vertical-align: middle;\n",
       "    }\n",
       "\n",
       "    .dataframe tbody tr th {\n",
       "        vertical-align: top;\n",
       "    }\n",
       "\n",
       "    .dataframe thead th {\n",
       "        text-align: right;\n",
       "    }\n",
       "</style>\n",
       "<table border=\"1\" class=\"dataframe\">\n",
       "  <thead>\n",
       "    <tr style=\"text-align: right;\">\n",
       "      <th></th>\n",
       "      <th>col1</th>\n",
       "      <th>new_column1</th>\n",
       "      <th>new_column2</th>\n",
       "    </tr>\n",
       "  </thead>\n",
       "  <tbody>\n",
       "    <tr>\n",
       "      <th>0</th>\n",
       "      <td>1</td>\n",
       "      <td>42</td>\n",
       "      <td>a</td>\n",
       "    </tr>\n",
       "    <tr>\n",
       "      <th>1</th>\n",
       "      <td>2</td>\n",
       "      <td>42</td>\n",
       "      <td>b</td>\n",
       "    </tr>\n",
       "    <tr>\n",
       "      <th>2</th>\n",
       "      <td>3</td>\n",
       "      <td>42</td>\n",
       "      <td>c</td>\n",
       "    </tr>\n",
       "  </tbody>\n",
       "</table>\n",
       "</div>"
      ],
      "text/plain": [
       "   col1  new_column1 new_column2\n",
       "0     1           42           a\n",
       "1     2           42           b\n",
       "2     3           42           c"
      ]
     },
     "execution_count": 114,
     "metadata": {},
     "output_type": "execute_result"
    }
   ],
   "source": [
    "df[\"new_column2\"] = list(\"abc\")\n",
    "df"
   ]
  },
  {
   "cell_type": "code",
   "execution_count": 115,
   "id": "b575885b",
   "metadata": {},
   "outputs": [
    {
     "data": {
      "text/html": [
       "<div>\n",
       "<style scoped>\n",
       "    .dataframe tbody tr th:only-of-type {\n",
       "        vertical-align: middle;\n",
       "    }\n",
       "\n",
       "    .dataframe tbody tr th {\n",
       "        vertical-align: top;\n",
       "    }\n",
       "\n",
       "    .dataframe thead th {\n",
       "        text-align: right;\n",
       "    }\n",
       "</style>\n",
       "<table border=\"1\" class=\"dataframe\">\n",
       "  <thead>\n",
       "    <tr style=\"text-align: right;\">\n",
       "      <th></th>\n",
       "      <th>col1</th>\n",
       "      <th>new_column1</th>\n",
       "      <th>new_column2</th>\n",
       "      <th>new_column3</th>\n",
       "    </tr>\n",
       "  </thead>\n",
       "  <tbody>\n",
       "    <tr>\n",
       "      <th>0</th>\n",
       "      <td>1</td>\n",
       "      <td>42</td>\n",
       "      <td>a</td>\n",
       "      <td>dog</td>\n",
       "    </tr>\n",
       "    <tr>\n",
       "      <th>1</th>\n",
       "      <td>2</td>\n",
       "      <td>42</td>\n",
       "      <td>b</td>\n",
       "      <td>cat</td>\n",
       "    </tr>\n",
       "    <tr>\n",
       "      <th>2</th>\n",
       "      <td>3</td>\n",
       "      <td>42</td>\n",
       "      <td>c</td>\n",
       "      <td>human</td>\n",
       "    </tr>\n",
       "  </tbody>\n",
       "</table>\n",
       "</div>"
      ],
      "text/plain": [
       "   col1  new_column1 new_column2 new_column3\n",
       "0     1           42           a         dog\n",
       "1     2           42           b         cat\n",
       "2     3           42           c       human"
      ]
     },
     "execution_count": 115,
     "metadata": {},
     "output_type": "execute_result"
    }
   ],
   "source": [
    "df[\"new_column3\"] = pd.Series([\"dog\", \"cat\", \"human\"])\n",
    "df"
   ]
  }
 ],
 "metadata": {
  "kernelspec": {
   "display_name": "data_analysis",
   "language": "python",
   "name": "python3"
  },
  "language_info": {
   "codemirror_mode": {
    "name": "ipython",
    "version": 3
   },
   "file_extension": ".py",
   "mimetype": "text/x-python",
   "name": "python",
   "nbconvert_exporter": "python",
   "pygments_lexer": "ipython3",
   "version": "3.13.5"
  }
 },
 "nbformat": 4,
 "nbformat_minor": 5
}
