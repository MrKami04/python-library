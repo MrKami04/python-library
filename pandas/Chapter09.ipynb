{
 "cells": [
  {
   "cell_type": "markdown",
   "id": "d3647b0f",
   "metadata": {},
   "source": [
    "## Temporal Data Types and Algorithms"
   ]
  },
  {
   "cell_type": "code",
   "execution_count": 1,
   "id": "18bf78f0",
   "metadata": {},
   "outputs": [],
   "source": [
    "import pandas as pd\n",
    "import numpy as np\n",
    "import pyarrow as pa"
   ]
  },
  {
   "cell_type": "markdown",
   "id": "c4892632",
   "metadata": {},
   "source": [
    "### Time zone handling"
   ]
  },
  {
   "cell_type": "code",
   "execution_count": 2,
   "id": "b79f60d9",
   "metadata": {},
   "outputs": [
    {
     "data": {
      "text/plain": [
       "0   2024-01-01 00:00:00\n",
       "1   2024-01-02 00:00:01\n",
       "2   2024-01-03 00:00:02\n",
       "dtype: datetime64[ns]"
      ]
     },
     "execution_count": 2,
     "metadata": {},
     "output_type": "execute_result"
    }
   ],
   "source": [
    "ser = pd.Series([\n",
    "    \"2024-01-01 00:00:00\",\n",
    "    \"2024-01-02 00:00:01\",\n",
    "    \"2024-01-03 00:00:02\"\n",
    "], dtype=\"datetime64[ns]\")\n",
    "ser"
   ]
  },
  {
   "cell_type": "code",
   "execution_count": 3,
   "id": "2c52cbc3",
   "metadata": {},
   "outputs": [
    {
     "data": {
      "text/plain": [
       "True"
      ]
     },
     "execution_count": 3,
     "metadata": {},
     "output_type": "execute_result"
    }
   ],
   "source": [
    "ser.dt.tz is None"
   ]
  },
  {
   "cell_type": "code",
   "execution_count": 4,
   "id": "d6e40f2a",
   "metadata": {},
   "outputs": [
    {
     "data": {
      "text/plain": [
       "0   2024-01-01 00:00:00-05:00\n",
       "1   2024-01-02 00:00:01-05:00\n",
       "2   2024-01-03 00:00:02-05:00\n",
       "dtype: datetime64[ns, America/New_York]"
      ]
     },
     "execution_count": 4,
     "metadata": {},
     "output_type": "execute_result"
    }
   ],
   "source": [
    "ny_ser = ser.dt.tz_localize(\"America/New_York\")\n",
    "ny_ser"
   ]
  },
  {
   "cell_type": "code",
   "execution_count": 5,
   "id": "9e76d353",
   "metadata": {},
   "outputs": [
    {
     "data": {
      "text/plain": [
       "<DstTzInfo 'America/New_York' LMT-1 day, 19:04:00 STD>"
      ]
     },
     "execution_count": 5,
     "metadata": {},
     "output_type": "execute_result"
    }
   ],
   "source": [
    "ny_ser.dt.tz"
   ]
  },
  {
   "cell_type": "markdown",
   "id": "fa789820",
   "metadata": {},
   "source": [
    "### DateOffsets"
   ]
  },
  {
   "cell_type": "code",
   "execution_count": 6,
   "id": "d72d7f96",
   "metadata": {},
   "outputs": [
    {
     "data": {
      "text/plain": [
       "0   2024-01-01\n",
       "1   2024-01-02\n",
       "2   2024-01-03\n",
       "dtype: datetime64[ns]"
      ]
     },
     "execution_count": 6,
     "metadata": {},
     "output_type": "execute_result"
    }
   ],
   "source": [
    "ser = pd.Series([\n",
    "    \"2024-01-01\",\n",
    "    \"2024-01-02\",\n",
    "    \"2024-01-03\",\n",
    "], dtype=\"datetime64[ns]\")\n",
    "ser"
   ]
  },
  {
   "cell_type": "code",
   "execution_count": 7,
   "id": "15e74c1a",
   "metadata": {},
   "outputs": [
    {
     "data": {
      "text/plain": [
       "0   2024-02-01\n",
       "1   2024-02-02\n",
       "2   2024-02-03\n",
       "dtype: datetime64[ns]"
      ]
     },
     "execution_count": 7,
     "metadata": {},
     "output_type": "execute_result"
    }
   ],
   "source": [
    "ser + pd.DateOffset(months=1)"
   ]
  },
  {
   "cell_type": "code",
   "execution_count": 8,
   "id": "407f088c",
   "metadata": {},
   "outputs": [
    {
     "data": {
      "text/plain": [
       "0   2024-02-03 03:04:05\n",
       "1   2024-02-04 03:04:05\n",
       "2   2024-02-05 03:04:05\n",
       "dtype: datetime64[ns]"
      ]
     },
     "execution_count": 8,
     "metadata": {},
     "output_type": "execute_result"
    }
   ],
   "source": [
    "ser + pd.DateOffset(months=1, days=2, hours=3, minutes=4, seconds=5)"
   ]
  },
  {
   "cell_type": "code",
   "execution_count": 9,
   "id": "a27e8585",
   "metadata": {},
   "outputs": [
    {
     "data": {
      "text/plain": [
       "0   2024-01-31\n",
       "1   2024-01-31\n",
       "2   2024-01-31\n",
       "dtype: datetime64[ns]"
      ]
     },
     "execution_count": 9,
     "metadata": {},
     "output_type": "execute_result"
    }
   ],
   "source": [
    "ser + pd.offsets.MonthEnd()"
   ]
  },
  {
   "cell_type": "code",
   "execution_count": 10,
   "id": "9f49d7ac",
   "metadata": {},
   "outputs": [
    {
     "data": {
      "text/plain": [
       "0   2024-02-01\n",
       "1   2024-02-01\n",
       "2   2024-02-01\n",
       "dtype: datetime64[ns]"
      ]
     },
     "execution_count": 10,
     "metadata": {},
     "output_type": "execute_result"
    }
   ],
   "source": [
    "ser + pd.offsets.MonthBegin()"
   ]
  },
  {
   "cell_type": "code",
   "execution_count": 11,
   "id": "30a89ae7",
   "metadata": {},
   "outputs": [
    {
     "data": {
      "text/plain": [
       "0       Monday\n",
       "1      Tuesday\n",
       "2    Wednesday\n",
       "dtype: object"
      ]
     },
     "execution_count": 11,
     "metadata": {},
     "output_type": "execute_result"
    }
   ],
   "source": [
    "ser.dt.day_name()"
   ]
  },
  {
   "cell_type": "code",
   "execution_count": 12,
   "id": "26bf021b",
   "metadata": {},
   "outputs": [
    {
     "name": "stderr",
     "output_type": "stream",
     "text": [
      "C:\\Users\\Kamran\\AppData\\Local\\Temp\\ipykernel_11828\\83449446.py:1: PerformanceWarning: Non-vectorized DateOffset being applied to Series or DatetimeIndex.\n",
      "  ser + pd.offsets.CustomBusinessDay(\n"
     ]
    },
    {
     "data": {
      "text/plain": [
       "0   2024-01-04\n",
       "1   2024-01-08\n",
       "2   2024-01-09\n",
       "dtype: datetime64[ns]"
      ]
     },
     "execution_count": 12,
     "metadata": {},
     "output_type": "execute_result"
    }
   ],
   "source": [
    "ser + pd.offsets.CustomBusinessDay(\n",
    "    n=3,\n",
    "    weekmask=\"Mon Tue Wed Thu\",\n",
    ")"
   ]
  },
  {
   "cell_type": "code",
   "execution_count": 13,
   "id": "a9e00e6e",
   "metadata": {},
   "outputs": [
    {
     "name": "stderr",
     "output_type": "stream",
     "text": [
      "C:\\Users\\Kamran\\AppData\\Local\\Temp\\ipykernel_11828\\2255203197.py:1: PerformanceWarning: Non-vectorized DateOffset being applied to Series or DatetimeIndex.\n",
      "  ser + pd.offsets.CustomBusinessDay(\n"
     ]
    },
    {
     "data": {
      "text/plain": [
       "0   2024-01-08\n",
       "1   2024-01-09\n",
       "2   2024-01-10\n",
       "dtype: datetime64[ns]"
      ]
     },
     "execution_count": 13,
     "metadata": {},
     "output_type": "execute_result"
    }
   ],
   "source": [
    "ser + pd.offsets.CustomBusinessDay(\n",
    "    n=3,\n",
    "    weekmask=\"Mon Tue Wed Thu\",\n",
    "    holidays=[\"2024-01-04\"],\n",
    ")"
   ]
  },
  {
   "cell_type": "markdown",
   "id": "e6c73b88",
   "metadata": {},
   "source": [
    "### Datetime selection"
   ]
  },
  {
   "cell_type": "code",
   "execution_count": 14,
   "id": "605e4599",
   "metadata": {},
   "outputs": [
    {
     "data": {
      "text/plain": [
       "DatetimeIndex(['2023-12-27', '2024-01-06', '2024-01-16', '2024-01-26',\n",
       "               '2024-02-05'],\n",
       "              dtype='datetime64[ns]', freq='10D')"
      ]
     },
     "execution_count": 14,
     "metadata": {},
     "output_type": "execute_result"
    }
   ],
   "source": [
    "pd.date_range(start=\"2023-12-27\", freq=\"10D\", periods=5)"
   ]
  },
  {
   "cell_type": "code",
   "execution_count": 15,
   "id": "a06fa124",
   "metadata": {},
   "outputs": [
    {
     "data": {
      "text/plain": [
       "DatetimeIndex(['2023-12-31', '2024-01-14', '2024-01-28', '2024-02-11',\n",
       "               '2024-02-25'],\n",
       "              dtype='datetime64[ns]', freq='2W-SUN')"
      ]
     },
     "execution_count": 15,
     "metadata": {},
     "output_type": "execute_result"
    }
   ],
   "source": [
    "pd.date_range(start=\"2023-12-27\", freq=\"2W\", periods=5)"
   ]
  },
  {
   "cell_type": "code",
   "execution_count": 16,
   "id": "9ad34122",
   "metadata": {},
   "outputs": [
    {
     "data": {
      "text/plain": [
       "2023-12-27    0\n",
       "2024-01-06    1\n",
       "2024-01-16    2\n",
       "Freq: 10D, dtype: int64"
      ]
     },
     "execution_count": 16,
     "metadata": {},
     "output_type": "execute_result"
    }
   ],
   "source": [
    "index = pd.date_range(start=\"2023-12-27\", freq=\"10D\", periods=20)\n",
    "ser = pd.Series(range(20), index=index)\n",
    "ser.loc[:pd.Timestamp(\"2024-01-18\")]"
   ]
  },
  {
   "cell_type": "code",
   "execution_count": 17,
   "id": "63cb8226",
   "metadata": {},
   "outputs": [
    {
     "data": {
      "text/plain": [
       "2024-01-06    1\n",
       "2024-01-16    2\n",
       "Freq: 10D, dtype: int64"
      ]
     },
     "execution_count": 17,
     "metadata": {},
     "output_type": "execute_result"
    }
   ],
   "source": [
    "\n",
    "ser.loc[pd.Timestamp(\"2024-01-06\"):pd.Timestamp(\"2024-01-18\")]"
   ]
  },
  {
   "cell_type": "code",
   "execution_count": 18,
   "id": "277f87f6",
   "metadata": {},
   "outputs": [
    {
     "data": {
      "text/plain": [
       "2023-12-27 00:00:00-05:00    0\n",
       "2023-12-27 12:00:00-05:00    1\n",
       "2023-12-28 00:00:00-05:00    2\n",
       "2023-12-28 12:00:00-05:00    3\n",
       "2023-12-29 00:00:00-05:00    4\n",
       "2023-12-29 12:00:00-05:00    5\n",
       "Freq: 12h, dtype: int64"
      ]
     },
     "execution_count": 18,
     "metadata": {},
     "output_type": "execute_result"
    }
   ],
   "source": [
    "index = pd.date_range(start=\"2023-12-27\", freq=\"12h\", periods=6, tz=\"US/Eastern\")\n",
    "ser = pd.Series(range(6), index=index)\n",
    "ser"
   ]
  },
  {
   "cell_type": "markdown",
   "id": "58f90d2e",
   "metadata": {},
   "source": [
    "### Resampling"
   ]
  },
  {
   "cell_type": "code",
   "execution_count": 19,
   "id": "731f5cf3",
   "metadata": {},
   "outputs": [
    {
     "data": {
      "text/plain": [
       "2024-01-01 00:00:00    0\n",
       "2024-01-01 00:00:01    1\n",
       "2024-01-01 00:00:02    2\n",
       "2024-01-01 00:00:03    3\n",
       "2024-01-01 00:00:04    4\n",
       "2024-01-01 00:00:05    5\n",
       "2024-01-01 00:00:06    6\n",
       "2024-01-01 00:00:07    7\n",
       "2024-01-01 00:00:08    8\n",
       "2024-01-01 00:00:09    9\n",
       "Freq: s, dtype: Int64"
      ]
     },
     "execution_count": 19,
     "metadata": {},
     "output_type": "execute_result"
    }
   ],
   "source": [
    "index = pd.date_range(start=\"2024-01-01\", periods=10, freq=\"s\")\n",
    "ser = pd.Series(range(10), index=index, dtype=pd.Int64Dtype())\n",
    "ser"
   ]
  },
  {
   "cell_type": "code",
   "execution_count": 20,
   "id": "cc938200",
   "metadata": {},
   "outputs": [
    {
     "data": {
      "text/plain": [
       "2024-01-01 00:00:00     3\n",
       "2024-01-01 00:00:03    12\n",
       "2024-01-01 00:00:06    21\n",
       "2024-01-01 00:00:09     9\n",
       "Freq: 3s, dtype: Int64"
      ]
     },
     "execution_count": 20,
     "metadata": {},
     "output_type": "execute_result"
    }
   ],
   "source": [
    "ser.resample(\"3s\").sum()"
   ]
  },
  {
   "cell_type": "code",
   "execution_count": 21,
   "id": "5c3b1fad",
   "metadata": {},
   "outputs": [
    {
     "data": {
      "text/plain": [
       "2024-01-01 00:00:00     0\n",
       "2024-01-01 00:00:03     6\n",
       "2024-01-01 00:00:06    15\n",
       "2024-01-01 00:00:09    24\n",
       "Freq: 3s, dtype: Int64"
      ]
     },
     "execution_count": 21,
     "metadata": {},
     "output_type": "execute_result"
    }
   ],
   "source": [
    "ser.resample(\"3s\", closed=\"right\", label=\"right\").sum()"
   ]
  },
  {
   "cell_type": "code",
   "execution_count": 22,
   "id": "08b24817",
   "metadata": {},
   "outputs": [
    {
     "data": {
      "text/plain": [
       "2024-01-01    0\n",
       "2024-01-02    1\n",
       "2024-01-03    2\n",
       "2024-01-04    3\n",
       "2024-01-05    4\n",
       "2024-01-06    5\n",
       "2024-01-07    6\n",
       "2024-01-08    7\n",
       "2024-01-09    8\n",
       "2024-01-10    9\n",
       "Freq: D, dtype: Int64"
      ]
     },
     "execution_count": 22,
     "metadata": {},
     "output_type": "execute_result"
    }
   ],
   "source": [
    "index = pd.date_range(start=\"2024-01-01\", freq=\"D\", periods=10)\n",
    "ser = pd.Series(range(10), index=index, dtype=pd.Int64Dtype())\n",
    "ser"
   ]
  },
  {
   "cell_type": "code",
   "execution_count": 23,
   "id": "516de575",
   "metadata": {},
   "outputs": [
    {
     "data": {
      "text/plain": [
       "Index(['Monday', 'Tuesday', 'Wednesday', 'Thursday', 'Friday', 'Saturday',\n",
       "       'Sunday', 'Monday', 'Tuesday', 'Wednesday'],\n",
       "      dtype='object')"
      ]
     },
     "execution_count": 23,
     "metadata": {},
     "output_type": "execute_result"
    }
   ],
   "source": [
    "ser.index.day_name()"
   ]
  },
  {
   "cell_type": "markdown",
   "id": "1a492a5a",
   "metadata": {},
   "source": [
    "### Aggregating weekly crime and traffic accidents"
   ]
  },
  {
   "cell_type": "code",
   "execution_count": 25,
   "id": "181ae9f6",
   "metadata": {},
   "outputs": [
    {
     "data": {
      "text/html": [
       "<div>\n",
       "<style scoped>\n",
       "    .dataframe tbody tr th:only-of-type {\n",
       "        vertical-align: middle;\n",
       "    }\n",
       "\n",
       "    .dataframe tbody tr th {\n",
       "        vertical-align: top;\n",
       "    }\n",
       "\n",
       "    .dataframe thead th {\n",
       "        text-align: right;\n",
       "    }\n",
       "</style>\n",
       "<table border=\"1\" class=\"dataframe\">\n",
       "  <thead>\n",
       "    <tr style=\"text-align: right;\">\n",
       "      <th></th>\n",
       "      <th>OFFENSE_TYPE_ID</th>\n",
       "      <th>OFFENSE_CATEGORY_ID</th>\n",
       "      <th>GEO_LON</th>\n",
       "      <th>GEO_LAT</th>\n",
       "      <th>NEIGHBORHOOD_ID</th>\n",
       "      <th>IS_CRIME</th>\n",
       "      <th>IS_TRAFFIC</th>\n",
       "    </tr>\n",
       "    <tr>\n",
       "      <th>REPORTED_DATE</th>\n",
       "      <th></th>\n",
       "      <th></th>\n",
       "      <th></th>\n",
       "      <th></th>\n",
       "      <th></th>\n",
       "      <th></th>\n",
       "      <th></th>\n",
       "    </tr>\n",
       "  </thead>\n",
       "  <tbody>\n",
       "    <tr>\n",
       "      <th>2014-06-29 02:01:00</th>\n",
       "      <td>traffic-accident-dui-duid</td>\n",
       "      <td>traffic-accident</td>\n",
       "      <td>-105.000149</td>\n",
       "      <td>39.745753</td>\n",
       "      <td>cbd</td>\n",
       "      <td>0</td>\n",
       "      <td>1</td>\n",
       "    </tr>\n",
       "    <tr>\n",
       "      <th>2014-06-29 01:54:00</th>\n",
       "      <td>vehicular-eluding-no-chase</td>\n",
       "      <td>all-other-crimes</td>\n",
       "      <td>-104.884660</td>\n",
       "      <td>39.738702</td>\n",
       "      <td>east-colfax</td>\n",
       "      <td>1</td>\n",
       "      <td>0</td>\n",
       "    </tr>\n",
       "    <tr>\n",
       "      <th>2014-06-29 02:00:00</th>\n",
       "      <td>disturbing-the-peace</td>\n",
       "      <td>public-disorder</td>\n",
       "      <td>-105.020719</td>\n",
       "      <td>39.706674</td>\n",
       "      <td>athmar-park</td>\n",
       "      <td>1</td>\n",
       "      <td>0</td>\n",
       "    </tr>\n",
       "    <tr>\n",
       "      <th>2014-06-29 02:18:00</th>\n",
       "      <td>curfew</td>\n",
       "      <td>public-disorder</td>\n",
       "      <td>-105.001552</td>\n",
       "      <td>39.769505</td>\n",
       "      <td>sunnyside</td>\n",
       "      <td>1</td>\n",
       "      <td>0</td>\n",
       "    </tr>\n",
       "    <tr>\n",
       "      <th>2014-06-29 04:17:00</th>\n",
       "      <td>aggravated-assault</td>\n",
       "      <td>aggravated-assault</td>\n",
       "      <td>-105.018557</td>\n",
       "      <td>39.679229</td>\n",
       "      <td>college-view-south-platte</td>\n",
       "      <td>1</td>\n",
       "      <td>0</td>\n",
       "    </tr>\n",
       "  </tbody>\n",
       "</table>\n",
       "</div>"
      ],
      "text/plain": [
       "                                OFFENSE_TYPE_ID OFFENSE_CATEGORY_ID  \\\n",
       "REPORTED_DATE                                                         \n",
       "2014-06-29 02:01:00   traffic-accident-dui-duid    traffic-accident   \n",
       "2014-06-29 01:54:00  vehicular-eluding-no-chase    all-other-crimes   \n",
       "2014-06-29 02:00:00        disturbing-the-peace     public-disorder   \n",
       "2014-06-29 02:18:00                      curfew     public-disorder   \n",
       "2014-06-29 04:17:00          aggravated-assault  aggravated-assault   \n",
       "\n",
       "                        GEO_LON    GEO_LAT            NEIGHBORHOOD_ID  \\\n",
       "REPORTED_DATE                                                           \n",
       "2014-06-29 02:01:00 -105.000149  39.745753                        cbd   \n",
       "2014-06-29 01:54:00 -104.884660  39.738702                east-colfax   \n",
       "2014-06-29 02:00:00 -105.020719  39.706674                athmar-park   \n",
       "2014-06-29 02:18:00 -105.001552  39.769505                  sunnyside   \n",
       "2014-06-29 04:17:00 -105.018557  39.679229  college-view-south-platte   \n",
       "\n",
       "                     IS_CRIME  IS_TRAFFIC  \n",
       "REPORTED_DATE                              \n",
       "2014-06-29 02:01:00         0           1  \n",
       "2014-06-29 01:54:00         1           0  \n",
       "2014-06-29 02:00:00         1           0  \n",
       "2014-06-29 02:18:00         1           0  \n",
       "2014-06-29 04:17:00         1           0  "
      ]
     },
     "execution_count": 25,
     "metadata": {},
     "output_type": "execute_result"
    }
   ],
   "source": [
    "df = pd.read_parquet(\n",
    "    \"../data/crime.parquet\",\n",
    ").set_index(\"REPORTED_DATE\")\n",
    "\n",
    "df.head()"
   ]
  },
  {
   "cell_type": "code",
   "execution_count": 26,
   "id": "0c9b648e",
   "metadata": {},
   "outputs": [
    {
     "data": {
      "text/plain": [
       "REPORTED_DATE\n",
       "2012-01-08     877\n",
       "2012-01-15    1071\n",
       "2012-01-22     991\n",
       "2012-01-29     988\n",
       "2012-02-05     888\n",
       "              ... \n",
       "2017-09-03    1956\n",
       "2017-09-10    1733\n",
       "2017-09-17    1976\n",
       "2017-09-24    1839\n",
       "2017-10-01    1059\n",
       "Freq: W-SUN, Length: 300, dtype: int64"
      ]
     },
     "execution_count": 26,
     "metadata": {},
     "output_type": "execute_result"
    }
   ],
   "source": [
    "df.resample(\"W\").size()"
   ]
  },
  {
   "cell_type": "code",
   "execution_count": 27,
   "id": "49cc4560",
   "metadata": {},
   "outputs": [
    {
     "data": {
      "text/plain": [
       "1071"
      ]
     },
     "execution_count": 27,
     "metadata": {},
     "output_type": "execute_result"
    }
   ],
   "source": [
    "len(df.sort_index().loc['2012-01-09':'2012-01-15'])"
   ]
  },
  {
   "cell_type": "code",
   "execution_count": 28,
   "id": "d8e21981",
   "metadata": {},
   "outputs": [
    {
     "data": {
      "text/plain": [
       "<Axes: title={'center': 'All Denver Crimes'}, xlabel='REPORTED_DATE'>"
      ]
     },
     "execution_count": 28,
     "metadata": {},
     "output_type": "execute_result"
    },
    {
     "data": {
      "image/png": "[encoded data removed]",
      "text/plain": [
       "<Figure size 640x480 with 1 Axes>"
      ]
     },
     "metadata": {},
     "output_type": "display_data"
    }
   ],
   "source": [
    "import matplotlib.pyplot as plt\n",
    "plt.ion()\n",
    "df.resample(\"W\").size().plot(title=\"All Denver Crimes\")"
   ]
  },
  {
   "cell_type": "code",
   "execution_count": 29,
   "id": "c1a15072",
   "metadata": {},
   "outputs": [
    {
     "data": {
      "text/html": [
       "<div>\n",
       "<style scoped>\n",
       "    .dataframe tbody tr th:only-of-type {\n",
       "        vertical-align: middle;\n",
       "    }\n",
       "\n",
       "    .dataframe tbody tr th {\n",
       "        vertical-align: top;\n",
       "    }\n",
       "\n",
       "    .dataframe thead th {\n",
       "        text-align: right;\n",
       "    }\n",
       "</style>\n",
       "<table border=\"1\" class=\"dataframe\">\n",
       "  <thead>\n",
       "    <tr style=\"text-align: right;\">\n",
       "      <th></th>\n",
       "      <th>IS_CRIME</th>\n",
       "      <th>IS_TRAFFIC</th>\n",
       "    </tr>\n",
       "    <tr>\n",
       "      <th>REPORTED_DATE</th>\n",
       "      <th></th>\n",
       "      <th></th>\n",
       "    </tr>\n",
       "  </thead>\n",
       "  <tbody>\n",
       "    <tr>\n",
       "      <th>2012-01-01</th>\n",
       "      <td>7882</td>\n",
       "      <td>4726</td>\n",
       "    </tr>\n",
       "    <tr>\n",
       "      <th>2012-04-01</th>\n",
       "      <td>9641</td>\n",
       "      <td>5255</td>\n",
       "    </tr>\n",
       "    <tr>\n",
       "      <th>2012-07-01</th>\n",
       "      <td>10566</td>\n",
       "      <td>5003</td>\n",
       "    </tr>\n",
       "    <tr>\n",
       "      <th>2012-10-01</th>\n",
       "      <td>9197</td>\n",
       "      <td>4802</td>\n",
       "    </tr>\n",
       "    <tr>\n",
       "      <th>2013-01-01</th>\n",
       "      <td>8730</td>\n",
       "      <td>4442</td>\n",
       "    </tr>\n",
       "  </tbody>\n",
       "</table>\n",
       "</div>"
      ],
      "text/plain": [
       "               IS_CRIME  IS_TRAFFIC\n",
       "REPORTED_DATE                      \n",
       "2012-01-01         7882        4726\n",
       "2012-04-01         9641        5255\n",
       "2012-07-01        10566        5003\n",
       "2012-10-01         9197        4802\n",
       "2013-01-01         8730        4442"
      ]
     },
     "execution_count": 29,
     "metadata": {},
     "output_type": "execute_result"
    }
   ],
   "source": [
    "df.resample(\"QS\")[[\"IS_CRIME\", \"IS_TRAFFIC\"]].sum().head()"
   ]
  },
  {
   "cell_type": "code",
   "execution_count": 30,
   "id": "3e72b66d",
   "metadata": {},
   "outputs": [
    {
     "data": {
      "text/plain": [
       "<Axes: title={'center': 'Denver Crime and Traffic Accidents'}, xlabel='REPORTED_DATE'>"
      ]
     },
     "execution_count": 30,
     "metadata": {},
     "output_type": "execute_result"
    },
    {
     "data": {
      "image/png": "[encoded data removed]",
      "text/plain": [
       "<Figure size 640x480 with 1 Axes>"
      ]
     },
     "metadata": {},
     "output_type": "display_data"
    }
   ],
   "source": [
    "df.resample(\"QS\")[[\"IS_CRIME\", \"IS_TRAFFIC\"]].sum().plot(\n",
    "  color=[\"black\", \"lightgrey\"],\n",
    "  title=\"Denver Crime and Traffic Accidents\"\n",
    ")"
   ]
  },
  {
   "cell_type": "markdown",
   "id": "b8aaf98a",
   "metadata": {},
   "source": [
    "### Calculating year over year changes in crime by category"
   ]
  },
  {
   "cell_type": "code",
   "execution_count": 32,
   "id": "3895b7f5",
   "metadata": {},
   "outputs": [
    {
     "data": {
      "text/html": [
       "<div>\n",
       "<style scoped>\n",
       "    .dataframe tbody tr th:only-of-type {\n",
       "        vertical-align: middle;\n",
       "    }\n",
       "\n",
       "    .dataframe tbody tr th {\n",
       "        vertical-align: top;\n",
       "    }\n",
       "\n",
       "    .dataframe thead th {\n",
       "        text-align: right;\n",
       "    }\n",
       "</style>\n",
       "<table border=\"1\" class=\"dataframe\">\n",
       "  <thead>\n",
       "    <tr style=\"text-align: right;\">\n",
       "      <th></th>\n",
       "      <th>OFFENSE_TYPE_ID</th>\n",
       "      <th>OFFENSE_CATEGORY_ID</th>\n",
       "      <th>REPORTED_DATE</th>\n",
       "      <th>GEO_LON</th>\n",
       "      <th>GEO_LAT</th>\n",
       "      <th>NEIGHBORHOOD_ID</th>\n",
       "      <th>IS_CRIME</th>\n",
       "      <th>IS_TRAFFIC</th>\n",
       "    </tr>\n",
       "  </thead>\n",
       "  <tbody>\n",
       "    <tr>\n",
       "      <th>0</th>\n",
       "      <td>traffic-accident-dui-duid</td>\n",
       "      <td>traffic-accident</td>\n",
       "      <td>2014-06-29 02:01:00</td>\n",
       "      <td>-105.000149</td>\n",
       "      <td>39.745753</td>\n",
       "      <td>cbd</td>\n",
       "      <td>0</td>\n",
       "      <td>1</td>\n",
       "    </tr>\n",
       "    <tr>\n",
       "      <th>1</th>\n",
       "      <td>vehicular-eluding-no-chase</td>\n",
       "      <td>all-other-crimes</td>\n",
       "      <td>2014-06-29 01:54:00</td>\n",
       "      <td>-104.884660</td>\n",
       "      <td>39.738702</td>\n",
       "      <td>east-colfax</td>\n",
       "      <td>1</td>\n",
       "      <td>0</td>\n",
       "    </tr>\n",
       "    <tr>\n",
       "      <th>2</th>\n",
       "      <td>disturbing-the-peace</td>\n",
       "      <td>public-disorder</td>\n",
       "      <td>2014-06-29 02:00:00</td>\n",
       "      <td>-105.020719</td>\n",
       "      <td>39.706674</td>\n",
       "      <td>athmar-park</td>\n",
       "      <td>1</td>\n",
       "      <td>0</td>\n",
       "    </tr>\n",
       "    <tr>\n",
       "      <th>3</th>\n",
       "      <td>curfew</td>\n",
       "      <td>public-disorder</td>\n",
       "      <td>2014-06-29 02:18:00</td>\n",
       "      <td>-105.001552</td>\n",
       "      <td>39.769505</td>\n",
       "      <td>sunnyside</td>\n",
       "      <td>1</td>\n",
       "      <td>0</td>\n",
       "    </tr>\n",
       "    <tr>\n",
       "      <th>4</th>\n",
       "      <td>aggravated-assault</td>\n",
       "      <td>aggravated-assault</td>\n",
       "      <td>2014-06-29 04:17:00</td>\n",
       "      <td>-105.018557</td>\n",
       "      <td>39.679229</td>\n",
       "      <td>college-view-south-platte</td>\n",
       "      <td>1</td>\n",
       "      <td>0</td>\n",
       "    </tr>\n",
       "  </tbody>\n",
       "</table>\n",
       "</div>"
      ],
      "text/plain": [
       "              OFFENSE_TYPE_ID OFFENSE_CATEGORY_ID       REPORTED_DATE  \\\n",
       "0   traffic-accident-dui-duid    traffic-accident 2014-06-29 02:01:00   \n",
       "1  vehicular-eluding-no-chase    all-other-crimes 2014-06-29 01:54:00   \n",
       "2        disturbing-the-peace     public-disorder 2014-06-29 02:00:00   \n",
       "3                      curfew     public-disorder 2014-06-29 02:18:00   \n",
       "4          aggravated-assault  aggravated-assault 2014-06-29 04:17:00   \n",
       "\n",
       "      GEO_LON    GEO_LAT            NEIGHBORHOOD_ID  IS_CRIME  IS_TRAFFIC  \n",
       "0 -105.000149  39.745753                        cbd         0           1  \n",
       "1 -104.884660  39.738702                east-colfax         1           0  \n",
       "2 -105.020719  39.706674                athmar-park         1           0  \n",
       "3 -105.001552  39.769505                  sunnyside         1           0  \n",
       "4 -105.018557  39.679229  college-view-south-platte         1           0  "
      ]
     },
     "execution_count": 32,
     "metadata": {},
     "output_type": "execute_result"
    }
   ],
   "source": [
    "df = pd.read_parquet(\n",
    "    \"../data/crime.parquet\",\n",
    ")\n",
    "df.head()"
   ]
  },
  {
   "cell_type": "code",
   "execution_count": 33,
   "id": "9051bd4c",
   "metadata": {},
   "outputs": [
    {
     "data": {
      "text/html": [
       "<div>\n",
       "<style scoped>\n",
       "    .dataframe tbody tr th:only-of-type {\n",
       "        vertical-align: middle;\n",
       "    }\n",
       "\n",
       "    .dataframe tbody tr th {\n",
       "        vertical-align: top;\n",
       "    }\n",
       "\n",
       "    .dataframe thead th {\n",
       "        text-align: right;\n",
       "    }\n",
       "</style>\n",
       "<table border=\"1\" class=\"dataframe\">\n",
       "  <thead>\n",
       "    <tr style=\"text-align: right;\">\n",
       "      <th></th>\n",
       "      <th></th>\n",
       "      <th>total_crime</th>\n",
       "    </tr>\n",
       "    <tr>\n",
       "      <th>OFFENSE_CATEGORY_ID</th>\n",
       "      <th>REPORTED_DATE</th>\n",
       "      <th></th>\n",
       "    </tr>\n",
       "  </thead>\n",
       "  <tbody>\n",
       "    <tr>\n",
       "      <th rowspan=\"5\" valign=\"top\">aggravated-assault</th>\n",
       "      <th>2012-01-01</th>\n",
       "      <td>1707</td>\n",
       "    </tr>\n",
       "    <tr>\n",
       "      <th>2013-01-01</th>\n",
       "      <td>1631</td>\n",
       "    </tr>\n",
       "    <tr>\n",
       "      <th>2014-01-01</th>\n",
       "      <td>1788</td>\n",
       "    </tr>\n",
       "    <tr>\n",
       "      <th>2015-01-01</th>\n",
       "      <td>2007</td>\n",
       "    </tr>\n",
       "    <tr>\n",
       "      <th>2016-01-01</th>\n",
       "      <td>2139</td>\n",
       "    </tr>\n",
       "    <tr>\n",
       "      <th>...</th>\n",
       "      <th>...</th>\n",
       "      <td>...</td>\n",
       "    </tr>\n",
       "    <tr>\n",
       "      <th rowspan=\"5\" valign=\"top\">white-collar-crime</th>\n",
       "      <th>2013-01-01</th>\n",
       "      <td>771</td>\n",
       "    </tr>\n",
       "    <tr>\n",
       "      <th>2014-01-01</th>\n",
       "      <td>1043</td>\n",
       "    </tr>\n",
       "    <tr>\n",
       "      <th>2015-01-01</th>\n",
       "      <td>1319</td>\n",
       "    </tr>\n",
       "    <tr>\n",
       "      <th>2016-01-01</th>\n",
       "      <td>1232</td>\n",
       "    </tr>\n",
       "    <tr>\n",
       "      <th>2017-01-01</th>\n",
       "      <td>1058</td>\n",
       "    </tr>\n",
       "  </tbody>\n",
       "</table>\n",
       "<p>90 rows × 1 columns</p>\n",
       "</div>"
      ],
      "text/plain": [
       "                                   total_crime\n",
       "OFFENSE_CATEGORY_ID REPORTED_DATE             \n",
       "aggravated-assault  2012-01-01            1707\n",
       "                    2013-01-01            1631\n",
       "                    2014-01-01            1788\n",
       "                    2015-01-01            2007\n",
       "                    2016-01-01            2139\n",
       "...                                        ...\n",
       "white-collar-crime  2013-01-01             771\n",
       "                    2014-01-01            1043\n",
       "                    2015-01-01            1319\n",
       "                    2016-01-01            1232\n",
       "                    2017-01-01            1058\n",
       "\n",
       "[90 rows x 1 columns]"
      ]
     },
     "execution_count": 33,
     "metadata": {},
     "output_type": "execute_result"
    }
   ],
   "source": [
    "df.groupby([\n",
    "    \"OFFENSE_CATEGORY_ID\",\n",
    "    pd.Grouper(key=\"REPORTED_DATE\", freq=\"YS\"),\n",
    "], observed=True).agg(\n",
    "    total_crime=pd.NamedAgg(column=\"IS_CRIME\", aggfunc=\"sum\"),\n",
    ")"
   ]
  },
  {
   "cell_type": "code",
   "execution_count": 34,
   "id": "19207564",
   "metadata": {},
   "outputs": [
    {
     "data": {
      "text/html": [
       "<div>\n",
       "<style scoped>\n",
       "    .dataframe tbody tr th:only-of-type {\n",
       "        vertical-align: middle;\n",
       "    }\n",
       "\n",
       "    .dataframe tbody tr th {\n",
       "        vertical-align: top;\n",
       "    }\n",
       "\n",
       "    .dataframe thead th {\n",
       "        text-align: right;\n",
       "    }\n",
       "</style>\n",
       "<table border=\"1\" class=\"dataframe\">\n",
       "  <thead>\n",
       "    <tr style=\"text-align: right;\">\n",
       "      <th></th>\n",
       "      <th></th>\n",
       "      <th>total_crime</th>\n",
       "      <th>yoy_change</th>\n",
       "    </tr>\n",
       "    <tr>\n",
       "      <th>OFFENSE_CATEGORY_ID</th>\n",
       "      <th>REPORTED_DATE</th>\n",
       "      <th></th>\n",
       "      <th></th>\n",
       "    </tr>\n",
       "  </thead>\n",
       "  <tbody>\n",
       "    <tr>\n",
       "      <th rowspan=\"6\" valign=\"top\">aggravated-assault</th>\n",
       "      <th>2012-01-01</th>\n",
       "      <td>1707</td>\n",
       "      <td>&lt;NA&gt;</td>\n",
       "    </tr>\n",
       "    <tr>\n",
       "      <th>2013-01-01</th>\n",
       "      <td>1631</td>\n",
       "      <td>-0.044523</td>\n",
       "    </tr>\n",
       "    <tr>\n",
       "      <th>2014-01-01</th>\n",
       "      <td>1788</td>\n",
       "      <td>0.09626</td>\n",
       "    </tr>\n",
       "    <tr>\n",
       "      <th>2015-01-01</th>\n",
       "      <td>2007</td>\n",
       "      <td>0.122483</td>\n",
       "    </tr>\n",
       "    <tr>\n",
       "      <th>2016-01-01</th>\n",
       "      <td>2139</td>\n",
       "      <td>0.06577</td>\n",
       "    </tr>\n",
       "    <tr>\n",
       "      <th>2017-01-01</th>\n",
       "      <td>1689</td>\n",
       "      <td>-0.210379</td>\n",
       "    </tr>\n",
       "    <tr>\n",
       "      <th rowspan=\"4\" valign=\"top\">all-other-crimes</th>\n",
       "      <th>2012-01-01</th>\n",
       "      <td>1999</td>\n",
       "      <td>0.183541</td>\n",
       "    </tr>\n",
       "    <tr>\n",
       "      <th>2013-01-01</th>\n",
       "      <td>9377</td>\n",
       "      <td>3.690845</td>\n",
       "    </tr>\n",
       "    <tr>\n",
       "      <th>2014-01-01</th>\n",
       "      <td>15507</td>\n",
       "      <td>0.653727</td>\n",
       "    </tr>\n",
       "    <tr>\n",
       "      <th>2015-01-01</th>\n",
       "      <td>15729</td>\n",
       "      <td>0.014316</td>\n",
       "    </tr>\n",
       "  </tbody>\n",
       "</table>\n",
       "</div>"
      ],
      "text/plain": [
       "                                   total_crime  yoy_change\n",
       "OFFENSE_CATEGORY_ID REPORTED_DATE                         \n",
       "aggravated-assault  2012-01-01            1707        <NA>\n",
       "                    2013-01-01            1631   -0.044523\n",
       "                    2014-01-01            1788     0.09626\n",
       "                    2015-01-01            2007    0.122483\n",
       "                    2016-01-01            2139     0.06577\n",
       "                    2017-01-01            1689   -0.210379\n",
       "all-other-crimes    2012-01-01            1999    0.183541\n",
       "                    2013-01-01            9377    3.690845\n",
       "                    2014-01-01           15507    0.653727\n",
       "                    2015-01-01           15729    0.014316"
      ]
     },
     "execution_count": 34,
     "metadata": {},
     "output_type": "execute_result"
    }
   ],
   "source": [
    "df.groupby([\n",
    "    \"OFFENSE_CATEGORY_ID\",\n",
    "    pd.Grouper(key=\"REPORTED_DATE\", freq=\"YS\"),\n",
    "], observed=True).agg(\n",
    "    total_crime=pd.NamedAgg(column=\"IS_CRIME\", aggfunc=\"sum\"),\n",
    ").assign(\n",
    "    yoy_change=lambda x: x[\"total_crime\"].pct_change().astype(pd.Float64Dtype())\n",
    ").head(10)"
   ]
  },
  {
   "cell_type": "code",
   "execution_count": 35,
   "id": "47a9563c",
   "metadata": {},
   "outputs": [
    {
     "data": {
      "text/html": [
       "<div>\n",
       "<style scoped>\n",
       "    .dataframe tbody tr th:only-of-type {\n",
       "        vertical-align: middle;\n",
       "    }\n",
       "\n",
       "    .dataframe tbody tr th {\n",
       "        vertical-align: top;\n",
       "    }\n",
       "\n",
       "    .dataframe thead th {\n",
       "        text-align: right;\n",
       "    }\n",
       "</style>\n",
       "<table border=\"1\" class=\"dataframe\">\n",
       "  <thead>\n",
       "    <tr style=\"text-align: right;\">\n",
       "      <th></th>\n",
       "      <th></th>\n",
       "      <th>total_crime</th>\n",
       "      <th>yoy_change</th>\n",
       "    </tr>\n",
       "    <tr>\n",
       "      <th>OFFENSE_CATEGORY_ID</th>\n",
       "      <th>REPORTED_DATE</th>\n",
       "      <th></th>\n",
       "      <th></th>\n",
       "    </tr>\n",
       "  </thead>\n",
       "  <tbody>\n",
       "    <tr>\n",
       "      <th rowspan=\"6\" valign=\"top\">aggravated-assault</th>\n",
       "      <th>2012-01-01</th>\n",
       "      <td>1707</td>\n",
       "      <td>&lt;NA&gt;</td>\n",
       "    </tr>\n",
       "    <tr>\n",
       "      <th>2013-01-01</th>\n",
       "      <td>1631</td>\n",
       "      <td>-0.044523</td>\n",
       "    </tr>\n",
       "    <tr>\n",
       "      <th>2014-01-01</th>\n",
       "      <td>1788</td>\n",
       "      <td>0.09626</td>\n",
       "    </tr>\n",
       "    <tr>\n",
       "      <th>2015-01-01</th>\n",
       "      <td>2007</td>\n",
       "      <td>0.122483</td>\n",
       "    </tr>\n",
       "    <tr>\n",
       "      <th>2016-01-01</th>\n",
       "      <td>2139</td>\n",
       "      <td>0.06577</td>\n",
       "    </tr>\n",
       "    <tr>\n",
       "      <th>2017-01-01</th>\n",
       "      <td>1689</td>\n",
       "      <td>-0.210379</td>\n",
       "    </tr>\n",
       "    <tr>\n",
       "      <th rowspan=\"4\" valign=\"top\">all-other-crimes</th>\n",
       "      <th>2012-01-01</th>\n",
       "      <td>1999</td>\n",
       "      <td>&lt;NA&gt;</td>\n",
       "    </tr>\n",
       "    <tr>\n",
       "      <th>2013-01-01</th>\n",
       "      <td>9377</td>\n",
       "      <td>3.690845</td>\n",
       "    </tr>\n",
       "    <tr>\n",
       "      <th>2014-01-01</th>\n",
       "      <td>15507</td>\n",
       "      <td>0.653727</td>\n",
       "    </tr>\n",
       "    <tr>\n",
       "      <th>2015-01-01</th>\n",
       "      <td>15729</td>\n",
       "      <td>0.014316</td>\n",
       "    </tr>\n",
       "  </tbody>\n",
       "</table>\n",
       "</div>"
      ],
      "text/plain": [
       "                                   total_crime  yoy_change\n",
       "OFFENSE_CATEGORY_ID REPORTED_DATE                         \n",
       "aggravated-assault  2012-01-01            1707        <NA>\n",
       "                    2013-01-01            1631   -0.044523\n",
       "                    2014-01-01            1788     0.09626\n",
       "                    2015-01-01            2007    0.122483\n",
       "                    2016-01-01            2139     0.06577\n",
       "                    2017-01-01            1689   -0.210379\n",
       "all-other-crimes    2012-01-01            1999        <NA>\n",
       "                    2013-01-01            9377    3.690845\n",
       "                    2014-01-01           15507    0.653727\n",
       "                    2015-01-01           15729    0.014316"
      ]
     },
     "execution_count": 35,
     "metadata": {},
     "output_type": "execute_result"
    }
   ],
   "source": [
    "yoy_crime = df.groupby([\n",
    "    \"OFFENSE_CATEGORY_ID\",\n",
    "    pd.Grouper(key=\"REPORTED_DATE\", freq=\"YS\"),\n",
    "], observed=True).agg(\n",
    "    total_crime=pd.NamedAgg(column=\"IS_CRIME\", aggfunc=\"sum\"),\n",
    ").assign(\n",
    "    yoy_change=lambda x: x.groupby(\n",
    "        level=0, observed=True\n",
    "    ).pct_change().astype(pd.Float64Dtype())\n",
    ")\n",
    "\n",
    "yoy_crime.head(10)"
   ]
  },
  {
   "cell_type": "code",
   "execution_count": 36,
   "id": "b7101adf",
   "metadata": {},
   "outputs": [
    {
     "data": {
      "image/png": "[encoded data removed]",
      "text/plain": [
       "<Figure size 640x480 with 6 Axes>"
      ]
     },
     "metadata": {},
     "output_type": "display_data"
    }
   ],
   "source": [
    "crimes = tuple((\"aggravated-assault\", \"arson\", \"auto-theft\"))\n",
    "fig, axes = plt.subplots(nrows=len(crimes), ncols=2, sharex=True)\n",
    "\n",
    "for idx, crime in enumerate(crimes):\n",
    "    crime_df = yoy_crime.loc[crime]\n",
    "    ax0 = axes[idx][0]\n",
    "    ax1 = axes[idx][1]\n",
    "    crime_df.plot(kind=\"bar\", y=\"total_crime\", ax=ax0, legend=False)\n",
    "    crime_df.plot(kind=\"bar\", y=\"yoy_change\", ax=ax1, legend=False)\n",
    "\n",
    "    xlabels = [x.year for x in crime_df.index]\n",
    "    ax0.set_xticklabels(xlabels)\n",
    "    ax0.set_title(f\"{crime} total\")\n",
    "    ax1.set_xticklabels(xlabels)\n",
    "    ax1.set_title(f\"{crime} YoY\")\n",
    "    ax0.set_xlabel(\"\")\n",
    "    ax1.set_xlabel(\"\")\n",
    "\n",
    "plt.tight_layout()"
   ]
  }
 ],
 "metadata": {
  "kernelspec": {
   "display_name": "data_analysis",
   "language": "python",
   "name": "python3"
  },
  "language_info": {
   "codemirror_mode": {
    "name": "ipython",
    "version": 3
   },
   "file_extension": ".py",
   "mimetype": "text/x-python",
   "name": "python",
   "nbconvert_exporter": "python",
   "pygments_lexer": "ipython3",
   "version": "3.13.5"
  }
 },
 "nbformat": 4,
 "nbformat_minor": 5
}
