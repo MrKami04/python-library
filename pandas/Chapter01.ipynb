{
 "cells": [
  {
   "cell_type": "markdown",
   "id": "14034d0f",
   "metadata": {},
   "source": [
    "# Pandas Foundations"
   ]
  },
  {
   "cell_type": "code",
   "execution_count": 1,
   "id": "c8fdd9ed",
   "metadata": {},
   "outputs": [],
   "source": [
    "import pandas as pd\n",
    "import numpy as np\n",
    "# import pyarrow as pa\n",
    "import matplotlib.pyplot as plt"
   ]
  },
  {
   "cell_type": "code",
   "execution_count": 2,
   "id": "e42ebcb4",
   "metadata": {},
   "outputs": [],
   "source": [
    "# !pip install pyarrow"
   ]
  },
  {
   "cell_type": "code",
   "execution_count": 3,
   "id": "97edbed1",
   "metadata": {},
   "outputs": [
    {
     "name": "stdout",
     "output_type": "stream",
     "text": [
      "0    1\n",
      "1    2\n",
      "2    3\n",
      "3    4\n",
      "dtype: int64\n",
      "0    0\n",
      "1    2\n",
      "2    4\n",
      "3    6\n",
      "4    8\n",
      "dtype: int64\n",
      "a    1\n",
      "b    2\n",
      "c    3\n",
      "d    4\n",
      "dtype: int64\n",
      "0     apple\n",
      "1    banana\n",
      "2    cherry\n",
      "Name: fruits, dtype: object\n"
     ]
    }
   ],
   "source": [
    "# pandas series\n",
    "print(pd.Series([1, 2, 3, 4])) # int series\n",
    "print(pd.Series(range(0,10,2))) # range series: start: 0, stop: 10, step: 2\n",
    "print(pd.Series([1, 2, 3, 4], index=['a', 'b', 'c', 'd'])) # indexed series\n",
    "print(pd.Series(['apple', 'banana', 'cherry'], name='fruits')) # named series"
   ]
  },
  {
   "cell_type": "code",
   "execution_count": 4,
   "id": "a8d5a752",
   "metadata": {},
   "outputs": [
    {
     "name": "stdout",
     "output_type": "stream",
     "text": [
      "   0  1\n",
      "0  1  2\n",
      "1  2  3\n",
      "2  4  5\n",
      "   col1  col2\n",
      "0     2     3\n",
      "1     4     5\n",
      "2     6     7\n",
      "  first_name\n",
      "0        ali\n",
      "1      ahmed\n"
     ]
    }
   ],
   "source": [
    "# DataFrame creation\n",
    "print(pd.DataFrame([[1, 2],[2,3], [4,5]]))\n",
    "print(pd.DataFrame([[2,3],[4,5],[6,7]],columns = ['col1', 'col2']))\n",
    "print(pd.DataFrame({'first_name': ['ali',\"ahmed\"]}))"
   ]
  },
  {
   "cell_type": "code",
   "execution_count": 5,
   "id": "e6426010",
   "metadata": {},
   "outputs": [
    {
     "name": "stdout",
     "output_type": "stream",
     "text": [
      "dog      1\n",
      "cat      2\n",
      "human    3\n",
      "dtype: int64\n"
     ]
    }
   ],
   "source": [
    "# index\n",
    "print(pd.Series([1,2,3],index = ['dog','cat','human']))"
   ]
  },
  {
   "cell_type": "code",
   "execution_count": 6,
   "id": "ca28f061",
   "metadata": {},
   "outputs": [],
   "source": [
    "index = pd.Index(['dog', 'cat', 'human'],name='animals')\n",
    "ser = pd.Series([1, 2, 3], name='pets', index=index)"
   ]
  },
  {
   "cell_type": "code",
   "execution_count": 9,
   "id": "daccbe51",
   "metadata": {},
   "outputs": [
    {
     "data": {
      "text/html": [
       "<div>\n",
       "<style scoped>\n",
       "    .dataframe tbody tr th:only-of-type {\n",
       "        vertical-align: middle;\n",
       "    }\n",
       "\n",
       "    .dataframe tbody tr th {\n",
       "        vertical-align: top;\n",
       "    }\n",
       "\n",
       "    .dataframe thead th {\n",
       "        text-align: right;\n",
       "    }\n",
       "</style>\n",
       "<table border=\"1\" class=\"dataframe\">\n",
       "  <thead>\n",
       "    <tr style=\"text-align: right;\">\n",
       "      <th></th>\n",
       "      <th>age</th>\n",
       "      <th>height</th>\n",
       "    </tr>\n",
       "  </thead>\n",
       "  <tbody>\n",
       "    <tr>\n",
       "      <th>ali</th>\n",
       "      <td>22</td>\n",
       "      <td>133</td>\n",
       "    </tr>\n",
       "    <tr>\n",
       "      <th>ahmed</th>\n",
       "      <td>55</td>\n",
       "      <td>167</td>\n",
       "    </tr>\n",
       "  </tbody>\n",
       "</table>\n",
       "</div>"
      ],
      "text/plain": [
       "       age  height\n",
       "ali     22     133\n",
       "ahmed   55     167"
      ]
     },
     "execution_count": 9,
     "metadata": {},
     "output_type": "execute_result"
    }
   ],
   "source": [
    "pd.DataFrame([[22,133],[55, 167]],columns=[\"age\", \"height\"],index=[\"ali\", \"ahmed\"])"
   ]
  },
  {
   "cell_type": "code",
   "execution_count": 10,
   "id": "6f60149d",
   "metadata": {},
   "outputs": [
    {
     "name": "stdout",
     "output_type": "stream",
     "text": [
      "animals\n",
      "dog      1\n",
      "cat      2\n",
      "human    3\n",
      "Name: pets, dtype: int64\n",
      "int64\n",
      "Index(['dog', 'cat', 'human'], dtype='object', name='animals')\n",
      "pets\n",
      "(3,)\n",
      "3\n",
      "animals\n",
      "3\n"
     ]
    }
   ],
   "source": [
    "# pd.series attributes\n",
    "print(ser)\n",
    "print(ser.dtype)  # Data type of the series\n",
    "print(ser.index)  # Index of the series\n",
    "print(ser.name)\n",
    "print(ser.shape)  # Shape of the series\n",
    "print(ser.size)\n",
    "print(ser.index.name)  # Name of the index\n",
    "print(len(ser))"
   ]
  },
  {
   "cell_type": "code",
   "execution_count": 12,
   "id": "c9b9be8d",
   "metadata": {},
   "outputs": [
    {
     "name": "stdout",
     "output_type": "stream",
     "text": [
      "        age  height color\n",
      "person                   \n",
      "jack     22     133   red\n",
      "jill     44     177  blue\n",
      "age        int64\n",
      "height     int64\n",
      "color     object\n",
      "dtype: object\n",
      "Index(['jack', 'jill'], dtype='object', name='person')\n",
      "Index(['age', 'height', 'color'], dtype='object')\n",
      "(2, 3)\n",
      "6\n",
      "person\n",
      "None\n",
      "2\n"
     ]
    }
   ],
   "source": [
    "# pd.DataFrame attributes\n",
    "index = pd.Index(['jack','jill'], name='person')\n",
    "df = pd.DataFrame([[22, 133, \"red\"],[44, 177, \"blue\"]],columns=[\"age\", \"height\", \"color\"], index=index)\n",
    "print(df)\n",
    "print(df.dtypes)  # Data type of the DataFrame\n",
    "print(df.index)\n",
    "print(df.columns)  # Columns of the DataFrame\n",
    "print(df.shape)  # Shape of the DataFrame\n",
    "print(df.size)  # Size of the DataFrame\n",
    "print(df.index.name)  # Name of the index\n",
    "print(df.columns.name)  # Name of the columns\n",
    "print(len(df))  # Number of rows in the DataFrame"
   ]
  }
 ],
 "metadata": {
  "kernelspec": {
   "display_name": "data_analysis",
   "language": "python",
   "name": "python3"
  },
  "language_info": {
   "codemirror_mode": {
    "name": "ipython",
    "version": 3
   },
   "file_extension": ".py",
   "mimetype": "text/x-python",
   "name": "python",
   "nbconvert_exporter": "python",
   "pygments_lexer": "ipython3",
   "version": "3.13.5"
  }
 },
 "nbformat": 4,
 "nbformat_minor": 5
}
