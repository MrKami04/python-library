{
 "cells": [
  {
   "cell_type": "markdown",
   "id": "9e3687e3",
   "metadata": {},
   "source": [
    "## General Usage and Performance Tips"
   ]
  },
  {
   "cell_type": "code",
   "execution_count": 1,
   "id": "3237e2c1",
   "metadata": {},
   "outputs": [],
   "source": [
    "import pandas as pd\n",
    "import numpy as np\n",
    "import pyarrow as pa"
   ]
  },
  {
   "cell_type": "markdown",
   "id": "5e568036",
   "metadata": {},
   "source": [
    "### Avoid dtype=object"
   ]
  },
  {
   "cell_type": "code",
   "execution_count": 2,
   "id": "382c80a7",
   "metadata": {},
   "outputs": [],
   "source": [
    "ser_obj = pd.Series([\"foo\", \"bar\", \"baz\"] * 10_000, dtype=object)\n",
    "ser_str = pd.Series([\"foo\", \"bar\", \"baz\"] * 10_000, dtype=pd.StringDtype())"
   ]
  },
  {
   "cell_type": "code",
   "execution_count": null,
   "id": "b7242be9",
   "metadata": {},
   "outputs": [],
   "source": [
    "# ser_str.iloc[0] = False  #give error\n",
    "\n",
    "ser_obj.iloc[0] = False"
   ]
  },
  {
   "cell_type": "code",
   "execution_count": 5,
   "id": "7cfe429c",
   "metadata": {},
   "outputs": [
    {
     "data": {
      "text/plain": [
       "0    NaN\n",
       "1    Bar\n",
       "2    Baz\n",
       "3    Foo\n",
       "4    Bar\n",
       "dtype: object"
      ]
     },
     "execution_count": 5,
     "metadata": {},
     "output_type": "execute_result"
    }
   ],
   "source": [
    "ser_obj.str.capitalize().head()"
   ]
  },
  {
   "cell_type": "markdown",
   "id": "85b4f5bb",
   "metadata": {},
   "source": [
    "### Be cognizant of data sizes"
   ]
  },
  {
   "cell_type": "code",
   "execution_count": 6,
   "id": "2d97f480",
   "metadata": {},
   "outputs": [
    {
     "data": {
      "text/html": [
       "<div>\n",
       "<style scoped>\n",
       "    .dataframe tbody tr th:only-of-type {\n",
       "        vertical-align: middle;\n",
       "    }\n",
       "\n",
       "    .dataframe tbody tr th {\n",
       "        vertical-align: top;\n",
       "    }\n",
       "\n",
       "    .dataframe thead th {\n",
       "        text-align: right;\n",
       "    }\n",
       "</style>\n",
       "<table border=\"1\" class=\"dataframe\">\n",
       "  <thead>\n",
       "    <tr style=\"text-align: right;\">\n",
       "      <th></th>\n",
       "      <th>a</th>\n",
       "      <th>b</th>\n",
       "      <th>c</th>\n",
       "      <th>d</th>\n",
       "    </tr>\n",
       "  </thead>\n",
       "  <tbody>\n",
       "    <tr>\n",
       "      <th>0</th>\n",
       "      <td>0</td>\n",
       "      <td>256</td>\n",
       "      <td>65536</td>\n",
       "      <td>4294967296</td>\n",
       "    </tr>\n",
       "    <tr>\n",
       "      <th>1</th>\n",
       "      <td>0</td>\n",
       "      <td>256</td>\n",
       "      <td>65536</td>\n",
       "      <td>4294967296</td>\n",
       "    </tr>\n",
       "    <tr>\n",
       "      <th>2</th>\n",
       "      <td>0</td>\n",
       "      <td>256</td>\n",
       "      <td>65536</td>\n",
       "      <td>4294967296</td>\n",
       "    </tr>\n",
       "    <tr>\n",
       "      <th>3</th>\n",
       "      <td>0</td>\n",
       "      <td>256</td>\n",
       "      <td>65536</td>\n",
       "      <td>4294967296</td>\n",
       "    </tr>\n",
       "    <tr>\n",
       "      <th>4</th>\n",
       "      <td>0</td>\n",
       "      <td>256</td>\n",
       "      <td>65536</td>\n",
       "      <td>4294967296</td>\n",
       "    </tr>\n",
       "  </tbody>\n",
       "</table>\n",
       "</div>"
      ],
      "text/plain": [
       "   a    b      c           d\n",
       "0  0  256  65536  4294967296\n",
       "1  0  256  65536  4294967296\n",
       "2  0  256  65536  4294967296\n",
       "3  0  256  65536  4294967296\n",
       "4  0  256  65536  4294967296"
      ]
     },
     "execution_count": 6,
     "metadata": {},
     "output_type": "execute_result"
    }
   ],
   "source": [
    "df = pd.DataFrame({\n",
    "    \"a\": [0] * 100_000,\n",
    "    \"b\": [2 ** 8] * 100_000,\n",
    "    \"c\": [2 ** 16] * 100_000,\n",
    "    \"d\": [2 ** 32] * 100_000,\n",
    "})\n",
    "df = df.convert_dtypes(dtype_backend=\"numpy_nullable\")\n",
    "\n",
    "df.head()"
   ]
  },
  {
   "cell_type": "code",
   "execution_count": 7,
   "id": "55c5e5f9",
   "metadata": {},
   "outputs": [
    {
     "data": {
      "text/plain": [
       "Index       132\n",
       "a        900000\n",
       "b        900000\n",
       "c        900000\n",
       "d        900000\n",
       "dtype: int64"
      ]
     },
     "execution_count": 7,
     "metadata": {},
     "output_type": "execute_result"
    }
   ],
   "source": [
    "df.memory_usage()"
   ]
  },
  {
   "cell_type": "code",
   "execution_count": 8,
   "id": "6ec247ae",
   "metadata": {},
   "outputs": [
    {
     "data": {
      "text/plain": [
       "Index       132\n",
       "a        200000\n",
       "b        300000\n",
       "c        500000\n",
       "d        900000\n",
       "dtype: int64"
      ]
     },
     "execution_count": 8,
     "metadata": {},
     "output_type": "execute_result"
    }
   ],
   "source": [
    "df.assign(\n",
    "    a=lambda x: x[\"a\"].astype(pd.Int8Dtype()),\n",
    "    b=lambda x: x[\"b\"].astype(pd.Int16Dtype()),\n",
    "    c=lambda x: x[\"c\"].astype(pd.Int32Dtype()),\n",
    ").memory_usage()"
   ]
  },
  {
   "cell_type": "code",
   "execution_count": 9,
   "id": "f23786c3",
   "metadata": {},
   "outputs": [
    {
     "data": {
      "text/plain": [
       "Index       132\n",
       "a        200000\n",
       "b        300000\n",
       "c        500000\n",
       "d        900000\n",
       "dtype: int64"
      ]
     },
     "execution_count": 9,
     "metadata": {},
     "output_type": "execute_result"
    }
   ],
   "source": [
    "df.select_dtypes(\"number\").assign(\n",
    "    **{x: pd.to_numeric(\n",
    "         y, downcast=\"signed\", dtype_backend=\"numpy_nullable\"\n",
    "    ) for x, y in df.items()}\n",
    ").memory_usage()"
   ]
  },
  {
   "cell_type": "markdown",
   "id": "201faebc",
   "metadata": {},
   "source": [
    "### Use vectorized functions instead of loops"
   ]
  },
  {
   "cell_type": "code",
   "execution_count": 11,
   "id": "65f71e48",
   "metadata": {},
   "outputs": [
    {
     "name": "stdout",
     "output_type": "stream",
     "text": [
      "4999950000\n"
     ]
    }
   ],
   "source": [
    "ser = pd.Series(range(100_000), dtype=pd.Int64Dtype())\n",
    "print(ser.sum())"
   ]
  },
  {
   "cell_type": "code",
   "execution_count": null,
   "id": "6d4c10ab",
   "metadata": {},
   "outputs": [
    {
     "name": "stdout",
     "output_type": "stream",
     "text": [
      "4999950000\n"
     ]
    }
   ],
   "source": [
    "result = 0\n",
    "for x in ser:\n",
    "    result += x\n",
    "\n",
    "print(result)\n",
    "\n",
    "print(ser.sum())"
   ]
  },
  {
   "cell_type": "code",
   "execution_count": 16,
   "id": "6fcabbc1",
   "metadata": {},
   "outputs": [
    {
     "data": {
      "text/plain": [
       "0.16033769998466596"
      ]
     },
     "execution_count": 16,
     "metadata": {},
     "output_type": "execute_result"
    }
   ],
   "source": [
    "import datetime \n",
    "import timeit\n",
    "timeit.timeit(ser.sum, number=1000)"
   ]
  },
  {
   "cell_type": "code",
   "execution_count": 17,
   "id": "f9c77c64",
   "metadata": {},
   "outputs": [
    {
     "data": {
      "text/plain": [
       "19.834238899988122"
      ]
     },
     "execution_count": 17,
     "metadata": {},
     "output_type": "execute_result"
    }
   ],
   "source": [
    "def loop_sum():\n",
    "    result = 0\n",
    "    for x in ser:\n",
    "        result += x\n",
    "\n",
    "timeit.timeit(loop_sum, number=1000)"
   ]
  },
  {
   "cell_type": "code",
   "execution_count": 18,
   "id": "46dbc480",
   "metadata": {},
   "outputs": [
    {
     "name": "stdout",
     "output_type": "stream",
     "text": [
      "The group for label a is:\n",
      "  column  value\n",
      "0      a      0\n",
      "1      a      1\n",
      "3      a      4\n",
      "\n",
      "The group for label b is:\n",
      "  column  value\n",
      "2      b      2\n",
      "4      b      8\n",
      "\n"
     ]
    }
   ],
   "source": [
    "df = pd.DataFrame({\n",
    "    \"column\": [\"a\", \"a\", \"b\", \"a\", \"b\"],\n",
    "    \"value\": [0, 1, 2, 4, 8],\n",
    "})\n",
    "df = df.convert_dtypes(dtype_backend=\"numpy_nullable\")\n",
    "\n",
    "for label, group in df.groupby(\"column\"):\n",
    "    print(f\"The group for label {label} is:\\n{group}\\n\")"
   ]
  },
  {
   "cell_type": "markdown",
   "id": "a2c168e2",
   "metadata": {},
   "source": [
    "### Avoid mutating data"
   ]
  },
  {
   "cell_type": "code",
   "execution_count": 19,
   "id": "0924294a",
   "metadata": {},
   "outputs": [
    {
     "data": {
      "text/plain": [
       "0.13156370000797324"
      ]
     },
     "execution_count": 19,
     "metadata": {},
     "output_type": "execute_result"
    }
   ],
   "source": [
    "def mutate_after():\n",
    "    data = [\"foo\", \"bar\", \"baz\"]\n",
    "    ser = pd.Series(data, dtype=pd.StringDtype())\n",
    "    ser.iloc[1] = \"BAR\"\n",
    "\n",
    "timeit.timeit(mutate_after, number=1000)"
   ]
  },
  {
   "cell_type": "code",
   "execution_count": 20,
   "id": "c79a3bae",
   "metadata": {},
   "outputs": [
    {
     "data": {
      "text/plain": [
       "0.06508870000834577"
      ]
     },
     "execution_count": 20,
     "metadata": {},
     "output_type": "execute_result"
    }
   ],
   "source": [
    "def mutate_before():\n",
    "    data = [\"foo\", \"bar\", \"baz\"]\n",
    "    data[1] = \"BAR\"\n",
    "    ser = pd.Series(data, dtype=pd.StringDtype())\n",
    "\n",
    "timeit.timeit(mutate_before, number=1000)"
   ]
  },
  {
   "cell_type": "markdown",
   "id": "105d31b4",
   "metadata": {},
   "source": [
    "### Dictionary-encode low cardinality data"
   ]
  },
  {
   "cell_type": "code",
   "execution_count": 21,
   "id": "4ac245e7",
   "metadata": {},
   "outputs": [
    {
     "data": {
      "text/plain": [
       "2400132"
      ]
     },
     "execution_count": 21,
     "metadata": {},
     "output_type": "execute_result"
    }
   ],
   "source": [
    "values = [\"foo\", \"bar\", \"baz\"]\n",
    "ser = pd.Series(values * 100_000, dtype=pd.StringDtype())\n",
    "ser.memory_usage()"
   ]
  },
  {
   "cell_type": "code",
   "execution_count": 22,
   "id": "7b2bbbd5",
   "metadata": {},
   "outputs": [
    {
     "data": {
      "text/plain": [
       "300264"
      ]
     },
     "execution_count": 22,
     "metadata": {},
     "output_type": "execute_result"
    }
   ],
   "source": [
    "cat = pd.CategoricalDtype(values)\n",
    "ser = pd.Series(values * 100_000, dtype=cat)\n",
    "ser.memory_usage()"
   ]
  },
  {
   "cell_type": "markdown",
   "id": "e1c81520",
   "metadata": {},
   "source": [
    "### Test-driven development features"
   ]
  },
  {
   "cell_type": "code",
   "execution_count": 23,
   "id": "2770f011",
   "metadata": {},
   "outputs": [
    {
     "name": "stderr",
     "output_type": "stream",
     "text": [
      ".\n",
      "----------------------------------------------------------------------\n",
      "Ran 1 test in 0.001s\n",
      "\n",
      "OK\n"
     ]
    },
    {
     "data": {
      "text/plain": [
       "<unittest.runner.TextTestResult run=1 errors=0 failures=0>"
      ]
     },
     "execution_count": 23,
     "metadata": {},
     "output_type": "execute_result"
    }
   ],
   "source": [
    "import unittest\n",
    "\n",
    "class MyTests(unittest.TestCase):\n",
    "\n",
    "    def test_42(self):\n",
    "        self.assertEqual(21 * 2, 42)\n",
    "\n",
    "def suite():\n",
    "    suite = unittest.TestSuite()\n",
    "    suite.addTest(MyTests(\"test_42\"))\n",
    "    return suite\n",
    "\n",
    "runner = unittest.TextTestRunner()\n",
    "runner.run(suite())"
   ]
  },
  {
   "cell_type": "code",
   "execution_count": 24,
   "id": "191a4d39",
   "metadata": {},
   "outputs": [
    {
     "name": "stderr",
     "output_type": "stream",
     "text": [
      "E\n",
      "======================================================================\n",
      "ERROR: test_cool_numbers (__main__.MyTests.test_cool_numbers)\n",
      "----------------------------------------------------------------------\n",
      "Traceback (most recent call last):\n",
      "  File \"C:\\Users\\Kamran\\AppData\\Local\\Temp\\ipykernel_8500\\2361126771.py\", line 9, in test_cool_numbers\n",
      "    self.assertEqual(result, expected)\n",
      "    ~~~~~~~~~~~~~~~~^^^^^^^^^^^^^^^^^^\n",
      "  File \"c:\\Users\\Kamran\\miniconda3\\envs\\data_analysis\\Lib\\unittest\\case.py\", line 907, in assertEqual\n",
      "    assertion_func(first, second, msg=msg)\n",
      "    ~~~~~~~~~~~~~~^^^^^^^^^^^^^^^^^^^^^^^^\n",
      "  File \"c:\\Users\\Kamran\\miniconda3\\envs\\data_analysis\\Lib\\unittest\\case.py\", line 897, in _baseAssertEqual\n",
      "    if not first == second:\n",
      "           ^^^^^^^^^^^^^^^\n",
      "  File \"c:\\Users\\Kamran\\miniconda3\\envs\\data_analysis\\Lib\\site-packages\\pandas\\core\\generic.py\", line 1577, in __nonzero__\n",
      "    raise ValueError(\n",
      "    ...<2 lines>...\n",
      "    )\n",
      "ValueError: The truth value of a Series is ambiguous. Use a.empty, a.bool(), a.item(), a.any() or a.all().\n",
      "\n",
      "----------------------------------------------------------------------\n",
      "Ran 1 test in 0.016s\n",
      "\n",
      "FAILED (errors=1)\n"
     ]
    },
    {
     "data": {
      "text/plain": [
       "<unittest.runner.TextTestResult run=1 errors=1 failures=0>"
      ]
     },
     "execution_count": 24,
     "metadata": {},
     "output_type": "execute_result"
    }
   ],
   "source": [
    "def some_cool_numbers():\n",
    "    return pd.Series([42, 555, pd.NA], dtype=pd.Int64Dtype())\n",
    "\n",
    "class MyTests(unittest.TestCase):\n",
    "\n",
    "    def test_cool_numbers(self):\n",
    "        result = some_cool_numbers()\n",
    "        expected = pd.Series([42, 555, pd.NA], dtype=pd.Int64Dtype())\n",
    "        self.assertEqual(result, expected)\n",
    "\n",
    "def suite():\n",
    "    suite = unittest.TestSuite()\n",
    "    suite.addTest(MyTests(\"test_cool_numbers\"))\n",
    "    return suite\n",
    "\n",
    "runner = unittest.TextTestRunner()\n",
    "runner.run(suite())"
   ]
  },
  {
   "cell_type": "code",
   "execution_count": 25,
   "id": "0baceb0f",
   "metadata": {},
   "outputs": [
    {
     "data": {
      "text/plain": [
       "0    True\n",
       "1    True\n",
       "2    <NA>\n",
       "dtype: boolean"
      ]
     },
     "execution_count": 25,
     "metadata": {},
     "output_type": "execute_result"
    }
   ],
   "source": [
    "result = some_cool_numbers()\n",
    "expected = pd.Series([42, 555, pd.NA], dtype=pd.Int64Dtype())\n",
    "result == expected"
   ]
  },
  {
   "cell_type": "code",
   "execution_count": 26,
   "id": "97955542",
   "metadata": {},
   "outputs": [
    {
     "name": "stderr",
     "output_type": "stream",
     "text": [
      ".\n",
      "----------------------------------------------------------------------\n",
      "Ran 1 test in 0.004s\n",
      "\n",
      "OK\n"
     ]
    },
    {
     "data": {
      "text/plain": [
       "<unittest.runner.TextTestResult run=1 errors=0 failures=0>"
      ]
     },
     "execution_count": 26,
     "metadata": {},
     "output_type": "execute_result"
    }
   ],
   "source": [
    "import pandas.testing as tm\n",
    "\n",
    "def some_cool_numbers():\n",
    "    return pd.Series([42, 555, pd.NA], dtype=pd.Int64Dtype())\n",
    "\n",
    "class MyTests(unittest.TestCase):\n",
    "\n",
    "    def test_cool_numbers(self):\n",
    "        result = some_cool_numbers()\n",
    "        expected = pd.Series([42, 555, pd.NA], dtype=pd.Int64Dtype())\n",
    "        tm.assert_series_equal(result, expected)\n",
    "\n",
    "def suite():\n",
    "    suite = unittest.TestSuite()\n",
    "    suite.addTest(MyTests(\"test_cool_numbers\"))\n",
    "    return suite\n",
    "\n",
    "runner = unittest.TextTestRunner()\n",
    "runner.run(suite())"
   ]
  }
 ],
 "metadata": {
  "kernelspec": {
   "display_name": "data_analysis",
   "language": "python",
   "name": "python3"
  },
  "language_info": {
   "codemirror_mode": {
    "name": "ipython",
    "version": 3
   },
   "file_extension": ".py",
   "mimetype": "text/x-python",
   "name": "python",
   "nbconvert_exporter": "python",
   "pygments_lexer": "ipython3",
   "version": "3.13.5"
  }
 },
 "nbformat": 4,
 "nbformat_minor": 5
}
