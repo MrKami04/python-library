{
 "cells": [
  {
   "cell_type": "markdown",
   "id": "46e795c7",
   "metadata": {},
   "source": [
    "# Numpy"
   ]
  },
  {
   "cell_type": "code",
   "execution_count": 1,
   "id": "1d64b12d",
   "metadata": {},
   "outputs": [],
   "source": [
    "# import numpy\n",
    "import numpy as np"
   ]
  },
  {
   "cell_type": "markdown",
   "id": "714ed7d3",
   "metadata": {},
   "source": [
    "Most NumPy arrays have some restrictions. For instance:\n",
    "\n",
    "- All elements of the array must be of the same type of data.\n",
    "\n",
    "- Once created, the total size of the array can’t change.\n",
    "\n",
    "- The shape must be “rectangular”, not “jagged”; e.g., each row of a two-dimensional array must have the same number of columns."
   ]
  },
  {
   "cell_type": "code",
   "execution_count": 2,
   "id": "4245829d",
   "metadata": {},
   "outputs": [
    {
     "name": "stdout",
     "output_type": "stream",
     "text": [
      "[1 2 3 4 5 6 7] <class 'numpy.ndarray'> (7,)\n",
      "------\n",
      "[[1 2 3]\n",
      " [4 5 6]] <class 'numpy.ndarray'> (2, 3)\n"
     ]
    }
   ],
   "source": [
    "# initialize array\n",
    "a = np.array([1,2,3,4,5,6,7])\n",
    "print(a, type(a), a.shape)\n",
    "print(\"------\")\n",
    "b = np.array([[1, 2, 3],\n",
    "              [4, 5, 6]])\n",
    "print(b, type(b), b.shape)"
   ]
  },
  {
   "cell_type": "code",
   "execution_count": 3,
   "id": "e35b6cc0",
   "metadata": {},
   "outputs": [
    {
     "name": "stdout",
     "output_type": "stream",
     "text": [
      "2\n",
      "6\n",
      "[ 1  2  3 44  5  6  7]\n",
      "[44  5  6]\n",
      "[3 6]\n"
     ]
    }
   ],
   "source": [
    "# accessing te element\n",
    "print(a[1]) # output: 2\n",
    "print(b[1,2]) #output: 6\n",
    "\n",
    "# replace element\n",
    "a[3] = 44\n",
    "print(a)\n",
    "\n",
    "# indexing\n",
    "print(a[3:6])\n",
    "print(b[0:2, 2])\n"
   ]
  },
  {
   "cell_type": "code",
   "execution_count": 4,
   "id": "297ae144",
   "metadata": {},
   "outputs": [
    {
     "name": "stdout",
     "output_type": "stream",
     "text": [
      "[[ 1  2  3  4]\n",
      " [ 5  6  7  8]\n",
      " [ 9 10 11 12]] <class 'numpy.ndarray'> (3, 4)\n",
      "8\n"
     ]
    }
   ],
   "source": [
    "# nested array ceated as this\n",
    "a = np.array([[1,2,3,4],[5,6,7,8],[9,10,11,12]])\n",
    "print(a, type(a), a.shape)\n",
    "print(a[1,3])"
   ]
  },
  {
   "cell_type": "markdown",
   "id": "0a4f6d03",
   "metadata": {},
   "source": [
    "# Array attributes"
   ]
  },
  {
   "cell_type": "code",
   "execution_count": 5,
   "id": "8837b41d",
   "metadata": {},
   "outputs": [
    {
     "name": "stdout",
     "output_type": "stream",
     "text": [
      "2\n",
      "2\n",
      "(3, 4)\n",
      "(2, 3)\n",
      "12\n",
      "6\n",
      "int64\n",
      "int64\n"
     ]
    }
   ],
   "source": [
    "# number of dimensions\n",
    "print(a.ndim)\n",
    "print(b.ndim)\n",
    "# shape of arrays\n",
    "print(a.shape)\n",
    "print(b.shape)\n",
    "len(a.shape)  == a.ndim  # output : True\n",
    "# total number of elements\n",
    "print(a.size)\n",
    "print(b.size)\n",
    "import math\n",
    "a.size == math.prod(a.shape)  # output : True\n",
    "# data type\n",
    "print(a.dtype)\n",
    "print(b.dtype)"
   ]
  },
  {
   "cell_type": "markdown",
   "id": "5a00f1a3",
   "metadata": {},
   "source": [
    "# Create a basic array"
   ]
  },
  {
   "cell_type": "code",
   "execution_count": 6,
   "id": "a0599573",
   "metadata": {},
   "outputs": [
    {
     "name": "stdout",
     "output_type": "stream",
     "text": [
      "[0. 0.]\n",
      "[[0.]]\n",
      "[[0 0 0 0]\n",
      " [0 0 0 0]\n",
      " [0 0 0 0]]\n",
      "[1. 1.]\n",
      "[[1.]]\n",
      "[[1 1 1 1]\n",
      " [1 1 1 1]\n",
      " [1 1 1 1]]\n",
      "--------\n",
      "[1. 1.]\n",
      "[[1.]]\n",
      "[[1 1 1 1]\n",
      " [1 1 1 1]\n",
      " [1 1 1 1]]\n",
      "--------\n",
      "[0 1 2 3 4]\n",
      "[3 4 5 6]\n",
      "[3 5 7 9]\n",
      "---------\n",
      "[ 0.   2.5  5.   7.5 10. ]\n"
     ]
    }
   ],
   "source": [
    "# create zeros elements array\n",
    "print(np.zeros(2))\n",
    "print(np.zeros((1,1)))\n",
    "print(np.zeros((3,4), dtype=np.int64))\n",
    "# create once elements array\n",
    "print(np.ones(2))\n",
    "print(np.ones((1,1)))\n",
    "print(np.ones((3,4), dtype=np.int64))\n",
    "# create empty elements array\n",
    "print(\"--------\")\n",
    "print(np.empty(2))\n",
    "print(np.empty((1,1)))\n",
    "print(np.empty((3,4), dtype=np.int64))\n",
    "print(\"--------\")\n",
    "# create array with arange\n",
    "print(np.arange(5))\n",
    "print(np.arange(3, 7))\n",
    "print(np.arange(3, 10, 2))\n",
    "print(\"---------\")\n",
    "# create array with linear space\n",
    "print(np.linspace(0, 10, num=5))"
   ]
  },
  {
   "cell_type": "markdown",
   "id": "c6ca31b1",
   "metadata": {},
   "source": [
    "# Adding, removing, and sorting elements"
   ]
  },
  {
   "cell_type": "code",
   "execution_count": 16,
   "id": "561448be",
   "metadata": {},
   "outputs": [
    {
     "name": "stdout",
     "output_type": "stream",
     "text": [
      "[1 2 3 4 5 6 7 8 9]\n",
      "[1 2 3 4 5 6]\n",
      "[[1 2 3]\n",
      " [4 5 6]\n",
      " [7 8 9]]\n",
      "[0 1 2 3 4 5]\n",
      "[[0 1 2]\n",
      " [3 4 5]]\n",
      "[[0 1 2 3 4 5]]\n"
     ]
    }
   ],
   "source": [
    "# sort of array\n",
    "arr = np.array([1,3,4,5,7,8,9,6,2])\n",
    "arr.sort()\n",
    "print(arr)  \n",
    "# concatenate\n",
    "arr1 = np.array([1,2,3])\n",
    "arr2 = np.array([4,5,6])\n",
    "arr3 = np.concatenate((arr1, arr2))\n",
    "print(arr3)\n",
    "# 2d array concatenate\n",
    "x = np.array([[1, 2, 3],\n",
    "              [4, 5, 6]])\n",
    "y = np.array([[7, 8, 9]])\n",
    "z = np.concatenate((x, y), axis=0)\n",
    "print(z)\n",
    "\n",
    "# resahpe\n",
    "a = np.arange(6)\n",
    "print(a)\n",
    "b = a.reshape(2, 3)\n",
    "print(b)\n",
    "# optional parameters\n",
    "c = np.reshape(a, shape=(1,6), order=\"c\")\n",
    "print(c)"
   ]
  },
  {
   "cell_type": "markdown",
   "id": "d7a7daeb",
   "metadata": {},
   "source": [
    "# Convert a 1D array into a 2D array"
   ]
  },
  {
   "cell_type": "code",
   "execution_count": 22,
   "id": "9b894c55",
   "metadata": {},
   "outputs": [
    {
     "name": "stdout",
     "output_type": "stream",
     "text": [
      "[1 2 3 4 5 6 7 8] (8,)\n"
     ]
    },
    {
     "data": {
      "text/plain": [
       "(1, 8)"
      ]
     },
     "execution_count": 22,
     "metadata": {},
     "output_type": "execute_result"
    }
   ],
   "source": [
    "arr = np.array([1,2,3,4,5,6,7,8])\n",
    "print(arr, arr.shape)\n",
    "\n",
    "# add new axis\n",
    "arr1 = arr[np.newaxis,:]\n",
    "arr1.shape\n",
    "# add 1d into row vector\n",
    "row_vector = arr[np.newaxis, :]\n",
    "row_vector.shape\n",
    "# add column vector\n",
    "col_vector = arr[:, np.newaxis]\n",
    "col_vector.shape\n",
    "# expand array by new axis by position 1\n",
    "b = np.expand_dims(arr, axis=1)\n",
    "b.shape\n",
    "# by position 0\n",
    "c = np.expand_dims(arr, axis=0)\n",
    "c.shape"
   ]
  },
  {
   "cell_type": "markdown",
   "id": "76f6d5ba",
   "metadata": {},
   "source": [
    "# Indexing and slicing"
   ]
  },
  {
   "cell_type": "code",
   "execution_count": null,
   "id": "469c5778",
   "metadata": {},
   "outputs": [
    {
     "name": "stdout",
     "output_type": "stream",
     "text": [
      "[5 6 7 8]\n",
      "[1 2 3 4]\n",
      "[2 4 6 8]\n",
      "[4 5]\n",
      "(array([1, 1, 1, 2, 2, 2, 2]), array([1, 2, 3, 0, 1, 2, 3]))\n"
     ]
    }
   ],
   "source": [
    "# same as python indexing and slicing\n",
    "data = np.array([1, 2, 3, 4, 5, 6, 7, 8])\n",
    "data[2]\n",
    "data[2:5]  \n",
    "# conditional operators use\n",
    "print(data[data > 4]) \n",
    "\n",
    "up_ = (data < 5)\n",
    "print(data[up_]) \n",
    "\n",
    "divide_2 = data[data%2==0]\n",
    "print(divide_2)\n",
    "\n",
    "multiplt = data[(data>3) & (data<6)]\n",
    "print(multiplt)\n",
    "\n",
    "# print the indices of elements that satisfy a condition\n",
    "a = np.array([[1, 2, 3, 4], [5, 6, 7, 8], [9, 10, 11, 12]])\n",
    "b = np.nonzero(a > 5)\n",
    "print(b)"
   ]
  },
  {
   "cell_type": "code",
   "execution_count": null,
   "id": "c704c571",
   "metadata": {},
   "outputs": [
    {
     "name": "stdout",
     "output_type": "stream",
     "text": [
      "(np.int64(1), np.int64(1))\n",
      "(np.int64(1), np.int64(2))\n",
      "(np.int64(1), np.int64(3))\n",
      "(np.int64(2), np.int64(0))\n",
      "(np.int64(2), np.int64(1))\n",
      "(np.int64(2), np.int64(2))\n",
      "(np.int64(2), np.int64(3))\n"
     ]
    }
   ],
   "source": [
    "list_of_coordinates= list(zip(b[0], b[1]))\n",
    "for coord in list_of_coordinates:\n",
    "    print(coord)"
   ]
  },
  {
   "cell_type": "code",
   "execution_count": 37,
   "id": "e0072a38",
   "metadata": {},
   "outputs": [
    {
     "name": "stdout",
     "output_type": "stream",
     "text": [
      "(array([], dtype=int64), array([], dtype=int64))\n"
     ]
    }
   ],
   "source": [
    "# if element not exist then give empty array\n",
    "not_there = np.nonzero(a == 42)\n",
    "print(not_there)"
   ]
  },
  {
   "cell_type": "markdown",
   "id": "675a28dd",
   "metadata": {},
   "source": [
    "# create an array from existing data"
   ]
  },
  {
   "cell_type": "code",
   "execution_count": 38,
   "id": "20156de1",
   "metadata": {},
   "outputs": [
    {
     "name": "stdout",
     "output_type": "stream",
     "text": [
      "[4 5 6 7 8]\n"
     ]
    }
   ],
   "source": [
    "a = np.array([1,2,3,4,5,6,7,8,9,10])\n",
    "# by slice method\n",
    "arr1 = a[3:8]\n",
    "print(arr1)"
   ]
  },
  {
   "cell_type": "code",
   "execution_count": 41,
   "id": "c4172329",
   "metadata": {},
   "outputs": [
    {
     "name": "stdout",
     "output_type": "stream",
     "text": [
      "[[ 1  2  3]\n",
      " [ 4  5  6]\n",
      " [ 7  8  9]\n",
      " [10 11 12]]\n",
      "[[ 1  2  3  7  8  9]\n",
      " [ 4  5  6 10 11 12]]\n"
     ]
    }
   ],
   "source": [
    "a1 = np.array([[1, 2, 3], [4, 5, 6]])\n",
    "a2 = np.array([[7, 8, 9], [10, 11, 12]])\n",
    "\n",
    "# stack them vertically by vstack\n",
    "vstacked = np.vstack((a1, a2))\n",
    "print(vstacked)\n",
    "\n",
    "# stack them horizontally by hstack\n",
    "hstacked = np.hstack((a1, a2))\n",
    "print(hstacked)"
   ]
  },
  {
   "cell_type": "code",
   "execution_count": 45,
   "id": "8c6a3f3d",
   "metadata": {},
   "outputs": [
    {
     "name": "stdout",
     "output_type": "stream",
     "text": [
      "[array([[ 1,  2,  3,  4],\n",
      "       [13, 14, 15, 16]]), array([[ 5,  6,  7,  8],\n",
      "       [17, 18, 19, 20]]), array([[ 9, 10, 11, 12],\n",
      "       [21, 22, 23, 24]])]\n",
      "--------\n",
      "[array([[ 1,  2,  3],\n",
      "       [13, 14, 15]]), array([[ 4],\n",
      "       [16]]), array([[ 5,  6,  7,  8,  9, 10, 11, 12],\n",
      "       [17, 18, 19, 20, 21, 22, 23, 24]])]\n"
     ]
    }
   ],
   "source": [
    "a = np.arange(1,25).reshape(2, 12)\n",
    "a\n",
    "# split array in equal shape arrays\n",
    "b = np.hsplit(a, 3)\n",
    "print(b)\n",
    "print(\"--------\")\n",
    "c = np.hsplit(a, (3, 4))\n",
    "print(c)"
   ]
  },
  {
   "cell_type": "markdown",
   "id": "09d91972",
   "metadata": {},
   "source": [
    "# Basic array operations"
   ]
  },
  {
   "cell_type": "code",
   "execution_count": 52,
   "id": "80bf4861",
   "metadata": {},
   "outputs": [
    {
     "name": "stdout",
     "output_type": "stream",
     "text": [
      "[[ 8 10 12]\n",
      " [14 16 18]]\n",
      "[[-6 -6 -6]\n",
      " [-6 -6 -6]]\n",
      "[[ 7 16 27]\n",
      " [40 55 72]]\n",
      "[[0.14285714 0.25       0.33333333]\n",
      " [0.4        0.45454545 0.5       ]]\n",
      "--------------\n",
      "10\n",
      "21\n",
      "[5 7 9]\n",
      "[ 6 15]\n"
     ]
    }
   ],
   "source": [
    "a1 = np.array([[1, 2, 3], [4, 5, 6]])\n",
    "a2 = np.array([[7, 8, 9], [10, 11, 12]])\n",
    "print(a1+a2)\n",
    "print(a1-a2)\n",
    "print(a1*a2)\n",
    "print(a1/a2)\n",
    "print(\"--------------\")\n",
    "a = np.array([1, 2, 3, 4])\n",
    "print(a.sum()) \n",
    "print(a1.sum()) # sum over all elements\n",
    "print(a1.sum(axis=0)) # sum over rows\n",
    "print(a1.sum(axis=1)) # sum over columns"
   ]
  },
  {
   "cell_type": "markdown",
   "id": "6599102e",
   "metadata": {},
   "source": [
    "# Broadcasting"
   ]
  },
  {
   "cell_type": "code",
   "execution_count": 53,
   "id": "f036f97c",
   "metadata": {},
   "outputs": [
    {
     "data": {
      "text/plain": [
       "array([1.6, 3.2])"
      ]
     },
     "execution_count": 53,
     "metadata": {},
     "output_type": "execute_result"
    }
   ],
   "source": [
    "data = np.array([1.0, 2.0])\n",
    "data * 1.6"
   ]
  },
  {
   "cell_type": "markdown",
   "id": "933615f6",
   "metadata": {},
   "source": [
    "# More useful array operations"
   ]
  },
  {
   "cell_type": "code",
   "execution_count": 58,
   "id": "139c5bbb",
   "metadata": {},
   "outputs": [
    {
     "name": "stdout",
     "output_type": "stream",
     "text": [
      "[[ 1  2  3  4  5  6  7  8  9 10 11 12]]\n",
      "12\n",
      "1\n",
      "6.5\n",
      "78\n",
      "3.452052529534663\n",
      "11.916666666666666\n",
      "[ 1  3  6 10 15 21 28 36 45 55 66 78]\n",
      "[        1         2         6        24       120       720      5040\n",
      "     40320    362880   3628800  39916800 479001600]\n",
      "479001600\n"
     ]
    }
   ],
   "source": [
    "arr = np.arange(1,13).reshape(1,12)\n",
    "print(arr)\n",
    "print(arr.max())  # maximum value\n",
    "print(arr.min())  # minimum value\n",
    "print(arr.mean())  # mean value\n",
    "print(arr.sum())  # sum of all elements\n",
    "print(arr.std())  # standard deviation\n",
    "print(arr.var())  # variance\n",
    "print(arr.cumsum())  # cumulative sum\n",
    "print(arr.cumprod())  # cumulative product\n",
    "print(arr.prod())  # product of all elements\n"
   ]
  },
  {
   "cell_type": "code",
   "execution_count": 61,
   "id": "c6ef0f49",
   "metadata": {},
   "outputs": [
    {
     "name": "stdout",
     "output_type": "stream",
     "text": [
      "[ 1  2  3  4  5  6  7  8  9 10 11 12]\n",
      "[1]\n"
     ]
    }
   ],
   "source": [
    "print(arr.min(axis=0))  # minimum value along columns\n",
    "print(arr.min(axis=1))  # minimum value along rows  \n"
   ]
  },
  {
   "cell_type": "markdown",
   "id": "2d465e6b",
   "metadata": {},
   "source": [
    "# Creating matrices"
   ]
  },
  {
   "cell_type": "code",
   "execution_count": 68,
   "id": "dc07a599",
   "metadata": {},
   "outputs": [
    {
     "name": "stdout",
     "output_type": "stream",
     "text": [
      "[[1 2 3]\n",
      " [4 5 6]\n",
      " [7 8 9]]\n",
      "---------\n",
      "2\n",
      "[[4 5 6]\n",
      " [7 8 9]]\n",
      "---------\n",
      "9\n",
      "1\n",
      "45\n",
      "5.0\n",
      "2.581988897471611\n",
      "6.666666666666667\n",
      "[ 1  3  6 10 15 21 28 36 45]\n",
      "[     1      2      6     24    120    720   5040  40320 362880]\n",
      "362880\n",
      "[7 8 9]\n",
      "[3 6 9]\n"
     ]
    }
   ],
   "source": [
    "data = np.array([[1, 2, 3], [4, 5, 6],[7, 8, 9]])\n",
    "print(data)\n",
    "print(\"---------\")\n",
    "# indexing and slicing\n",
    "print(data[0, 1])\n",
    "print(data[1:3])\n",
    "print(\"---------\")\n",
    "# operation on metrices\n",
    "print(data.max())\n",
    "print(data.min())\n",
    "print(data.sum())\n",
    "print(data.mean())\n",
    "print(data.std())\n",
    "print(data.var())\n",
    "print(data.cumsum())\n",
    "print(data.cumprod())\n",
    "print(data.prod())\n",
    "print(data.max(axis=0))\n",
    "print(data.max(axis=1))"
   ]
  },
  {
   "cell_type": "code",
   "execution_count": 71,
   "id": "705f500c",
   "metadata": {},
   "outputs": [
    {
     "data": {
      "text/plain": [
       "array([[0.58198897, 0.54198108, 0.80235382],\n",
       "       [0.3667049 , 0.63742727, 0.92760046]])"
      ]
     },
     "execution_count": 71,
     "metadata": {},
     "output_type": "execute_result"
    }
   ],
   "source": [
    "rng = np.random.default_rng()\n",
    "rng.random((2, 3))  # generate random numbers in 2x3 array"
   ]
  },
  {
   "cell_type": "markdown",
   "id": "b144604e",
   "metadata": {},
   "source": [
    "# Generating random numbers"
   ]
  },
  {
   "cell_type": "code",
   "execution_count": 72,
   "id": "8ea76453",
   "metadata": {},
   "outputs": [
    {
     "data": {
      "text/plain": [
       "array([[4, 2, 0],\n",
       "       [2, 0, 3]])"
      ]
     },
     "execution_count": 72,
     "metadata": {},
     "output_type": "execute_result"
    }
   ],
   "source": [
    "rng.integers(5, size=(2, 3))  # generate random integers between 0 and 5 in a 2x3 array"
   ]
  },
  {
   "cell_type": "markdown",
   "id": "f48b8dbf",
   "metadata": {},
   "source": [
    "# get unique items and counts"
   ]
  },
  {
   "cell_type": "code",
   "execution_count": 76,
   "id": "cde63c55",
   "metadata": {},
   "outputs": [
    {
     "name": "stdout",
     "output_type": "stream",
     "text": [
      "[11 12 13 14 15 16 17 18 19 20]\n",
      "-----------------------\n",
      "[ 0  2  3  4  5  6  7 12 13 14]\n",
      "-----------------------\n",
      "[3 2 2 2 1 1 1 1 1 1]\n"
     ]
    }
   ],
   "source": [
    "a = np.array([11, 11, 12, 13, 14, 15, 16, 17, 12, 13, 11, 14, 18, 19, 20])\n",
    "unique_values = np.unique(a) # no repeated values\n",
    "print(unique_values)\n",
    "print(\"-----------------------\")\n",
    "unique_values, indices_list = np.unique(a, return_index=True)  # give index number \n",
    "print(indices_list)\n",
    "print(\"-----------------------\")\n",
    "unique_values, occurrence_count = np.unique(a, return_counts=True)\n",
    "print(occurrence_count)"
   ]
  },
  {
   "cell_type": "code",
   "execution_count": 82,
   "id": "032659ec",
   "metadata": {},
   "outputs": [
    {
     "name": "stdout",
     "output_type": "stream",
     "text": [
      "[ 1  2  3  4  5  6  7  8  9 10 11 12]\n",
      "-----------------------\n",
      "[[ 1  2  3  4]\n",
      " [ 5  6  7  8]\n",
      " [ 9 10 11 12]]\n",
      "-----------------------\n",
      "[[ 1  2  3  4]\n",
      " [ 5  6  7  8]\n",
      " [ 9 10 11 12]]\n",
      "[0 1 2]\n",
      "[2 1 1]\n"
     ]
    }
   ],
   "source": [
    "# with 2d array\n",
    "a_2d = np.array([[1, 2, 3, 4], [5, 6, 7, 8], [9, 10, 11, 12], [1, 2, 3, 4]])\n",
    "unique_values = np.unique(a_2d)\n",
    "print(unique_values)\n",
    "print(\"-----------------------\")\n",
    "unique_rows = np.unique(a_2d, axis=0)\n",
    "print(unique_rows)\n",
    "print(\"-----------------------\")\n",
    "unique_rows, indices, occurrence_count = np.unique(\n",
    "     a_2d, axis=0, return_counts=True, return_index=True)\n",
    "print(unique_rows)\n",
    "print(indices)\n",
    "print(occurrence_count)"
   ]
  },
  {
   "cell_type": "markdown",
   "id": "44e91670",
   "metadata": {},
   "source": [
    "# Transposing and reshaping a matrix"
   ]
  },
  {
   "cell_type": "code",
   "execution_count": 99,
   "id": "39f07a54",
   "metadata": {},
   "outputs": [
    {
     "name": "stdout",
     "output_type": "stream",
     "text": [
      "[[1 2 3]\n",
      " [4 5 6]]\n",
      "-----------------------\n",
      "[[1 2 3]\n",
      " [4 5 6]]\n",
      "-----------------------\n",
      "[[1 2]\n",
      " [3 4]\n",
      " [5 6]]\n",
      "-----------------------\n",
      "[[1 4]\n",
      " [2 5]\n",
      " [3 6]]\n",
      "-----------------------\n",
      "[[1 4]\n",
      " [2 5]\n",
      " [3 6]]\n"
     ]
    }
   ],
   "source": [
    "data = np.array([[1, 2, 3], [4, 5, 6]])\n",
    "print(data)\n",
    "print(\"-----------------------\")\n",
    "print(data.reshape(2,3))\n",
    "print(\"-----------------------\")\n",
    "print(data.reshape(3,2))\n",
    "print(\"-----------------------\")\n",
    "print(data.transpose())\n",
    "print(\"-----------------------\")\n",
    "print(data.T)"
   ]
  },
  {
   "cell_type": "markdown",
   "id": "4fd2d4f1",
   "metadata": {},
   "source": [
    "# reverse an array"
   ]
  },
  {
   "cell_type": "code",
   "execution_count": 107,
   "id": "79b64ef5",
   "metadata": {},
   "outputs": [
    {
     "name": "stdout",
     "output_type": "stream",
     "text": [
      "[8 7 6 5 4 3 2 1]\n",
      "---------------\n",
      "[[12 11 10  9]\n",
      " [ 8  7  6  5]\n",
      " [ 4  3  2  1]]\n",
      "---------------\n",
      "[[ 9 10 11 12]\n",
      " [ 5  6  7  8]\n",
      " [ 1  2  3  4]]\n",
      "---------------\n",
      "[[ 4  3  2  1]\n",
      " [ 8  7  6  5]\n",
      " [12 11 10  9]]\n",
      "---------------\n",
      "[[ 1  2  3  4]\n",
      " [ 8  7  6  5]\n",
      " [ 9 10 11 12]]\n",
      "---------------\n",
      "[[ 1 10  3  4]\n",
      " [ 8  7  6  5]\n",
      " [ 9  2 11 12]]\n"
     ]
    }
   ],
   "source": [
    "# reversing 1d\n",
    "arr = np.array([1, 2, 3, 4, 5, 6, 7, 8])\n",
    "reversed_arr = np.flip(arr)\n",
    "print(reversed_arr)\n",
    "print(\"---------------\")\n",
    "# Reversing  2D\n",
    "arr_2d = np.array([[1, 2, 3, 4], [5, 6, 7, 8], [9, 10, 11, 12]])\n",
    "reversed_arr_2d = np.flip(arr_2d)\n",
    "print(reversed_arr_2d)\n",
    "print(\"---------------\")\n",
    "reversed_arr_rows = np.flip(arr_2d, axis=0)  # row reverse\n",
    "print(reversed_arr_rows)\n",
    "print(\"---------------\")\n",
    "reversed_arr_columns = np.flip(arr_2d, axis=1)  # column reverse\n",
    "print(reversed_arr_columns)\n",
    "print(\"---------------\")\n",
    "arr_2d[1] = np.flip(arr_2d[1])  # reverse specific column and row\n",
    "print(arr_2d)\n",
    "print(\"---------------\")\n",
    "arr_2d[:,1] = np.flip(arr_2d[:,1])\n",
    "print(arr_2d)"
   ]
  },
  {
   "cell_type": "markdown",
   "id": "bde7d079",
   "metadata": {},
   "source": [
    "## Reshaping and flattening multidimensional arrays"
   ]
  },
  {
   "cell_type": "code",
   "execution_count": 111,
   "id": "0294a938",
   "metadata": {},
   "outputs": [
    {
     "name": "stdout",
     "output_type": "stream",
     "text": [
      "[ 1  2  3  4  5  6  7  8  9 10 11 12]\n",
      "---------------\n",
      "[[ 1  2  3  4]\n",
      " [ 5  6  7  8]\n",
      " [ 9 10 11 12]]\n",
      "---------------\n",
      "[99  2  3  4  5  6  7  8  9 10 11 12]\n"
     ]
    }
   ],
   "source": [
    "x = np.array([[1, 2, 3, 4], [5, 6, 7, 8], [9, 10, 11, 12]])\n",
    "# When you use flatten, changes to your new array won’t change the parent array.\n",
    "print(x.flatten())  # flatten(چپٹا) array into a 1D array\n",
    "print(\"---------------\")\n",
    "a1 = x.flatten()\n",
    "a1[0] = 99\n",
    "print(x)  # Original array\n",
    "print(\"---------------\")\n",
    "print(a1)  # Flattened array/New array"
   ]
  },
  {
   "cell_type": "code",
   "execution_count": 113,
   "id": "a3a63b8c",
   "metadata": {},
   "outputs": [
    {
     "name": "stdout",
     "output_type": "stream",
     "text": [
      "[[98  2  3  4]\n",
      " [ 5  6  7  8]\n",
      " [ 9 10 11 12]]\n",
      "[98  2  3  4  5  6  7  8  9 10 11 12]\n"
     ]
    }
   ],
   "source": [
    "x = np.array([[1, 2, 3, 4], [5, 6, 7, 8], [9, 10, 11, 12]])\n",
    "# But when you use ravel, the changes you make to the new array will affect the parent array.\n",
    "a2 = x.ravel()\n",
    "a2[0] = 98\n",
    "print(x)  # Original array\n",
    "print(a2)  # New array"
   ]
  },
  {
   "cell_type": "markdown",
   "id": "d943fe32",
   "metadata": {},
   "source": [
    "# Access the docstring for more information"
   ]
  },
  {
   "cell_type": "code",
   "execution_count": 114,
   "id": "53a14090",
   "metadata": {},
   "outputs": [
    {
     "name": "stdout",
     "output_type": "stream",
     "text": [
      "Help on built-in function max in module builtins:\n",
      "\n",
      "max(...)\n",
      "    max(iterable, *[, default=obj, key=func]) -> value\n",
      "    max(arg1, arg2, *args, *[, key=func]) -> value\n",
      "\n",
      "    With a single iterable argument, return its biggest item. The\n",
      "    default keyword-only argument specifies an object to return if\n",
      "    the provided iterable is empty.\n",
      "    With two or more positional arguments, return the largest argument.\n",
      "\n"
     ]
    }
   ],
   "source": [
    "help(max)"
   ]
  },
  {
   "cell_type": "code",
   "execution_count": 121,
   "id": "6243a2f7",
   "metadata": {},
   "outputs": [
    {
     "name": "stdout",
     "output_type": "stream",
     "text": [
      "\u001b[31mDocstring:\u001b[39m\n",
      "max(iterable, *[, default=obj, key=func]) -> value\n",
      "max(arg1, arg2, *args, *[, key=func]) -> value\n",
      "\n",
      "With a single iterable argument, return its biggest item. The\n",
      "default keyword-only argument specifies an object to return if\n",
      "the provided iterable is empty.\n",
      "With two or more positional arguments, return the largest argument.\n",
      "\u001b[31mType:\u001b[39m      builtin_function_or_method"
     ]
    }
   ],
   "source": [
    "max?\n",
    "max??"
   ]
  },
  {
   "cell_type": "code",
   "execution_count": 122,
   "id": "eaea3ca3",
   "metadata": {},
   "outputs": [],
   "source": [
    "a = np.array([1, 2, 3, 4, 5, 6])\n",
    "# a?"
   ]
  },
  {
   "cell_type": "markdown",
   "id": "055ad8d0",
   "metadata": {},
   "source": [
    "# save and load NumPy objects\n",
    "\n",
    "`np.save`, `np.savez`, `np.savetxt`, `np.load`, `np.loadtxt`\n"
   ]
  },
  {
   "cell_type": "code",
   "execution_count": 125,
   "id": "6311f00b",
   "metadata": {},
   "outputs": [],
   "source": [
    "a = np.array([1, 2, 3, 4, 5, 6])\n",
    "np.save('filename.npy', a)  #save numpy file"
   ]
  },
  {
   "cell_type": "code",
   "execution_count": 154,
   "id": "75d51e38",
   "metadata": {},
   "outputs": [
    {
     "name": "stdout",
     "output_type": "stream",
     "text": [
      "[1 2 3 4 5 6]\n"
     ]
    }
   ],
   "source": [
    "b = np.load('../data/filename.npy')  #load the file\n",
    "print(b)\n"
   ]
  },
  {
   "cell_type": "markdown",
   "id": "c0f2855f",
   "metadata": {},
   "source": [
    "# Plotting arrays with Matplotlib"
   ]
  },
  {
   "cell_type": "code",
   "execution_count": 137,
   "id": "2e6789f0",
   "metadata": {},
   "outputs": [
    {
     "data": {
      "text/plain": [
       "[<matplotlib.lines.Line2D at 0x1c90f8c9a90>]"
      ]
     },
     "execution_count": 137,
     "metadata": {},
     "output_type": "execute_result"
    },
    {
     "data": {
      "image/png": "[encoded data removed]",
      "text/plain": [
       "<Figure size 800x300 with 1 Axes>"
      ]
     },
     "metadata": {},
     "output_type": "display_data"
    }
   ],
   "source": [
    "import matplotlib.pyplot as plt\n",
    "a = np.array([2, 1, 5, 7, 4, 6, 8, 14, 10, 9, 18, 20, 22])\n",
    "plt.figure(figsize=(8, 3))\n",
    "plt.plot(a)\n",
    "# plt.show()\n"
   ]
  },
  {
   "cell_type": "code",
   "execution_count": 139,
   "id": "4d684d23",
   "metadata": {},
   "outputs": [
    {
     "data": {
      "text/plain": [
       "[<matplotlib.lines.Line2D at 0x1c90f9b1950>]"
      ]
     },
     "execution_count": 139,
     "metadata": {},
     "output_type": "execute_result"
    },
    {
     "data": {
      "image/png": "[encoded data removed]",
      "text/plain": [
       "<Figure size 800x300 with 1 Axes>"
      ]
     },
     "metadata": {},
     "output_type": "display_data"
    }
   ],
   "source": [
    "x = np.linspace(0, 5, 20)\n",
    "y = np.linspace(0, 10, 20)\n",
    "plt.figure(figsize=(8, 3))\n",
    "plt.plot(x, y, 'purple') # line\n",
    "plt.plot(x, y, 'o')      # dots"
   ]
  },
  {
   "cell_type": "code",
   "execution_count": 143,
   "id": "79d04321",
   "metadata": {},
   "outputs": [
    {
     "data": {
      "text/plain": [
       "<mpl_toolkits.mplot3d.art3d.Poly3DCollection at 0x1c910002490>"
      ]
     },
     "execution_count": 143,
     "metadata": {},
     "output_type": "execute_result"
    },
    {
     "data": {
      "image/png": "[encoded data removed]",
      "text/plain": [
       "<Figure size 640x480 with 1 Axes>"
      ]
     },
     "metadata": {},
     "output_type": "display_data"
    }
   ],
   "source": [
    "fig = plt.figure()\n",
    "ax = fig.add_subplot(projection='3d')\n",
    "X = np.arange(-5, 5, 0.15)\n",
    "Y = np.arange(-5, 5, 0.15)\n",
    "X, Y = np.meshgrid(X, Y)\n",
    "R = np.sqrt(X**2 + Y**2)\n",
    "Z = np.sin(R)\n",
    "\n",
    "ax.plot_surface(X, Y, Z, rstride=1, cstride=1, cmap='viridis')"
   ]
  }
 ],
 "metadata": {
  "kernelspec": {
   "display_name": "data_analysis",
   "language": "python",
   "name": "python3"
  },
  "language_info": {
   "codemirror_mode": {
    "name": "ipython",
    "version": 3
   },
   "file_extension": ".py",
   "mimetype": "text/x-python",
   "name": "python",
   "nbconvert_exporter": "python",
   "pygments_lexer": "ipython3",
   "version": "3.13.5"
  }
 },
 "nbformat": 4,
 "nbformat_minor": 5
}
