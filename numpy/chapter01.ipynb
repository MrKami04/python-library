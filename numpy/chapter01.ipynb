{
 "cells": [
  {
   "cell_type": "markdown",
   "id": "46e795c7",
   "metadata": {},
   "source": [
    "# Numpy"
   ]
  },
  {
   "cell_type": "code",
   "execution_count": 1,
   "id": "1d64b12d",
   "metadata": {},
   "outputs": [],
   "source": [
    "# import numpy\n",
    "import numpy as np"
   ]
  },
  {
   "cell_type": "markdown",
   "id": "714ed7d3",
   "metadata": {},
   "source": [
    "Most NumPy arrays have some restrictions. For instance:\n",
    "\n",
    "- All elements of the array must be of the same type of data.\n",
    "\n",
    "- Once created, the total size of the array can’t change.\n",
    "\n",
    "- The shape must be “rectangular”, not “jagged”; e.g., each row of a two-dimensional array must have the same number of columns."
   ]
  },
  {
   "cell_type": "code",
   "execution_count": 8,
   "id": "4245829d",
   "metadata": {},
   "outputs": [
    {
     "name": "stdout",
     "output_type": "stream",
     "text": [
      "[1 2 3 4 5 6 7] <class 'numpy.ndarray'> (7,)\n",
      "------\n",
      "[[1 2 3]\n",
      " [4 5 6]] <class 'numpy.ndarray'> (2, 3)\n"
     ]
    }
   ],
   "source": [
    "# initialize array\n",
    "a = np.array([1,2,3,4,5,6,7])\n",
    "print(a, type(a), a.shape)\n",
    "print(\"------\")\n",
    "b = np.array([[1, 2, 3],\n",
    "              [4, 5, 6]])\n",
    "print(b, type(b), b.shape)"
   ]
  },
  {
   "cell_type": "code",
   "execution_count": null,
   "id": "e35b6cc0",
   "metadata": {},
   "outputs": [
    {
     "name": "stdout",
     "output_type": "stream",
     "text": [
      "2\n",
      "6\n",
      "[ 1  2  3 44  5  6  7]\n",
      "[44  5  6]\n",
      "[[3]\n",
      " [6]]\n"
     ]
    }
   ],
   "source": [
    "# accessing te element\n",
    "print(a[1]) # output: 2\n",
    "print(b[1,2]) #output: 6\n",
    "\n",
    "# replace element\n",
    "a[3] = 44\n",
    "print(a)\n",
    "\n",
    "# indexing\n",
    "print(a[3:6])\n",
    "print(b[0:2, 2])\n"
   ]
  },
  {
   "cell_type": "code",
   "execution_count": 16,
   "id": "297ae144",
   "metadata": {},
   "outputs": [
    {
     "name": "stdout",
     "output_type": "stream",
     "text": [
      "[[ 1  2  3  4]\n",
      " [ 5  6  7  8]\n",
      " [ 9 10 11 12]] <class 'numpy.ndarray'> (3, 4)\n",
      "8\n"
     ]
    }
   ],
   "source": [
    "# nested array ceated as this\n",
    "a = np.array([[1,2,3,4],[5,6,7,8],[9,10,11,12]])\n",
    "print(a, type(a), a.shape)\n",
    "print(a[1,3])"
   ]
  },
  {
   "cell_type": "markdown",
   "id": "0a4f6d03",
   "metadata": {},
   "source": [
    "# Array attributes"
   ]
  },
  {
   "cell_type": "code",
   "execution_count": 23,
   "id": "8837b41d",
   "metadata": {},
   "outputs": [
    {
     "name": "stdout",
     "output_type": "stream",
     "text": [
      "2\n",
      "2\n",
      "(3, 4)\n",
      "(2, 3)\n",
      "12\n",
      "6\n",
      "int64\n",
      "int64\n"
     ]
    }
   ],
   "source": [
    "# number of dimensions\n",
    "print(a.ndim)\n",
    "print(b.ndim)\n",
    "# shape of arrays\n",
    "print(a.shape)\n",
    "print(b.shape)\n",
    "len(a.shape)  == a.ndim  # output : True\n",
    "# total number of elements\n",
    "print(a.size)\n",
    "print(b.size)\n",
    "import math\n",
    "a.size == math.prod(a.shape)  # output : True\n",
    "# data type\n",
    "print(a.dtype)\n",
    "print(b.dtype)"
   ]
  },
  {
   "cell_type": "markdown",
   "id": "5a00f1a3",
   "metadata": {},
   "source": [
    "# Create a basic array"
   ]
  },
  {
   "cell_type": "code",
   "execution_count": 36,
   "id": "a0599573",
   "metadata": {},
   "outputs": [
    {
     "name": "stdout",
     "output_type": "stream",
     "text": [
      "[0. 0.]\n",
      "[[0.]]\n",
      "[[0 0 0 0]\n",
      " [0 0 0 0]\n",
      " [0 0 0 0]]\n",
      "[1. 1.]\n",
      "[[1.]]\n",
      "[[1 1 1 1]\n",
      " [1 1 1 1]\n",
      " [1 1 1 1]]\n",
      "--------\n",
      "[1. 1.]\n",
      "[[1.]]\n",
      "[[1 1 1 1]\n",
      " [1 1 1 1]\n",
      " [1 1 1 1]]\n",
      "--------\n",
      "[0 1 2 3 4]\n",
      "[3 4 5 6]\n",
      "[3 5 7 9]\n",
      "---------\n",
      "[ 0.   2.5  5.   7.5 10. ]\n"
     ]
    }
   ],
   "source": [
    "# create zeros elements array\n",
    "print(np.zeros(2))\n",
    "print(np.zeros((1,1)))\n",
    "print(np.zeros((3,4), dtype=np.int64))\n",
    "# create once elements array\n",
    "print(np.ones(2))\n",
    "print(np.ones((1,1)))\n",
    "print(np.ones((3,4), dtype=np.int64))\n",
    "# create empty elements array\n",
    "print(\"--------\")\n",
    "print(np.empty(2))\n",
    "print(np.empty((1,1)))\n",
    "print(np.empty((3,4), dtype=np.int64))\n",
    "print(\"--------\")\n",
    "# create array with arange\n",
    "print(np.arange(5))\n",
    "print(np.arange(3, 7))\n",
    "print(np.arange(3, 10, 2))\n",
    "print(\"---------\")\n",
    "# create array with linear space\n",
    "print(np.linspace(0, 10, num=5))"
   ]
  }
 ],
 "metadata": {
  "kernelspec": {
   "display_name": "data_analysis",
   "language": "python",
   "name": "python3"
  },
  "language_info": {
   "codemirror_mode": {
    "name": "ipython",
    "version": 3
   },
   "file_extension": ".py",
   "mimetype": "text/x-python",
   "name": "python",
   "nbconvert_exporter": "python",
   "pygments_lexer": "ipython3",
   "version": "3.13.5"
  }
 },
 "nbformat": 4,
 "nbformat_minor": 5
}
